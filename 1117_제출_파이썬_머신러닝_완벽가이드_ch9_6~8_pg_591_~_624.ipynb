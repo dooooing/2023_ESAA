{
  "nbformat": 4,
  "nbformat_minor": 0,
  "metadata": {
    "colab": {
      "provenance": [],
      "include_colab_link": true
    },
    "kernelspec": {
      "name": "python3",
      "display_name": "Python 3"
    },
    "language_info": {
      "name": "python"
    }
  },
  "cells": [
    {
      "cell_type": "markdown",
      "metadata": {
        "id": "view-in-github",
        "colab_type": "text"
      },
      "source": [
        "<a href=\"https://colab.research.google.com/github/dooooing/2023_ESAA/blob/main/1117_%EC%A0%9C%EC%B6%9C_%ED%8C%8C%EC%9D%B4%EC%8D%AC_%EB%A8%B8%EC%8B%A0%EB%9F%AC%EB%8B%9D_%EC%99%84%EB%B2%BD%EA%B0%80%EC%9D%B4%EB%93%9C_ch9_6~8_pg_591_~_624.ipynb\" target=\"_parent\"><img src=\"https://colab.research.google.com/assets/colab-badge.svg\" alt=\"Open In Colab\"/></a>"
      ]
    },
    {
      "cell_type": "markdown",
      "source": [
        "파이썬 딥러닝 텐서플로 ch3. 1-3 pg. 50-86"
      ],
      "metadata": {
        "id": "-Bb5bPuV7V1J"
      }
    },
    {
      "cell_type": "markdown",
      "source": [
        "# 03. 케라스(Keras)"
      ],
      "metadata": {
        "id": "RJRnfn4O7XmW"
      }
    },
    {
      "cell_type": "markdown",
      "source": [
        "## 01. 딥러닝 준비\n",
        "\n",
        "\n",
        "\n",
        "---\n",
        "\n",
        "\n",
        "**케라스** API : 고수준의 딥러닝 라이브러리\n",
        "\n",
        "* GPU 연산을 수행하는 기능을 직접 수행하지 않고 텐서플로, CNTK, Theano, MXNet 등의 백엔드 엔진을 지정하여 사용한다는 차이점\n",
        "\n",
        "* 목적 : 딥러닝 라이브러리를 쉽고 간결한 코드로 실행할 수 있게 만들어주는 것\n",
        "  + 장점 : 직관적. 사용자 친화적 설계. 백엔드 엔진 쉽게 변경 가능.\n",
        "  + 한계점 : 복잡한 구조의 모델 구현과 사용자 정의 훈련을 위해서는 텐서플로의 저수준 API 활용해야한다"
      ],
      "metadata": {
        "id": "8y2p8F597aJS"
      }
    },
    {
      "cell_type": "markdown",
      "source": [
        "### 1-1 주요 용어"
      ],
      "metadata": {
        "id": "s-_CFajRn0nk"
      }
    },
    {
      "cell_type": "markdown",
      "source": [
        "#### 1-1-1 하이퍼파라미터(hyper-parameter)\n",
        "\n",
        "딥러닝에서 말하는 하이퍼파라미터는 파이썬에서 배운 파라미터와는 다른 의미\n",
        "\n",
        "**하이퍼파라미터** : 사용자가 직접 설정해야 하는 값들 -> 조절하는 행위를 하이퍼파라미터 튜닝\n",
        "\n",
        "* 사용자가 별도로 설정해주지 않으면 기본값이 지정되어 있어 자동으로 적용"
      ],
      "metadata": {
        "id": "l0IlxLcXn2Op"
      }
    },
    {
      "cell_type": "markdown",
      "source": [
        "#### 1-1-2 과소적합 vs. 과대적합\n",
        "\n",
        ">* train set : 머신러닝 모델이 학습할 데이터\n",
        ">* test set : 정답 레이블이 없는 머신러닝 모델이 예측해야 하는 대상 데이터\n",
        "\n",
        "* 예측할 데이터가 모델이 학습한 데이터와 다른 분포를 갖거나 / 학습한 데이터가 특정 레이블에 편향된 데이터로 이루어져 있다면 -> 모델이 학습한 후 예측 성능이 현저히 떨어지게 된다\n",
        "\n",
        ">* 과소적합 : 모델이 충분히 학습되지 않은 경우\n",
        ">* 과대적합 : 학습 데이터를 지나치게 반복 학습하게 되어 과하게 적합된 상태\n",
        "  + 주어진 훈련 데이터에 대한 예측 성능 좋지만, 정작 중요한 예측 데이터에 대한 예측 오차가 발생할 확률 커진다"
      ],
      "metadata": {
        "id": "o5udu34_oJZq"
      }
    },
    {
      "cell_type": "markdown",
      "source": [
        "#### 1-1-3 에포크(epoch)\n",
        "\n",
        "딥러닝은 데이터셋을 학습하는 과정을 여러 번 반복(iteration)하면서 최적의 모델 가중치를 찾는 과정\n",
        "\n",
        "* **에포크** : 딥러닝 모델이 반복 훈련을 할 때 데이터셋을 전부 학습에 사용하는 1회의 훈련 루프\n",
        "\n",
        "* 모델이 과소적합되었다 판단 -> epoch 늘려서 다시 학습\n",
        "* 모델이 빠르게 과대적합 구간으로 진입 -> epoch 줄여서 최적 구간에서 학습을 조기에 종료하는 것"
      ],
      "metadata": {
        "id": "DfZ2yJuerdUm"
      }
    },
    {
      "cell_type": "markdown",
      "source": [
        "#### 1-1-4 손실함수\n",
        "\n",
        "손실함수 : 예측 값과 정답 값의 차이 또는 오차 -> 사용자가 정의해야한다\n",
        "\n",
        "* **이진 분류**\n",
        "  + 손실함수 : **binary_crossentropy**\n",
        "  + 출력층의 활성화 함수 : **sigmoid**\n",
        "* **다중 분류**\n",
        "  + 손실함수(정답 클래스가 원핫 벡터인 경우) : **categorical_crossentropy**\n",
        "  + 손실함수(정답 클래스가 레이블 값으로 표현) : **sparse_categorical_crossentropy**\n",
        "  + 출력층의 활성화 함수 : **softmax**\n",
        "\n",
        "* 회귀 모델의 경우 평균제곱오차(MSE), 평균절대값오차(MAE), 후버(Huber) 등 사용"
      ],
      "metadata": {
        "id": "WQJF4uimsHE2"
      }
    },
    {
      "cell_type": "markdown",
      "source": [
        "![KakaoTalk_20230521_232556096.jpg](data:image/jpeg;base64,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)"
      ],
      "metadata": {
        "id": "f-awylJwtEKR"
      }
    },
    {
      "cell_type": "code",
      "execution_count": null,
      "metadata": {
        "id": "kz8y2cgI7PWH",
        "colab": {
          "base_uri": "https://localhost:8080/"
        },
        "outputId": "75327bbb-5691-4396-b7be-b73d014d4113"
      },
      "outputs": [
        {
          "output_type": "execute_result",
          "data": {
            "text/plain": [
              "<function keras.losses.binary_crossentropy(y_true, y_pred, from_logits=False, label_smoothing=0.0, axis=-1)>"
            ]
          },
          "metadata": {},
          "execution_count": 1
        }
      ],
      "source": [
        "import tensorflow as tf\n",
        "\n",
        "# 클래스\n",
        "tf.keras.losses.BinaryCrossentropy()\n",
        "\n",
        "# 함수\n",
        "tf.keras.losses.binary_crossentropy"
      ]
    },
    {
      "cell_type": "markdown",
      "source": [
        "#### 1-1-5 경사하강법(gradient descent)\n",
        "\n",
        "**경사하강법** : 딥러닝 모델을 훈련할 때, 모델 내부의 가중치에 대한 미분 값을 구하고 목적 함수 값이 낮아지는 방향으로 차감하면서 결국 최소 함수 값을 갖도록 하는 방법\n",
        "\n",
        "* 딥러닝 훈련 프로세스에서 경사하강법 알고리즘을 적용하여 손실함수 값을 최소로 만드는 가중치를 찾을 수 있따"
      ],
      "metadata": {
        "id": "yhCubeYFtUsM"
      }
    },
    {
      "cell_type": "markdown",
      "source": [
        "*  단순 선형회귀 수식 y = wx + b 주어졌을 때, 손실함수를 최소로 하는 w와 b를 구하는 과정을 경사하강법으로 구현"
      ],
      "metadata": {
        "id": "yz17ThhYvW7_"
      }
    },
    {
      "cell_type": "code",
      "source": [
        "import numpy as np\n",
        "import matplotlib.pyplot as plt\n",
        "\n",
        "# 샘플에 활용할 데이터셋 만들기\n",
        "\n",
        "def make_linear(w=0.5, b=0.8, size=50, noise=1.0):\n",
        "  x=np.random.rand(size)\n",
        "  y=w*x + b\n",
        "  noise = np.random.uniform(-abs(noise), abs(noise), size = y.shape)\n",
        "  yy= y+noise\n",
        "  plt.figure(figsize=(10,7))\n",
        "  plt.plot(x,y, color='r', label=f'y= {w}*x + {b}')\n",
        "  plt.scatter(x, yy, label='data')\n",
        "  plt.legend(fontsize=20)\n",
        "  plt.show()\n",
        "  print(f'w:{w}, b:{b}')\n",
        "  return x, yy\n",
        "\n",
        "x,y = make_linear(w=0.3, b=0.5, size=100, noise=0.01)"
      ],
      "metadata": {
        "id": "RthnHmHdvXoP",
        "colab": {
          "base_uri": "https://localhost:8080/",
          "height": 618
        },
        "outputId": "3f020726-67f6-4512-f7ea-9d2e5e6abc5d"
      },
      "execution_count": null,
      "outputs": [
        {
          "output_type": "display_data",
          "data": {
            "text/plain": [
              "<Figure size 1000x700 with 1 Axes>"
            ],
            "image/png": "[encoded data removed]"
          },
          "metadata": {}
        },
        {
          "output_type": "stream",
          "name": "stdout",
          "text": [
            "w:0.3, b:0.5\n"
          ]
        }
      ]
    },
    {
      "cell_type": "markdown",
      "source": [
        "* w, b에 대한 그래디언트를 구하는 부분만 구현\n",
        "  + 그래디언트는 손실함수를 w,b에 대한 각각의 편미분 값을 구한 뒤 학습률 계수를 곱하여 이전의 w,b로부터 차감"
      ],
      "metadata": {
        "id": "PCVXorOgv5N9"
      }
    },
    {
      "cell_type": "code",
      "source": [
        "# 최대 반복 횟수\n",
        "num_epoch=1000\n",
        "\n",
        "# 학습률\n",
        "learning_rate=0.005\n",
        "\n",
        "# 에러 기록\n",
        "errors=[]\n",
        "\n",
        "# random 한 값으로 w, b 초기화\n",
        "w=np.random.uniform(low=0.0, high=1.0)\n",
        "b=np.random.uniform(low=0.0, high=1.0)\n",
        "\n",
        "for epoch in range(num_epoch):\n",
        "  # 가설 정의\n",
        "  y_hat=w*x+b\n",
        "\n",
        "  # 손실 함수 정의\n",
        "  error=0.5*((y_hat-y)**2).sum()\n",
        "  if error<0.005:             # 오차가 0.005 이내로 수렴하면 반복문 종료\n",
        "    break\n",
        "  # 그라디언트 미분 계산      # 매 epoch마다 w,b에 대한 가중치 업데이트\n",
        "  w=w-learning_rate*((y_hat-y)*x).sum()\n",
        "  b=b-learning_rate*(y_hat-y).sum()\n",
        "\n",
        "  errors.append(error)\n",
        "\n",
        "  if epoch%5==0:\n",
        "    print('{0:2}w={1:.5f}, b={2:.5f} error ={3:.5f}'.format(epoch, w, b, error))\n",
        "\n",
        "print('----'*15)\n",
        "print('{0:2}w={1:.1f}, b={2:.1f} error ={3:.5f}'.format(epoch, w, b, error))"
      ],
      "metadata": {
        "id": "U59mZZUSwV2a",
        "colab": {
          "base_uri": "https://localhost:8080/"
        },
        "outputId": "77db55d4-bab8-4671-94bd-38ff1b40cd62"
      },
      "execution_count": null,
      "outputs": [
        {
          "output_type": "stream",
          "name": "stdout",
          "text": [
            " 0w=0.28743, b=0.60502 error =3.26686\n",
            " 5w=0.25616, b=0.52249 error =0.01018\n",
            "10w=0.26241, b=0.51857 error =0.00769\n",
            "15w=0.26802, b=0.51578 error =0.00604\n",
            "------------------------------------------------------------\n",
            "20w=0.3, b=0.5 error =0.00483\n"
          ]
        }
      ]
    },
    {
      "cell_type": "code",
      "source": [
        "plt.figure(figsize=(10,7))\n",
        "plt.plot(errors)\n",
        "plt.xlabel(\"epochs\")\n",
        "plt.ylabel('Error')\n",
        "plt.show()"
      ],
      "metadata": {
        "id": "HvoY8puXwlQ0",
        "colab": {
          "base_uri": "https://localhost:8080/",
          "height": 619
        },
        "outputId": "f0aec48a-3eaa-420b-bfbe-e302f90f28ea"
      },
      "execution_count": null,
      "outputs": [
        {
          "output_type": "display_data",
          "data": {
            "text/plain": [
              "<Figure size 1000x700 with 1 Axes>"
            ],
            "image/png": "[encoded data removed]"
          },
          "metadata": {}
        }
      ]
    },
    {
      "cell_type": "markdown",
      "source": [
        "=> 매번 실행할 때마다 수렴하는 속도는 차이가 있지만, 결국 목표하는 오차 범위 안으로 수렴해 반복문 종료. 설정했던 w,b 계수와 비슷한 값임."
      ],
      "metadata": {
        "id": "Xu00hjhNwqVS"
      }
    },
    {
      "cell_type": "markdown",
      "source": [
        "### 1-2 딥러닝 프로세스\n",
        "\n",
        "* 딥러닝 모델 구축 및 훈련 프로세스\n",
        "\n",
        "데이터 로드 -> 데이터 전처리 -> 데이터 분할 -> 모델 생성&컴파일 -> 훈련 -> 검증 -> 예측"
      ],
      "metadata": {
        "id": "J_---vHYw22y"
      }
    },
    {
      "cell_type": "markdown",
      "source": [
        "#### 1-2-1 데이터 전처리\n",
        "\n",
        ": 데이터를 가공하는 단계\n",
        "\n",
        "* 배열의 차원을 변경하거나 스케일을 조정할 수 있다"
      ],
      "metadata": {
        "id": "IPoiLf4cxLsC"
      }
    },
    {
      "cell_type": "markdown",
      "source": [
        "#### 1-2-2 모델 생성\n",
        "\n",
        ": 모델의 구조를 정의하고 생성하는 단계\n",
        "\n",
        "* 순차적인 구조의 모델은 **Sequential** API\n",
        "* 다중 입력 및 출력을 가지고 복잡한 구조를 갖는 모델은 **Functional** API 혹은 **Model Subclassing**"
      ],
      "metadata": {
        "id": "HnrZU5nUxvVY"
      }
    },
    {
      "cell_type": "markdown",
      "source": [
        "#### 1-2-3 모델 컴파일\n",
        "\n",
        ": 생성된 모델 훈련에 사용할 손실함수(loss), 옵티마이저(optimizer), 평가지표(metrics) 등을 정의\n",
        "\n",
        "* 모델 인스턴스에 **compile()** 메소드 적용해 여러 가지 속성 값 설정"
      ],
      "metadata": {
        "id": "MMfcUCMVx_GY"
      }
    },
    {
      "cell_type": "markdown",
      "source": [
        "#### 1-2-4 모델 훈련\n",
        "\n",
        ": 모델을 훈련하는 단계\n",
        "\n",
        "* **fit()** 함수에 모델 훈련에 필요한 정보를 매개변수로 전달\n",
        "  + 훈련 데이터셋, 검증 데이터셋, epoch, 배치 크기 및 콜백 함수 등 지정"
      ],
      "metadata": {
        "id": "uI0vaCJVyLw9"
      }
    },
    {
      "cell_type": "markdown",
      "source": [
        "#### 1-2-5 모델 검증\n",
        "\n",
        ": 훈련이 완료된 모델을 검증하는 단계\n",
        "\n",
        "* 모델을 훈련할 때 사용하지 않은 검증 데이터셋을 모델에 입력하고 모델의 예측 값을 정답과 비교하여 평가지표 계산\n",
        "* 검증 결과를 바탕으로 다시 수정, 재평가하는 단계 통해 목표 성능에 도달할 때까지 과정 계속 반복"
      ],
      "metadata": {
        "id": "p7x22CmGyiNv"
      }
    },
    {
      "cell_type": "markdown",
      "source": [
        "#### 1-2-6 모델 예측\n",
        "\n",
        ": 테스트셋에 대하여 모델이 예측하고 그 결과 반환"
      ],
      "metadata": {
        "id": "GZ4YqGJhy7hX"
      }
    },
    {
      "cell_type": "markdown",
      "source": [
        "## 02. 단순 신경망 훈련\n",
        "\n",
        "\n",
        "\n",
        "---\n",
        "\n"
      ],
      "metadata": {
        "id": "ccXG6Bruzp7g"
      }
    },
    {
      "cell_type": "markdown",
      "source": [
        "### 2-1 선형회귀\n",
        "\n",
        "텐서플로 케라스를 활용하여 단순선형회귀 모델 직접 만들고 딥러닝 학습\n",
        "\n",
        "* y = wx + b\n",
        "  + w : 가중치(weight)\n",
        "  + b : 편향(bias)"
      ],
      "metadata": {
        "id": "0LXdtxwpzse0"
      }
    },
    {
      "cell_type": "markdown",
      "source": [
        "### 2-2 뉴런\n",
        "\n",
        "뉴런 : 인공 신경망 모델을 구성하는 하나의 신경. =노드.\n",
        "\n",
        "* 신경망은 여러 개의 레이어(layer)를 가지며 1개의 레이어는 1개 이상의 뉴런으로 구성\n",
        "* 뉴런의 내부에는 가중치가 존재하고 모델이 훈련을 진행하면서 오차 역전파를 통해 뉴런의 가중치 업데이트\n",
        "  + 역전파 : 손실함수를 미분한 결과인 그래디언트를 출력층에서 입력층 순으로 역으로 계산해 저장"
      ],
      "metadata": {
        "id": "K-hN7u460I5b"
      }
    },
    {
      "cell_type": "markdown",
      "source": [
        "### 2-3 Dense 레이어\n",
        "\n",
        "**Dense 레이어** : 심층 신경망 모델을 구성하는 가장 기본 레이어. = 완전 연결층(Fully Connected Layer)\n",
        "\n",
        "* Dense 레이어로 구성된 모델 - 각 레이어는 1개 이상의 뉴런으로 구성\n",
        "  + 노드의 개수를 Dense 레이어의 첫 번째 위치 인자로 지정\n",
        "  + activation 매개변수에 활성화 함수 지정하여 적용"
      ],
      "metadata": {
        "id": "qHxbdgvw04Jk"
      }
    },
    {
      "cell_type": "code",
      "source": [
        "import tensorflow as tf\n",
        "\n",
        "# 10개의 노드로 이루어진 dense 레이어\n",
        "tf.keras.layers.Dense(10)\n",
        "\n",
        "# ReLU 활성화 함수 적용\n",
        "tf.keras.layers.Dense(10, activation='relu')"
      ],
      "metadata": {
        "id": "4-Zf_mmu1ZcU",
        "colab": {
          "base_uri": "https://localhost:8080/"
        },
        "outputId": "d7f018f3-af42-4166-b55d-2ecd71192629"
      },
      "execution_count": null,
      "outputs": [
        {
          "output_type": "execute_result",
          "data": {
            "text/plain": [
              "<keras.layers.core.dense.Dense at 0x7ff7e2e23ca0>"
            ]
          },
          "metadata": {},
          "execution_count": 5
        }
      ]
    },
    {
      "cell_type": "markdown",
      "source": [
        "### 2-4 데이터셋 만들기\n",
        "\n"
      ],
      "metadata": {
        "id": "StQkv14V1ddL"
      }
    },
    {
      "cell_type": "code",
      "source": [
        "# 샘플 데이터셋 생성\n",
        "x=np.arange(1,6)\n",
        "\n",
        "#y=3x+2\n",
        "y=3*x+2\n",
        "print(x)\n",
        "print(y)"
      ],
      "metadata": {
        "id": "mUzZAbQ21lQU",
        "colab": {
          "base_uri": "https://localhost:8080/"
        },
        "outputId": "704c3de4-50f5-4217-a93f-9baa6b6289f1"
      },
      "execution_count": null,
      "outputs": [
        {
          "output_type": "stream",
          "name": "stdout",
          "text": [
            "[1 2 3 4 5]\n",
            "[ 5  8 11 14 17]\n"
          ]
        }
      ]
    },
    {
      "cell_type": "code",
      "source": [
        "import matplotlib.pyplot as plt\n",
        "\n",
        "# 시각화\n",
        "plt.plot(x, y)\n",
        "plt.title('y=3x+2')\n",
        "plt.show()"
      ],
      "metadata": {
        "id": "mEXZFL2P1n2J",
        "colab": {
          "base_uri": "https://localhost:8080/",
          "height": 452
        },
        "outputId": "75cbda6c-2844-496a-f84d-830b3e0ebab9"
      },
      "execution_count": null,
      "outputs": [
        {
          "output_type": "display_data",
          "data": {
            "text/plain": [
              "<Figure size 640x480 with 1 Axes>"
            ],
            "image/png": "[encoded data removed]"
          },
          "metadata": {}
        }
      ]
    },
    {
      "cell_type": "markdown",
      "source": [
        "### 2-5 Sequential API\n",
        "\n",
        "**Sequential API** : 층을 이어 붙이듯 시퀀스에 맞게 일렬로 연결하는 방식.\n",
        "\n",
        "* 입력 레이어부터 출력 레이어까지 순서를 갖는다\n",
        "* 2개 이상의 다중 입력이나 다중 출력을 갖는 복잡한 구조를 만들 수 없다\n",
        "* 쌓고자 하는 레이어의 개수는 제한이 없다\n",
        "\n"
      ],
      "metadata": {
        "id": "LzSJoy3z1wTB"
      }
    },
    {
      "cell_type": "markdown",
      "source": [
        "#### 2-5-1 모델 구조\n",
        "\n",
        "1. 파이썬 리스트 형태로 여러 개의 층을 입력"
      ],
      "metadata": {
        "id": "DmGkdf5Z2VYI"
      }
    },
    {
      "cell_type": "code",
      "source": [
        "import tensorflow as tf\n",
        "\n",
        "#리스트형\n",
        "model=tf.keras.Sequential([\n",
        "    tf.keras.layers.Dense(10),\n",
        "    tf.keras.layers.Dense(5),\n",
        "    tf.keras.layers.Dense(1)\n",
        "])"
      ],
      "metadata": {
        "id": "k_CZGfw22j46"
      },
      "execution_count": null,
      "outputs": []
    },
    {
      "cell_type": "markdown",
      "source": [
        "2. add 함수로 레이어 추가로 Sequential 클래스 객체 만든 후, 층을 추가"
      ],
      "metadata": {
        "id": "FH1QZjwk2kv2"
      }
    },
    {
      "cell_type": "code",
      "source": [
        "#add 함수로 레이어 추가\n",
        "model=tf.keras.Sequential()\n",
        "model.add(tf.keras.layers.Dense(10))\n",
        "model.add(tf.keras.layers.Dense(5))\n",
        "model.add(tf.keras.layers.Dense(1))"
      ],
      "metadata": {
        "id": "T8dE98IR2sgY"
      },
      "execution_count": null,
      "outputs": []
    },
    {
      "cell_type": "markdown",
      "source": [
        "#### 2-5-2 입력 데이터 형태\n",
        "\n",
        "* 반드시 첫 번째 층은 **input_shape** 매개변수 지정해야 한다\n",
        "  + 주입할 데이터셋의 shape을 투플 혹은 리스트로 지정\n",
        "  + shape에서 각 행은 샘플 데이터. 열은 입력 변수(-> input_shape)"
      ],
      "metadata": {
        "id": "p-AMAMxt2y72"
      }
    },
    {
      "cell_type": "code",
      "source": [
        "import tensorflow as tf\n",
        "model=tf.keras.Sequential([\n",
        "    #입력 데이터의 shape=(150, 4)인 경우 input_shape 지정\n",
        "    tf.keras.layers.Dense(10, input_shape=[4]),\n",
        "    tf.keras.layers.Dense(5),\n",
        "    tf.keras.layers.Dense(1)\n",
        "])"
      ],
      "metadata": {
        "id": "YRwYK-RP4Rwq"
      },
      "execution_count": null,
      "outputs": []
    },
    {
      "cell_type": "markdown",
      "source": [
        "#### 2-5-3 단순선형회귀 모델 정의\n",
        "\n",
        "단순선형회귀 모델을 만들기 위해서 1개의 뉴런을 가지는 Dense 레이어 한 개 사용. 여기서 1개의 뉴런은 w, b를 매개변수로 갖는다\n",
        "\n",
        "* Dense 레이어는 use_bias=True가 기본 설정되어 상수항 b가 추가된다"
      ],
      "metadata": {
        "id": "DnB_jWN43b9C"
      }
    },
    {
      "cell_type": "code",
      "source": [
        "# 단순선형회귀 모델 생성\n",
        "model=tf.keras.Sequential([\n",
        "    tf.keras.layers.Dense(1, input_shape=[1]) # x 값을 나타내는 입력 변수 1개만 존재 -> input_shape=[1]로 지정\n",
        "])"
      ],
      "metadata": {
        "id": "BL2UuSCu5O6F"
      },
      "execution_count": null,
      "outputs": []
    },
    {
      "cell_type": "markdown",
      "source": [
        "### 2-6 모델 요약\n",
        "\n",
        "모델 요약 확인 => **model.summary()**\n",
        "\n",
        "* 모델의 구조 확인 가능. 층별 노드의 개수 표기. 훈련 시 업데이트할 파라미터의 개수 표기\n",
        "  + Total params : 모델 내부에 존재하는 모든 파라미터의 합계\n",
        "  + Trainable params : 모델 훈련 시 업데이트할 파라미터의 총 개수\n",
        "  + Non-trainable params : 훈련 시 업데이트하지 않을 파라미터의 총 개수\n",
        "\n",
        "* 단순선형회귀 모델에서는 업데이트 파라미터가 가중치 w와 편향 b 두개"
      ],
      "metadata": {
        "id": "r0tt8TpO5hCp"
      }
    },
    {
      "cell_type": "code",
      "source": [
        "# 모델 요약\n",
        "model.summary()"
      ],
      "metadata": {
        "id": "TZCDgacD7UQo",
        "colab": {
          "base_uri": "https://localhost:8080/"
        },
        "outputId": "7e90bfb5-af85-4d4e-9026-56690129e51c"
      },
      "execution_count": null,
      "outputs": [
        {
          "output_type": "stream",
          "name": "stdout",
          "text": [
            "Model: \"sequential_3\"\n",
            "_________________________________________________________________\n",
            " Layer (type)                Output Shape              Param #   \n",
            "=================================================================\n",
            " dense_11 (Dense)            (None, 1)                 2         \n",
            "                                                                 \n",
            "=================================================================\n",
            "Total params: 2\n",
            "Trainable params: 2\n",
            "Non-trainable params: 0\n",
            "_________________________________________________________________\n"
          ]
        }
      ]
    },
    {
      "cell_type": "markdown",
      "source": [
        "### 2-7 컴파일\n",
        "\n",
        "컴파일 단계에서는 모델의 훈련 과정에서 적용할 옵티마이저, 손실함수, 그리고 평가지표 등을 정의\n",
        "\n",
        " -> 클래스 인스턴스, 함수 혹은 사전 정의된 문자열 3가지 방법으로 지정 가능"
      ],
      "metadata": {
        "id": "jybuyaLo6gZE"
      }
    },
    {
      "cell_type": "code",
      "source": [
        "# 긴 문자열 지정\n",
        "model.compile(optimizer='sgd', loss='mean_squared_error', metrics=['mean_squared_error', 'mean_absolute_error'])"
      ],
      "metadata": {
        "id": "3x33YsRFHRBL"
      },
      "execution_count": null,
      "outputs": []
    },
    {
      "cell_type": "code",
      "source": [
        "# 짧은 문자열 지정\n",
        "model.compile(optimizer='sgd', loss='mse', metrics=['mse', 'mae'])"
      ],
      "metadata": {
        "id": "FwzxK2rEHXn4"
      },
      "execution_count": null,
      "outputs": []
    },
    {
      "cell_type": "code",
      "source": [
        "# 클래스 인스턴스 지정\n",
        "model.compile(optimizer=tf.keras.optimizers.SGD(learning_rate=0.005),\n",
        "              loss=tf.keras.losses.MeanAbsoluteError(),\n",
        "              metrics=[tf.keras.metrics.MeanAbsoluteError(),\n",
        "                       tf.keras.metrics.MeanSquaredError()])"
      ],
      "metadata": {
        "id": "YOdpWVQ6Hbu0"
      },
      "execution_count": null,
      "outputs": []
    },
    {
      "cell_type": "code",
      "source": [
        "# 컴파일\n",
        "model.compile(optimizer='sgd', loss='mse', metrics=['mae'])     # sgd는 확률적 경사하강법(Stochastic Gradient Descent)"
      ],
      "metadata": {
        "id": "i0ZyJtQzHfnQ"
      },
      "execution_count": null,
      "outputs": []
    },
    {
      "cell_type": "markdown",
      "source": [
        "### 2-8 훈련\n",
        "\n",
        "모델이 훈련한다 = 가중치 텐서를 업데이트하는 과정\n",
        "\n",
        "* fit() 메소드에 훈련용 데이터셋의 입력(x)와 정답에 해당하는 출력(y), 반복 훈련할 epoch 수 지정\n",
        "  + 매 epoch 끝날 때마다 훈련 데이터셋에 대한 손실과 평가지표 출력\n",
        "  + verbose = 0 옵션 지정 시 훈련 중간 과정 출력x\n",
        "  + 검증 데이터셋(validation_data) 옵션 지정 시 검증셋에 대한 손실과 평가지표도 함께 출력"
      ],
      "metadata": {
        "id": "cfrG4lCOH4Fj"
      }
    },
    {
      "cell_type": "code",
      "source": [
        "# 훈련\n",
        "model.fit(x, y, epochs=5)"
      ],
      "metadata": {
        "id": "1XF_yOdVIfIW",
        "colab": {
          "base_uri": "https://localhost:8080/"
        },
        "outputId": "f15480cd-8e4d-425e-ca40-1986f14bb284"
      },
      "execution_count": null,
      "outputs": [
        {
          "output_type": "stream",
          "name": "stdout",
          "text": [
            "Epoch 1/5\n",
            "1/1 [==============================] - 2s 2s/step - loss: 57.6305 - mae: 7.1869\n",
            "Epoch 2/5\n",
            "1/1 [==============================] - 0s 11ms/step - loss: 33.7333 - mae: 5.5421\n",
            "Epoch 3/5\n",
            "1/1 [==============================] - 0s 17ms/step - loss: 19.8062 - mae: 4.2862\n",
            "Epoch 4/5\n",
            "1/1 [==============================] - 0s 12ms/step - loss: 11.6892 - mae: 3.3273\n",
            "Epoch 5/5\n",
            "1/1 [==============================] - 0s 19ms/step - loss: 6.9580 - mae: 2.5952\n"
          ]
        },
        {
          "output_type": "execute_result",
          "data": {
            "text/plain": [
              "<keras.callbacks.History at 0x7ff7e2c69b70>"
            ]
          },
          "metadata": {},
          "execution_count": 17
        }
      ]
    },
    {
      "cell_type": "markdown",
      "source": [
        "=> 모델의 예측 오차 점점 줄어드는 것. 모델이 잘 학습되고 있음\n",
        "\n",
        "=> 하지만 반복 훈련 횟수 충분하지 않아 학습이 덜 되었다 -> 과소적합 상태"
      ],
      "metadata": {
        "id": "QfNAZXuDIg_-"
      }
    },
    {
      "cell_type": "code",
      "source": [
        "# 단순 선형회귀 모델 생성\n",
        "model=tf.keras.Sequential([\n",
        "    tf.keras.layers.Dense(1, input_shape=[1])\n",
        "])\n",
        "\n",
        "# 컴파일\n",
        "model.compile(optimizer='sgd', loss='mse', metrics=['mae'])\n",
        "\n",
        "# 훈련\n",
        "history=model.fit(x, y, epochs=1200)"
      ],
      "metadata": {
        "id": "C03kNDigIsG9",
        "colab": {
          "base_uri": "https://localhost:8080/"
        },
        "outputId": "ec78f844-673f-446b-d6a4-40fecc861841"
      },
      "execution_count": null,
      "outputs": [
        {
          "output_type": "stream",
          "name": "stdout",
          "text": [
            "Epoch 1/1200\n",
            "1/1 [==============================] - 1s 1s/step - loss: 68.9864 - mae: 7.8368\n",
            "Epoch 2/1200\n",
            "1/1 [==============================] - 0s 16ms/step - loss: 40.3395 - mae: 6.0360\n",
            "Epoch 3/1200\n",
            "1/1 [==============================] - 0s 14ms/step - loss: 23.6445 - mae: 4.6611\n",
            "Epoch 4/1200\n",
            "1/1 [==============================] - 0s 14ms/step - loss: 13.9146 - mae: 3.6113\n",
            "Epoch 5/1200\n",
            "1/1 [==============================] - 0s 19ms/step - loss: 8.2435 - mae: 2.8098\n",
            "Epoch 6/1200\n",
            "1/1 [==============================] - 0s 24ms/step - loss: 4.9378 - mae: 2.1977\n",
            "Epoch 7/1200\n",
            "1/1 [==============================] - 0s 12ms/step - loss: 3.0105 - mae: 1.7303\n",
            "Epoch 8/1200\n",
            "1/1 [==============================] - 0s 21ms/step - loss: 1.8865 - mae: 1.3733\n",
            "Epoch 9/1200\n",
            "1/1 [==============================] - 0s 20ms/step - loss: 1.2306 - mae: 1.1006\n",
            "Epoch 10/1200\n",
            "1/1 [==============================] - 0s 16ms/step - loss: 0.8474 - mae: 0.8923\n",
            "Epoch 11/1200\n",
            "1/1 [==============================] - 0s 55ms/step - loss: 0.6233 - mae: 0.7330\n",
            "Epoch 12/1200\n",
            "1/1 [==============================] - 0s 21ms/step - loss: 0.4918 - mae: 0.6113\n",
            "Epoch 13/1200\n",
            "1/1 [==============================] - 0s 29ms/step - loss: 0.4143 - mae: 0.5269\n",
            "Epoch 14/1200\n",
            "1/1 [==============================] - 0s 21ms/step - loss: 0.3683 - mae: 0.5004\n",
            "Epoch 15/1200\n",
            "1/1 [==============================] - 0s 14ms/step - loss: 0.3406 - mae: 0.4798\n",
            "Epoch 16/1200\n",
            "1/1 [==============================] - 0s 19ms/step - loss: 0.3236 - mae: 0.4638\n",
            "Epoch 17/1200\n",
            "1/1 [==============================] - 0s 11ms/step - loss: 0.3129 - mae: 0.4539\n",
            "Epoch 18/1200\n",
            "1/1 [==============================] - 0s 29ms/step - loss: 0.3058 - mae: 0.4563\n",
            "Epoch 19/1200\n",
            "1/1 [==============================] - 0s 23ms/step - loss: 0.3008 - mae: 0.4577\n",
            "Epoch 20/1200\n",
            "1/1 [==============================] - 0s 20ms/step - loss: 0.2971 - mae: 0.4585\n",
            "Epoch 21/1200\n",
            "1/1 [==============================] - 0s 16ms/step - loss: 0.2941 - mae: 0.4587\n",
            "Epoch 22/1200\n",
            "1/1 [==============================] - 0s 24ms/step - loss: 0.2915 - mae: 0.4584\n",
            "Epoch 23/1200\n",
            "1/1 [==============================] - 0s 18ms/step - loss: 0.2892 - mae: 0.4579\n",
            "Epoch 24/1200\n",
            "1/1 [==============================] - 0s 20ms/step - loss: 0.2871 - mae: 0.4571\n",
            "Epoch 25/1200\n",
            "1/1 [==============================] - 0s 38ms/step - loss: 0.2850 - mae: 0.4562\n",
            "Epoch 26/1200\n",
            "1/1 [==============================] - 0s 19ms/step - loss: 0.2831 - mae: 0.4551\n",
            "Epoch 27/1200\n",
            "1/1 [==============================] - 0s 21ms/step - loss: 0.2811 - mae: 0.4539\n",
            "Epoch 28/1200\n",
            "1/1 [==============================] - 0s 19ms/step - loss: 0.2792 - mae: 0.4526\n",
            "Epoch 29/1200\n",
            "1/1 [==============================] - 0s 20ms/step - loss: 0.2773 - mae: 0.4513\n",
            "Epoch 30/1200\n",
            "1/1 [==============================] - 0s 19ms/step - loss: 0.2754 - mae: 0.4499\n",
            "Epoch 31/1200\n",
            "1/1 [==============================] - 0s 17ms/step - loss: 0.2735 - mae: 0.4485\n",
            "Epoch 32/1200\n",
            "1/1 [==============================] - 0s 21ms/step - loss: 0.2717 - mae: 0.4471\n",
            "Epoch 33/1200\n",
            "1/1 [==============================] - 0s 22ms/step - loss: 0.2699 - mae: 0.4457\n",
            "Epoch 34/1200\n",
            "1/1 [==============================] - 0s 28ms/step - loss: 0.2680 - mae: 0.4442\n",
            "Epoch 35/1200\n",
            "1/1 [==============================] - 0s 18ms/step - loss: 0.2662 - mae: 0.4427\n",
            "Epoch 36/1200\n",
            "1/1 [==============================] - 0s 23ms/step - loss: 0.2644 - mae: 0.4413\n",
            "Epoch 37/1200\n",
            "1/1 [==============================] - 0s 16ms/step - loss: 0.2626 - mae: 0.4398\n",
            "Epoch 38/1200\n",
            "1/1 [==============================] - 0s 17ms/step - loss: 0.2609 - mae: 0.4383\n",
            "Epoch 39/1200\n",
            "1/1 [==============================] - 0s 15ms/step - loss: 0.2591 - mae: 0.4369\n",
            "Epoch 40/1200\n",
            "1/1 [==============================] - 0s 17ms/step - loss: 0.2574 - mae: 0.4354\n",
            "Epoch 41/1200\n",
            "1/1 [==============================] - 0s 24ms/step - loss: 0.2556 - mae: 0.4339\n",
            "Epoch 42/1200\n",
            "1/1 [==============================] - 0s 17ms/step - loss: 0.2539 - mae: 0.4325\n",
            "Epoch 43/1200\n",
            "1/1 [==============================] - 0s 14ms/step - loss: 0.2522 - mae: 0.4310\n",
            "Epoch 44/1200\n",
            "1/1 [==============================] - 0s 19ms/step - loss: 0.2505 - mae: 0.4296\n",
            "Epoch 45/1200\n",
            "1/1 [==============================] - 0s 11ms/step - loss: 0.2488 - mae: 0.4281\n",
            "Epoch 46/1200\n",
            "1/1 [==============================] - 0s 13ms/step - loss: 0.2471 - mae: 0.4267\n",
            "Epoch 47/1200\n",
            "1/1 [==============================] - 0s 19ms/step - loss: 0.2454 - mae: 0.4252\n",
            "Epoch 48/1200\n",
            "1/1 [==============================] - 0s 41ms/step - loss: 0.2438 - mae: 0.4238\n",
            "Epoch 49/1200\n",
            "1/1 [==============================] - 0s 12ms/step - loss: 0.2421 - mae: 0.4224\n",
            "Epoch 50/1200\n",
            "1/1 [==============================] - 0s 16ms/step - loss: 0.2405 - mae: 0.4209\n",
            "Epoch 51/1200\n",
            "1/1 [==============================] - 0s 12ms/step - loss: 0.2389 - mae: 0.4195\n",
            "Epoch 52/1200\n",
            "1/1 [==============================] - 0s 13ms/step - loss: 0.2373 - mae: 0.4181\n",
            "Epoch 53/1200\n",
            "1/1 [==============================] - 0s 13ms/step - loss: 0.2357 - mae: 0.4167\n",
            "Epoch 54/1200\n",
            "1/1 [==============================] - 0s 26ms/step - loss: 0.2341 - mae: 0.4153\n",
            "Epoch 55/1200\n",
            "1/1 [==============================] - 0s 17ms/step - loss: 0.2325 - mae: 0.4139\n",
            "Epoch 56/1200\n",
            "1/1 [==============================] - 0s 27ms/step - loss: 0.2309 - mae: 0.4125\n",
            "Epoch 57/1200\n",
            "1/1 [==============================] - 0s 19ms/step - loss: 0.2294 - mae: 0.4111\n",
            "Epoch 58/1200\n",
            "1/1 [==============================] - 0s 10ms/step - loss: 0.2278 - mae: 0.4097\n",
            "Epoch 59/1200\n",
            "1/1 [==============================] - 0s 29ms/step - loss: 0.2263 - mae: 0.4083\n",
            "Epoch 60/1200\n",
            "1/1 [==============================] - 0s 14ms/step - loss: 0.2248 - mae: 0.4069\n",
            "Epoch 61/1200\n",
            "1/1 [==============================] - 0s 19ms/step - loss: 0.2232 - mae: 0.4055\n",
            "Epoch 62/1200\n",
            "1/1 [==============================] - 0s 30ms/step - loss: 0.2217 - mae: 0.4042\n",
            "Epoch 63/1200\n",
            "1/1 [==============================] - 0s 23ms/step - loss: 0.2202 - mae: 0.4028\n",
            "Epoch 64/1200\n",
            "1/1 [==============================] - 0s 20ms/step - loss: 0.2187 - mae: 0.4014\n",
            "Epoch 65/1200\n",
            "1/1 [==============================] - 0s 25ms/step - loss: 0.2173 - mae: 0.4001\n",
            "Epoch 66/1200\n",
            "1/1 [==============================] - 0s 14ms/step - loss: 0.2158 - mae: 0.3987\n",
            "Epoch 67/1200\n",
            "1/1 [==============================] - 0s 21ms/step - loss: 0.2143 - mae: 0.3974\n",
            "Epoch 68/1200\n",
            "1/1 [==============================] - 0s 12ms/step - loss: 0.2129 - mae: 0.3960\n",
            "Epoch 69/1200\n",
            "1/1 [==============================] - 0s 20ms/step - loss: 0.2115 - mae: 0.3947\n",
            "Epoch 70/1200\n",
            "1/1 [==============================] - 0s 50ms/step - loss: 0.2100 - mae: 0.3934\n",
            "Epoch 71/1200\n",
            "1/1 [==============================] - 0s 24ms/step - loss: 0.2086 - mae: 0.3920\n",
            "Epoch 72/1200\n",
            "1/1 [==============================] - 0s 18ms/step - loss: 0.2072 - mae: 0.3907\n",
            "Epoch 73/1200\n",
            "1/1 [==============================] - 0s 16ms/step - loss: 0.2058 - mae: 0.3894\n",
            "Epoch 74/1200\n",
            "1/1 [==============================] - 0s 26ms/step - loss: 0.2044 - mae: 0.3881\n",
            "Epoch 75/1200\n",
            "1/1 [==============================] - 0s 22ms/step - loss: 0.2030 - mae: 0.3868\n",
            "Epoch 76/1200\n",
            "1/1 [==============================] - 0s 28ms/step - loss: 0.2017 - mae: 0.3855\n",
            "Epoch 77/1200\n",
            "1/1 [==============================] - 0s 24ms/step - loss: 0.2003 - mae: 0.3842\n",
            "Epoch 78/1200\n",
            "1/1 [==============================] - 0s 15ms/step - loss: 0.1990 - mae: 0.3829\n",
            "Epoch 79/1200\n",
            "1/1 [==============================] - 0s 16ms/step - loss: 0.1976 - mae: 0.3816\n",
            "Epoch 80/1200\n",
            "1/1 [==============================] - 0s 18ms/step - loss: 0.1963 - mae: 0.3803\n",
            "Epoch 81/1200\n",
            "1/1 [==============================] - 0s 13ms/step - loss: 0.1950 - mae: 0.3790\n",
            "Epoch 82/1200\n",
            "1/1 [==============================] - 0s 17ms/step - loss: 0.1936 - mae: 0.3777\n",
            "Epoch 83/1200\n",
            "1/1 [==============================] - 0s 14ms/step - loss: 0.1923 - mae: 0.3764\n",
            "Epoch 84/1200\n",
            "1/1 [==============================] - 0s 17ms/step - loss: 0.1910 - mae: 0.3752\n",
            "Epoch 85/1200\n",
            "1/1 [==============================] - 0s 25ms/step - loss: 0.1897 - mae: 0.3739\n",
            "Epoch 86/1200\n",
            "1/1 [==============================] - 0s 17ms/step - loss: 0.1885 - mae: 0.3726\n",
            "Epoch 87/1200\n",
            "1/1 [==============================] - 0s 16ms/step - loss: 0.1872 - mae: 0.3714\n",
            "Epoch 88/1200\n",
            "1/1 [==============================] - 0s 23ms/step - loss: 0.1859 - mae: 0.3701\n",
            "Epoch 89/1200\n",
            "1/1 [==============================] - 0s 16ms/step - loss: 0.1847 - mae: 0.3689\n",
            "Epoch 90/1200\n",
            "1/1 [==============================] - 0s 18ms/step - loss: 0.1834 - mae: 0.3676\n",
            "Epoch 91/1200\n",
            "1/1 [==============================] - 0s 18ms/step - loss: 0.1822 - mae: 0.3664\n",
            "Epoch 92/1200\n",
            "1/1 [==============================] - 0s 14ms/step - loss: 0.1810 - mae: 0.3651\n",
            "Epoch 93/1200\n",
            "1/1 [==============================] - 0s 17ms/step - loss: 0.1797 - mae: 0.3639\n",
            "Epoch 94/1200\n",
            "1/1 [==============================] - 0s 19ms/step - loss: 0.1785 - mae: 0.3627\n",
            "Epoch 95/1200\n",
            "1/1 [==============================] - 0s 24ms/step - loss: 0.1773 - mae: 0.3614\n",
            "Epoch 96/1200\n",
            "1/1 [==============================] - 0s 21ms/step - loss: 0.1761 - mae: 0.3602\n",
            "Epoch 97/1200\n",
            "1/1 [==============================] - 0s 21ms/step - loss: 0.1749 - mae: 0.3590\n",
            "Epoch 98/1200\n",
            "1/1 [==============================] - 0s 24ms/step - loss: 0.1738 - mae: 0.3578\n",
            "Epoch 99/1200\n",
            "1/1 [==============================] - 0s 29ms/step - loss: 0.1726 - mae: 0.3566\n",
            "Epoch 100/1200\n",
            "1/1 [==============================] - 0s 18ms/step - loss: 0.1714 - mae: 0.3554\n",
            "Epoch 101/1200\n",
            "1/1 [==============================] - 0s 21ms/step - loss: 0.1703 - mae: 0.3542\n",
            "Epoch 102/1200\n",
            "1/1 [==============================] - 0s 21ms/step - loss: 0.1691 - mae: 0.3530\n",
            "Epoch 103/1200\n",
            "1/1 [==============================] - 0s 27ms/step - loss: 0.1680 - mae: 0.3518\n",
            "Epoch 104/1200\n",
            "1/1 [==============================] - 0s 15ms/step - loss: 0.1668 - mae: 0.3506\n",
            "Epoch 105/1200\n",
            "1/1 [==============================] - 0s 54ms/step - loss: 0.1657 - mae: 0.3494\n",
            "Epoch 106/1200\n",
            "1/1 [==============================] - 0s 18ms/step - loss: 0.1646 - mae: 0.3482\n",
            "Epoch 107/1200\n",
            "1/1 [==============================] - 0s 33ms/step - loss: 0.1635 - mae: 0.3470\n",
            "Epoch 108/1200\n",
            "1/1 [==============================] - 0s 31ms/step - loss: 0.1624 - mae: 0.3459\n",
            "Epoch 109/1200\n",
            "1/1 [==============================] - 0s 24ms/step - loss: 0.1613 - mae: 0.3447\n",
            "Epoch 110/1200\n",
            "1/1 [==============================] - 0s 32ms/step - loss: 0.1602 - mae: 0.3435\n",
            "Epoch 111/1200\n",
            "1/1 [==============================] - 0s 14ms/step - loss: 0.1591 - mae: 0.3424\n",
            "Epoch 112/1200\n",
            "1/1 [==============================] - 0s 24ms/step - loss: 0.1580 - mae: 0.3412\n",
            "Epoch 113/1200\n",
            "1/1 [==============================] - 0s 16ms/step - loss: 0.1570 - mae: 0.3401\n",
            "Epoch 114/1200\n",
            "1/1 [==============================] - 0s 22ms/step - loss: 0.1559 - mae: 0.3389\n",
            "Epoch 115/1200\n",
            "1/1 [==============================] - 0s 18ms/step - loss: 0.1549 - mae: 0.3378\n",
            "Epoch 116/1200\n",
            "1/1 [==============================] - 0s 27ms/step - loss: 0.1538 - mae: 0.3366\n",
            "Epoch 117/1200\n",
            "1/1 [==============================] - 0s 20ms/step - loss: 0.1528 - mae: 0.3355\n",
            "Epoch 118/1200\n",
            "1/1 [==============================] - 0s 22ms/step - loss: 0.1517 - mae: 0.3343\n",
            "Epoch 119/1200\n",
            "1/1 [==============================] - 0s 34ms/step - loss: 0.1507 - mae: 0.3332\n",
            "Epoch 120/1200\n",
            "1/1 [==============================] - 0s 28ms/step - loss: 0.1497 - mae: 0.3321\n",
            "Epoch 121/1200\n",
            "1/1 [==============================] - 0s 31ms/step - loss: 0.1487 - mae: 0.3310\n",
            "Epoch 122/1200\n",
            "1/1 [==============================] - 0s 22ms/step - loss: 0.1477 - mae: 0.3298\n",
            "Epoch 123/1200\n",
            "1/1 [==============================] - 0s 41ms/step - loss: 0.1467 - mae: 0.3287\n",
            "Epoch 124/1200\n",
            "1/1 [==============================] - 0s 43ms/step - loss: 0.1457 - mae: 0.3276\n",
            "Epoch 125/1200\n",
            "1/1 [==============================] - 0s 17ms/step - loss: 0.1447 - mae: 0.3265\n",
            "Epoch 126/1200\n",
            "1/1 [==============================] - 0s 19ms/step - loss: 0.1437 - mae: 0.3254\n",
            "Epoch 127/1200\n",
            "1/1 [==============================] - 0s 19ms/step - loss: 0.1428 - mae: 0.3243\n",
            "Epoch 128/1200\n",
            "1/1 [==============================] - 0s 10ms/step - loss: 0.1418 - mae: 0.3232\n",
            "Epoch 129/1200\n",
            "1/1 [==============================] - 0s 14ms/step - loss: 0.1408 - mae: 0.3221\n",
            "Epoch 130/1200\n",
            "1/1 [==============================] - 0s 16ms/step - loss: 0.1399 - mae: 0.3210\n",
            "Epoch 131/1200\n",
            "1/1 [==============================] - 0s 17ms/step - loss: 0.1389 - mae: 0.3199\n",
            "Epoch 132/1200\n",
            "1/1 [==============================] - 0s 21ms/step - loss: 0.1380 - mae: 0.3189\n",
            "Epoch 133/1200\n",
            "1/1 [==============================] - 0s 13ms/step - loss: 0.1371 - mae: 0.3178\n",
            "Epoch 134/1200\n",
            "1/1 [==============================] - 0s 33ms/step - loss: 0.1362 - mae: 0.3167\n",
            "Epoch 135/1200\n",
            "1/1 [==============================] - 0s 25ms/step - loss: 0.1352 - mae: 0.3156\n",
            "Epoch 136/1200\n",
            "1/1 [==============================] - 0s 15ms/step - loss: 0.1343 - mae: 0.3146\n",
            "Epoch 137/1200\n",
            "1/1 [==============================] - 0s 33ms/step - loss: 0.1334 - mae: 0.3135\n",
            "Epoch 138/1200\n",
            "1/1 [==============================] - 0s 15ms/step - loss: 0.1325 - mae: 0.3125\n",
            "Epoch 139/1200\n",
            "1/1 [==============================] - 0s 18ms/step - loss: 0.1316 - mae: 0.3114\n",
            "Epoch 140/1200\n",
            "1/1 [==============================] - 0s 21ms/step - loss: 0.1307 - mae: 0.3103\n",
            "Epoch 141/1200\n",
            "1/1 [==============================] - 0s 19ms/step - loss: 0.1298 - mae: 0.3093\n",
            "Epoch 142/1200\n",
            "1/1 [==============================] - 0s 18ms/step - loss: 0.1290 - mae: 0.3082\n",
            "Epoch 143/1200\n",
            "1/1 [==============================] - 0s 16ms/step - loss: 0.1281 - mae: 0.3072\n",
            "Epoch 144/1200\n",
            "1/1 [==============================] - 0s 18ms/step - loss: 0.1272 - mae: 0.3062\n",
            "Epoch 145/1200\n",
            "1/1 [==============================] - 0s 22ms/step - loss: 0.1264 - mae: 0.3051\n",
            "Epoch 146/1200\n",
            "1/1 [==============================] - 0s 17ms/step - loss: 0.1255 - mae: 0.3041\n",
            "Epoch 147/1200\n",
            "1/1 [==============================] - 0s 16ms/step - loss: 0.1247 - mae: 0.3031\n",
            "Epoch 148/1200\n",
            "1/1 [==============================] - 0s 18ms/step - loss: 0.1238 - mae: 0.3020\n",
            "Epoch 149/1200\n",
            "1/1 [==============================] - 0s 37ms/step - loss: 0.1230 - mae: 0.3010\n",
            "Epoch 150/1200\n",
            "1/1 [==============================] - 0s 29ms/step - loss: 0.1222 - mae: 0.3000\n",
            "Epoch 151/1200\n",
            "1/1 [==============================] - 0s 35ms/step - loss: 0.1213 - mae: 0.2990\n",
            "Epoch 152/1200\n",
            "1/1 [==============================] - 0s 23ms/step - loss: 0.1205 - mae: 0.2980\n",
            "Epoch 153/1200\n",
            "1/1 [==============================] - 0s 30ms/step - loss: 0.1197 - mae: 0.2970\n",
            "Epoch 154/1200\n",
            "1/1 [==============================] - 0s 25ms/step - loss: 0.1189 - mae: 0.2960\n",
            "Epoch 155/1200\n",
            "1/1 [==============================] - 0s 38ms/step - loss: 0.1181 - mae: 0.2950\n",
            "Epoch 156/1200\n",
            "1/1 [==============================] - 0s 38ms/step - loss: 0.1173 - mae: 0.2940\n",
            "Epoch 157/1200\n",
            "1/1 [==============================] - 0s 22ms/step - loss: 0.1165 - mae: 0.2930\n",
            "Epoch 158/1200\n",
            "1/1 [==============================] - 0s 16ms/step - loss: 0.1157 - mae: 0.2920\n",
            "Epoch 159/1200\n",
            "1/1 [==============================] - 0s 15ms/step - loss: 0.1149 - mae: 0.2910\n",
            "Epoch 160/1200\n",
            "1/1 [==============================] - 0s 12ms/step - loss: 0.1142 - mae: 0.2900\n",
            "Epoch 161/1200\n",
            "1/1 [==============================] - 0s 16ms/step - loss: 0.1134 - mae: 0.2890\n",
            "Epoch 162/1200\n",
            "1/1 [==============================] - 0s 21ms/step - loss: 0.1126 - mae: 0.2881\n",
            "Epoch 163/1200\n",
            "1/1 [==============================] - 0s 14ms/step - loss: 0.1119 - mae: 0.2871\n",
            "Epoch 164/1200\n",
            "1/1 [==============================] - 0s 16ms/step - loss: 0.1111 - mae: 0.2861\n",
            "Epoch 165/1200\n",
            "1/1 [==============================] - 0s 14ms/step - loss: 0.1104 - mae: 0.2851\n",
            "Epoch 166/1200\n",
            "1/1 [==============================] - 0s 16ms/step - loss: 0.1096 - mae: 0.2842\n",
            "Epoch 167/1200\n",
            "1/1 [==============================] - 0s 23ms/step - loss: 0.1089 - mae: 0.2832\n",
            "Epoch 168/1200\n",
            "1/1 [==============================] - 0s 17ms/step - loss: 0.1081 - mae: 0.2823\n",
            "Epoch 169/1200\n",
            "1/1 [==============================] - 0s 14ms/step - loss: 0.1074 - mae: 0.2813\n",
            "Epoch 170/1200\n",
            "1/1 [==============================] - 0s 18ms/step - loss: 0.1067 - mae: 0.2804\n",
            "Epoch 171/1200\n",
            "1/1 [==============================] - 0s 22ms/step - loss: 0.1060 - mae: 0.2794\n",
            "Epoch 172/1200\n",
            "1/1 [==============================] - 0s 18ms/step - loss: 0.1053 - mae: 0.2785\n",
            "Epoch 173/1200\n",
            "1/1 [==============================] - 0s 38ms/step - loss: 0.1045 - mae: 0.2775\n",
            "Epoch 174/1200\n",
            "1/1 [==============================] - 0s 45ms/step - loss: 0.1038 - mae: 0.2766\n",
            "Epoch 175/1200\n",
            "1/1 [==============================] - 0s 34ms/step - loss: 0.1031 - mae: 0.2757\n",
            "Epoch 176/1200\n",
            "1/1 [==============================] - 0s 25ms/step - loss: 0.1024 - mae: 0.2747\n",
            "Epoch 177/1200\n",
            "1/1 [==============================] - 0s 42ms/step - loss: 0.1018 - mae: 0.2738\n",
            "Epoch 178/1200\n",
            "1/1 [==============================] - 0s 22ms/step - loss: 0.1011 - mae: 0.2729\n",
            "Epoch 179/1200\n",
            "1/1 [==============================] - 0s 33ms/step - loss: 0.1004 - mae: 0.2719\n",
            "Epoch 180/1200\n",
            "1/1 [==============================] - 0s 14ms/step - loss: 0.0997 - mae: 0.2710\n",
            "Epoch 181/1200\n",
            "1/1 [==============================] - 0s 28ms/step - loss: 0.0990 - mae: 0.2701\n",
            "Epoch 182/1200\n",
            "1/1 [==============================] - 0s 14ms/step - loss: 0.0984 - mae: 0.2692\n",
            "Epoch 183/1200\n",
            "1/1 [==============================] - 0s 14ms/step - loss: 0.0977 - mae: 0.2683\n",
            "Epoch 184/1200\n",
            "1/1 [==============================] - 0s 14ms/step - loss: 0.0970 - mae: 0.2674\n",
            "Epoch 185/1200\n",
            "1/1 [==============================] - 0s 15ms/step - loss: 0.0964 - mae: 0.2665\n",
            "Epoch 186/1200\n",
            "1/1 [==============================] - 0s 15ms/step - loss: 0.0957 - mae: 0.2656\n",
            "Epoch 187/1200\n",
            "1/1 [==============================] - 0s 15ms/step - loss: 0.0951 - mae: 0.2647\n",
            "Epoch 188/1200\n",
            "1/1 [==============================] - 0s 32ms/step - loss: 0.0944 - mae: 0.2638\n",
            "Epoch 189/1200\n",
            "1/1 [==============================] - 0s 24ms/step - loss: 0.0938 - mae: 0.2629\n",
            "Epoch 190/1200\n",
            "1/1 [==============================] - 0s 24ms/step - loss: 0.0932 - mae: 0.2620\n",
            "Epoch 191/1200\n",
            "1/1 [==============================] - 0s 20ms/step - loss: 0.0925 - mae: 0.2611\n",
            "Epoch 192/1200\n",
            "1/1 [==============================] - 0s 32ms/step - loss: 0.0919 - mae: 0.2602\n",
            "Epoch 193/1200\n",
            "1/1 [==============================] - 0s 37ms/step - loss: 0.0913 - mae: 0.2593\n",
            "Epoch 194/1200\n",
            "1/1 [==============================] - 0s 14ms/step - loss: 0.0907 - mae: 0.2585\n",
            "Epoch 195/1200\n",
            "1/1 [==============================] - 0s 15ms/step - loss: 0.0901 - mae: 0.2576\n",
            "Epoch 196/1200\n",
            "1/1 [==============================] - 0s 17ms/step - loss: 0.0895 - mae: 0.2567\n",
            "Epoch 197/1200\n",
            "1/1 [==============================] - 0s 18ms/step - loss: 0.0889 - mae: 0.2559\n",
            "Epoch 198/1200\n",
            "1/1 [==============================] - 0s 17ms/step - loss: 0.0883 - mae: 0.2550\n",
            "Epoch 199/1200\n",
            "1/1 [==============================] - 0s 14ms/step - loss: 0.0877 - mae: 0.2541\n",
            "Epoch 200/1200\n",
            "1/1 [==============================] - 0s 16ms/step - loss: 0.0871 - mae: 0.2533\n",
            "Epoch 201/1200\n",
            "1/1 [==============================] - 0s 32ms/step - loss: 0.0865 - mae: 0.2524\n",
            "Epoch 202/1200\n",
            "1/1 [==============================] - 0s 17ms/step - loss: 0.0859 - mae: 0.2516\n",
            "Epoch 203/1200\n",
            "1/1 [==============================] - 0s 21ms/step - loss: 0.0853 - mae: 0.2507\n",
            "Epoch 204/1200\n",
            "1/1 [==============================] - 0s 16ms/step - loss: 0.0847 - mae: 0.2499\n",
            "Epoch 205/1200\n",
            "1/1 [==============================] - 0s 13ms/step - loss: 0.0842 - mae: 0.2490\n",
            "Epoch 206/1200\n",
            "1/1 [==============================] - 0s 20ms/step - loss: 0.0836 - mae: 0.2482\n",
            "Epoch 207/1200\n",
            "1/1 [==============================] - 0s 13ms/step - loss: 0.0830 - mae: 0.2473\n",
            "Epoch 208/1200\n",
            "1/1 [==============================] - 0s 21ms/step - loss: 0.0825 - mae: 0.2465\n",
            "Epoch 209/1200\n",
            "1/1 [==============================] - 0s 17ms/step - loss: 0.0819 - mae: 0.2457\n",
            "Epoch 210/1200\n",
            "1/1 [==============================] - 0s 28ms/step - loss: 0.0814 - mae: 0.2448\n",
            "Epoch 211/1200\n",
            "1/1 [==============================] - 0s 25ms/step - loss: 0.0808 - mae: 0.2440\n",
            "Epoch 212/1200\n",
            "1/1 [==============================] - 0s 26ms/step - loss: 0.0803 - mae: 0.2432\n",
            "Epoch 213/1200\n",
            "1/1 [==============================] - 0s 25ms/step - loss: 0.0797 - mae: 0.2424\n",
            "Epoch 214/1200\n",
            "1/1 [==============================] - 0s 19ms/step - loss: 0.0792 - mae: 0.2415\n",
            "Epoch 215/1200\n",
            "1/1 [==============================] - 0s 15ms/step - loss: 0.0787 - mae: 0.2407\n",
            "Epoch 216/1200\n",
            "1/1 [==============================] - 0s 14ms/step - loss: 0.0781 - mae: 0.2399\n",
            "Epoch 217/1200\n",
            "1/1 [==============================] - 0s 17ms/step - loss: 0.0776 - mae: 0.2391\n",
            "Epoch 218/1200\n",
            "1/1 [==============================] - 0s 18ms/step - loss: 0.0771 - mae: 0.2383\n",
            "Epoch 219/1200\n",
            "1/1 [==============================] - 0s 20ms/step - loss: 0.0766 - mae: 0.2375\n",
            "Epoch 220/1200\n",
            "1/1 [==============================] - 0s 15ms/step - loss: 0.0760 - mae: 0.2367\n",
            "Epoch 221/1200\n",
            "1/1 [==============================] - 0s 18ms/step - loss: 0.0755 - mae: 0.2359\n",
            "Epoch 222/1200\n",
            "1/1 [==============================] - 0s 10ms/step - loss: 0.0750 - mae: 0.2351\n",
            "Epoch 223/1200\n",
            "1/1 [==============================] - 0s 14ms/step - loss: 0.0745 - mae: 0.2343\n",
            "Epoch 224/1200\n",
            "1/1 [==============================] - 0s 11ms/step - loss: 0.0740 - mae: 0.2335\n",
            "Epoch 225/1200\n",
            "1/1 [==============================] - 0s 15ms/step - loss: 0.0735 - mae: 0.2327\n",
            "Epoch 226/1200\n",
            "1/1 [==============================] - 0s 10ms/step - loss: 0.0730 - mae: 0.2319\n",
            "Epoch 227/1200\n",
            "1/1 [==============================] - 0s 12ms/step - loss: 0.0725 - mae: 0.2311\n",
            "Epoch 228/1200\n",
            "1/1 [==============================] - 0s 25ms/step - loss: 0.0720 - mae: 0.2304\n",
            "Epoch 229/1200\n",
            "1/1 [==============================] - 0s 24ms/step - loss: 0.0715 - mae: 0.2296\n",
            "Epoch 230/1200\n",
            "1/1 [==============================] - 0s 30ms/step - loss: 0.0711 - mae: 0.2288\n",
            "Epoch 231/1200\n",
            "1/1 [==============================] - 0s 28ms/step - loss: 0.0706 - mae: 0.2280\n",
            "Epoch 232/1200\n",
            "1/1 [==============================] - 0s 23ms/step - loss: 0.0701 - mae: 0.2273\n",
            "Epoch 233/1200\n",
            "1/1 [==============================] - 0s 41ms/step - loss: 0.0696 - mae: 0.2265\n",
            "Epoch 234/1200\n",
            "1/1 [==============================] - 0s 24ms/step - loss: 0.0692 - mae: 0.2257\n",
            "Epoch 235/1200\n",
            "1/1 [==============================] - 0s 23ms/step - loss: 0.0687 - mae: 0.2250\n",
            "Epoch 236/1200\n",
            "1/1 [==============================] - 0s 23ms/step - loss: 0.0682 - mae: 0.2242\n",
            "Epoch 237/1200\n",
            "1/1 [==============================] - 0s 13ms/step - loss: 0.0678 - mae: 0.2234\n",
            "Epoch 238/1200\n",
            "1/1 [==============================] - 0s 20ms/step - loss: 0.0673 - mae: 0.2227\n",
            "Epoch 239/1200\n",
            "1/1 [==============================] - 0s 18ms/step - loss: 0.0669 - mae: 0.2219\n",
            "Epoch 240/1200\n",
            "1/1 [==============================] - 0s 13ms/step - loss: 0.0664 - mae: 0.2212\n",
            "Epoch 241/1200\n",
            "1/1 [==============================] - 0s 11ms/step - loss: 0.0660 - mae: 0.2204\n",
            "Epoch 242/1200\n",
            "1/1 [==============================] - 0s 23ms/step - loss: 0.0655 - mae: 0.2197\n",
            "Epoch 243/1200\n",
            "1/1 [==============================] - 0s 15ms/step - loss: 0.0651 - mae: 0.2189\n",
            "Epoch 244/1200\n",
            "1/1 [==============================] - 0s 54ms/step - loss: 0.0646 - mae: 0.2182\n",
            "Epoch 245/1200\n",
            "1/1 [==============================] - 0s 38ms/step - loss: 0.0642 - mae: 0.2175\n",
            "Epoch 246/1200\n",
            "1/1 [==============================] - 0s 49ms/step - loss: 0.0638 - mae: 0.2167\n",
            "Epoch 247/1200\n",
            "1/1 [==============================] - 0s 20ms/step - loss: 0.0633 - mae: 0.2160\n",
            "Epoch 248/1200\n",
            "1/1 [==============================] - 0s 16ms/step - loss: 0.0629 - mae: 0.2153\n",
            "Epoch 249/1200\n",
            "1/1 [==============================] - 0s 19ms/step - loss: 0.0625 - mae: 0.2145\n",
            "Epoch 250/1200\n",
            "1/1 [==============================] - 0s 20ms/step - loss: 0.0621 - mae: 0.2138\n",
            "Epoch 251/1200\n",
            "1/1 [==============================] - 0s 36ms/step - loss: 0.0616 - mae: 0.2131\n",
            "Epoch 252/1200\n",
            "1/1 [==============================] - 0s 22ms/step - loss: 0.0612 - mae: 0.2124\n",
            "Epoch 253/1200\n",
            "1/1 [==============================] - 0s 32ms/step - loss: 0.0608 - mae: 0.2117\n",
            "Epoch 254/1200\n",
            "1/1 [==============================] - 0s 46ms/step - loss: 0.0604 - mae: 0.2109\n",
            "Epoch 255/1200\n",
            "1/1 [==============================] - 0s 35ms/step - loss: 0.0600 - mae: 0.2102\n",
            "Epoch 256/1200\n",
            "1/1 [==============================] - 0s 43ms/step - loss: 0.0596 - mae: 0.2095\n",
            "Epoch 257/1200\n",
            "1/1 [==============================] - 0s 32ms/step - loss: 0.0592 - mae: 0.2088\n",
            "Epoch 258/1200\n",
            "1/1 [==============================] - 0s 32ms/step - loss: 0.0588 - mae: 0.2081\n",
            "Epoch 259/1200\n",
            "1/1 [==============================] - 0s 27ms/step - loss: 0.0584 - mae: 0.2074\n",
            "Epoch 260/1200\n",
            "1/1 [==============================] - 0s 33ms/step - loss: 0.0580 - mae: 0.2067\n",
            "Epoch 261/1200\n",
            "1/1 [==============================] - 0s 19ms/step - loss: 0.0576 - mae: 0.2060\n",
            "Epoch 262/1200\n",
            "1/1 [==============================] - 0s 15ms/step - loss: 0.0572 - mae: 0.2053\n",
            "Epoch 263/1200\n",
            "1/1 [==============================] - 0s 17ms/step - loss: 0.0568 - mae: 0.2046\n",
            "Epoch 264/1200\n",
            "1/1 [==============================] - 0s 23ms/step - loss: 0.0564 - mae: 0.2039\n",
            "Epoch 265/1200\n",
            "1/1 [==============================] - 0s 21ms/step - loss: 0.0561 - mae: 0.2032\n",
            "Epoch 266/1200\n",
            "1/1 [==============================] - 0s 30ms/step - loss: 0.0557 - mae: 0.2025\n",
            "Epoch 267/1200\n",
            "1/1 [==============================] - 0s 21ms/step - loss: 0.0553 - mae: 0.2019\n",
            "Epoch 268/1200\n",
            "1/1 [==============================] - 0s 24ms/step - loss: 0.0549 - mae: 0.2012\n",
            "Epoch 269/1200\n",
            "1/1 [==============================] - 0s 21ms/step - loss: 0.0546 - mae: 0.2005\n",
            "Epoch 270/1200\n",
            "1/1 [==============================] - 0s 19ms/step - loss: 0.0542 - mae: 0.1998\n",
            "Epoch 271/1200\n",
            "1/1 [==============================] - 0s 24ms/step - loss: 0.0538 - mae: 0.1991\n",
            "Epoch 272/1200\n",
            "1/1 [==============================] - 0s 18ms/step - loss: 0.0535 - mae: 0.1985\n",
            "Epoch 273/1200\n",
            "1/1 [==============================] - 0s 30ms/step - loss: 0.0531 - mae: 0.1978\n",
            "Epoch 274/1200\n",
            "1/1 [==============================] - 0s 25ms/step - loss: 0.0527 - mae: 0.1971\n",
            "Epoch 275/1200\n",
            "1/1 [==============================] - 0s 10ms/step - loss: 0.0524 - mae: 0.1965\n",
            "Epoch 276/1200\n",
            "1/1 [==============================] - 0s 12ms/step - loss: 0.0520 - mae: 0.1958\n",
            "Epoch 277/1200\n",
            "1/1 [==============================] - 0s 12ms/step - loss: 0.0517 - mae: 0.1951\n",
            "Epoch 278/1200\n",
            "1/1 [==============================] - 0s 17ms/step - loss: 0.0513 - mae: 0.1945\n",
            "Epoch 279/1200\n",
            "1/1 [==============================] - 0s 12ms/step - loss: 0.0510 - mae: 0.1938\n",
            "Epoch 280/1200\n",
            "1/1 [==============================] - 0s 20ms/step - loss: 0.0506 - mae: 0.1932\n",
            "Epoch 281/1200\n",
            "1/1 [==============================] - 0s 17ms/step - loss: 0.0503 - mae: 0.1925\n",
            "Epoch 282/1200\n",
            "1/1 [==============================] - 0s 28ms/step - loss: 0.0500 - mae: 0.1919\n",
            "Epoch 283/1200\n",
            "1/1 [==============================] - 0s 34ms/step - loss: 0.0496 - mae: 0.1912\n",
            "Epoch 284/1200\n",
            "1/1 [==============================] - 0s 21ms/step - loss: 0.0493 - mae: 0.1906\n",
            "Epoch 285/1200\n",
            "1/1 [==============================] - 0s 14ms/step - loss: 0.0490 - mae: 0.1899\n",
            "Epoch 286/1200\n",
            "1/1 [==============================] - 0s 13ms/step - loss: 0.0486 - mae: 0.1893\n",
            "Epoch 287/1200\n",
            "1/1 [==============================] - 0s 14ms/step - loss: 0.0483 - mae: 0.1886\n",
            "Epoch 288/1200\n",
            "1/1 [==============================] - 0s 21ms/step - loss: 0.0480 - mae: 0.1880\n",
            "Epoch 289/1200\n",
            "1/1 [==============================] - 0s 25ms/step - loss: 0.0477 - mae: 0.1874\n",
            "Epoch 290/1200\n",
            "1/1 [==============================] - 0s 12ms/step - loss: 0.0473 - mae: 0.1867\n",
            "Epoch 291/1200\n",
            "1/1 [==============================] - 0s 17ms/step - loss: 0.0470 - mae: 0.1861\n",
            "Epoch 292/1200\n",
            "1/1 [==============================] - 0s 15ms/step - loss: 0.0467 - mae: 0.1855\n",
            "Epoch 293/1200\n",
            "1/1 [==============================] - 0s 15ms/step - loss: 0.0464 - mae: 0.1848\n",
            "Epoch 294/1200\n",
            "1/1 [==============================] - 0s 26ms/step - loss: 0.0461 - mae: 0.1842\n",
            "Epoch 295/1200\n",
            "1/1 [==============================] - 0s 43ms/step - loss: 0.0458 - mae: 0.1836\n",
            "Epoch 296/1200\n",
            "1/1 [==============================] - 0s 39ms/step - loss: 0.0454 - mae: 0.1830\n",
            "Epoch 297/1200\n",
            "1/1 [==============================] - 0s 16ms/step - loss: 0.0451 - mae: 0.1824\n",
            "Epoch 298/1200\n",
            "1/1 [==============================] - 0s 15ms/step - loss: 0.0448 - mae: 0.1817\n",
            "Epoch 299/1200\n",
            "1/1 [==============================] - 0s 14ms/step - loss: 0.0445 - mae: 0.1811\n",
            "Epoch 300/1200\n",
            "1/1 [==============================] - 0s 20ms/step - loss: 0.0442 - mae: 0.1805\n",
            "Epoch 301/1200\n",
            "1/1 [==============================] - 0s 15ms/step - loss: 0.0439 - mae: 0.1799\n",
            "Epoch 302/1200\n",
            "1/1 [==============================] - 0s 19ms/step - loss: 0.0436 - mae: 0.1793\n",
            "Epoch 303/1200\n",
            "1/1 [==============================] - 0s 17ms/step - loss: 0.0433 - mae: 0.1787\n",
            "Epoch 304/1200\n",
            "1/1 [==============================] - 0s 19ms/step - loss: 0.0430 - mae: 0.1781\n",
            "Epoch 305/1200\n",
            "1/1 [==============================] - 0s 17ms/step - loss: 0.0428 - mae: 0.1775\n",
            "Epoch 306/1200\n",
            "1/1 [==============================] - 0s 26ms/step - loss: 0.0425 - mae: 0.1769\n",
            "Epoch 307/1200\n",
            "1/1 [==============================] - 0s 10ms/step - loss: 0.0422 - mae: 0.1763\n",
            "Epoch 308/1200\n",
            "1/1 [==============================] - 0s 10ms/step - loss: 0.0419 - mae: 0.1757\n",
            "Epoch 309/1200\n",
            "1/1 [==============================] - 0s 9ms/step - loss: 0.0416 - mae: 0.1751\n",
            "Epoch 310/1200\n",
            "1/1 [==============================] - 0s 10ms/step - loss: 0.0413 - mae: 0.1745\n",
            "Epoch 311/1200\n",
            "1/1 [==============================] - 0s 13ms/step - loss: 0.0411 - mae: 0.1739\n",
            "Epoch 312/1200\n",
            "1/1 [==============================] - 0s 10ms/step - loss: 0.0408 - mae: 0.1733\n",
            "Epoch 313/1200\n",
            "1/1 [==============================] - 0s 11ms/step - loss: 0.0405 - mae: 0.1727\n",
            "Epoch 314/1200\n",
            "1/1 [==============================] - 0s 11ms/step - loss: 0.0402 - mae: 0.1722\n",
            "Epoch 315/1200\n",
            "1/1 [==============================] - 0s 11ms/step - loss: 0.0400 - mae: 0.1716\n",
            "Epoch 316/1200\n",
            "1/1 [==============================] - 0s 11ms/step - loss: 0.0397 - mae: 0.1710\n",
            "Epoch 317/1200\n",
            "1/1 [==============================] - 0s 10ms/step - loss: 0.0394 - mae: 0.1704\n",
            "Epoch 318/1200\n",
            "1/1 [==============================] - 0s 27ms/step - loss: 0.0392 - mae: 0.1698\n",
            "Epoch 319/1200\n",
            "1/1 [==============================] - 0s 30ms/step - loss: 0.0389 - mae: 0.1693\n",
            "Epoch 320/1200\n",
            "1/1 [==============================] - 0s 36ms/step - loss: 0.0386 - mae: 0.1687\n",
            "Epoch 321/1200\n",
            "1/1 [==============================] - 0s 21ms/step - loss: 0.0384 - mae: 0.1681\n",
            "Epoch 322/1200\n",
            "1/1 [==============================] - 0s 23ms/step - loss: 0.0381 - mae: 0.1676\n",
            "Epoch 323/1200\n",
            "1/1 [==============================] - 0s 11ms/step - loss: 0.0378 - mae: 0.1670\n",
            "Epoch 324/1200\n",
            "1/1 [==============================] - 0s 21ms/step - loss: 0.0376 - mae: 0.1664\n",
            "Epoch 325/1200\n",
            "1/1 [==============================] - 0s 18ms/step - loss: 0.0373 - mae: 0.1659\n",
            "Epoch 326/1200\n",
            "1/1 [==============================] - 0s 12ms/step - loss: 0.0371 - mae: 0.1653\n",
            "Epoch 327/1200\n",
            "1/1 [==============================] - 0s 12ms/step - loss: 0.0368 - mae: 0.1647\n",
            "Epoch 328/1200\n",
            "1/1 [==============================] - 0s 10ms/step - loss: 0.0366 - mae: 0.1642\n",
            "Epoch 329/1200\n",
            "1/1 [==============================] - 0s 13ms/step - loss: 0.0363 - mae: 0.1636\n",
            "Epoch 330/1200\n",
            "1/1 [==============================] - 0s 9ms/step - loss: 0.0361 - mae: 0.1631\n",
            "Epoch 331/1200\n",
            "1/1 [==============================] - 0s 11ms/step - loss: 0.0359 - mae: 0.1625\n",
            "Epoch 332/1200\n",
            "1/1 [==============================] - 0s 19ms/step - loss: 0.0356 - mae: 0.1620\n",
            "Epoch 333/1200\n",
            "1/1 [==============================] - 0s 15ms/step - loss: 0.0354 - mae: 0.1614\n",
            "Epoch 334/1200\n",
            "1/1 [==============================] - 0s 13ms/step - loss: 0.0351 - mae: 0.1609\n",
            "Epoch 335/1200\n",
            "1/1 [==============================] - 0s 43ms/step - loss: 0.0349 - mae: 0.1603\n",
            "Epoch 336/1200\n",
            "1/1 [==============================] - 0s 27ms/step - loss: 0.0347 - mae: 0.1598\n",
            "Epoch 337/1200\n",
            "1/1 [==============================] - 0s 16ms/step - loss: 0.0344 - mae: 0.1593\n",
            "Epoch 338/1200\n",
            "1/1 [==============================] - 0s 19ms/step - loss: 0.0342 - mae: 0.1587\n",
            "Epoch 339/1200\n",
            "1/1 [==============================] - 0s 34ms/step - loss: 0.0340 - mae: 0.1582\n",
            "Epoch 340/1200\n",
            "1/1 [==============================] - 0s 18ms/step - loss: 0.0337 - mae: 0.1576\n",
            "Epoch 341/1200\n",
            "1/1 [==============================] - 0s 19ms/step - loss: 0.0335 - mae: 0.1571\n",
            "Epoch 342/1200\n",
            "1/1 [==============================] - 0s 18ms/step - loss: 0.0333 - mae: 0.1566\n",
            "Epoch 343/1200\n",
            "1/1 [==============================] - 0s 23ms/step - loss: 0.0331 - mae: 0.1560\n",
            "Epoch 344/1200\n",
            "1/1 [==============================] - 0s 10ms/step - loss: 0.0328 - mae: 0.1555\n",
            "Epoch 345/1200\n",
            "1/1 [==============================] - 0s 14ms/step - loss: 0.0326 - mae: 0.1550\n",
            "Epoch 346/1200\n",
            "1/1 [==============================] - 0s 17ms/step - loss: 0.0324 - mae: 0.1545\n",
            "Epoch 347/1200\n",
            "1/1 [==============================] - 0s 19ms/step - loss: 0.0322 - mae: 0.1539\n",
            "Epoch 348/1200\n",
            "1/1 [==============================] - 0s 19ms/step - loss: 0.0320 - mae: 0.1534\n",
            "Epoch 349/1200\n",
            "1/1 [==============================] - 0s 17ms/step - loss: 0.0317 - mae: 0.1529\n",
            "Epoch 350/1200\n",
            "1/1 [==============================] - 0s 16ms/step - loss: 0.0315 - mae: 0.1524\n",
            "Epoch 351/1200\n",
            "1/1 [==============================] - 0s 35ms/step - loss: 0.0313 - mae: 0.1519\n",
            "Epoch 352/1200\n",
            "1/1 [==============================] - 0s 49ms/step - loss: 0.0311 - mae: 0.1514\n",
            "Epoch 353/1200\n",
            "1/1 [==============================] - 0s 23ms/step - loss: 0.0309 - mae: 0.1509\n",
            "Epoch 354/1200\n",
            "1/1 [==============================] - 0s 30ms/step - loss: 0.0307 - mae: 0.1503\n",
            "Epoch 355/1200\n",
            "1/1 [==============================] - 0s 12ms/step - loss: 0.0305 - mae: 0.1498\n",
            "Epoch 356/1200\n",
            "1/1 [==============================] - 0s 16ms/step - loss: 0.0303 - mae: 0.1493\n",
            "Epoch 357/1200\n",
            "1/1 [==============================] - 0s 34ms/step - loss: 0.0301 - mae: 0.1488\n",
            "Epoch 358/1200\n",
            "1/1 [==============================] - 0s 32ms/step - loss: 0.0299 - mae: 0.1483\n",
            "Epoch 359/1200\n",
            "1/1 [==============================] - 0s 19ms/step - loss: 0.0297 - mae: 0.1478\n",
            "Epoch 360/1200\n",
            "1/1 [==============================] - 0s 39ms/step - loss: 0.0295 - mae: 0.1473\n",
            "Epoch 361/1200\n",
            "1/1 [==============================] - 0s 19ms/step - loss: 0.0293 - mae: 0.1468\n",
            "Epoch 362/1200\n",
            "1/1 [==============================] - 0s 19ms/step - loss: 0.0291 - mae: 0.1463\n",
            "Epoch 363/1200\n",
            "1/1 [==============================] - 0s 19ms/step - loss: 0.0289 - mae: 0.1458\n",
            "Epoch 364/1200\n",
            "1/1 [==============================] - 0s 19ms/step - loss: 0.0287 - mae: 0.1453\n",
            "Epoch 365/1200\n",
            "1/1 [==============================] - 0s 30ms/step - loss: 0.0285 - mae: 0.1448\n",
            "Epoch 366/1200\n",
            "1/1 [==============================] - 0s 24ms/step - loss: 0.0283 - mae: 0.1444\n",
            "Epoch 367/1200\n",
            "1/1 [==============================] - 0s 25ms/step - loss: 0.0281 - mae: 0.1439\n",
            "Epoch 368/1200\n",
            "1/1 [==============================] - 0s 17ms/step - loss: 0.0279 - mae: 0.1434\n",
            "Epoch 369/1200\n",
            "1/1 [==============================] - 0s 17ms/step - loss: 0.0277 - mae: 0.1429\n",
            "Epoch 370/1200\n",
            "1/1 [==============================] - 0s 18ms/step - loss: 0.0275 - mae: 0.1424\n",
            "Epoch 371/1200\n",
            "1/1 [==============================] - 0s 19ms/step - loss: 0.0273 - mae: 0.1419\n",
            "Epoch 372/1200\n",
            "1/1 [==============================] - 0s 24ms/step - loss: 0.0272 - mae: 0.1415\n",
            "Epoch 373/1200\n",
            "1/1 [==============================] - 0s 17ms/step - loss: 0.0270 - mae: 0.1410\n",
            "Epoch 374/1200\n",
            "1/1 [==============================] - 0s 16ms/step - loss: 0.0268 - mae: 0.1405\n",
            "Epoch 375/1200\n",
            "1/1 [==============================] - 0s 8ms/step - loss: 0.0266 - mae: 0.1400\n",
            "Epoch 376/1200\n",
            "1/1 [==============================] - 0s 12ms/step - loss: 0.0264 - mae: 0.1395\n",
            "Epoch 377/1200\n",
            "1/1 [==============================] - 0s 22ms/step - loss: 0.0263 - mae: 0.1391\n",
            "Epoch 378/1200\n",
            "1/1 [==============================] - 0s 19ms/step - loss: 0.0261 - mae: 0.1386\n",
            "Epoch 379/1200\n",
            "1/1 [==============================] - 0s 17ms/step - loss: 0.0259 - mae: 0.1381\n",
            "Epoch 380/1200\n",
            "1/1 [==============================] - 0s 10ms/step - loss: 0.0257 - mae: 0.1377\n",
            "Epoch 381/1200\n",
            "1/1 [==============================] - 0s 9ms/step - loss: 0.0256 - mae: 0.1372\n",
            "Epoch 382/1200\n",
            "1/1 [==============================] - 0s 16ms/step - loss: 0.0254 - mae: 0.1367\n",
            "Epoch 383/1200\n",
            "1/1 [==============================] - 0s 13ms/step - loss: 0.0252 - mae: 0.1363\n",
            "Epoch 384/1200\n",
            "1/1 [==============================] - 0s 17ms/step - loss: 0.0250 - mae: 0.1358\n",
            "Epoch 385/1200\n",
            "1/1 [==============================] - 0s 15ms/step - loss: 0.0249 - mae: 0.1354\n",
            "Epoch 386/1200\n",
            "1/1 [==============================] - 0s 16ms/step - loss: 0.0247 - mae: 0.1349\n",
            "Epoch 387/1200\n",
            "1/1 [==============================] - 0s 17ms/step - loss: 0.0245 - mae: 0.1344\n",
            "Epoch 388/1200\n",
            "1/1 [==============================] - 0s 18ms/step - loss: 0.0244 - mae: 0.1340\n",
            "Epoch 389/1200\n",
            "1/1 [==============================] - 0s 13ms/step - loss: 0.0242 - mae: 0.1335\n",
            "Epoch 390/1200\n",
            "1/1 [==============================] - 0s 10ms/step - loss: 0.0240 - mae: 0.1331\n",
            "Epoch 391/1200\n",
            "1/1 [==============================] - 0s 30ms/step - loss: 0.0239 - mae: 0.1326\n",
            "Epoch 392/1200\n",
            "1/1 [==============================] - 0s 11ms/step - loss: 0.0237 - mae: 0.1322\n",
            "Epoch 393/1200\n",
            "1/1 [==============================] - 0s 18ms/step - loss: 0.0236 - mae: 0.1317\n",
            "Epoch 394/1200\n",
            "1/1 [==============================] - 0s 19ms/step - loss: 0.0234 - mae: 0.1313\n",
            "Epoch 395/1200\n",
            "1/1 [==============================] - 0s 27ms/step - loss: 0.0232 - mae: 0.1309\n",
            "Epoch 396/1200\n",
            "1/1 [==============================] - 0s 32ms/step - loss: 0.0231 - mae: 0.1304\n",
            "Epoch 397/1200\n",
            "1/1 [==============================] - 0s 39ms/step - loss: 0.0229 - mae: 0.1300\n",
            "Epoch 398/1200\n",
            "1/1 [==============================] - 0s 35ms/step - loss: 0.0228 - mae: 0.1295\n",
            "Epoch 399/1200\n",
            "1/1 [==============================] - 0s 17ms/step - loss: 0.0226 - mae: 0.1291\n",
            "Epoch 400/1200\n",
            "1/1 [==============================] - 0s 24ms/step - loss: 0.0225 - mae: 0.1287\n",
            "Epoch 401/1200\n",
            "1/1 [==============================] - 0s 18ms/step - loss: 0.0223 - mae: 0.1282\n",
            "Epoch 402/1200\n",
            "1/1 [==============================] - 0s 25ms/step - loss: 0.0222 - mae: 0.1278\n",
            "Epoch 403/1200\n",
            "1/1 [==============================] - 0s 29ms/step - loss: 0.0220 - mae: 0.1274\n",
            "Epoch 404/1200\n",
            "1/1 [==============================] - 0s 35ms/step - loss: 0.0219 - mae: 0.1269\n",
            "Epoch 405/1200\n",
            "1/1 [==============================] - 0s 30ms/step - loss: 0.0217 - mae: 0.1265\n",
            "Epoch 406/1200\n",
            "1/1 [==============================] - 0s 22ms/step - loss: 0.0216 - mae: 0.1261\n",
            "Epoch 407/1200\n",
            "1/1 [==============================] - 0s 18ms/step - loss: 0.0214 - mae: 0.1256\n",
            "Epoch 408/1200\n",
            "1/1 [==============================] - 0s 27ms/step - loss: 0.0213 - mae: 0.1252\n",
            "Epoch 409/1200\n",
            "1/1 [==============================] - 0s 31ms/step - loss: 0.0211 - mae: 0.1248\n",
            "Epoch 410/1200\n",
            "1/1 [==============================] - 0s 30ms/step - loss: 0.0210 - mae: 0.1244\n",
            "Epoch 411/1200\n",
            "1/1 [==============================] - 0s 38ms/step - loss: 0.0209 - mae: 0.1240\n",
            "Epoch 412/1200\n",
            "1/1 [==============================] - 0s 25ms/step - loss: 0.0207 - mae: 0.1235\n",
            "Epoch 413/1200\n",
            "1/1 [==============================] - 0s 19ms/step - loss: 0.0206 - mae: 0.1231\n",
            "Epoch 414/1200\n",
            "1/1 [==============================] - 0s 10ms/step - loss: 0.0204 - mae: 0.1227\n",
            "Epoch 415/1200\n",
            "1/1 [==============================] - 0s 13ms/step - loss: 0.0203 - mae: 0.1223\n",
            "Epoch 416/1200\n",
            "1/1 [==============================] - 0s 13ms/step - loss: 0.0202 - mae: 0.1219\n",
            "Epoch 417/1200\n",
            "1/1 [==============================] - 0s 15ms/step - loss: 0.0200 - mae: 0.1215\n",
            "Epoch 418/1200\n",
            "1/1 [==============================] - 0s 14ms/step - loss: 0.0199 - mae: 0.1210\n",
            "Epoch 419/1200\n",
            "1/1 [==============================] - 0s 18ms/step - loss: 0.0198 - mae: 0.1206\n",
            "Epoch 420/1200\n",
            "1/1 [==============================] - 0s 25ms/step - loss: 0.0196 - mae: 0.1202\n",
            "Epoch 421/1200\n",
            "1/1 [==============================] - 0s 13ms/step - loss: 0.0195 - mae: 0.1198\n",
            "Epoch 422/1200\n",
            "1/1 [==============================] - 0s 22ms/step - loss: 0.0194 - mae: 0.1194\n",
            "Epoch 423/1200\n",
            "1/1 [==============================] - 0s 46ms/step - loss: 0.0192 - mae: 0.1190\n",
            "Epoch 424/1200\n",
            "1/1 [==============================] - 0s 32ms/step - loss: 0.0191 - mae: 0.1186\n",
            "Epoch 425/1200\n",
            "1/1 [==============================] - 0s 46ms/step - loss: 0.0190 - mae: 0.1182\n",
            "Epoch 426/1200\n",
            "1/1 [==============================] - 0s 32ms/step - loss: 0.0188 - mae: 0.1178\n",
            "Epoch 427/1200\n",
            "1/1 [==============================] - 0s 33ms/step - loss: 0.0187 - mae: 0.1174\n",
            "Epoch 428/1200\n",
            "1/1 [==============================] - 0s 28ms/step - loss: 0.0186 - mae: 0.1170\n",
            "Epoch 429/1200\n",
            "1/1 [==============================] - 0s 17ms/step - loss: 0.0185 - mae: 0.1166\n",
            "Epoch 430/1200\n",
            "1/1 [==============================] - 0s 33ms/step - loss: 0.0183 - mae: 0.1162\n",
            "Epoch 431/1200\n",
            "1/1 [==============================] - 0s 17ms/step - loss: 0.0182 - mae: 0.1158\n",
            "Epoch 432/1200\n",
            "1/1 [==============================] - 0s 19ms/step - loss: 0.0181 - mae: 0.1154\n",
            "Epoch 433/1200\n",
            "1/1 [==============================] - 0s 13ms/step - loss: 0.0180 - mae: 0.1151\n",
            "Epoch 434/1200\n",
            "1/1 [==============================] - 0s 12ms/step - loss: 0.0178 - mae: 0.1147\n",
            "Epoch 435/1200\n",
            "1/1 [==============================] - 0s 19ms/step - loss: 0.0177 - mae: 0.1143\n",
            "Epoch 436/1200\n",
            "1/1 [==============================] - 0s 21ms/step - loss: 0.0176 - mae: 0.1139\n",
            "Epoch 437/1200\n",
            "1/1 [==============================] - 0s 25ms/step - loss: 0.0175 - mae: 0.1135\n",
            "Epoch 438/1200\n",
            "1/1 [==============================] - 0s 16ms/step - loss: 0.0174 - mae: 0.1131\n",
            "Epoch 439/1200\n",
            "1/1 [==============================] - 0s 55ms/step - loss: 0.0173 - mae: 0.1127\n",
            "Epoch 440/1200\n",
            "1/1 [==============================] - 0s 28ms/step - loss: 0.0171 - mae: 0.1124\n",
            "Epoch 441/1200\n",
            "1/1 [==============================] - 0s 14ms/step - loss: 0.0170 - mae: 0.1120\n",
            "Epoch 442/1200\n",
            "1/1 [==============================] - 0s 15ms/step - loss: 0.0169 - mae: 0.1116\n",
            "Epoch 443/1200\n",
            "1/1 [==============================] - 0s 18ms/step - loss: 0.0168 - mae: 0.1112\n",
            "Epoch 444/1200\n",
            "1/1 [==============================] - 0s 11ms/step - loss: 0.0167 - mae: 0.1108\n",
            "Epoch 445/1200\n",
            "1/1 [==============================] - 0s 13ms/step - loss: 0.0166 - mae: 0.1105\n",
            "Epoch 446/1200\n",
            "1/1 [==============================] - 0s 19ms/step - loss: 0.0165 - mae: 0.1101\n",
            "Epoch 447/1200\n",
            "1/1 [==============================] - 0s 19ms/step - loss: 0.0163 - mae: 0.1097\n",
            "Epoch 448/1200\n",
            "1/1 [==============================] - 0s 14ms/step - loss: 0.0162 - mae: 0.1094\n",
            "Epoch 449/1200\n",
            "1/1 [==============================] - 0s 18ms/step - loss: 0.0161 - mae: 0.1090\n",
            "Epoch 450/1200\n",
            "1/1 [==============================] - 0s 19ms/step - loss: 0.0160 - mae: 0.1086\n",
            "Epoch 451/1200\n",
            "1/1 [==============================] - 0s 23ms/step - loss: 0.0159 - mae: 0.1082\n",
            "Epoch 452/1200\n",
            "1/1 [==============================] - 0s 21ms/step - loss: 0.0158 - mae: 0.1079\n",
            "Epoch 453/1200\n",
            "1/1 [==============================] - 0s 23ms/step - loss: 0.0157 - mae: 0.1075\n",
            "Epoch 454/1200\n",
            "1/1 [==============================] - 0s 19ms/step - loss: 0.0156 - mae: 0.1072\n",
            "Epoch 455/1200\n",
            "1/1 [==============================] - 0s 22ms/step - loss: 0.0155 - mae: 0.1068\n",
            "Epoch 456/1200\n",
            "1/1 [==============================] - 0s 33ms/step - loss: 0.0154 - mae: 0.1064\n",
            "Epoch 457/1200\n",
            "1/1 [==============================] - 0s 19ms/step - loss: 0.0153 - mae: 0.1061\n",
            "Epoch 458/1200\n",
            "1/1 [==============================] - 0s 17ms/step - loss: 0.0152 - mae: 0.1057\n",
            "Epoch 459/1200\n",
            "1/1 [==============================] - 0s 9ms/step - loss: 0.0151 - mae: 0.1054\n",
            "Epoch 460/1200\n",
            "1/1 [==============================] - 0s 32ms/step - loss: 0.0150 - mae: 0.1050\n",
            "Epoch 461/1200\n",
            "1/1 [==============================] - 0s 16ms/step - loss: 0.0149 - mae: 0.1046\n",
            "Epoch 462/1200\n",
            "1/1 [==============================] - 0s 14ms/step - loss: 0.0148 - mae: 0.1043\n",
            "Epoch 463/1200\n",
            "1/1 [==============================] - 0s 14ms/step - loss: 0.0147 - mae: 0.1039\n",
            "Epoch 464/1200\n",
            "1/1 [==============================] - 0s 14ms/step - loss: 0.0146 - mae: 0.1036\n",
            "Epoch 465/1200\n",
            "1/1 [==============================] - 0s 12ms/step - loss: 0.0145 - mae: 0.1032\n",
            "Epoch 466/1200\n",
            "1/1 [==============================] - 0s 27ms/step - loss: 0.0144 - mae: 0.1029\n",
            "Epoch 467/1200\n",
            "1/1 [==============================] - 0s 13ms/step - loss: 0.0143 - mae: 0.1025\n",
            "Epoch 468/1200\n",
            "1/1 [==============================] - 0s 15ms/step - loss: 0.0142 - mae: 0.1022\n",
            "Epoch 469/1200\n",
            "1/1 [==============================] - 0s 29ms/step - loss: 0.0141 - mae: 0.1018\n",
            "Epoch 470/1200\n",
            "1/1 [==============================] - 0s 24ms/step - loss: 0.0140 - mae: 0.1015\n",
            "Epoch 471/1200\n",
            "1/1 [==============================] - 0s 18ms/step - loss: 0.0139 - mae: 0.1012\n",
            "Epoch 472/1200\n",
            "1/1 [==============================] - 0s 14ms/step - loss: 0.0138 - mae: 0.1008\n",
            "Epoch 473/1200\n",
            "1/1 [==============================] - 0s 32ms/step - loss: 0.0137 - mae: 0.1005\n",
            "Epoch 474/1200\n",
            "1/1 [==============================] - 0s 24ms/step - loss: 0.0136 - mae: 0.1001\n",
            "Epoch 475/1200\n",
            "1/1 [==============================] - 0s 11ms/step - loss: 0.0135 - mae: 0.0998\n",
            "Epoch 476/1200\n",
            "1/1 [==============================] - 0s 26ms/step - loss: 0.0134 - mae: 0.0995\n",
            "Epoch 477/1200\n",
            "1/1 [==============================] - 0s 24ms/step - loss: 0.0133 - mae: 0.0991\n",
            "Epoch 478/1200\n",
            "1/1 [==============================] - 0s 19ms/step - loss: 0.0132 - mae: 0.0988\n",
            "Epoch 479/1200\n",
            "1/1 [==============================] - 0s 18ms/step - loss: 0.0132 - mae: 0.0985\n",
            "Epoch 480/1200\n",
            "1/1 [==============================] - 0s 17ms/step - loss: 0.0131 - mae: 0.0981\n",
            "Epoch 481/1200\n",
            "1/1 [==============================] - 0s 20ms/step - loss: 0.0130 - mae: 0.0978\n",
            "Epoch 482/1200\n",
            "1/1 [==============================] - 0s 28ms/step - loss: 0.0129 - mae: 0.0975\n",
            "Epoch 483/1200\n",
            "1/1 [==============================] - 0s 33ms/step - loss: 0.0128 - mae: 0.0971\n",
            "Epoch 484/1200\n",
            "1/1 [==============================] - 0s 30ms/step - loss: 0.0127 - mae: 0.0968\n",
            "Epoch 485/1200\n",
            "1/1 [==============================] - 0s 21ms/step - loss: 0.0126 - mae: 0.0965\n",
            "Epoch 486/1200\n",
            "1/1 [==============================] - 0s 20ms/step - loss: 0.0125 - mae: 0.0961\n",
            "Epoch 487/1200\n",
            "1/1 [==============================] - 0s 21ms/step - loss: 0.0125 - mae: 0.0958\n",
            "Epoch 488/1200\n",
            "1/1 [==============================] - 0s 16ms/step - loss: 0.0124 - mae: 0.0955\n",
            "Epoch 489/1200\n",
            "1/1 [==============================] - 0s 38ms/step - loss: 0.0123 - mae: 0.0952\n",
            "Epoch 490/1200\n",
            "1/1 [==============================] - 0s 18ms/step - loss: 0.0122 - mae: 0.0949\n",
            "Epoch 491/1200\n",
            "1/1 [==============================] - 0s 21ms/step - loss: 0.0121 - mae: 0.0945\n",
            "Epoch 492/1200\n",
            "1/1 [==============================] - 0s 18ms/step - loss: 0.0120 - mae: 0.0942\n",
            "Epoch 493/1200\n",
            "1/1 [==============================] - 0s 16ms/step - loss: 0.0120 - mae: 0.0939\n",
            "Epoch 494/1200\n",
            "1/1 [==============================] - 0s 49ms/step - loss: 0.0119 - mae: 0.0936\n",
            "Epoch 495/1200\n",
            "1/1 [==============================] - 0s 32ms/step - loss: 0.0118 - mae: 0.0933\n",
            "Epoch 496/1200\n",
            "1/1 [==============================] - 0s 22ms/step - loss: 0.0117 - mae: 0.0929\n",
            "Epoch 497/1200\n",
            "1/1 [==============================] - 0s 13ms/step - loss: 0.0116 - mae: 0.0926\n",
            "Epoch 498/1200\n",
            "1/1 [==============================] - 0s 14ms/step - loss: 0.0116 - mae: 0.0923\n",
            "Epoch 499/1200\n",
            "1/1 [==============================] - 0s 28ms/step - loss: 0.0115 - mae: 0.0920\n",
            "Epoch 500/1200\n",
            "1/1 [==============================] - 0s 20ms/step - loss: 0.0114 - mae: 0.0917\n",
            "Epoch 501/1200\n",
            "1/1 [==============================] - 0s 33ms/step - loss: 0.0113 - mae: 0.0914\n",
            "Epoch 502/1200\n",
            "1/1 [==============================] - 0s 19ms/step - loss: 0.0113 - mae: 0.0911\n",
            "Epoch 503/1200\n",
            "1/1 [==============================] - 0s 13ms/step - loss: 0.0112 - mae: 0.0908\n",
            "Epoch 504/1200\n",
            "1/1 [==============================] - 0s 28ms/step - loss: 0.0111 - mae: 0.0905\n",
            "Epoch 505/1200\n",
            "1/1 [==============================] - 0s 17ms/step - loss: 0.0110 - mae: 0.0902\n",
            "Epoch 506/1200\n",
            "1/1 [==============================] - 0s 18ms/step - loss: 0.0110 - mae: 0.0898\n",
            "Epoch 507/1200\n",
            "1/1 [==============================] - 0s 15ms/step - loss: 0.0109 - mae: 0.0895\n",
            "Epoch 508/1200\n",
            "1/1 [==============================] - 0s 22ms/step - loss: 0.0108 - mae: 0.0892\n",
            "Epoch 509/1200\n",
            "1/1 [==============================] - 0s 18ms/step - loss: 0.0107 - mae: 0.0889\n",
            "Epoch 510/1200\n",
            "1/1 [==============================] - 0s 16ms/step - loss: 0.0107 - mae: 0.0886\n",
            "Epoch 511/1200\n",
            "1/1 [==============================] - 0s 15ms/step - loss: 0.0106 - mae: 0.0883\n",
            "Epoch 512/1200\n",
            "1/1 [==============================] - 0s 13ms/step - loss: 0.0105 - mae: 0.0880\n",
            "Epoch 513/1200\n",
            "1/1 [==============================] - 0s 12ms/step - loss: 0.0105 - mae: 0.0877\n",
            "Epoch 514/1200\n",
            "1/1 [==============================] - 0s 17ms/step - loss: 0.0104 - mae: 0.0874\n",
            "Epoch 515/1200\n",
            "1/1 [==============================] - 0s 13ms/step - loss: 0.0103 - mae: 0.0872\n",
            "Epoch 516/1200\n",
            "1/1 [==============================] - 0s 12ms/step - loss: 0.0102 - mae: 0.0869\n",
            "Epoch 517/1200\n",
            "1/1 [==============================] - 0s 18ms/step - loss: 0.0102 - mae: 0.0866\n",
            "Epoch 518/1200\n",
            "1/1 [==============================] - 0s 19ms/step - loss: 0.0101 - mae: 0.0863\n",
            "Epoch 519/1200\n",
            "1/1 [==============================] - 0s 17ms/step - loss: 0.0100 - mae: 0.0860\n",
            "Epoch 520/1200\n",
            "1/1 [==============================] - 0s 18ms/step - loss: 0.0100 - mae: 0.0857\n",
            "Epoch 521/1200\n",
            "1/1 [==============================] - 0s 14ms/step - loss: 0.0099 - mae: 0.0854\n",
            "Epoch 522/1200\n",
            "1/1 [==============================] - 0s 16ms/step - loss: 0.0098 - mae: 0.0851\n",
            "Epoch 523/1200\n",
            "1/1 [==============================] - 0s 15ms/step - loss: 0.0098 - mae: 0.0848\n",
            "Epoch 524/1200\n",
            "1/1 [==============================] - 0s 26ms/step - loss: 0.0097 - mae: 0.0845\n",
            "Epoch 525/1200\n",
            "1/1 [==============================] - 0s 16ms/step - loss: 0.0096 - mae: 0.0843\n",
            "Epoch 526/1200\n",
            "1/1 [==============================] - 0s 14ms/step - loss: 0.0096 - mae: 0.0840\n",
            "Epoch 527/1200\n",
            "1/1 [==============================] - 0s 35ms/step - loss: 0.0095 - mae: 0.0837\n",
            "Epoch 528/1200\n",
            "1/1 [==============================] - 0s 13ms/step - loss: 0.0094 - mae: 0.0834\n",
            "Epoch 529/1200\n",
            "1/1 [==============================] - 0s 13ms/step - loss: 0.0094 - mae: 0.0831\n",
            "Epoch 530/1200\n",
            "1/1 [==============================] - 0s 16ms/step - loss: 0.0093 - mae: 0.0828\n",
            "Epoch 531/1200\n",
            "1/1 [==============================] - 0s 16ms/step - loss: 0.0093 - mae: 0.0826\n",
            "Epoch 532/1200\n",
            "1/1 [==============================] - 0s 21ms/step - loss: 0.0092 - mae: 0.0823\n",
            "Epoch 533/1200\n",
            "1/1 [==============================] - 0s 38ms/step - loss: 0.0091 - mae: 0.0820\n",
            "Epoch 534/1200\n",
            "1/1 [==============================] - 0s 19ms/step - loss: 0.0091 - mae: 0.0817\n",
            "Epoch 535/1200\n",
            "1/1 [==============================] - 0s 17ms/step - loss: 0.0090 - mae: 0.0814\n",
            "Epoch 536/1200\n",
            "1/1 [==============================] - 0s 34ms/step - loss: 0.0089 - mae: 0.0812\n",
            "Epoch 537/1200\n",
            "1/1 [==============================] - 0s 17ms/step - loss: 0.0089 - mae: 0.0809\n",
            "Epoch 538/1200\n",
            "1/1 [==============================] - 0s 31ms/step - loss: 0.0088 - mae: 0.0806\n",
            "Epoch 539/1200\n",
            "1/1 [==============================] - 0s 21ms/step - loss: 0.0088 - mae: 0.0803\n",
            "Epoch 540/1200\n",
            "1/1 [==============================] - 0s 39ms/step - loss: 0.0087 - mae: 0.0801\n",
            "Epoch 541/1200\n",
            "1/1 [==============================] - 0s 19ms/step - loss: 0.0086 - mae: 0.0798\n",
            "Epoch 542/1200\n",
            "1/1 [==============================] - 0s 13ms/step - loss: 0.0086 - mae: 0.0795\n",
            "Epoch 543/1200\n",
            "1/1 [==============================] - 0s 21ms/step - loss: 0.0085 - mae: 0.0793\n",
            "Epoch 544/1200\n",
            "1/1 [==============================] - 0s 20ms/step - loss: 0.0085 - mae: 0.0790\n",
            "Epoch 545/1200\n",
            "1/1 [==============================] - 0s 17ms/step - loss: 0.0084 - mae: 0.0787\n",
            "Epoch 546/1200\n",
            "1/1 [==============================] - 0s 18ms/step - loss: 0.0084 - mae: 0.0785\n",
            "Epoch 547/1200\n",
            "1/1 [==============================] - 0s 24ms/step - loss: 0.0083 - mae: 0.0782\n",
            "Epoch 548/1200\n",
            "1/1 [==============================] - 0s 29ms/step - loss: 0.0082 - mae: 0.0779\n",
            "Epoch 549/1200\n",
            "1/1 [==============================] - 0s 27ms/step - loss: 0.0082 - mae: 0.0777\n",
            "Epoch 550/1200\n",
            "1/1 [==============================] - 0s 42ms/step - loss: 0.0081 - mae: 0.0774\n",
            "Epoch 551/1200\n",
            "1/1 [==============================] - 0s 15ms/step - loss: 0.0081 - mae: 0.0771\n",
            "Epoch 552/1200\n",
            "1/1 [==============================] - 0s 36ms/step - loss: 0.0080 - mae: 0.0769\n",
            "Epoch 553/1200\n",
            "1/1 [==============================] - 0s 15ms/step - loss: 0.0080 - mae: 0.0766\n",
            "Epoch 554/1200\n",
            "1/1 [==============================] - 0s 16ms/step - loss: 0.0079 - mae: 0.0764\n",
            "Epoch 555/1200\n",
            "1/1 [==============================] - 0s 39ms/step - loss: 0.0079 - mae: 0.0761\n",
            "Epoch 556/1200\n",
            "1/1 [==============================] - 0s 27ms/step - loss: 0.0078 - mae: 0.0759\n",
            "Epoch 557/1200\n",
            "1/1 [==============================] - 0s 35ms/step - loss: 0.0078 - mae: 0.0756\n",
            "Epoch 558/1200\n",
            "1/1 [==============================] - 0s 23ms/step - loss: 0.0077 - mae: 0.0753\n",
            "Epoch 559/1200\n",
            "1/1 [==============================] - 0s 12ms/step - loss: 0.0077 - mae: 0.0751\n",
            "Epoch 560/1200\n",
            "1/1 [==============================] - 0s 13ms/step - loss: 0.0076 - mae: 0.0748\n",
            "Epoch 561/1200\n",
            "1/1 [==============================] - 0s 15ms/step - loss: 0.0075 - mae: 0.0746\n",
            "Epoch 562/1200\n",
            "1/1 [==============================] - 0s 16ms/step - loss: 0.0075 - mae: 0.0743\n",
            "Epoch 563/1200\n",
            "1/1 [==============================] - 0s 17ms/step - loss: 0.0074 - mae: 0.0741\n",
            "Epoch 564/1200\n",
            "1/1 [==============================] - 0s 14ms/step - loss: 0.0074 - mae: 0.0738\n",
            "Epoch 565/1200\n",
            "1/1 [==============================] - 0s 16ms/step - loss: 0.0073 - mae: 0.0736\n",
            "Epoch 566/1200\n",
            "1/1 [==============================] - 0s 32ms/step - loss: 0.0073 - mae: 0.0733\n",
            "Epoch 567/1200\n",
            "1/1 [==============================] - 0s 18ms/step - loss: 0.0072 - mae: 0.0731\n",
            "Epoch 568/1200\n",
            "1/1 [==============================] - 0s 29ms/step - loss: 0.0072 - mae: 0.0728\n",
            "Epoch 569/1200\n",
            "1/1 [==============================] - 0s 23ms/step - loss: 0.0072 - mae: 0.0726\n",
            "Epoch 570/1200\n",
            "1/1 [==============================] - 0s 22ms/step - loss: 0.0071 - mae: 0.0723\n",
            "Epoch 571/1200\n",
            "1/1 [==============================] - 0s 28ms/step - loss: 0.0071 - mae: 0.0721\n",
            "Epoch 572/1200\n",
            "1/1 [==============================] - 0s 25ms/step - loss: 0.0070 - mae: 0.0719\n",
            "Epoch 573/1200\n",
            "1/1 [==============================] - 0s 26ms/step - loss: 0.0070 - mae: 0.0716\n",
            "Epoch 574/1200\n",
            "1/1 [==============================] - 0s 42ms/step - loss: 0.0069 - mae: 0.0714\n",
            "Epoch 575/1200\n",
            "1/1 [==============================] - 0s 33ms/step - loss: 0.0069 - mae: 0.0711\n",
            "Epoch 576/1200\n",
            "1/1 [==============================] - 0s 48ms/step - loss: 0.0068 - mae: 0.0709\n",
            "Epoch 577/1200\n",
            "1/1 [==============================] - 0s 19ms/step - loss: 0.0068 - mae: 0.0706\n",
            "Epoch 578/1200\n",
            "1/1 [==============================] - 0s 23ms/step - loss: 0.0067 - mae: 0.0704\n",
            "Epoch 579/1200\n",
            "1/1 [==============================] - 0s 21ms/step - loss: 0.0067 - mae: 0.0702\n",
            "Epoch 580/1200\n",
            "1/1 [==============================] - 0s 39ms/step - loss: 0.0066 - mae: 0.0699\n",
            "Epoch 581/1200\n",
            "1/1 [==============================] - 0s 38ms/step - loss: 0.0066 - mae: 0.0697\n",
            "Epoch 582/1200\n",
            "1/1 [==============================] - 0s 38ms/step - loss: 0.0065 - mae: 0.0695\n",
            "Epoch 583/1200\n",
            "1/1 [==============================] - 0s 27ms/step - loss: 0.0065 - mae: 0.0692\n",
            "Epoch 584/1200\n",
            "1/1 [==============================] - 0s 20ms/step - loss: 0.0065 - mae: 0.0690\n",
            "Epoch 585/1200\n",
            "1/1 [==============================] - 0s 29ms/step - loss: 0.0064 - mae: 0.0688\n",
            "Epoch 586/1200\n",
            "1/1 [==============================] - 0s 16ms/step - loss: 0.0064 - mae: 0.0685\n",
            "Epoch 587/1200\n",
            "1/1 [==============================] - 0s 16ms/step - loss: 0.0063 - mae: 0.0683\n",
            "Epoch 588/1200\n",
            "1/1 [==============================] - 0s 14ms/step - loss: 0.0063 - mae: 0.0681\n",
            "Epoch 589/1200\n",
            "1/1 [==============================] - 0s 16ms/step - loss: 0.0062 - mae: 0.0678\n",
            "Epoch 590/1200\n",
            "1/1 [==============================] - 0s 33ms/step - loss: 0.0062 - mae: 0.0676\n",
            "Epoch 591/1200\n",
            "1/1 [==============================] - 0s 32ms/step - loss: 0.0062 - mae: 0.0674\n",
            "Epoch 592/1200\n",
            "1/1 [==============================] - 0s 19ms/step - loss: 0.0061 - mae: 0.0671\n",
            "Epoch 593/1200\n",
            "1/1 [==============================] - 0s 14ms/step - loss: 0.0061 - mae: 0.0669\n",
            "Epoch 594/1200\n",
            "1/1 [==============================] - 0s 16ms/step - loss: 0.0060 - mae: 0.0667\n",
            "Epoch 595/1200\n",
            "1/1 [==============================] - 0s 16ms/step - loss: 0.0060 - mae: 0.0665\n",
            "Epoch 596/1200\n",
            "1/1 [==============================] - 0s 20ms/step - loss: 0.0060 - mae: 0.0662\n",
            "Epoch 597/1200\n",
            "1/1 [==============================] - 0s 33ms/step - loss: 0.0059 - mae: 0.0660\n",
            "Epoch 598/1200\n",
            "1/1 [==============================] - 0s 38ms/step - loss: 0.0059 - mae: 0.0658\n",
            "Epoch 599/1200\n",
            "1/1 [==============================] - 0s 16ms/step - loss: 0.0058 - mae: 0.0656\n",
            "Epoch 600/1200\n",
            "1/1 [==============================] - 0s 23ms/step - loss: 0.0058 - mae: 0.0654\n",
            "Epoch 601/1200\n",
            "1/1 [==============================] - 0s 16ms/step - loss: 0.0058 - mae: 0.0651\n",
            "Epoch 602/1200\n",
            "1/1 [==============================] - 0s 50ms/step - loss: 0.0057 - mae: 0.0649\n",
            "Epoch 603/1200\n",
            "1/1 [==============================] - 0s 26ms/step - loss: 0.0057 - mae: 0.0647\n",
            "Epoch 604/1200\n",
            "1/1 [==============================] - 0s 50ms/step - loss: 0.0056 - mae: 0.0645\n",
            "Epoch 605/1200\n",
            "1/1 [==============================] - 0s 28ms/step - loss: 0.0056 - mae: 0.0643\n",
            "Epoch 606/1200\n",
            "1/1 [==============================] - 0s 10ms/step - loss: 0.0056 - mae: 0.0640\n",
            "Epoch 607/1200\n",
            "1/1 [==============================] - 0s 14ms/step - loss: 0.0055 - mae: 0.0638\n",
            "Epoch 608/1200\n",
            "1/1 [==============================] - 0s 16ms/step - loss: 0.0055 - mae: 0.0636\n",
            "Epoch 609/1200\n",
            "1/1 [==============================] - 0s 23ms/step - loss: 0.0055 - mae: 0.0634\n",
            "Epoch 610/1200\n",
            "1/1 [==============================] - 0s 17ms/step - loss: 0.0054 - mae: 0.0632\n",
            "Epoch 611/1200\n",
            "1/1 [==============================] - 0s 16ms/step - loss: 0.0054 - mae: 0.0630\n",
            "Epoch 612/1200\n",
            "1/1 [==============================] - 0s 26ms/step - loss: 0.0053 - mae: 0.0627\n",
            "Epoch 613/1200\n",
            "1/1 [==============================] - 0s 21ms/step - loss: 0.0053 - mae: 0.0625\n",
            "Epoch 614/1200\n",
            "1/1 [==============================] - 0s 30ms/step - loss: 0.0053 - mae: 0.0623\n",
            "Epoch 615/1200\n",
            "1/1 [==============================] - 0s 17ms/step - loss: 0.0052 - mae: 0.0621\n",
            "Epoch 616/1200\n",
            "1/1 [==============================] - 0s 22ms/step - loss: 0.0052 - mae: 0.0619\n",
            "Epoch 617/1200\n",
            "1/1 [==============================] - 0s 53ms/step - loss: 0.0052 - mae: 0.0617\n",
            "Epoch 618/1200\n",
            "1/1 [==============================] - 0s 12ms/step - loss: 0.0051 - mae: 0.0615\n",
            "Epoch 619/1200\n",
            "1/1 [==============================] - 0s 51ms/step - loss: 0.0051 - mae: 0.0613\n",
            "Epoch 620/1200\n",
            "1/1 [==============================] - 0s 33ms/step - loss: 0.0051 - mae: 0.0611\n",
            "Epoch 621/1200\n",
            "1/1 [==============================] - 0s 29ms/step - loss: 0.0050 - mae: 0.0609\n",
            "Epoch 622/1200\n",
            "1/1 [==============================] - 0s 37ms/step - loss: 0.0050 - mae: 0.0607\n",
            "Epoch 623/1200\n",
            "1/1 [==============================] - 0s 28ms/step - loss: 0.0050 - mae: 0.0605\n",
            "Epoch 624/1200\n",
            "1/1 [==============================] - 0s 48ms/step - loss: 0.0049 - mae: 0.0603\n",
            "Epoch 625/1200\n",
            "1/1 [==============================] - 0s 28ms/step - loss: 0.0049 - mae: 0.0600\n",
            "Epoch 626/1200\n",
            "1/1 [==============================] - 0s 24ms/step - loss: 0.0049 - mae: 0.0598\n",
            "Epoch 627/1200\n",
            "1/1 [==============================] - 0s 25ms/step - loss: 0.0048 - mae: 0.0596\n",
            "Epoch 628/1200\n",
            "1/1 [==============================] - 0s 24ms/step - loss: 0.0048 - mae: 0.0594\n",
            "Epoch 629/1200\n",
            "1/1 [==============================] - 0s 27ms/step - loss: 0.0048 - mae: 0.0592\n",
            "Epoch 630/1200\n",
            "1/1 [==============================] - 0s 18ms/step - loss: 0.0047 - mae: 0.0590\n",
            "Epoch 631/1200\n",
            "1/1 [==============================] - 0s 18ms/step - loss: 0.0047 - mae: 0.0588\n",
            "Epoch 632/1200\n",
            "1/1 [==============================] - 0s 16ms/step - loss: 0.0047 - mae: 0.0586\n",
            "Epoch 633/1200\n",
            "1/1 [==============================] - 0s 17ms/step - loss: 0.0046 - mae: 0.0584\n",
            "Epoch 634/1200\n",
            "1/1 [==============================] - 0s 14ms/step - loss: 0.0046 - mae: 0.0582\n",
            "Epoch 635/1200\n",
            "1/1 [==============================] - 0s 18ms/step - loss: 0.0046 - mae: 0.0580\n",
            "Epoch 636/1200\n",
            "1/1 [==============================] - 0s 17ms/step - loss: 0.0045 - mae: 0.0579\n",
            "Epoch 637/1200\n",
            "1/1 [==============================] - 0s 19ms/step - loss: 0.0045 - mae: 0.0577\n",
            "Epoch 638/1200\n",
            "1/1 [==============================] - 0s 10ms/step - loss: 0.0045 - mae: 0.0575\n",
            "Epoch 639/1200\n",
            "1/1 [==============================] - 0s 14ms/step - loss: 0.0045 - mae: 0.0573\n",
            "Epoch 640/1200\n",
            "1/1 [==============================] - 0s 12ms/step - loss: 0.0044 - mae: 0.0571\n",
            "Epoch 641/1200\n",
            "1/1 [==============================] - 0s 14ms/step - loss: 0.0044 - mae: 0.0569\n",
            "Epoch 642/1200\n",
            "1/1 [==============================] - 0s 12ms/step - loss: 0.0044 - mae: 0.0567\n",
            "Epoch 643/1200\n",
            "1/1 [==============================] - 0s 15ms/step - loss: 0.0043 - mae: 0.0565\n",
            "Epoch 644/1200\n",
            "1/1 [==============================] - 0s 14ms/step - loss: 0.0043 - mae: 0.0563\n",
            "Epoch 645/1200\n",
            "1/1 [==============================] - 0s 18ms/step - loss: 0.0043 - mae: 0.0561\n",
            "Epoch 646/1200\n",
            "1/1 [==============================] - 0s 11ms/step - loss: 0.0042 - mae: 0.0559\n",
            "Epoch 647/1200\n",
            "1/1 [==============================] - 0s 25ms/step - loss: 0.0042 - mae: 0.0557\n",
            "Epoch 648/1200\n",
            "1/1 [==============================] - 0s 15ms/step - loss: 0.0042 - mae: 0.0555\n",
            "Epoch 649/1200\n",
            "1/1 [==============================] - 0s 15ms/step - loss: 0.0042 - mae: 0.0554\n",
            "Epoch 650/1200\n",
            "1/1 [==============================] - 0s 17ms/step - loss: 0.0041 - mae: 0.0552\n",
            "Epoch 651/1200\n",
            "1/1 [==============================] - 0s 17ms/step - loss: 0.0041 - mae: 0.0550\n",
            "Epoch 652/1200\n",
            "1/1 [==============================] - 0s 17ms/step - loss: 0.0041 - mae: 0.0548\n",
            "Epoch 653/1200\n",
            "1/1 [==============================] - 0s 28ms/step - loss: 0.0040 - mae: 0.0546\n",
            "Epoch 654/1200\n",
            "1/1 [==============================] - 0s 23ms/step - loss: 0.0040 - mae: 0.0544\n",
            "Epoch 655/1200\n",
            "1/1 [==============================] - 0s 24ms/step - loss: 0.0040 - mae: 0.0542\n",
            "Epoch 656/1200\n",
            "1/1 [==============================] - 0s 17ms/step - loss: 0.0040 - mae: 0.0541\n",
            "Epoch 657/1200\n",
            "1/1 [==============================] - 0s 21ms/step - loss: 0.0039 - mae: 0.0539\n",
            "Epoch 658/1200\n",
            "1/1 [==============================] - 0s 10ms/step - loss: 0.0039 - mae: 0.0537\n",
            "Epoch 659/1200\n",
            "1/1 [==============================] - 0s 9ms/step - loss: 0.0039 - mae: 0.0535\n",
            "Epoch 660/1200\n",
            "1/1 [==============================] - 0s 9ms/step - loss: 0.0039 - mae: 0.0533\n",
            "Epoch 661/1200\n",
            "1/1 [==============================] - 0s 9ms/step - loss: 0.0038 - mae: 0.0532\n",
            "Epoch 662/1200\n",
            "1/1 [==============================] - 0s 26ms/step - loss: 0.0038 - mae: 0.0530\n",
            "Epoch 663/1200\n",
            "1/1 [==============================] - 0s 23ms/step - loss: 0.0038 - mae: 0.0528\n",
            "Epoch 664/1200\n",
            "1/1 [==============================] - 0s 29ms/step - loss: 0.0038 - mae: 0.0526\n",
            "Epoch 665/1200\n",
            "1/1 [==============================] - 0s 17ms/step - loss: 0.0037 - mae: 0.0524\n",
            "Epoch 666/1200\n",
            "1/1 [==============================] - 0s 17ms/step - loss: 0.0037 - mae: 0.0523\n",
            "Epoch 667/1200\n",
            "1/1 [==============================] - 0s 33ms/step - loss: 0.0037 - mae: 0.0521\n",
            "Epoch 668/1200\n",
            "1/1 [==============================] - 0s 15ms/step - loss: 0.0037 - mae: 0.0519\n",
            "Epoch 669/1200\n",
            "1/1 [==============================] - 0s 14ms/step - loss: 0.0036 - mae: 0.0517\n",
            "Epoch 670/1200\n",
            "1/1 [==============================] - 0s 14ms/step - loss: 0.0036 - mae: 0.0516\n",
            "Epoch 671/1200\n",
            "1/1 [==============================] - 0s 12ms/step - loss: 0.0036 - mae: 0.0514\n",
            "Epoch 672/1200\n",
            "1/1 [==============================] - 0s 9ms/step - loss: 0.0036 - mae: 0.0512\n",
            "Epoch 673/1200\n",
            "1/1 [==============================] - 0s 17ms/step - loss: 0.0035 - mae: 0.0510\n",
            "Epoch 674/1200\n",
            "1/1 [==============================] - 0s 13ms/step - loss: 0.0035 - mae: 0.0509\n",
            "Epoch 675/1200\n",
            "1/1 [==============================] - 0s 14ms/step - loss: 0.0035 - mae: 0.0507\n",
            "Epoch 676/1200\n",
            "1/1 [==============================] - 0s 19ms/step - loss: 0.0035 - mae: 0.0505\n",
            "Epoch 677/1200\n",
            "1/1 [==============================] - 0s 17ms/step - loss: 0.0034 - mae: 0.0504\n",
            "Epoch 678/1200\n",
            "1/1 [==============================] - 0s 15ms/step - loss: 0.0034 - mae: 0.0502\n",
            "Epoch 679/1200\n",
            "1/1 [==============================] - 0s 14ms/step - loss: 0.0034 - mae: 0.0500\n",
            "Epoch 680/1200\n",
            "1/1 [==============================] - 0s 17ms/step - loss: 0.0034 - mae: 0.0498\n",
            "Epoch 681/1200\n",
            "1/1 [==============================] - 0s 18ms/step - loss: 0.0033 - mae: 0.0497\n",
            "Epoch 682/1200\n",
            "1/1 [==============================] - 0s 17ms/step - loss: 0.0033 - mae: 0.0495\n",
            "Epoch 683/1200\n",
            "1/1 [==============================] - 0s 17ms/step - loss: 0.0033 - mae: 0.0493\n",
            "Epoch 684/1200\n",
            "1/1 [==============================] - 0s 18ms/step - loss: 0.0033 - mae: 0.0492\n",
            "Epoch 685/1200\n",
            "1/1 [==============================] - 0s 15ms/step - loss: 0.0033 - mae: 0.0490\n",
            "Epoch 686/1200\n",
            "1/1 [==============================] - 0s 15ms/step - loss: 0.0032 - mae: 0.0488\n",
            "Epoch 687/1200\n",
            "1/1 [==============================] - 0s 16ms/step - loss: 0.0032 - mae: 0.0487\n",
            "Epoch 688/1200\n",
            "1/1 [==============================] - 0s 16ms/step - loss: 0.0032 - mae: 0.0485\n",
            "Epoch 689/1200\n",
            "1/1 [==============================] - 0s 13ms/step - loss: 0.0032 - mae: 0.0483\n",
            "Epoch 690/1200\n",
            "1/1 [==============================] - 0s 14ms/step - loss: 0.0032 - mae: 0.0482\n",
            "Epoch 691/1200\n",
            "1/1 [==============================] - 0s 15ms/step - loss: 0.0031 - mae: 0.0480\n",
            "Epoch 692/1200\n",
            "1/1 [==============================] - 0s 16ms/step - loss: 0.0031 - mae: 0.0479\n",
            "Epoch 693/1200\n",
            "1/1 [==============================] - 0s 16ms/step - loss: 0.0031 - mae: 0.0477\n",
            "Epoch 694/1200\n",
            "1/1 [==============================] - 0s 15ms/step - loss: 0.0031 - mae: 0.0475\n",
            "Epoch 695/1200\n",
            "1/1 [==============================] - 0s 24ms/step - loss: 0.0030 - mae: 0.0474\n",
            "Epoch 696/1200\n",
            "1/1 [==============================] - 0s 19ms/step - loss: 0.0030 - mae: 0.0472\n",
            "Epoch 697/1200\n",
            "1/1 [==============================] - 0s 14ms/step - loss: 0.0030 - mae: 0.0471\n",
            "Epoch 698/1200\n",
            "1/1 [==============================] - 0s 13ms/step - loss: 0.0030 - mae: 0.0469\n",
            "Epoch 699/1200\n",
            "1/1 [==============================] - 0s 14ms/step - loss: 0.0030 - mae: 0.0467\n",
            "Epoch 700/1200\n",
            "1/1 [==============================] - 0s 16ms/step - loss: 0.0029 - mae: 0.0466\n",
            "Epoch 701/1200\n",
            "1/1 [==============================] - 0s 11ms/step - loss: 0.0029 - mae: 0.0464\n",
            "Epoch 702/1200\n",
            "1/1 [==============================] - 0s 9ms/step - loss: 0.0029 - mae: 0.0463\n",
            "Epoch 703/1200\n",
            "1/1 [==============================] - 0s 10ms/step - loss: 0.0029 - mae: 0.0461\n",
            "Epoch 704/1200\n",
            "1/1 [==============================] - 0s 10ms/step - loss: 0.0029 - mae: 0.0460\n",
            "Epoch 705/1200\n",
            "1/1 [==============================] - 0s 19ms/step - loss: 0.0028 - mae: 0.0458\n",
            "Epoch 706/1200\n",
            "1/1 [==============================] - 0s 40ms/step - loss: 0.0028 - mae: 0.0456\n",
            "Epoch 707/1200\n",
            "1/1 [==============================] - 0s 24ms/step - loss: 0.0028 - mae: 0.0455\n",
            "Epoch 708/1200\n",
            "1/1 [==============================] - 0s 52ms/step - loss: 0.0028 - mae: 0.0453\n",
            "Epoch 709/1200\n",
            "1/1 [==============================] - 0s 26ms/step - loss: 0.0028 - mae: 0.0452\n",
            "Epoch 710/1200\n",
            "1/1 [==============================] - 0s 22ms/step - loss: 0.0028 - mae: 0.0450\n",
            "Epoch 711/1200\n",
            "1/1 [==============================] - 0s 20ms/step - loss: 0.0027 - mae: 0.0449\n",
            "Epoch 712/1200\n",
            "1/1 [==============================] - 0s 21ms/step - loss: 0.0027 - mae: 0.0447\n",
            "Epoch 713/1200\n",
            "1/1 [==============================] - 0s 34ms/step - loss: 0.0027 - mae: 0.0446\n",
            "Epoch 714/1200\n",
            "1/1 [==============================] - 0s 24ms/step - loss: 0.0027 - mae: 0.0444\n",
            "Epoch 715/1200\n",
            "1/1 [==============================] - 0s 29ms/step - loss: 0.0027 - mae: 0.0443\n",
            "Epoch 716/1200\n",
            "1/1 [==============================] - 0s 27ms/step - loss: 0.0026 - mae: 0.0441\n",
            "Epoch 717/1200\n",
            "1/1 [==============================] - 0s 22ms/step - loss: 0.0026 - mae: 0.0440\n",
            "Epoch 718/1200\n",
            "1/1 [==============================] - 0s 46ms/step - loss: 0.0026 - mae: 0.0438\n",
            "Epoch 719/1200\n",
            "1/1 [==============================] - 0s 20ms/step - loss: 0.0026 - mae: 0.0437\n",
            "Epoch 720/1200\n",
            "1/1 [==============================] - 0s 33ms/step - loss: 0.0026 - mae: 0.0435\n",
            "Epoch 721/1200\n",
            "1/1 [==============================] - 0s 23ms/step - loss: 0.0026 - mae: 0.0434\n",
            "Epoch 722/1200\n",
            "1/1 [==============================] - 0s 28ms/step - loss: 0.0025 - mae: 0.0432\n",
            "Epoch 723/1200\n",
            "1/1 [==============================] - 0s 25ms/step - loss: 0.0025 - mae: 0.0431\n",
            "Epoch 724/1200\n",
            "1/1 [==============================] - 0s 21ms/step - loss: 0.0025 - mae: 0.0429\n",
            "Epoch 725/1200\n",
            "1/1 [==============================] - 0s 35ms/step - loss: 0.0025 - mae: 0.0428\n",
            "Epoch 726/1200\n",
            "1/1 [==============================] - 0s 12ms/step - loss: 0.0025 - mae: 0.0427\n",
            "Epoch 727/1200\n",
            "1/1 [==============================] - 0s 33ms/step - loss: 0.0025 - mae: 0.0425\n",
            "Epoch 728/1200\n",
            "1/1 [==============================] - 0s 17ms/step - loss: 0.0024 - mae: 0.0424\n",
            "Epoch 729/1200\n",
            "1/1 [==============================] - 0s 13ms/step - loss: 0.0024 - mae: 0.0422\n",
            "Epoch 730/1200\n",
            "1/1 [==============================] - 0s 9ms/step - loss: 0.0024 - mae: 0.0421\n",
            "Epoch 731/1200\n",
            "1/1 [==============================] - 0s 14ms/step - loss: 0.0024 - mae: 0.0419\n",
            "Epoch 732/1200\n",
            "1/1 [==============================] - 0s 13ms/step - loss: 0.0024 - mae: 0.0418\n",
            "Epoch 733/1200\n",
            "1/1 [==============================] - 0s 18ms/step - loss: 0.0024 - mae: 0.0417\n",
            "Epoch 734/1200\n",
            "1/1 [==============================] - 0s 19ms/step - loss: 0.0023 - mae: 0.0415\n",
            "Epoch 735/1200\n",
            "1/1 [==============================] - 0s 14ms/step - loss: 0.0023 - mae: 0.0414\n",
            "Epoch 736/1200\n",
            "1/1 [==============================] - 0s 12ms/step - loss: 0.0023 - mae: 0.0412\n",
            "Epoch 737/1200\n",
            "1/1 [==============================] - 0s 22ms/step - loss: 0.0023 - mae: 0.0411\n",
            "Epoch 738/1200\n",
            "1/1 [==============================] - 0s 22ms/step - loss: 0.0023 - mae: 0.0410\n",
            "Epoch 739/1200\n",
            "1/1 [==============================] - 0s 23ms/step - loss: 0.0023 - mae: 0.0408\n",
            "Epoch 740/1200\n",
            "1/1 [==============================] - 0s 23ms/step - loss: 0.0022 - mae: 0.0407\n",
            "Epoch 741/1200\n",
            "1/1 [==============================] - 0s 19ms/step - loss: 0.0022 - mae: 0.0405\n",
            "Epoch 742/1200\n",
            "1/1 [==============================] - 0s 15ms/step - loss: 0.0022 - mae: 0.0404\n",
            "Epoch 743/1200\n",
            "1/1 [==============================] - 0s 15ms/step - loss: 0.0022 - mae: 0.0403\n",
            "Epoch 744/1200\n",
            "1/1 [==============================] - 0s 18ms/step - loss: 0.0022 - mae: 0.0401\n",
            "Epoch 745/1200\n",
            "1/1 [==============================] - 0s 18ms/step - loss: 0.0022 - mae: 0.0400\n",
            "Epoch 746/1200\n",
            "1/1 [==============================] - 0s 11ms/step - loss: 0.0022 - mae: 0.0399\n",
            "Epoch 747/1200\n",
            "1/1 [==============================] - 0s 15ms/step - loss: 0.0021 - mae: 0.0397\n",
            "Epoch 748/1200\n",
            "1/1 [==============================] - 0s 12ms/step - loss: 0.0021 - mae: 0.0396\n",
            "Epoch 749/1200\n",
            "1/1 [==============================] - 0s 17ms/step - loss: 0.0021 - mae: 0.0395\n",
            "Epoch 750/1200\n",
            "1/1 [==============================] - 0s 14ms/step - loss: 0.0021 - mae: 0.0393\n",
            "Epoch 751/1200\n",
            "1/1 [==============================] - 0s 20ms/step - loss: 0.0021 - mae: 0.0392\n",
            "Epoch 752/1200\n",
            "1/1 [==============================] - 0s 42ms/step - loss: 0.0021 - mae: 0.0391\n",
            "Epoch 753/1200\n",
            "1/1 [==============================] - 0s 29ms/step - loss: 0.0021 - mae: 0.0389\n",
            "Epoch 754/1200\n",
            "1/1 [==============================] - 0s 28ms/step - loss: 0.0020 - mae: 0.0388\n",
            "Epoch 755/1200\n",
            "1/1 [==============================] - 0s 15ms/step - loss: 0.0020 - mae: 0.0387\n",
            "Epoch 756/1200\n",
            "1/1 [==============================] - 0s 50ms/step - loss: 0.0020 - mae: 0.0385\n",
            "Epoch 757/1200\n",
            "1/1 [==============================] - 0s 17ms/step - loss: 0.0020 - mae: 0.0384\n",
            "Epoch 758/1200\n",
            "1/1 [==============================] - 0s 16ms/step - loss: 0.0020 - mae: 0.0383\n",
            "Epoch 759/1200\n",
            "1/1 [==============================] - 0s 9ms/step - loss: 0.0020 - mae: 0.0381\n",
            "Epoch 760/1200\n",
            "1/1 [==============================] - 0s 10ms/step - loss: 0.0020 - mae: 0.0380\n",
            "Epoch 761/1200\n",
            "1/1 [==============================] - 0s 10ms/step - loss: 0.0019 - mae: 0.0379\n",
            "Epoch 762/1200\n",
            "1/1 [==============================] - 0s 10ms/step - loss: 0.0019 - mae: 0.0378\n",
            "Epoch 763/1200\n",
            "1/1 [==============================] - 0s 12ms/step - loss: 0.0019 - mae: 0.0376\n",
            "Epoch 764/1200\n",
            "1/1 [==============================] - 0s 16ms/step - loss: 0.0019 - mae: 0.0375\n",
            "Epoch 765/1200\n",
            "1/1 [==============================] - 0s 20ms/step - loss: 0.0019 - mae: 0.0374\n",
            "Epoch 766/1200\n",
            "1/1 [==============================] - 0s 21ms/step - loss: 0.0019 - mae: 0.0372\n",
            "Epoch 767/1200\n",
            "1/1 [==============================] - 0s 22ms/step - loss: 0.0019 - mae: 0.0371\n",
            "Epoch 768/1200\n",
            "1/1 [==============================] - 0s 24ms/step - loss: 0.0019 - mae: 0.0370\n",
            "Epoch 769/1200\n",
            "1/1 [==============================] - 0s 10ms/step - loss: 0.0018 - mae: 0.0369\n",
            "Epoch 770/1200\n",
            "1/1 [==============================] - 0s 9ms/step - loss: 0.0018 - mae: 0.0367\n",
            "Epoch 771/1200\n",
            "1/1 [==============================] - 0s 10ms/step - loss: 0.0018 - mae: 0.0366\n",
            "Epoch 772/1200\n",
            "1/1 [==============================] - 0s 13ms/step - loss: 0.0018 - mae: 0.0365\n",
            "Epoch 773/1200\n",
            "1/1 [==============================] - 0s 24ms/step - loss: 0.0018 - mae: 0.0364\n",
            "Epoch 774/1200\n",
            "1/1 [==============================] - 0s 14ms/step - loss: 0.0018 - mae: 0.0363\n",
            "Epoch 775/1200\n",
            "1/1 [==============================] - 0s 22ms/step - loss: 0.0018 - mae: 0.0361\n",
            "Epoch 776/1200\n",
            "1/1 [==============================] - 0s 20ms/step - loss: 0.0018 - mae: 0.0360\n",
            "Epoch 777/1200\n",
            "1/1 [==============================] - 0s 15ms/step - loss: 0.0017 - mae: 0.0359\n",
            "Epoch 778/1200\n",
            "1/1 [==============================] - 0s 12ms/step - loss: 0.0017 - mae: 0.0358\n",
            "Epoch 779/1200\n",
            "1/1 [==============================] - 0s 18ms/step - loss: 0.0017 - mae: 0.0356\n",
            "Epoch 780/1200\n",
            "1/1 [==============================] - 0s 20ms/step - loss: 0.0017 - mae: 0.0355\n",
            "Epoch 781/1200\n",
            "1/1 [==============================] - 0s 23ms/step - loss: 0.0017 - mae: 0.0354\n",
            "Epoch 782/1200\n",
            "1/1 [==============================] - 0s 18ms/step - loss: 0.0017 - mae: 0.0353\n",
            "Epoch 783/1200\n",
            "1/1 [==============================] - 0s 15ms/step - loss: 0.0017 - mae: 0.0352\n",
            "Epoch 784/1200\n",
            "1/1 [==============================] - 0s 17ms/step - loss: 0.0017 - mae: 0.0350\n",
            "Epoch 785/1200\n",
            "1/1 [==============================] - 0s 19ms/step - loss: 0.0017 - mae: 0.0349\n",
            "Epoch 786/1200\n",
            "1/1 [==============================] - 0s 17ms/step - loss: 0.0016 - mae: 0.0348\n",
            "Epoch 787/1200\n",
            "1/1 [==============================] - 0s 21ms/step - loss: 0.0016 - mae: 0.0347\n",
            "Epoch 788/1200\n",
            "1/1 [==============================] - 0s 13ms/step - loss: 0.0016 - mae: 0.0346\n",
            "Epoch 789/1200\n",
            "1/1 [==============================] - 0s 11ms/step - loss: 0.0016 - mae: 0.0345\n",
            "Epoch 790/1200\n",
            "1/1 [==============================] - 0s 16ms/step - loss: 0.0016 - mae: 0.0343\n",
            "Epoch 791/1200\n",
            "1/1 [==============================] - 0s 15ms/step - loss: 0.0016 - mae: 0.0342\n",
            "Epoch 792/1200\n",
            "1/1 [==============================] - 0s 9ms/step - loss: 0.0016 - mae: 0.0341\n",
            "Epoch 793/1200\n",
            "1/1 [==============================] - 0s 14ms/step - loss: 0.0016 - mae: 0.0340\n",
            "Epoch 794/1200\n",
            "1/1 [==============================] - 0s 30ms/step - loss: 0.0016 - mae: 0.0339\n",
            "Epoch 795/1200\n",
            "1/1 [==============================] - 0s 13ms/step - loss: 0.0015 - mae: 0.0338\n",
            "Epoch 796/1200\n",
            "1/1 [==============================] - 0s 8ms/step - loss: 0.0015 - mae: 0.0336\n",
            "Epoch 797/1200\n",
            "1/1 [==============================] - 0s 12ms/step - loss: 0.0015 - mae: 0.0335\n",
            "Epoch 798/1200\n",
            "1/1 [==============================] - 0s 17ms/step - loss: 0.0015 - mae: 0.0334\n",
            "Epoch 799/1200\n",
            "1/1 [==============================] - 0s 20ms/step - loss: 0.0015 - mae: 0.0333\n",
            "Epoch 800/1200\n",
            "1/1 [==============================] - 0s 19ms/step - loss: 0.0015 - mae: 0.0332\n",
            "Epoch 801/1200\n",
            "1/1 [==============================] - 0s 13ms/step - loss: 0.0015 - mae: 0.0331\n",
            "Epoch 802/1200\n",
            "1/1 [==============================] - 0s 17ms/step - loss: 0.0015 - mae: 0.0330\n",
            "Epoch 803/1200\n",
            "1/1 [==============================] - 0s 23ms/step - loss: 0.0015 - mae: 0.0329\n",
            "Epoch 804/1200\n",
            "1/1 [==============================] - 0s 15ms/step - loss: 0.0015 - mae: 0.0328\n",
            "Epoch 805/1200\n",
            "1/1 [==============================] - 0s 16ms/step - loss: 0.0014 - mae: 0.0326\n",
            "Epoch 806/1200\n",
            "1/1 [==============================] - 0s 10ms/step - loss: 0.0014 - mae: 0.0325\n",
            "Epoch 807/1200\n",
            "1/1 [==============================] - 0s 18ms/step - loss: 0.0014 - mae: 0.0324\n",
            "Epoch 808/1200\n",
            "1/1 [==============================] - 0s 17ms/step - loss: 0.0014 - mae: 0.0323\n",
            "Epoch 809/1200\n",
            "1/1 [==============================] - 0s 14ms/step - loss: 0.0014 - mae: 0.0322\n",
            "Epoch 810/1200\n",
            "1/1 [==============================] - 0s 22ms/step - loss: 0.0014 - mae: 0.0321\n",
            "Epoch 811/1200\n",
            "1/1 [==============================] - 0s 21ms/step - loss: 0.0014 - mae: 0.0320\n",
            "Epoch 812/1200\n",
            "1/1 [==============================] - 0s 14ms/step - loss: 0.0014 - mae: 0.0319\n",
            "Epoch 813/1200\n",
            "1/1 [==============================] - 0s 14ms/step - loss: 0.0014 - mae: 0.0318\n",
            "Epoch 814/1200\n",
            "1/1 [==============================] - 0s 24ms/step - loss: 0.0014 - mae: 0.0317\n",
            "Epoch 815/1200\n",
            "1/1 [==============================] - 0s 12ms/step - loss: 0.0014 - mae: 0.0316\n",
            "Epoch 816/1200\n",
            "1/1 [==============================] - 0s 23ms/step - loss: 0.0013 - mae: 0.0314\n",
            "Epoch 817/1200\n",
            "1/1 [==============================] - 0s 21ms/step - loss: 0.0013 - mae: 0.0313\n",
            "Epoch 818/1200\n",
            "1/1 [==============================] - 0s 12ms/step - loss: 0.0013 - mae: 0.0312\n",
            "Epoch 819/1200\n",
            "1/1 [==============================] - 0s 18ms/step - loss: 0.0013 - mae: 0.0311\n",
            "Epoch 820/1200\n",
            "1/1 [==============================] - 0s 17ms/step - loss: 0.0013 - mae: 0.0310\n",
            "Epoch 821/1200\n",
            "1/1 [==============================] - 0s 19ms/step - loss: 0.0013 - mae: 0.0309\n",
            "Epoch 822/1200\n",
            "1/1 [==============================] - 0s 14ms/step - loss: 0.0013 - mae: 0.0308\n",
            "Epoch 823/1200\n",
            "1/1 [==============================] - 0s 22ms/step - loss: 0.0013 - mae: 0.0307\n",
            "Epoch 824/1200\n",
            "1/1 [==============================] - 0s 12ms/step - loss: 0.0013 - mae: 0.0306\n",
            "Epoch 825/1200\n",
            "1/1 [==============================] - 0s 12ms/step - loss: 0.0013 - mae: 0.0305\n",
            "Epoch 826/1200\n",
            "1/1 [==============================] - 0s 15ms/step - loss: 0.0013 - mae: 0.0304\n",
            "Epoch 827/1200\n",
            "1/1 [==============================] - 0s 12ms/step - loss: 0.0012 - mae: 0.0303\n",
            "Epoch 828/1200\n",
            "1/1 [==============================] - 0s 21ms/step - loss: 0.0012 - mae: 0.0302\n",
            "Epoch 829/1200\n",
            "1/1 [==============================] - 0s 18ms/step - loss: 0.0012 - mae: 0.0301\n",
            "Epoch 830/1200\n",
            "1/1 [==============================] - 0s 19ms/step - loss: 0.0012 - mae: 0.0300\n",
            "Epoch 831/1200\n",
            "1/1 [==============================] - 0s 29ms/step - loss: 0.0012 - mae: 0.0299\n",
            "Epoch 832/1200\n",
            "1/1 [==============================] - 0s 26ms/step - loss: 0.0012 - mae: 0.0298\n",
            "Epoch 833/1200\n",
            "1/1 [==============================] - 0s 23ms/step - loss: 0.0012 - mae: 0.0297\n",
            "Epoch 834/1200\n",
            "1/1 [==============================] - 0s 20ms/step - loss: 0.0012 - mae: 0.0296\n",
            "Epoch 835/1200\n",
            "1/1 [==============================] - 0s 12ms/step - loss: 0.0012 - mae: 0.0295\n",
            "Epoch 836/1200\n",
            "1/1 [==============================] - 0s 29ms/step - loss: 0.0012 - mae: 0.0294\n",
            "Epoch 837/1200\n",
            "1/1 [==============================] - 0s 28ms/step - loss: 0.0012 - mae: 0.0293\n",
            "Epoch 838/1200\n",
            "1/1 [==============================] - 0s 25ms/step - loss: 0.0012 - mae: 0.0292\n",
            "Epoch 839/1200\n",
            "1/1 [==============================] - 0s 14ms/step - loss: 0.0011 - mae: 0.0291\n",
            "Epoch 840/1200\n",
            "1/1 [==============================] - 0s 15ms/step - loss: 0.0011 - mae: 0.0290\n",
            "Epoch 841/1200\n",
            "1/1 [==============================] - 0s 10ms/step - loss: 0.0011 - mae: 0.0289\n",
            "Epoch 842/1200\n",
            "1/1 [==============================] - 0s 12ms/step - loss: 0.0011 - mae: 0.0288\n",
            "Epoch 843/1200\n",
            "1/1 [==============================] - 0s 28ms/step - loss: 0.0011 - mae: 0.0287\n",
            "Epoch 844/1200\n",
            "1/1 [==============================] - 0s 20ms/step - loss: 0.0011 - mae: 0.0286\n",
            "Epoch 845/1200\n",
            "1/1 [==============================] - 0s 9ms/step - loss: 0.0011 - mae: 0.0285\n",
            "Epoch 846/1200\n",
            "1/1 [==============================] - 0s 9ms/step - loss: 0.0011 - mae: 0.0284\n",
            "Epoch 847/1200\n",
            "1/1 [==============================] - 0s 10ms/step - loss: 0.0011 - mae: 0.0283\n",
            "Epoch 848/1200\n",
            "1/1 [==============================] - 0s 9ms/step - loss: 0.0011 - mae: 0.0282\n",
            "Epoch 849/1200\n",
            "1/1 [==============================] - 0s 22ms/step - loss: 0.0011 - mae: 0.0281\n",
            "Epoch 850/1200\n",
            "1/1 [==============================] - 0s 15ms/step - loss: 0.0011 - mae: 0.0280\n",
            "Epoch 851/1200\n",
            "1/1 [==============================] - 0s 17ms/step - loss: 0.0011 - mae: 0.0279\n",
            "Epoch 852/1200\n",
            "1/1 [==============================] - 0s 16ms/step - loss: 0.0011 - mae: 0.0278\n",
            "Epoch 853/1200\n",
            "1/1 [==============================] - 0s 15ms/step - loss: 0.0010 - mae: 0.0277\n",
            "Epoch 854/1200\n",
            "1/1 [==============================] - 0s 33ms/step - loss: 0.0010 - mae: 0.0276\n",
            "Epoch 855/1200\n",
            "1/1 [==============================] - 0s 23ms/step - loss: 0.0010 - mae: 0.0276\n",
            "Epoch 856/1200\n",
            "1/1 [==============================] - 0s 17ms/step - loss: 0.0010 - mae: 0.0275\n",
            "Epoch 857/1200\n",
            "1/1 [==============================] - 0s 25ms/step - loss: 0.0010 - mae: 0.0274\n",
            "Epoch 858/1200\n",
            "1/1 [==============================] - 0s 26ms/step - loss: 0.0010 - mae: 0.0273\n",
            "Epoch 859/1200\n",
            "1/1 [==============================] - 0s 36ms/step - loss: 0.0010 - mae: 0.0272\n",
            "Epoch 860/1200\n",
            "1/1 [==============================] - 0s 33ms/step - loss: 9.9634e-04 - mae: 0.0271\n",
            "Epoch 861/1200\n",
            "1/1 [==============================] - 0s 17ms/step - loss: 9.8960e-04 - mae: 0.0270\n",
            "Epoch 862/1200\n",
            "1/1 [==============================] - 0s 13ms/step - loss: 9.8291e-04 - mae: 0.0269\n",
            "Epoch 863/1200\n",
            "1/1 [==============================] - 0s 24ms/step - loss: 9.7629e-04 - mae: 0.0268\n",
            "Epoch 864/1200\n",
            "1/1 [==============================] - 0s 14ms/step - loss: 9.6969e-04 - mae: 0.0267\n",
            "Epoch 865/1200\n",
            "1/1 [==============================] - 0s 10ms/step - loss: 9.6315e-04 - mae: 0.0266\n",
            "Epoch 866/1200\n",
            "1/1 [==============================] - 0s 18ms/step - loss: 9.5665e-04 - mae: 0.0265\n",
            "Epoch 867/1200\n",
            "1/1 [==============================] - 0s 15ms/step - loss: 9.5018e-04 - mae: 0.0265\n",
            "Epoch 868/1200\n",
            "1/1 [==============================] - 0s 12ms/step - loss: 9.4378e-04 - mae: 0.0264\n",
            "Epoch 869/1200\n",
            "1/1 [==============================] - 0s 17ms/step - loss: 9.3739e-04 - mae: 0.0263\n",
            "Epoch 870/1200\n",
            "1/1 [==============================] - 0s 14ms/step - loss: 9.3107e-04 - mae: 0.0262\n",
            "Epoch 871/1200\n",
            "1/1 [==============================] - 0s 16ms/step - loss: 9.2478e-04 - mae: 0.0261\n",
            "Epoch 872/1200\n",
            "1/1 [==============================] - 0s 11ms/step - loss: 9.1855e-04 - mae: 0.0260\n",
            "Epoch 873/1200\n",
            "1/1 [==============================] - 0s 11ms/step - loss: 9.1233e-04 - mae: 0.0259\n",
            "Epoch 874/1200\n",
            "1/1 [==============================] - 0s 13ms/step - loss: 9.0619e-04 - mae: 0.0258\n",
            "Epoch 875/1200\n",
            "1/1 [==============================] - 0s 14ms/step - loss: 9.0007e-04 - mae: 0.0258\n",
            "Epoch 876/1200\n",
            "1/1 [==============================] - 0s 20ms/step - loss: 8.9399e-04 - mae: 0.0257\n",
            "Epoch 877/1200\n",
            "1/1 [==============================] - 0s 17ms/step - loss: 8.8796e-04 - mae: 0.0256\n",
            "Epoch 878/1200\n",
            "1/1 [==============================] - 0s 17ms/step - loss: 8.8196e-04 - mae: 0.0255\n",
            "Epoch 879/1200\n",
            "1/1 [==============================] - 0s 16ms/step - loss: 8.7602e-04 - mae: 0.0254\n",
            "Epoch 880/1200\n",
            "1/1 [==============================] - 0s 34ms/step - loss: 8.7010e-04 - mae: 0.0253\n",
            "Epoch 881/1200\n",
            "1/1 [==============================] - 0s 14ms/step - loss: 8.6422e-04 - mae: 0.0252\n",
            "Epoch 882/1200\n",
            "1/1 [==============================] - 0s 12ms/step - loss: 8.5838e-04 - mae: 0.0251\n",
            "Epoch 883/1200\n",
            "1/1 [==============================] - 0s 12ms/step - loss: 8.5261e-04 - mae: 0.0251\n",
            "Epoch 884/1200\n",
            "1/1 [==============================] - 0s 11ms/step - loss: 8.4685e-04 - mae: 0.0250\n",
            "Epoch 885/1200\n",
            "1/1 [==============================] - 0s 18ms/step - loss: 8.4112e-04 - mae: 0.0249\n",
            "Epoch 886/1200\n",
            "1/1 [==============================] - 0s 14ms/step - loss: 8.3545e-04 - mae: 0.0248\n",
            "Epoch 887/1200\n",
            "1/1 [==============================] - 0s 12ms/step - loss: 8.2981e-04 - mae: 0.0247\n",
            "Epoch 888/1200\n",
            "1/1 [==============================] - 0s 15ms/step - loss: 8.2421e-04 - mae: 0.0246\n",
            "Epoch 889/1200\n",
            "1/1 [==============================] - 0s 17ms/step - loss: 8.1864e-04 - mae: 0.0246\n",
            "Epoch 890/1200\n",
            "1/1 [==============================] - 0s 21ms/step - loss: 8.1311e-04 - mae: 0.0245\n",
            "Epoch 891/1200\n",
            "1/1 [==============================] - 0s 12ms/step - loss: 8.0761e-04 - mae: 0.0244\n",
            "Epoch 892/1200\n",
            "1/1 [==============================] - 0s 23ms/step - loss: 8.0217e-04 - mae: 0.0243\n",
            "Epoch 893/1200\n",
            "1/1 [==============================] - 0s 19ms/step - loss: 7.9677e-04 - mae: 0.0242\n",
            "Epoch 894/1200\n",
            "1/1 [==============================] - 0s 13ms/step - loss: 7.9137e-04 - mae: 0.0241\n",
            "Epoch 895/1200\n",
            "1/1 [==============================] - 0s 15ms/step - loss: 7.8602e-04 - mae: 0.0241\n",
            "Epoch 896/1200\n",
            "1/1 [==============================] - 0s 15ms/step - loss: 7.8074e-04 - mae: 0.0240\n",
            "Epoch 897/1200\n",
            "1/1 [==============================] - 0s 13ms/step - loss: 7.7546e-04 - mae: 0.0239\n",
            "Epoch 898/1200\n",
            "1/1 [==============================] - 0s 14ms/step - loss: 7.7023e-04 - mae: 0.0238\n",
            "Epoch 899/1200\n",
            "1/1 [==============================] - 0s 27ms/step - loss: 7.6503e-04 - mae: 0.0237\n",
            "Epoch 900/1200\n",
            "1/1 [==============================] - 0s 16ms/step - loss: 7.5986e-04 - mae: 0.0237\n",
            "Epoch 901/1200\n",
            "1/1 [==============================] - 0s 10ms/step - loss: 7.5472e-04 - mae: 0.0236\n",
            "Epoch 902/1200\n",
            "1/1 [==============================] - 0s 11ms/step - loss: 7.4964e-04 - mae: 0.0235\n",
            "Epoch 903/1200\n",
            "1/1 [==============================] - 0s 14ms/step - loss: 7.4458e-04 - mae: 0.0234\n",
            "Epoch 904/1200\n",
            "1/1 [==============================] - 0s 12ms/step - loss: 7.3955e-04 - mae: 0.0233\n",
            "Epoch 905/1200\n",
            "1/1 [==============================] - 0s 14ms/step - loss: 7.3455e-04 - mae: 0.0233\n",
            "Epoch 906/1200\n",
            "1/1 [==============================] - 0s 16ms/step - loss: 7.2958e-04 - mae: 0.0232\n",
            "Epoch 907/1200\n",
            "1/1 [==============================] - 0s 18ms/step - loss: 7.2468e-04 - mae: 0.0231\n",
            "Epoch 908/1200\n",
            "1/1 [==============================] - 0s 19ms/step - loss: 7.1977e-04 - mae: 0.0230\n",
            "Epoch 909/1200\n",
            "1/1 [==============================] - 0s 13ms/step - loss: 7.1493e-04 - mae: 0.0229\n",
            "Epoch 910/1200\n",
            "1/1 [==============================] - 0s 10ms/step - loss: 7.1009e-04 - mae: 0.0229\n",
            "Epoch 911/1200\n",
            "1/1 [==============================] - 0s 10ms/step - loss: 7.0531e-04 - mae: 0.0228\n",
            "Epoch 912/1200\n",
            "1/1 [==============================] - 0s 34ms/step - loss: 7.0054e-04 - mae: 0.0227\n",
            "Epoch 913/1200\n",
            "1/1 [==============================] - 0s 16ms/step - loss: 6.9580e-04 - mae: 0.0226\n",
            "Epoch 914/1200\n",
            "1/1 [==============================] - 0s 11ms/step - loss: 6.9111e-04 - mae: 0.0226\n",
            "Epoch 915/1200\n",
            "1/1 [==============================] - 0s 16ms/step - loss: 6.8644e-04 - mae: 0.0225\n",
            "Epoch 916/1200\n",
            "1/1 [==============================] - 0s 11ms/step - loss: 6.8181e-04 - mae: 0.0224\n",
            "Epoch 917/1200\n",
            "1/1 [==============================] - 0s 21ms/step - loss: 6.7721e-04 - mae: 0.0223\n",
            "Epoch 918/1200\n",
            "1/1 [==============================] - 0s 16ms/step - loss: 6.7264e-04 - mae: 0.0223\n",
            "Epoch 919/1200\n",
            "1/1 [==============================] - 0s 20ms/step - loss: 6.6809e-04 - mae: 0.0222\n",
            "Epoch 920/1200\n",
            "1/1 [==============================] - 0s 11ms/step - loss: 6.6359e-04 - mae: 0.0221\n",
            "Epoch 921/1200\n",
            "1/1 [==============================] - 0s 11ms/step - loss: 6.5911e-04 - mae: 0.0220\n",
            "Epoch 922/1200\n",
            "1/1 [==============================] - 0s 16ms/step - loss: 6.5465e-04 - mae: 0.0220\n",
            "Epoch 923/1200\n",
            "1/1 [==============================] - 0s 16ms/step - loss: 6.5024e-04 - mae: 0.0219\n",
            "Epoch 924/1200\n",
            "1/1 [==============================] - 0s 10ms/step - loss: 6.4585e-04 - mae: 0.0218\n",
            "Epoch 925/1200\n",
            "1/1 [==============================] - 0s 11ms/step - loss: 6.4149e-04 - mae: 0.0217\n",
            "Epoch 926/1200\n",
            "1/1 [==============================] - 0s 13ms/step - loss: 6.3716e-04 - mae: 0.0217\n",
            "Epoch 927/1200\n",
            "1/1 [==============================] - 0s 38ms/step - loss: 6.3287e-04 - mae: 0.0216\n",
            "Epoch 928/1200\n",
            "1/1 [==============================] - 0s 13ms/step - loss: 6.2859e-04 - mae: 0.0215\n",
            "Epoch 929/1200\n",
            "1/1 [==============================] - 0s 17ms/step - loss: 6.2434e-04 - mae: 0.0214\n",
            "Epoch 930/1200\n",
            "1/1 [==============================] - 0s 32ms/step - loss: 6.2012e-04 - mae: 0.0214\n",
            "Epoch 931/1200\n",
            "1/1 [==============================] - 0s 14ms/step - loss: 6.1594e-04 - mae: 0.0213\n",
            "Epoch 932/1200\n",
            "1/1 [==============================] - 0s 18ms/step - loss: 6.1178e-04 - mae: 0.0212\n",
            "Epoch 933/1200\n",
            "1/1 [==============================] - 0s 14ms/step - loss: 6.0765e-04 - mae: 0.0212\n",
            "Epoch 934/1200\n",
            "1/1 [==============================] - 0s 33ms/step - loss: 6.0354e-04 - mae: 0.0211\n",
            "Epoch 935/1200\n",
            "1/1 [==============================] - 0s 26ms/step - loss: 5.9949e-04 - mae: 0.0210\n",
            "Epoch 936/1200\n",
            "1/1 [==============================] - 0s 19ms/step - loss: 5.9543e-04 - mae: 0.0209\n",
            "Epoch 937/1200\n",
            "1/1 [==============================] - 0s 19ms/step - loss: 5.9142e-04 - mae: 0.0209\n",
            "Epoch 938/1200\n",
            "1/1 [==============================] - 0s 28ms/step - loss: 5.8743e-04 - mae: 0.0208\n",
            "Epoch 939/1200\n",
            "1/1 [==============================] - 0s 17ms/step - loss: 5.8346e-04 - mae: 0.0207\n",
            "Epoch 940/1200\n",
            "1/1 [==============================] - 0s 28ms/step - loss: 5.7950e-04 - mae: 0.0207\n",
            "Epoch 941/1200\n",
            "1/1 [==============================] - 0s 20ms/step - loss: 5.7561e-04 - mae: 0.0206\n",
            "Epoch 942/1200\n",
            "1/1 [==============================] - 0s 15ms/step - loss: 5.7171e-04 - mae: 0.0205\n",
            "Epoch 943/1200\n",
            "1/1 [==============================] - 0s 23ms/step - loss: 5.6785e-04 - mae: 0.0205\n",
            "Epoch 944/1200\n",
            "1/1 [==============================] - 0s 30ms/step - loss: 5.6402e-04 - mae: 0.0204\n",
            "Epoch 945/1200\n",
            "1/1 [==============================] - 0s 17ms/step - loss: 5.6022e-04 - mae: 0.0203\n",
            "Epoch 946/1200\n",
            "1/1 [==============================] - 0s 23ms/step - loss: 5.5643e-04 - mae: 0.0202\n",
            "Epoch 947/1200\n",
            "1/1 [==============================] - 0s 22ms/step - loss: 5.5267e-04 - mae: 0.0202\n",
            "Epoch 948/1200\n",
            "1/1 [==============================] - 0s 22ms/step - loss: 5.4894e-04 - mae: 0.0201\n",
            "Epoch 949/1200\n",
            "1/1 [==============================] - 0s 11ms/step - loss: 5.4524e-04 - mae: 0.0200\n",
            "Epoch 950/1200\n",
            "1/1 [==============================] - 0s 9ms/step - loss: 5.4156e-04 - mae: 0.0200\n",
            "Epoch 951/1200\n",
            "1/1 [==============================] - 0s 15ms/step - loss: 5.3791e-04 - mae: 0.0199\n",
            "Epoch 952/1200\n",
            "1/1 [==============================] - 0s 20ms/step - loss: 5.3428e-04 - mae: 0.0198\n",
            "Epoch 953/1200\n",
            "1/1 [==============================] - 0s 14ms/step - loss: 5.3066e-04 - mae: 0.0198\n",
            "Epoch 954/1200\n",
            "1/1 [==============================] - 0s 17ms/step - loss: 5.2709e-04 - mae: 0.0197\n",
            "Epoch 955/1200\n",
            "1/1 [==============================] - 0s 35ms/step - loss: 5.2353e-04 - mae: 0.0196\n",
            "Epoch 956/1200\n",
            "1/1 [==============================] - 0s 11ms/step - loss: 5.2000e-04 - mae: 0.0196\n",
            "Epoch 957/1200\n",
            "1/1 [==============================] - 0s 14ms/step - loss: 5.1648e-04 - mae: 0.0195\n",
            "Epoch 958/1200\n",
            "1/1 [==============================] - 0s 48ms/step - loss: 5.1300e-04 - mae: 0.0194\n",
            "Epoch 959/1200\n",
            "1/1 [==============================] - 0s 11ms/step - loss: 5.0953e-04 - mae: 0.0194\n",
            "Epoch 960/1200\n",
            "1/1 [==============================] - 0s 9ms/step - loss: 5.0610e-04 - mae: 0.0193\n",
            "Epoch 961/1200\n",
            "1/1 [==============================] - 0s 21ms/step - loss: 5.0267e-04 - mae: 0.0192\n",
            "Epoch 962/1200\n",
            "1/1 [==============================] - 0s 14ms/step - loss: 4.9929e-04 - mae: 0.0192\n",
            "Epoch 963/1200\n",
            "1/1 [==============================] - 0s 13ms/step - loss: 4.9592e-04 - mae: 0.0191\n",
            "Epoch 964/1200\n",
            "1/1 [==============================] - 0s 20ms/step - loss: 4.9257e-04 - mae: 0.0190\n",
            "Epoch 965/1200\n",
            "1/1 [==============================] - 0s 16ms/step - loss: 4.8925e-04 - mae: 0.0190\n",
            "Epoch 966/1200\n",
            "1/1 [==============================] - 0s 9ms/step - loss: 4.8595e-04 - mae: 0.0189\n",
            "Epoch 967/1200\n",
            "1/1 [==============================] - 0s 13ms/step - loss: 4.8265e-04 - mae: 0.0189\n",
            "Epoch 968/1200\n",
            "1/1 [==============================] - 0s 16ms/step - loss: 4.7940e-04 - mae: 0.0188\n",
            "Epoch 969/1200\n",
            "1/1 [==============================] - 0s 15ms/step - loss: 4.7618e-04 - mae: 0.0187\n",
            "Epoch 970/1200\n",
            "1/1 [==============================] - 0s 24ms/step - loss: 4.7295e-04 - mae: 0.0187\n",
            "Epoch 971/1200\n",
            "1/1 [==============================] - 0s 33ms/step - loss: 4.6976e-04 - mae: 0.0186\n",
            "Epoch 972/1200\n",
            "1/1 [==============================] - 0s 28ms/step - loss: 4.6659e-04 - mae: 0.0185\n",
            "Epoch 973/1200\n",
            "1/1 [==============================] - 0s 18ms/step - loss: 4.6344e-04 - mae: 0.0185\n",
            "Epoch 974/1200\n",
            "1/1 [==============================] - 0s 22ms/step - loss: 4.6031e-04 - mae: 0.0184\n",
            "Epoch 975/1200\n",
            "1/1 [==============================] - 0s 31ms/step - loss: 4.5720e-04 - mae: 0.0184\n",
            "Epoch 976/1200\n",
            "1/1 [==============================] - 0s 51ms/step - loss: 4.5411e-04 - mae: 0.0183\n",
            "Epoch 977/1200\n",
            "1/1 [==============================] - 0s 21ms/step - loss: 4.5105e-04 - mae: 0.0182\n",
            "Epoch 978/1200\n",
            "1/1 [==============================] - 0s 27ms/step - loss: 4.4800e-04 - mae: 0.0182\n",
            "Epoch 979/1200\n",
            "1/1 [==============================] - 0s 20ms/step - loss: 4.4498e-04 - mae: 0.0181\n",
            "Epoch 980/1200\n",
            "1/1 [==============================] - 0s 23ms/step - loss: 4.4198e-04 - mae: 0.0180\n",
            "Epoch 981/1200\n",
            "1/1 [==============================] - 0s 26ms/step - loss: 4.3899e-04 - mae: 0.0180\n",
            "Epoch 982/1200\n",
            "1/1 [==============================] - 0s 36ms/step - loss: 4.3602e-04 - mae: 0.0179\n",
            "Epoch 983/1200\n",
            "1/1 [==============================] - 0s 22ms/step - loss: 4.3308e-04 - mae: 0.0179\n",
            "Epoch 984/1200\n",
            "1/1 [==============================] - 0s 20ms/step - loss: 4.3016e-04 - mae: 0.0178\n",
            "Epoch 985/1200\n",
            "1/1 [==============================] - 0s 16ms/step - loss: 4.2727e-04 - mae: 0.0177\n",
            "Epoch 986/1200\n",
            "1/1 [==============================] - 0s 22ms/step - loss: 4.2436e-04 - mae: 0.0177\n",
            "Epoch 987/1200\n",
            "1/1 [==============================] - 0s 15ms/step - loss: 4.2150e-04 - mae: 0.0176\n",
            "Epoch 988/1200\n",
            "1/1 [==============================] - 0s 26ms/step - loss: 4.1866e-04 - mae: 0.0176\n",
            "Epoch 989/1200\n",
            "1/1 [==============================] - 0s 18ms/step - loss: 4.1584e-04 - mae: 0.0175\n",
            "Epoch 990/1200\n",
            "1/1 [==============================] - 0s 17ms/step - loss: 4.1303e-04 - mae: 0.0174\n",
            "Epoch 991/1200\n",
            "1/1 [==============================] - 0s 14ms/step - loss: 4.1023e-04 - mae: 0.0174\n",
            "Epoch 992/1200\n",
            "1/1 [==============================] - 0s 18ms/step - loss: 4.0747e-04 - mae: 0.0173\n",
            "Epoch 993/1200\n",
            "1/1 [==============================] - 0s 15ms/step - loss: 4.0474e-04 - mae: 0.0173\n",
            "Epoch 994/1200\n",
            "1/1 [==============================] - 0s 17ms/step - loss: 4.0198e-04 - mae: 0.0172\n",
            "Epoch 995/1200\n",
            "1/1 [==============================] - 0s 20ms/step - loss: 3.9927e-04 - mae: 0.0172\n",
            "Epoch 996/1200\n",
            "1/1 [==============================] - 0s 20ms/step - loss: 3.9658e-04 - mae: 0.0171\n",
            "Epoch 997/1200\n",
            "1/1 [==============================] - 0s 21ms/step - loss: 3.9390e-04 - mae: 0.0170\n",
            "Epoch 998/1200\n",
            "1/1 [==============================] - 0s 16ms/step - loss: 3.9125e-04 - mae: 0.0170\n",
            "Epoch 999/1200\n",
            "1/1 [==============================] - 0s 21ms/step - loss: 3.8861e-04 - mae: 0.0169\n",
            "Epoch 1000/1200\n",
            "1/1 [==============================] - 0s 17ms/step - loss: 3.8598e-04 - mae: 0.0169\n",
            "Epoch 1001/1200\n",
            "1/1 [==============================] - 0s 17ms/step - loss: 3.8337e-04 - mae: 0.0168\n",
            "Epoch 1002/1200\n",
            "1/1 [==============================] - 0s 17ms/step - loss: 3.8078e-04 - mae: 0.0167\n",
            "Epoch 1003/1200\n",
            "1/1 [==============================] - 0s 16ms/step - loss: 3.7821e-04 - mae: 0.0167\n",
            "Epoch 1004/1200\n",
            "1/1 [==============================] - 0s 19ms/step - loss: 3.7567e-04 - mae: 0.0166\n",
            "Epoch 1005/1200\n",
            "1/1 [==============================] - 0s 17ms/step - loss: 3.7313e-04 - mae: 0.0166\n",
            "Epoch 1006/1200\n",
            "1/1 [==============================] - 0s 14ms/step - loss: 3.7061e-04 - mae: 0.0165\n",
            "Epoch 1007/1200\n",
            "1/1 [==============================] - 0s 24ms/step - loss: 3.6810e-04 - mae: 0.0165\n",
            "Epoch 1008/1200\n",
            "1/1 [==============================] - 0s 22ms/step - loss: 3.6563e-04 - mae: 0.0164\n",
            "Epoch 1009/1200\n",
            "1/1 [==============================] - 0s 24ms/step - loss: 3.6315e-04 - mae: 0.0164\n",
            "Epoch 1010/1200\n",
            "1/1 [==============================] - 0s 20ms/step - loss: 3.6071e-04 - mae: 0.0163\n",
            "Epoch 1011/1200\n",
            "1/1 [==============================] - 0s 23ms/step - loss: 3.5828e-04 - mae: 0.0162\n",
            "Epoch 1012/1200\n",
            "1/1 [==============================] - 0s 17ms/step - loss: 3.5585e-04 - mae: 0.0162\n",
            "Epoch 1013/1200\n",
            "1/1 [==============================] - 0s 19ms/step - loss: 3.5345e-04 - mae: 0.0161\n",
            "Epoch 1014/1200\n",
            "1/1 [==============================] - 0s 18ms/step - loss: 3.5106e-04 - mae: 0.0161\n",
            "Epoch 1015/1200\n",
            "1/1 [==============================] - 0s 18ms/step - loss: 3.4870e-04 - mae: 0.0160\n",
            "Epoch 1016/1200\n",
            "1/1 [==============================] - 0s 17ms/step - loss: 3.4634e-04 - mae: 0.0160\n",
            "Epoch 1017/1200\n",
            "1/1 [==============================] - 0s 15ms/step - loss: 3.4400e-04 - mae: 0.0159\n",
            "Epoch 1018/1200\n",
            "1/1 [==============================] - 0s 13ms/step - loss: 3.4169e-04 - mae: 0.0159\n",
            "Epoch 1019/1200\n",
            "1/1 [==============================] - 0s 14ms/step - loss: 3.3937e-04 - mae: 0.0158\n",
            "Epoch 1020/1200\n",
            "1/1 [==============================] - 0s 10ms/step - loss: 3.3707e-04 - mae: 0.0158\n",
            "Epoch 1021/1200\n",
            "1/1 [==============================] - 0s 13ms/step - loss: 3.3480e-04 - mae: 0.0157\n",
            "Epoch 1022/1200\n",
            "1/1 [==============================] - 0s 16ms/step - loss: 3.3254e-04 - mae: 0.0157\n",
            "Epoch 1023/1200\n",
            "1/1 [==============================] - 0s 11ms/step - loss: 3.3029e-04 - mae: 0.0156\n",
            "Epoch 1024/1200\n",
            "1/1 [==============================] - 0s 17ms/step - loss: 3.2807e-04 - mae: 0.0155\n",
            "Epoch 1025/1200\n",
            "1/1 [==============================] - 0s 26ms/step - loss: 3.2586e-04 - mae: 0.0155\n",
            "Epoch 1026/1200\n",
            "1/1 [==============================] - 0s 21ms/step - loss: 3.2365e-04 - mae: 0.0154\n",
            "Epoch 1027/1200\n",
            "1/1 [==============================] - 0s 14ms/step - loss: 3.2147e-04 - mae: 0.0154\n",
            "Epoch 1028/1200\n",
            "1/1 [==============================] - 0s 26ms/step - loss: 3.1929e-04 - mae: 0.0153\n",
            "Epoch 1029/1200\n",
            "1/1 [==============================] - 0s 15ms/step - loss: 3.1715e-04 - mae: 0.0153\n",
            "Epoch 1030/1200\n",
            "1/1 [==============================] - 0s 11ms/step - loss: 3.1500e-04 - mae: 0.0152\n",
            "Epoch 1031/1200\n",
            "1/1 [==============================] - 0s 26ms/step - loss: 3.1288e-04 - mae: 0.0152\n",
            "Epoch 1032/1200\n",
            "1/1 [==============================] - 0s 23ms/step - loss: 3.1076e-04 - mae: 0.0151\n",
            "Epoch 1033/1200\n",
            "1/1 [==============================] - 0s 22ms/step - loss: 3.0866e-04 - mae: 0.0151\n",
            "Epoch 1034/1200\n",
            "1/1 [==============================] - 0s 20ms/step - loss: 3.0659e-04 - mae: 0.0150\n",
            "Epoch 1035/1200\n",
            "1/1 [==============================] - 0s 20ms/step - loss: 3.0451e-04 - mae: 0.0150\n",
            "Epoch 1036/1200\n",
            "1/1 [==============================] - 0s 15ms/step - loss: 3.0246e-04 - mae: 0.0149\n",
            "Epoch 1037/1200\n",
            "1/1 [==============================] - 0s 19ms/step - loss: 3.0042e-04 - mae: 0.0149\n",
            "Epoch 1038/1200\n",
            "1/1 [==============================] - 0s 18ms/step - loss: 2.9839e-04 - mae: 0.0148\n",
            "Epoch 1039/1200\n",
            "1/1 [==============================] - 0s 17ms/step - loss: 2.9638e-04 - mae: 0.0148\n",
            "Epoch 1040/1200\n",
            "1/1 [==============================] - 0s 23ms/step - loss: 2.9438e-04 - mae: 0.0147\n",
            "Epoch 1041/1200\n",
            "1/1 [==============================] - 0s 22ms/step - loss: 2.9239e-04 - mae: 0.0147\n",
            "Epoch 1042/1200\n",
            "1/1 [==============================] - 0s 9ms/step - loss: 2.9041e-04 - mae: 0.0146\n",
            "Epoch 1043/1200\n",
            "1/1 [==============================] - 0s 16ms/step - loss: 2.8845e-04 - mae: 0.0146\n",
            "Epoch 1044/1200\n",
            "1/1 [==============================] - 0s 15ms/step - loss: 2.8651e-04 - mae: 0.0145\n",
            "Epoch 1045/1200\n",
            "1/1 [==============================] - 0s 35ms/step - loss: 2.8458e-04 - mae: 0.0145\n",
            "Epoch 1046/1200\n",
            "1/1 [==============================] - 0s 19ms/step - loss: 2.8265e-04 - mae: 0.0144\n",
            "Epoch 1047/1200\n",
            "1/1 [==============================] - 0s 15ms/step - loss: 2.8074e-04 - mae: 0.0144\n",
            "Epoch 1048/1200\n",
            "1/1 [==============================] - 0s 26ms/step - loss: 2.7885e-04 - mae: 0.0143\n",
            "Epoch 1049/1200\n",
            "1/1 [==============================] - 0s 25ms/step - loss: 2.7696e-04 - mae: 0.0143\n",
            "Epoch 1050/1200\n",
            "1/1 [==============================] - 0s 25ms/step - loss: 2.7510e-04 - mae: 0.0142\n",
            "Epoch 1051/1200\n",
            "1/1 [==============================] - 0s 20ms/step - loss: 2.7324e-04 - mae: 0.0142\n",
            "Epoch 1052/1200\n",
            "1/1 [==============================] - 0s 24ms/step - loss: 2.7139e-04 - mae: 0.0141\n",
            "Epoch 1053/1200\n",
            "1/1 [==============================] - 0s 35ms/step - loss: 2.6956e-04 - mae: 0.0141\n",
            "Epoch 1054/1200\n",
            "1/1 [==============================] - 0s 44ms/step - loss: 2.6774e-04 - mae: 0.0140\n",
            "Epoch 1055/1200\n",
            "1/1 [==============================] - 0s 19ms/step - loss: 2.6594e-04 - mae: 0.0140\n",
            "Epoch 1056/1200\n",
            "1/1 [==============================] - 0s 22ms/step - loss: 2.6415e-04 - mae: 0.0139\n",
            "Epoch 1057/1200\n",
            "1/1 [==============================] - 0s 48ms/step - loss: 2.6235e-04 - mae: 0.0139\n",
            "Epoch 1058/1200\n",
            "1/1 [==============================] - 0s 33ms/step - loss: 2.6058e-04 - mae: 0.0139\n",
            "Epoch 1059/1200\n",
            "1/1 [==============================] - 0s 55ms/step - loss: 2.5883e-04 - mae: 0.0138\n",
            "Epoch 1060/1200\n",
            "1/1 [==============================] - 0s 25ms/step - loss: 2.5707e-04 - mae: 0.0138\n",
            "Epoch 1061/1200\n",
            "1/1 [==============================] - 0s 26ms/step - loss: 2.5534e-04 - mae: 0.0137\n",
            "Epoch 1062/1200\n",
            "1/1 [==============================] - 0s 26ms/step - loss: 2.5362e-04 - mae: 0.0137\n",
            "Epoch 1063/1200\n",
            "1/1 [==============================] - 0s 61ms/step - loss: 2.5191e-04 - mae: 0.0136\n",
            "Epoch 1064/1200\n",
            "1/1 [==============================] - 0s 20ms/step - loss: 2.5021e-04 - mae: 0.0136\n",
            "Epoch 1065/1200\n",
            "1/1 [==============================] - 0s 14ms/step - loss: 2.4852e-04 - mae: 0.0135\n",
            "Epoch 1066/1200\n",
            "1/1 [==============================] - 0s 15ms/step - loss: 2.4685e-04 - mae: 0.0135\n",
            "Epoch 1067/1200\n",
            "1/1 [==============================] - 0s 15ms/step - loss: 2.4517e-04 - mae: 0.0134\n",
            "Epoch 1068/1200\n",
            "1/1 [==============================] - 0s 20ms/step - loss: 2.4352e-04 - mae: 0.0134\n",
            "Epoch 1069/1200\n",
            "1/1 [==============================] - 0s 18ms/step - loss: 2.4188e-04 - mae: 0.0133\n",
            "Epoch 1070/1200\n",
            "1/1 [==============================] - 0s 15ms/step - loss: 2.4025e-04 - mae: 0.0133\n",
            "Epoch 1071/1200\n",
            "1/1 [==============================] - 0s 44ms/step - loss: 2.3863e-04 - mae: 0.0133\n",
            "Epoch 1072/1200\n",
            "1/1 [==============================] - 0s 32ms/step - loss: 2.3701e-04 - mae: 0.0132\n",
            "Epoch 1073/1200\n",
            "1/1 [==============================] - 0s 30ms/step - loss: 2.3541e-04 - mae: 0.0132\n",
            "Epoch 1074/1200\n",
            "1/1 [==============================] - 0s 33ms/step - loss: 2.3382e-04 - mae: 0.0131\n",
            "Epoch 1075/1200\n",
            "1/1 [==============================] - 0s 27ms/step - loss: 2.3224e-04 - mae: 0.0131\n",
            "Epoch 1076/1200\n",
            "1/1 [==============================] - 0s 22ms/step - loss: 2.3069e-04 - mae: 0.0130\n",
            "Epoch 1077/1200\n",
            "1/1 [==============================] - 0s 23ms/step - loss: 2.2912e-04 - mae: 0.0130\n",
            "Epoch 1078/1200\n",
            "1/1 [==============================] - 0s 17ms/step - loss: 2.2757e-04 - mae: 0.0129\n",
            "Epoch 1079/1200\n",
            "1/1 [==============================] - 0s 27ms/step - loss: 2.2604e-04 - mae: 0.0129\n",
            "Epoch 1080/1200\n",
            "1/1 [==============================] - 0s 29ms/step - loss: 2.2451e-04 - mae: 0.0129\n",
            "Epoch 1081/1200\n",
            "1/1 [==============================] - 0s 45ms/step - loss: 2.2299e-04 - mae: 0.0128\n",
            "Epoch 1082/1200\n",
            "1/1 [==============================] - 0s 20ms/step - loss: 2.2149e-04 - mae: 0.0128\n",
            "Epoch 1083/1200\n",
            "1/1 [==============================] - 0s 31ms/step - loss: 2.1999e-04 - mae: 0.0127\n",
            "Epoch 1084/1200\n",
            "1/1 [==============================] - 0s 31ms/step - loss: 2.1851e-04 - mae: 0.0127\n",
            "Epoch 1085/1200\n",
            "1/1 [==============================] - 0s 25ms/step - loss: 2.1703e-04 - mae: 0.0126\n",
            "Epoch 1086/1200\n",
            "1/1 [==============================] - 0s 24ms/step - loss: 2.1558e-04 - mae: 0.0126\n",
            "Epoch 1087/1200\n",
            "1/1 [==============================] - 0s 37ms/step - loss: 2.1411e-04 - mae: 0.0126\n",
            "Epoch 1088/1200\n",
            "1/1 [==============================] - 0s 36ms/step - loss: 2.1267e-04 - mae: 0.0125\n",
            "Epoch 1089/1200\n",
            "1/1 [==============================] - 0s 28ms/step - loss: 2.1123e-04 - mae: 0.0125\n",
            "Epoch 1090/1200\n",
            "1/1 [==============================] - 0s 25ms/step - loss: 2.0980e-04 - mae: 0.0124\n",
            "Epoch 1091/1200\n",
            "1/1 [==============================] - 0s 24ms/step - loss: 2.0839e-04 - mae: 0.0124\n",
            "Epoch 1092/1200\n",
            "1/1 [==============================] - 0s 24ms/step - loss: 2.0698e-04 - mae: 0.0123\n",
            "Epoch 1093/1200\n",
            "1/1 [==============================] - 0s 24ms/step - loss: 2.0558e-04 - mae: 0.0123\n",
            "Epoch 1094/1200\n",
            "1/1 [==============================] - 0s 35ms/step - loss: 2.0419e-04 - mae: 0.0123\n",
            "Epoch 1095/1200\n",
            "1/1 [==============================] - 0s 32ms/step - loss: 2.0282e-04 - mae: 0.0122\n",
            "Epoch 1096/1200\n",
            "1/1 [==============================] - 0s 22ms/step - loss: 2.0144e-04 - mae: 0.0122\n",
            "Epoch 1097/1200\n",
            "1/1 [==============================] - 0s 29ms/step - loss: 2.0009e-04 - mae: 0.0121\n",
            "Epoch 1098/1200\n",
            "1/1 [==============================] - 0s 29ms/step - loss: 1.9874e-04 - mae: 0.0121\n",
            "Epoch 1099/1200\n",
            "1/1 [==============================] - 0s 48ms/step - loss: 1.9739e-04 - mae: 0.0121\n",
            "Epoch 1100/1200\n",
            "1/1 [==============================] - 0s 35ms/step - loss: 1.9606e-04 - mae: 0.0120\n",
            "Epoch 1101/1200\n",
            "1/1 [==============================] - 0s 26ms/step - loss: 1.9475e-04 - mae: 0.0120\n",
            "Epoch 1102/1200\n",
            "1/1 [==============================] - 0s 24ms/step - loss: 1.9343e-04 - mae: 0.0119\n",
            "Epoch 1103/1200\n",
            "1/1 [==============================] - 0s 33ms/step - loss: 1.9213e-04 - mae: 0.0119\n",
            "Epoch 1104/1200\n",
            "1/1 [==============================] - 0s 17ms/step - loss: 1.9082e-04 - mae: 0.0119\n",
            "Epoch 1105/1200\n",
            "1/1 [==============================] - 0s 17ms/step - loss: 1.8953e-04 - mae: 0.0118\n",
            "Epoch 1106/1200\n",
            "1/1 [==============================] - 0s 19ms/step - loss: 1.8826e-04 - mae: 0.0118\n",
            "Epoch 1107/1200\n",
            "1/1 [==============================] - 0s 20ms/step - loss: 1.8699e-04 - mae: 0.0117\n",
            "Epoch 1108/1200\n",
            "1/1 [==============================] - 0s 20ms/step - loss: 1.8573e-04 - mae: 0.0117\n",
            "Epoch 1109/1200\n",
            "1/1 [==============================] - 0s 13ms/step - loss: 1.8447e-04 - mae: 0.0117\n",
            "Epoch 1110/1200\n",
            "1/1 [==============================] - 0s 52ms/step - loss: 1.8323e-04 - mae: 0.0116\n",
            "Epoch 1111/1200\n",
            "1/1 [==============================] - 0s 35ms/step - loss: 1.8199e-04 - mae: 0.0116\n",
            "Epoch 1112/1200\n",
            "1/1 [==============================] - 0s 26ms/step - loss: 1.8076e-04 - mae: 0.0115\n",
            "Epoch 1113/1200\n",
            "1/1 [==============================] - 0s 20ms/step - loss: 1.7954e-04 - mae: 0.0115\n",
            "Epoch 1114/1200\n",
            "1/1 [==============================] - 0s 14ms/step - loss: 1.7833e-04 - mae: 0.0115\n",
            "Epoch 1115/1200\n",
            "1/1 [==============================] - 0s 12ms/step - loss: 1.7713e-04 - mae: 0.0114\n",
            "Epoch 1116/1200\n",
            "1/1 [==============================] - 0s 15ms/step - loss: 1.7593e-04 - mae: 0.0114\n",
            "Epoch 1117/1200\n",
            "1/1 [==============================] - 0s 12ms/step - loss: 1.7474e-04 - mae: 0.0113\n",
            "Epoch 1118/1200\n",
            "1/1 [==============================] - 0s 11ms/step - loss: 1.7355e-04 - mae: 0.0113\n",
            "Epoch 1119/1200\n",
            "1/1 [==============================] - 0s 12ms/step - loss: 1.7239e-04 - mae: 0.0113\n",
            "Epoch 1120/1200\n",
            "1/1 [==============================] - 0s 10ms/step - loss: 1.7122e-04 - mae: 0.0112\n",
            "Epoch 1121/1200\n",
            "1/1 [==============================] - 0s 11ms/step - loss: 1.7007e-04 - mae: 0.0112\n",
            "Epoch 1122/1200\n",
            "1/1 [==============================] - 0s 11ms/step - loss: 1.6892e-04 - mae: 0.0112\n",
            "Epoch 1123/1200\n",
            "1/1 [==============================] - 0s 15ms/step - loss: 1.6778e-04 - mae: 0.0111\n",
            "Epoch 1124/1200\n",
            "1/1 [==============================] - 0s 13ms/step - loss: 1.6665e-04 - mae: 0.0111\n",
            "Epoch 1125/1200\n",
            "1/1 [==============================] - 0s 9ms/step - loss: 1.6552e-04 - mae: 0.0110\n",
            "Epoch 1126/1200\n",
            "1/1 [==============================] - 0s 12ms/step - loss: 1.6440e-04 - mae: 0.0110\n",
            "Epoch 1127/1200\n",
            "1/1 [==============================] - 0s 9ms/step - loss: 1.6329e-04 - mae: 0.0110\n",
            "Epoch 1128/1200\n",
            "1/1 [==============================] - 0s 11ms/step - loss: 1.6219e-04 - mae: 0.0109\n",
            "Epoch 1129/1200\n",
            "1/1 [==============================] - 0s 10ms/step - loss: 1.6109e-04 - mae: 0.0109\n",
            "Epoch 1130/1200\n",
            "1/1 [==============================] - 0s 9ms/step - loss: 1.6001e-04 - mae: 0.0109\n",
            "Epoch 1131/1200\n",
            "1/1 [==============================] - 0s 9ms/step - loss: 1.5892e-04 - mae: 0.0108\n",
            "Epoch 1132/1200\n",
            "1/1 [==============================] - 0s 11ms/step - loss: 1.5785e-04 - mae: 0.0108\n",
            "Epoch 1133/1200\n",
            "1/1 [==============================] - 0s 13ms/step - loss: 1.5679e-04 - mae: 0.0107\n",
            "Epoch 1134/1200\n",
            "1/1 [==============================] - 0s 11ms/step - loss: 1.5573e-04 - mae: 0.0107\n",
            "Epoch 1135/1200\n",
            "1/1 [==============================] - 0s 14ms/step - loss: 1.5468e-04 - mae: 0.0107\n",
            "Epoch 1136/1200\n",
            "1/1 [==============================] - 0s 10ms/step - loss: 1.5363e-04 - mae: 0.0106\n",
            "Epoch 1137/1200\n",
            "1/1 [==============================] - 0s 9ms/step - loss: 1.5260e-04 - mae: 0.0106\n",
            "Epoch 1138/1200\n",
            "1/1 [==============================] - 0s 8ms/step - loss: 1.5157e-04 - mae: 0.0106\n",
            "Epoch 1139/1200\n",
            "1/1 [==============================] - 0s 10ms/step - loss: 1.5055e-04 - mae: 0.0105\n",
            "Epoch 1140/1200\n",
            "1/1 [==============================] - 0s 8ms/step - loss: 1.4953e-04 - mae: 0.0105\n",
            "Epoch 1141/1200\n",
            "1/1 [==============================] - 0s 10ms/step - loss: 1.4852e-04 - mae: 0.0105\n",
            "Epoch 1142/1200\n",
            "1/1 [==============================] - 0s 9ms/step - loss: 1.4751e-04 - mae: 0.0104\n",
            "Epoch 1143/1200\n",
            "1/1 [==============================] - 0s 9ms/step - loss: 1.4652e-04 - mae: 0.0104\n",
            "Epoch 1144/1200\n",
            "1/1 [==============================] - 0s 24ms/step - loss: 1.4553e-04 - mae: 0.0104\n",
            "Epoch 1145/1200\n",
            "1/1 [==============================] - 0s 12ms/step - loss: 1.4456e-04 - mae: 0.0103\n",
            "Epoch 1146/1200\n",
            "1/1 [==============================] - 0s 11ms/step - loss: 1.4357e-04 - mae: 0.0103\n",
            "Epoch 1147/1200\n",
            "1/1 [==============================] - 0s 18ms/step - loss: 1.4261e-04 - mae: 0.0102\n",
            "Epoch 1148/1200\n",
            "1/1 [==============================] - 0s 11ms/step - loss: 1.4164e-04 - mae: 0.0102\n",
            "Epoch 1149/1200\n",
            "1/1 [==============================] - 0s 13ms/step - loss: 1.4069e-04 - mae: 0.0102\n",
            "Epoch 1150/1200\n",
            "1/1 [==============================] - 0s 12ms/step - loss: 1.3974e-04 - mae: 0.0101\n",
            "Epoch 1151/1200\n",
            "1/1 [==============================] - 0s 12ms/step - loss: 1.3879e-04 - mae: 0.0101\n",
            "Epoch 1152/1200\n",
            "1/1 [==============================] - 0s 10ms/step - loss: 1.3786e-04 - mae: 0.0101\n",
            "Epoch 1153/1200\n",
            "1/1 [==============================] - 0s 11ms/step - loss: 1.3693e-04 - mae: 0.0100\n",
            "Epoch 1154/1200\n",
            "1/1 [==============================] - 0s 10ms/step - loss: 1.3600e-04 - mae: 0.0100\n",
            "Epoch 1155/1200\n",
            "1/1 [==============================] - 0s 10ms/step - loss: 1.3508e-04 - mae: 0.0100\n",
            "Epoch 1156/1200\n",
            "1/1 [==============================] - 0s 9ms/step - loss: 1.3417e-04 - mae: 0.0099\n",
            "Epoch 1157/1200\n",
            "1/1 [==============================] - 0s 9ms/step - loss: 1.3327e-04 - mae: 0.0099\n",
            "Epoch 1158/1200\n",
            "1/1 [==============================] - 0s 9ms/step - loss: 1.3237e-04 - mae: 0.0099\n",
            "Epoch 1159/1200\n",
            "1/1 [==============================] - 0s 9ms/step - loss: 1.3148e-04 - mae: 0.0098\n",
            "Epoch 1160/1200\n",
            "1/1 [==============================] - 0s 10ms/step - loss: 1.3059e-04 - mae: 0.0098\n",
            "Epoch 1161/1200\n",
            "1/1 [==============================] - 0s 10ms/step - loss: 1.2970e-04 - mae: 0.0098\n",
            "Epoch 1162/1200\n",
            "1/1 [==============================] - 0s 12ms/step - loss: 1.2883e-04 - mae: 0.0097\n",
            "Epoch 1163/1200\n",
            "1/1 [==============================] - 0s 13ms/step - loss: 1.2796e-04 - mae: 0.0097\n",
            "Epoch 1164/1200\n",
            "1/1 [==============================] - 0s 14ms/step - loss: 1.2710e-04 - mae: 0.0097\n",
            "Epoch 1165/1200\n",
            "1/1 [==============================] - 0s 10ms/step - loss: 1.2624e-04 - mae: 0.0096\n",
            "Epoch 1166/1200\n",
            "1/1 [==============================] - 0s 9ms/step - loss: 1.2538e-04 - mae: 0.0096\n",
            "Epoch 1167/1200\n",
            "1/1 [==============================] - 0s 18ms/step - loss: 1.2454e-04 - mae: 0.0096\n",
            "Epoch 1168/1200\n",
            "1/1 [==============================] - 0s 14ms/step - loss: 1.2370e-04 - mae: 0.0095\n",
            "Epoch 1169/1200\n",
            "1/1 [==============================] - 0s 15ms/step - loss: 1.2287e-04 - mae: 0.0095\n",
            "Epoch 1170/1200\n",
            "1/1 [==============================] - 0s 15ms/step - loss: 1.2204e-04 - mae: 0.0095\n",
            "Epoch 1171/1200\n",
            "1/1 [==============================] - 0s 12ms/step - loss: 1.2121e-04 - mae: 0.0094\n",
            "Epoch 1172/1200\n",
            "1/1 [==============================] - 0s 12ms/step - loss: 1.2040e-04 - mae: 0.0094\n",
            "Epoch 1173/1200\n",
            "1/1 [==============================] - 0s 10ms/step - loss: 1.1958e-04 - mae: 0.0094\n",
            "Epoch 1174/1200\n",
            "1/1 [==============================] - 0s 13ms/step - loss: 1.1877e-04 - mae: 0.0094\n",
            "Epoch 1175/1200\n",
            "1/1 [==============================] - 0s 13ms/step - loss: 1.1797e-04 - mae: 0.0093\n",
            "Epoch 1176/1200\n",
            "1/1 [==============================] - 0s 13ms/step - loss: 1.1718e-04 - mae: 0.0093\n",
            "Epoch 1177/1200\n",
            "1/1 [==============================] - 0s 11ms/step - loss: 1.1638e-04 - mae: 0.0093\n",
            "Epoch 1178/1200\n",
            "1/1 [==============================] - 0s 12ms/step - loss: 1.1560e-04 - mae: 0.0092\n",
            "Epoch 1179/1200\n",
            "1/1 [==============================] - 0s 9ms/step - loss: 1.1482e-04 - mae: 0.0092\n",
            "Epoch 1180/1200\n",
            "1/1 [==============================] - 0s 10ms/step - loss: 1.1405e-04 - mae: 0.0092\n",
            "Epoch 1181/1200\n",
            "1/1 [==============================] - 0s 12ms/step - loss: 1.1327e-04 - mae: 0.0091\n",
            "Epoch 1182/1200\n",
            "1/1 [==============================] - 0s 13ms/step - loss: 1.1251e-04 - mae: 0.0091\n",
            "Epoch 1183/1200\n",
            "1/1 [==============================] - 0s 9ms/step - loss: 1.1174e-04 - mae: 0.0091\n",
            "Epoch 1184/1200\n",
            "1/1 [==============================] - 0s 11ms/step - loss: 1.1100e-04 - mae: 0.0090\n",
            "Epoch 1185/1200\n",
            "1/1 [==============================] - 0s 12ms/step - loss: 1.1024e-04 - mae: 0.0090\n",
            "Epoch 1186/1200\n",
            "1/1 [==============================] - 0s 11ms/step - loss: 1.0950e-04 - mae: 0.0090\n",
            "Epoch 1187/1200\n",
            "1/1 [==============================] - 0s 12ms/step - loss: 1.0877e-04 - mae: 0.0090\n",
            "Epoch 1188/1200\n",
            "1/1 [==============================] - 0s 11ms/step - loss: 1.0803e-04 - mae: 0.0089\n",
            "Epoch 1189/1200\n",
            "1/1 [==============================] - 0s 11ms/step - loss: 1.0730e-04 - mae: 0.0089\n",
            "Epoch 1190/1200\n",
            "1/1 [==============================] - 0s 11ms/step - loss: 1.0658e-04 - mae: 0.0089\n",
            "Epoch 1191/1200\n",
            "1/1 [==============================] - 0s 9ms/step - loss: 1.0585e-04 - mae: 0.0088\n",
            "Epoch 1192/1200\n",
            "1/1 [==============================] - 0s 13ms/step - loss: 1.0514e-04 - mae: 0.0088\n",
            "Epoch 1193/1200\n",
            "1/1 [==============================] - 0s 9ms/step - loss: 1.0443e-04 - mae: 0.0088\n",
            "Epoch 1194/1200\n",
            "1/1 [==============================] - 0s 12ms/step - loss: 1.0373e-04 - mae: 0.0087\n",
            "Epoch 1195/1200\n",
            "1/1 [==============================] - 0s 12ms/step - loss: 1.0303e-04 - mae: 0.0087\n",
            "Epoch 1196/1200\n",
            "1/1 [==============================] - 0s 10ms/step - loss: 1.0233e-04 - mae: 0.0087\n",
            "Epoch 1197/1200\n",
            "1/1 [==============================] - 0s 13ms/step - loss: 1.0164e-04 - mae: 0.0087\n",
            "Epoch 1198/1200\n",
            "1/1 [==============================] - 0s 11ms/step - loss: 1.0096e-04 - mae: 0.0086\n",
            "Epoch 1199/1200\n",
            "1/1 [==============================] - 0s 12ms/step - loss: 1.0027e-04 - mae: 0.0086\n",
            "Epoch 1200/1200\n",
            "1/1 [==============================] - 0s 10ms/step - loss: 9.9595e-05 - mae: 0.0086\n"
          ]
        }
      ]
    },
    {
      "cell_type": "markdown",
      "source": [
        "=> 충분한 epoch 동안 훈련한 후 mse, mae 모두 개선"
      ],
      "metadata": {
        "id": "FqPHQzX_I0HE"
      }
    },
    {
      "cell_type": "code",
      "source": [
        "import matplotlib.pyplot as plt\n",
        "\n",
        "# 20 epoch까지 loss 수렴에 대한 시각화\n",
        "plt.plot(history.history['loss'], label='loss')\n",
        "plt.plot(history.history['mae'], label='mae')\n",
        "plt.xlim(-1, 20)\n",
        "plt.title('loss')\n",
        "plt.legend()\n",
        "plt.show()"
      ],
      "metadata": {
        "id": "P0dd0R0dIyt0",
        "colab": {
          "base_uri": "https://localhost:8080/",
          "height": 452
        },
        "outputId": "0abb6ebf-ba2f-4cd7-d6c6-38abfcc8dff7"
      },
      "execution_count": null,
      "outputs": [
        {
          "output_type": "display_data",
          "data": {
            "text/plain": [
              "<Figure size 640x480 with 1 Axes>"
            ],
            "image/png": "[encoded data removed]"
          },
          "metadata": {}
        }
      ]
    },
    {
      "cell_type": "markdown",
      "source": [
        "=> 모델 훈련 초기 단계에는 학습이 매우 빠른 속도로 진행되다가 일정 epoch 이후에는 학습 속도가 느려지는 패턴 보임"
      ],
      "metadata": {
        "id": "iY2NDoxuI7GY"
      }
    },
    {
      "cell_type": "markdown",
      "source": [
        "### 2-9 검증\n",
        "\n",
        "모델 인스턴스의 **evaluate()** 메소드로 모델의 성능 검증\n",
        "\n",
        "* 일반적으로 사전에 별도의 검증 데이터셋 준비하여 모델 성능 평가 -> 교차 검증\n",
        "  + 교차 검증 방법에는 홀드아웃(Hold-out), K-Fold 교차 검증 등"
      ],
      "metadata": {
        "id": "A4SaBDH-JDsG"
      }
    },
    {
      "cell_type": "code",
      "source": [
        "# 검증\n",
        "model.evaluate(x, y)"
      ],
      "metadata": {
        "id": "07Cc_T3hL3S_",
        "colab": {
          "base_uri": "https://localhost:8080/"
        },
        "outputId": "8241740e-22e0-49de-a086-57c764c6c2f8"
      },
      "execution_count": null,
      "outputs": [
        {
          "output_type": "stream",
          "name": "stdout",
          "text": [
            "1/1 [==============================] - 0s 194ms/step - loss: 9.8922e-05 - mae: 0.0085\n"
          ]
        },
        {
          "output_type": "execute_result",
          "data": {
            "text/plain": [
              "[9.892238449538127e-05, 0.008536910638213158]"
            ]
          },
          "metadata": {},
          "execution_count": 20
        }
      ]
    },
    {
      "cell_type": "markdown",
      "source": [
        "### 2-10 예측\n",
        "\n",
        "훈련 완료된 모델 인스턴스의 **predict()** 메소드에 새로운 입력 데이터 넣어 주면 모델의 예측 값 얻을 수 있다"
      ],
      "metadata": {
        "id": "Pk9Jc_bLLxAt"
      }
    },
    {
      "cell_type": "code",
      "source": [
        "# 예측\n",
        "model.predict([10])"
      ],
      "metadata": {
        "id": "tfhX7x7PMBzi",
        "colab": {
          "base_uri": "https://localhost:8080/"
        },
        "outputId": "b8e22133-dabd-4127-c2bf-d0424c43c121"
      },
      "execution_count": null,
      "outputs": [
        {
          "output_type": "stream",
          "name": "stdout",
          "text": [
            "1/1 [==============================] - 0s 137ms/step\n"
          ]
        },
        {
          "output_type": "execute_result",
          "data": {
            "text/plain": [
              "array([[32.04126]], dtype=float32)"
            ]
          },
          "metadata": {},
          "execution_count": 21
        }
      ]
    },
    {
      "cell_type": "markdown",
      "source": [
        "## 03. 심층 신경망으로 이미지 분류\n",
        "\n",
        "\n",
        "\n",
        "---\n",
        "\n",
        "\n",
        "이미지 분류를 위해 단층이 아닌 더 깊은 층을 쌓아 깊이가 있는 딥러닝 모델 생성"
      ],
      "metadata": {
        "id": "4HzNn1UVME71"
      }
    },
    {
      "cell_type": "markdown",
      "source": [
        "### 3-1 케라스 내장 데이터셋 로드\n",
        "\n",
        "* 케라스는 샘플 데이터셋 제공 tensorflow.keras.datasets\n",
        "  + boston_housing : 보스톤 주택 가격 데이터셋(회귀)\n",
        "  + cifar10 : CIFAR10 이미지 분류 데이터셋(분류)\n",
        "  + cifar100 : CIFAR100 이미지 분류 데이터셋(분류)\n",
        "  + mnist : mnist 손글씨 데이터셋(분류)\n",
        "  + fashion_mnist : 의류 데이터셋(분류)\n",
        "  + imdb : IMDb 영화 데이터셋(분류)\n",
        "  + reuters : Reuters 뉴스 토픽(분류)\n",
        "\n",
        "* 데이터 불러오기 위해 load_data() 메소드 사용\n",
        "  + 훈련 데이터셋과 검증 데이터셋 구분하여 제공"
      ],
      "metadata": {
        "id": "UtgUrrH-MVWO"
      }
    },
    {
      "cell_type": "code",
      "source": [
        "import tensorflow as tf\n",
        "\n",
        "# 케라스 내장 데이터셋에서 mnist 데이터셋 로드\n",
        "mnist=tf.keras.datasets.mnist"
      ],
      "metadata": {
        "id": "RxJpaIYSOzGk"
      },
      "execution_count": null,
      "outputs": []
    },
    {
      "cell_type": "code",
      "source": [
        "# load data()로 데이터셋 로드\n",
        "(x_train, y_train), (x_test, y_test) = mnist.load_data()"
      ],
      "metadata": {
        "id": "HyYau5LSO27B",
        "colab": {
          "base_uri": "https://localhost:8080/"
        },
        "outputId": "dbf1f79a-55f5-4169-c5fe-ea0b94a39ddc"
      },
      "execution_count": null,
      "outputs": [
        {
          "output_type": "stream",
          "name": "stdout",
          "text": [
            "Downloading data from https://storage.googleapis.com/tensorflow/tf-keras-datasets/mnist.npz\n",
            "11490434/11490434 [==============================] - 0s 0us/step\n"
          ]
        }
      ]
    },
    {
      "cell_type": "code",
      "source": [
        "print(\"train set: \", x_train.shape, y_train.shape)\n",
        "print(\"test set: \", x_test.shape, y_test.shape)"
      ],
      "metadata": {
        "id": "cTw_JTsBO8IK",
        "colab": {
          "base_uri": "https://localhost:8080/"
        },
        "outputId": "8bfa5620-3108-4325-e21a-1b2698b1d319"
      },
      "execution_count": null,
      "outputs": [
        {
          "output_type": "stream",
          "name": "stdout",
          "text": [
            "train set:  (60000, 28, 28) (60000,)\n",
            "test set:  (10000, 28, 28) (10000,)\n"
          ]
        }
      ]
    },
    {
      "cell_type": "markdown",
      "source": [
        "=> 훈련 셋에는 60000개의 데이터. 검증 셋에는 10000개 데이터 저장되어 있다\n",
        "\n",
        "=> shape의 첫 번째는 데이터셋의 크기, 나머지는 순서대로 이미지의 세로, 가로의 픽셀 크기"
      ],
      "metadata": {
        "id": "WYkETVRlO8gC"
      }
    },
    {
      "cell_type": "code",
      "source": [
        "#데이터 시각화\n",
        "import matplotlib.pyplot as plt\n",
        "\n",
        "#canvas 생성\n",
        "fig, axes=plt.subplots(3,5)\n",
        "fig.set_size_inches(8,5)\n",
        "\n",
        "for i in range(15):\n",
        "  ax=axes[i//5, i%5]\n",
        "  #imshow로 이미지 시각화\n",
        "  ax.imshow(x_train[i], cmap='gray')\n",
        "  ax.axis('off')\n",
        "  ax.set_title(str(y_train[i]))\n",
        "\n",
        "plt.tight_layout()\n",
        "plt.show()"
      ],
      "metadata": {
        "id": "SReFAqSJPUQI",
        "colab": {
          "base_uri": "https://localhost:8080/",
          "height": 510
        },
        "outputId": "f3dfc135-84d4-41c5-ee77-55e37c2cc842"
      },
      "execution_count": null,
      "outputs": [
        {
          "output_type": "display_data",
          "data": {
            "text/plain": [
              "<Figure size 800x500 with 15 Axes>"
            ],
            "image/png": "[encoded data removed]"
          },
          "metadata": {}
        }
      ]
    },
    {
      "cell_type": "markdown",
      "source": [
        "* mnist 데이터셋 : 사람의 필기체로 쓰인 0~9까지의 숫자들로 이루어진 데이터셋. 총 10개의 정답 레이블로 구성"
      ],
      "metadata": {
        "id": "ptomFDfBPc7s"
      }
    },
    {
      "cell_type": "markdown",
      "source": [
        "### 3-2 데이터 전처리\n",
        "\n",
        "이미지 데이터에 대하여 **정규화**를 통해 데이터의 범위 조절"
      ],
      "metadata": {
        "id": "GnbDVeCWPmDc"
      }
    },
    {
      "cell_type": "code",
      "source": [
        "# x_train 배열의 데이터 확인\n",
        "x_train[0, 10:15, 10:15] #배열의 각 원소는 이미지를 구성하는 하나의 픽셀 값과 일대일 대칭"
      ],
      "metadata": {
        "id": "Sb2wkhjEQJlh",
        "colab": {
          "base_uri": "https://localhost:8080/"
        },
        "outputId": "bf61fe60-a812-49b5-bf67-9538fe2d32e4"
      },
      "execution_count": null,
      "outputs": [
        {
          "output_type": "execute_result",
          "data": {
            "text/plain": [
              "array([[  1, 154, 253,  90,   0],\n",
              "       [  0, 139, 253, 190,   2],\n",
              "       [  0,  11, 190, 253,  70],\n",
              "       [  0,   0,  35, 241, 225],\n",
              "       [  0,   0,   0,  81, 240]], dtype=uint8)"
            ]
          },
          "metadata": {},
          "execution_count": 26
        }
      ]
    },
    {
      "cell_type": "markdown",
      "source": [
        "=> 0~255 사이의 값. 데이터의 범위를 0 ~ 1로 정규화하기 위해 255로 나눈다"
      ],
      "metadata": {
        "id": "pNq0ctkuQSbW"
      }
    },
    {
      "cell_type": "code",
      "source": [
        "# 픽셀 값의 최소/최대값 확인\n",
        "print(f\"정규화 전] 최소값: {x_train.min()}, 최대값: {x_train.max()}\") # 0~255\n",
        "\n",
        "# 데이터 정규화\n",
        "x_train = x_train/x_train.max()\n",
        "\n",
        "# 정규화 후 최소/최대값 확인\n",
        "print(f\"정규화 후] 최소값: {x_train.min()}, 최대값: {x_train.max()}\") # 0~1"
      ],
      "metadata": {
        "id": "FnNs32q8QQhV",
        "colab": {
          "base_uri": "https://localhost:8080/"
        },
        "outputId": "65f08ada-fb0d-41fd-9207-fdbff388c29d"
      },
      "execution_count": null,
      "outputs": [
        {
          "output_type": "stream",
          "name": "stdout",
          "text": [
            "정규화 전] 최소값: 0, 최대값: 255\n",
            "정규화 후] 최소값: 0.0, 최대값: 1.0\n"
          ]
        }
      ]
    },
    {
      "cell_type": "code",
      "source": [
        "# test set에도 정규화 동일 적용\n",
        "x_test = x_test / x_test.max()"
      ],
      "metadata": {
        "id": "KTUC7nxPQY_t"
      },
      "execution_count": null,
      "outputs": []
    },
    {
      "cell_type": "code",
      "source": [
        "# 변환 후 x_train 배열의 데이터 확인\n",
        "x_train[0, 10:15, 10:15]"
      ],
      "metadata": {
        "id": "QNF9ShBtQcPg",
        "colab": {
          "base_uri": "https://localhost:8080/"
        },
        "outputId": "c78139d1-399c-49f6-cf84-c7c331d1ce70"
      },
      "execution_count": null,
      "outputs": [
        {
          "output_type": "execute_result",
          "data": {
            "text/plain": [
              "array([[0.00392157, 0.60392157, 0.99215686, 0.35294118, 0.        ],\n",
              "       [0.        , 0.54509804, 0.99215686, 0.74509804, 0.00784314],\n",
              "       [0.        , 0.04313725, 0.74509804, 0.99215686, 0.2745098 ],\n",
              "       [0.        , 0.        , 0.1372549 , 0.94509804, 0.88235294],\n",
              "       [0.        , 0.        , 0.        , 0.31764706, 0.94117647]])"
            ]
          },
          "metadata": {},
          "execution_count": 29
        }
      ]
    },
    {
      "cell_type": "markdown",
      "source": [
        "* 정규화하는 이유 : 비정규화된 입력 데이터를 가질 때보다 더 빨리 수렴. 국소 최적에 빠지는 현상도 방지"
      ],
      "metadata": {
        "id": "lIoZyU95QsGE"
      }
    },
    {
      "cell_type": "markdown",
      "source": [
        "### 3-3 Flatten 레이어\n",
        "\n",
        "정규화를 하더라도 개별 데이터 값의 범위는 축소되지만, 원본 배열의 형태는 그대로 유지된다\n",
        "\n",
        "* 2차원 입력은 Dense 레이어에 입력값으로 넣을 수 없다 -> 반드시 입력값으로 1차원 배열 들어가야 한다"
      ],
      "metadata": {
        "id": "jJf3vhctQw6J"
      }
    },
    {
      "cell_type": "code",
      "source": [
        "print(f'변경 전 shape: {x_train.shape}')\n",
        "print(f'1D로 shape 변경 후: {x_train.reshape(60000, -1).shape}')"
      ],
      "metadata": {
        "id": "N2vnooimRWYm",
        "colab": {
          "base_uri": "https://localhost:8080/"
        },
        "outputId": "9dc81f0b-2de2-4814-9a18-7d43a26fc346"
      },
      "execution_count": null,
      "outputs": [
        {
          "output_type": "stream",
          "name": "stdout",
          "text": [
            "변경 전 shape: (60000, 28, 28)\n",
            "1D로 shape 변경 후: (60000, 784)\n"
          ]
        }
      ]
    },
    {
      "cell_type": "markdown",
      "source": [
        "* **Flatten 레이어** 사용하여 다차원 데이터를 1차원으로 펼쳐"
      ],
      "metadata": {
        "id": "OyH7J1KORZWT"
      }
    },
    {
      "cell_type": "code",
      "source": [
        "print(f'변경 전 shape: {x_train.shape}')\n",
        "\n",
        "# Flatten 레이어 적용 후 shape 확인\n",
        "print(f'Flatten 적용 후: {tf.keras.layers.Flatten()(x_train).shape}')"
      ],
      "metadata": {
        "id": "2tOwceWSRe64",
        "colab": {
          "base_uri": "https://localhost:8080/"
        },
        "outputId": "ea25d2f7-b73a-4e99-f751-812ff405d2c6"
      },
      "execution_count": null,
      "outputs": [
        {
          "output_type": "stream",
          "name": "stdout",
          "text": [
            "변경 전 shape: (60000, 28, 28)\n",
            "Flatten 적용 후: (60000, 784)\n"
          ]
        }
      ]
    },
    {
      "cell_type": "markdown",
      "source": [
        "### 3-4 활성화 함수\n",
        "\n",
        "**활성화 함수** : 입력을 비선형 출력으로 변환해주는 함수. 선형관계를 나타내는 함수에 비선형성을 추가하는 방법으로 표현\n",
        "\n",
        "* 시그모이드(Sigmoid), 하이퍼볼릭 탄젠트(Hyperbolic Tangent 혹은 tanh), ReLU(Rectified Unit), Leaky ReLU 등\n",
        "\n",
        "* **activation** 매개변수에 활성화 함수 문자열 대입"
      ],
      "metadata": {
        "id": "ruSqBAlIRhrs"
      }
    },
    {
      "cell_type": "code",
      "source": [
        "# Dense 레이어에 relu 활성화 함수를 적용한 경우\n",
        "tf.keras.layers.Dense(128, activation='relu')"
      ],
      "metadata": {
        "id": "f1FLdaFSSJC3",
        "colab": {
          "base_uri": "https://localhost:8080/"
        },
        "outputId": "d34fc739-19f6-4533-f237-5d2ec46d9f39"
      },
      "execution_count": null,
      "outputs": [
        {
          "output_type": "execute_result",
          "data": {
            "text/plain": [
              "<keras.layers.core.dense.Dense at 0x7ff7ce7c6b00>"
            ]
          },
          "metadata": {},
          "execution_count": 32
        }
      ]
    },
    {
      "cell_type": "markdown",
      "source": [
        "* 별도의 층처럼 적용할 수도 - Dense 레이어 다음에 배치 정규화를 적용한 후 활성화 함수를 적용하고자 할 때 많이 사용"
      ],
      "metadata": {
        "id": "cWughAvBThM4"
      }
    },
    {
      "cell_type": "code",
      "source": [
        "# Dense 레이어와 relu 활성화 함수 레이어를 별도 적용한 경우\n",
        "model=tf.keras.Sequential([\n",
        "    tf.keras.layers.Dense(128),\n",
        "    tf.keras.layers.Activation('relu')\n",
        "])"
      ],
      "metadata": {
        "id": "rxqzcL5ATtbF"
      },
      "execution_count": null,
      "outputs": []
    },
    {
      "cell_type": "markdown",
      "source": [
        "### 3-5 입력과 출력\n",
        "\n",
        "* 딥러닝 모델 만들 때 입력 데이터의 형태를 나타내는 input_shape 매개변수 지정하는 것 일반적\n",
        "\n",
        "* 가장 마지막 레이어인 출력층의 노드 개수는 반드시 분류해야 할 클래스의 개수와 동일"
      ],
      "metadata": {
        "id": "rPwrSvvNTu9P"
      }
    },
    {
      "cell_type": "code",
      "source": [
        "model=tf.keras.Sequential([\n",
        "    tf.keras.layers.Flatten(input_shape=(28, 28)),\n",
        "    tf.keras.layers.Dense(256, activation='relu'),\n",
        "    tf.keras.layers.Dense(64, activation='relu'),\n",
        "    tf.keras.layers.Dense(32, activation='relu'),\n",
        "    # 노드=10개(클래스 개수와 동일)\n",
        "    tf.keras.layers.Dense(10, activation='softmax'),\n",
        "])"
      ],
      "metadata": {
        "id": "gVDYJYkEUjR5"
      },
      "execution_count": null,
      "outputs": []
    },
    {
      "cell_type": "markdown",
      "source": [
        "* 모델의 깊이(레이어의 개수)와 너비(각 레이어를 구성하는 노드의 개수)에 대한 정답은 없다 -> 여러 가지 시도를 통해서 최적의 모델 형태 찾을 필요가 있다\n",
        "\n",
        ">* 다중 분류 문제에서는 **softmax** 활성화 함수 사용해야 한다\n",
        ">* 이진 분류 모델에서는 **sigmoid** 활성화 함수 적용해야 한다\n",
        "  + 이진 분류 모델이더라도 출력 레이어의 클래스를 원핫 인코딩으로 변환하여 노드 개수가 2개인 경우에는 softmax 함수 사용"
      ],
      "metadata": {
        "id": "7AP2UjiKVA5b"
      }
    },
    {
      "cell_type": "code",
      "source": [
        "# 출력층 노드 = 1 인 경우, sigmoid\n",
        "tf.keras.layers.Dense(1, activation='sigmoid')\n",
        "# 출력층 노드 = 2 이상인 경우, softmax\n",
        "tf.keras.layers.Dense(10, activation='softmax')"
      ],
      "metadata": {
        "id": "UNnVnzQkWmsj",
        "colab": {
          "base_uri": "https://localhost:8080/"
        },
        "outputId": "7934c273-0670-4aa1-ec46-96987dbcfb7d"
      },
      "execution_count": null,
      "outputs": [
        {
          "output_type": "execute_result",
          "data": {
            "text/plain": [
              "<keras.layers.core.dense.Dense at 0x7ff7e2f32620>"
            ]
          },
          "metadata": {},
          "execution_count": 35
        }
      ]
    },
    {
      "cell_type": "markdown",
      "source": [
        "### 3-6 손실함수\n",
        "\n",
        "분류 모델의 손실함수는 모델의 출력층에 따라 설정"
      ],
      "metadata": {
        "id": "2jw-Zh5IWpru"
      }
    },
    {
      "cell_type": "markdown",
      "source": [
        "![KakaoTalk_20230522_111446977.jpg](data:image/jpeg;base64,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)"
      ],
      "metadata": {
        "id": "tFAjVgAMPWa6"
      }
    },
    {
      "cell_type": "markdown",
      "source": [
        "* 이진 분류기 생성 시, 출력층의 노드 개수가 1 -> activation='sigmoid'. 손실함수는 'binary_crossentropy'"
      ],
      "metadata": {
        "id": "mFmNSzYePxWj"
      }
    },
    {
      "cell_type": "code",
      "source": [
        "# 이진 분류 (출력 노드 개수 =1, sigmoid인 경우)\n",
        "model.compile(loss='binary_crossentropy')"
      ],
      "metadata": {
        "id": "30v6fQcHPXmx"
      },
      "execution_count": null,
      "outputs": []
    },
    {
      "cell_type": "markdown",
      "source": [
        "* 출력층의 노드 개수가 2개 이상인 경우 -> activation='softmax'. 손실함수는 'categorical_crossentropy' 혹은 'sparse_categorical_crossentropy'\n",
        "  + 출력 데이터(y)가 원핫 벡터인 경우 'categorical_crossentropy' 지정"
      ],
      "metadata": {
        "id": "B3UPSanXP6LS"
      }
    },
    {
      "cell_type": "code",
      "source": [
        "# y가 원핫 벡터인 경우\n",
        "# [0.. 0.. 0.. 1.. 0..]\n",
        "model.compile(loss='categorical_crossentropy')\n",
        "# y가 원핫 벡터가 아닌 경우 -> mnist의 경우\n",
        "# [5]\n",
        "model.compile(loss='sparse_categorical_crossentropy')"
      ],
      "metadata": {
        "id": "or0z12QpPl-B"
      },
      "execution_count": null,
      "outputs": []
    },
    {
      "cell_type": "markdown",
      "source": [
        "### 3-7 옵티마이저\n",
        "\n",
        "**옵티마이저(optimizer)** : 손실을 낮추기 위해서, 신경망의 가중치와 학습률와 같은 신경망의 속성을 변경하는 데 사용되는 최적화 방법\n",
        "\n",
        "* 일반적으로 많이 사용되는 알고리즘은 **Adam**\n",
        "\n",
        "* 케라스에서 지원하는 옵티마이저 목록\n",
        "  + SGD\n",
        "  + Adam\n",
        "  + Adagrad\n",
        "  + Nadam\n",
        "  + RMSprop\n",
        "  + Adadelta\n",
        "  + Adamax\n",
        "  + Ftrl\n",
        "\n",
        "* 옵티마이저는 클래스 인스턴스로 지정하거나 문자열로 지정 가능\n",
        "  + 문자열로 지정할 때는 클래스 이름을 소문자로 표기\n",
        "  + 클래스 인스턴스로 지정할 때는 하이퍼파라미터 직접 설정 가능"
      ],
      "metadata": {
        "id": "V1pipuoTQPEI"
      }
    },
    {
      "cell_type": "code",
      "source": [
        "# 클래스 인스턴스로 지정\n",
        "adam=tf.keras.optimizers.Adam(learning_rate=0.001)\n",
        "model.compile(optimizer=adam)\n",
        "\n",
        "# 문자열로 지정\n",
        "model.compile(optimizer=['adam'])"
      ],
      "metadata": {
        "id": "AyQNsEdbQ9Iz"
      },
      "execution_count": null,
      "outputs": []
    },
    {
      "cell_type": "markdown",
      "source": [
        "### 3-8 평가지표\n",
        "\n",
        "분류 모델에 대한 **평가지표(metrics)**는 정확도 'accuracy' 가장 많이 사용.\n",
        "\n",
        "* 'auc', 'precision', 'recall' 등의 지표도 많이 사용\n",
        "* 클래스 인스턴스로 지정하거나 문자열로 지정 가능"
      ],
      "metadata": {
        "id": "36mPx6VWRHn2"
      }
    },
    {
      "cell_type": "code",
      "source": [
        "# 클래스 인스턴스로 지정\n",
        "acc=tf.keras.metrics.SparseCategoricalAccuracy()\n",
        "\n",
        "model.compile(optimizer='adam',\n",
        "              loss='sparse_categorical_crossentropy',\n",
        "              metrics=[acc])"
      ],
      "metadata": {
        "id": "KVbW6W8XRb7z"
      },
      "execution_count": null,
      "outputs": []
    },
    {
      "cell_type": "code",
      "source": [
        "# 문자열로 지정\n",
        "model.compile(optimizer='adam',\n",
        "              loss='sparse_categorical_crossentropy',\n",
        "              metrics=['accuracy'])"
      ],
      "metadata": {
        "id": "HNmsTp_fReiy"
      },
      "execution_count": null,
      "outputs": []
    },
    {
      "cell_type": "markdown",
      "source": [
        "### 3-9 훈련\n",
        "\n",
        "모델을 훈련할 때 검증 셋을 추가 지정하면, 매 epoch마다 훈련 손실과 검증 손실, 각 셋에 대한 평가지표 나란히 출력\n",
        "\n",
        "-> validation_data 매개변수에 투플 형식의 검증 셋 지정해주면 된다"
      ],
      "metadata": {
        "id": "6WfUXhW4Rl_v"
      }
    },
    {
      "cell_type": "code",
      "source": [
        "# 훈련\n",
        "model.fit(x_train, y_train,\n",
        "          # 검증 셋 지정\n",
        "          validation_data=(x_test, y_test),\n",
        "          epochs=10)"
      ],
      "metadata": {
        "colab": {
          "base_uri": "https://localhost:8080/"
        },
        "id": "hV9b-1JpR3o6",
        "outputId": "ec90bb6d-7d29-4c22-b790-7ae497859a4f"
      },
      "execution_count": null,
      "outputs": [
        {
          "output_type": "stream",
          "name": "stdout",
          "text": [
            "Epoch 1/10\n",
            "1875/1875 [==============================] - 14s 7ms/step - loss: 0.2275 - accuracy: 0.9325 - val_loss: 0.1203 - val_accuracy: 0.9653\n",
            "Epoch 2/10\n",
            "1875/1875 [==============================] - 11s 6ms/step - loss: 0.0934 - accuracy: 0.9714 - val_loss: 0.0919 - val_accuracy: 0.9706\n",
            "Epoch 3/10\n",
            "1875/1875 [==============================] - 11s 6ms/step - loss: 0.0658 - accuracy: 0.9790 - val_loss: 0.0771 - val_accuracy: 0.9755\n",
            "Epoch 4/10\n",
            "1875/1875 [==============================] - 11s 6ms/step - loss: 0.0499 - accuracy: 0.9836 - val_loss: 0.0835 - val_accuracy: 0.9749\n",
            "Epoch 5/10\n",
            "1875/1875 [==============================] - 11s 6ms/step - loss: 0.0373 - accuracy: 0.9879 - val_loss: 0.0726 - val_accuracy: 0.9803\n",
            "Epoch 6/10\n",
            "1875/1875 [==============================] - 11s 6ms/step - loss: 0.0333 - accuracy: 0.9885 - val_loss: 0.0837 - val_accuracy: 0.9773\n",
            "Epoch 7/10\n",
            "1875/1875 [==============================] - 11s 6ms/step - loss: 0.0281 - accuracy: 0.9906 - val_loss: 0.0887 - val_accuracy: 0.9768\n",
            "Epoch 8/10\n",
            "1875/1875 [==============================] - 11s 6ms/step - loss: 0.0256 - accuracy: 0.9912 - val_loss: 0.0966 - val_accuracy: 0.9764\n",
            "Epoch 9/10\n",
            "1875/1875 [==============================] - 11s 6ms/step - loss: 0.0228 - accuracy: 0.9921 - val_loss: 0.0811 - val_accuracy: 0.9803\n",
            "Epoch 10/10\n",
            "1875/1875 [==============================] - 13s 7ms/step - loss: 0.0184 - accuracy: 0.9939 - val_loss: 0.0971 - val_accuracy: 0.9770\n"
          ]
        },
        {
          "output_type": "execute_result",
          "data": {
            "text/plain": [
              "<keras.callbacks.History at 0x7ff7cebdddb0>"
            ]
          },
          "metadata": {},
          "execution_count": 41
        }
      ]
    },
    {
      "cell_type": "markdown",
      "source": [
        "### 3-10 평가\n",
        "\n",
        "훈련이 종료된 뒤 evaluate() 메소드로 모델 성능 검증하고 평가 결과 확인. 검증 셋인 x_test, y_test 함수에 전달\n",
        "\n",
        "* evaluate() 메소드는 컴파일 단계에서 지정한 손실과 정확도 순서대로 반환"
      ],
      "metadata": {
        "id": "AYOwUW0MR9kj"
      }
    },
    {
      "cell_type": "markdown",
      "source": [
        "### 3-11 예측\n",
        "\n",
        "predict() 메소드에 이미지 데이터 넣어주면 모델의 예측 결과 반환"
      ],
      "metadata": {
        "id": "sTztsoedSSdj"
      }
    },
    {
      "cell_type": "code",
      "source": [
        "# 예측\n",
        "predictions=model.predict(x_test)   # 새로운 데이터셋 준비x"
      ],
      "metadata": {
        "colab": {
          "base_uri": "https://localhost:8080/"
        },
        "id": "HqGesZgySiDC",
        "outputId": "aa0b4fbc-a2f1-43f1-e9dc-57f649412c94"
      },
      "execution_count": null,
      "outputs": [
        {
          "output_type": "stream",
          "name": "stdout",
          "text": [
            "313/313 [==============================] - 1s 2ms/step\n"
          ]
        }
      ]
    },
    {
      "cell_type": "markdown",
      "source": [
        "* predictions 변수에 모델이 예측한 분류 결과를 넘파이 배열 형태로 저장"
      ],
      "metadata": {
        "id": "TDKUs3bASnCz"
      }
    },
    {
      "cell_type": "code",
      "source": [
        "# 예측 결과 출력\n",
        "predictions[0]"
      ],
      "metadata": {
        "colab": {
          "base_uri": "https://localhost:8080/"
        },
        "id": "xTUBbherSr1b",
        "outputId": "ad5e5700-5aae-46c1-85d0-b8a99e65c38c"
      },
      "execution_count": null,
      "outputs": [
        {
          "output_type": "execute_result",
          "data": {
            "text/plain": [
              "array([2.2798142e-13, 6.6973918e-08, 1.1012889e-08, 2.2986719e-10,\n",
              "       2.8109530e-06, 1.7693408e-10, 5.7349242e-15, 9.9999636e-01,\n",
              "       3.9211495e-11, 5.7688476e-07], dtype=float32)"
            ]
          },
          "metadata": {},
          "execution_count": 43
        }
      ]
    },
    {
      "cell_type": "markdown",
      "source": [
        "* softmax 활성화 함수 거친 출력 값은 개별 클래스에 대한 분류 확률값\n",
        "  + 가장 높은 확률값을 가진 클래스가 최종 예측된 클래스"
      ],
      "metadata": {
        "id": "6TJDKiIhSsgN"
      }
    },
    {
      "cell_type": "code",
      "source": [
        "import numpy as np\n",
        "\n",
        "# 0번 index에 대한 예측 클래스 출력\n",
        "print(np.argmax(predictions[0]))\n",
        "\n",
        "# 첫 10개 index에 대한 예측 클래스 출력\n",
        "print(np.argmax(predictions[:10], axis=1))"
      ],
      "metadata": {
        "colab": {
          "base_uri": "https://localhost:8080/"
        },
        "id": "Q-6DA5LaS0uc",
        "outputId": "98402f94-750b-4709-9555-26e48b65e5e8"
      },
      "execution_count": null,
      "outputs": [
        {
          "output_type": "stream",
          "name": "stdout",
          "text": [
            "7\n",
            "[7 2 1 0 4 1 4 9 5 9]\n"
          ]
        }
      ]
    },
    {
      "cell_type": "code",
      "source": [
        "# 데이터 시각화\n",
        "import matplotlib.pyplot as plt\n",
        "def get_one_result(idx):\n",
        "  img, y_true, y_pred, confidence=x_test[idx], y_test[idx], np.argmax(predictions[idx]), 100*np.max(predictions[idx])\n",
        "  return img, y_true, y_pred, confidence\n",
        "\n",
        "# canvas 생성\n",
        "fig, axes=plt.subplots(3,5)\n",
        "fig.set_size_inches(12, 10)\n",
        "for i in range(15):\n",
        "  ax=axes[i//5, i%5]\n",
        "  img, y_true, y_pred, confidence=get_one_result(i)\n",
        "  #imshow로 시각화\n",
        "  ax.imshow(img, cmap='gray')\n",
        "  ax.set_xticks([])\n",
        "  ax.set_yticks([])\n",
        "  ax.set_title(f'True: {y_true}')\n",
        "  ax.set_xlabel(f'Prediction: {y_pred}\\nConfidence: ({confidence:.2f} %)')\n",
        "plt.tight_layout()\n",
        "plt.show()"
      ],
      "metadata": {
        "colab": {
          "base_uri": "https://localhost:8080/",
          "height": 966
        },
        "id": "1TBIZyA7S5ny",
        "outputId": "4db96209-23f7-4066-b4ce-de2c4e9b2f2a"
      },
      "execution_count": null,
      "outputs": [
        {
          "output_type": "display_data",
          "data": {
            "text/plain": [
              "<Figure size 1200x1000 with 15 Axes>"
            ],
            "image/png": "[encoded data removed]"
          },
          "metadata": {}
        }
      ]
    }
  ]
}