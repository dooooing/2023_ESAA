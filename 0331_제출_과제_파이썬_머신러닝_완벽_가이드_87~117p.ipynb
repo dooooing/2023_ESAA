{
  "cells": [
    {
      "cell_type": "markdown",
      "metadata": {
        "id": "view-in-github",
        "colab_type": "text"
      },
      "source": [
        "<a href=\"https://colab.research.google.com/github/dooooing/2023-ESAA-/blob/main/0331_%EC%A0%9C%EC%B6%9C_%EA%B3%BC%EC%A0%9C_%ED%8C%8C%EC%9D%B4%EC%8D%AC_%EB%A8%B8%EC%8B%A0%EB%9F%AC%EB%8B%9D_%EC%99%84%EB%B2%BD_%EA%B0%80%EC%9D%B4%EB%93%9C_87~117p.ipynb\" target=\"_parent\"><img src=\"https://colab.research.google.com/assets/colab-badge.svg\" alt=\"Open In Colab\"/></a>"
      ]
    },
    {
      "cell_type": "markdown",
      "id": "1a4444b8",
      "metadata": {
        "id": "1a4444b8"
      },
      "source": [
        "# 02 사이킷런으로 시작하는 머신러닝"
      ]
    },
    {
      "cell_type": "markdown",
      "id": "f44b560f",
      "metadata": {
        "id": "f44b560f"
      },
      "source": [
        "## 1. 사이킷런 소개와 특징\n",
        "\n",
        "### 사이킷런(scikit-learn)\n",
        "- 파이썬 머신러닝 라이브러리 중 가장 많이 사용되는 라이브러리\n",
        "- 쉽고 가장 파이썬스러운 API 제공\n",
        "머신러닝을 위한 매우 다양한 알고리즘과 개발을 위한 편리한 프레임워크, API 제공\n",
        "- 오랜 기간 실전 환경에서 검증됐으며, 매우 많은 환경에서 사용됨."
      ]
    },
    {
      "cell_type": "code",
      "execution_count": null,
      "id": "e26990e7",
      "metadata": {
        "colab": {
          "base_uri": "https://localhost:8080/"
        },
        "id": "e26990e7",
        "outputId": "ffbd5bdb-f721-46cf-ab4f-be6af45b6118"
      },
      "outputs": [
        {
          "output_type": "stream",
          "name": "stdout",
          "text": [
            "Looking in indexes: https://pypi.org/simple, https://us-python.pkg.dev/colab-wheels/public/simple/\n",
            "Requirement already satisfied: scikit-learn in /usr/local/lib/python3.9/dist-packages (1.2.2)\n",
            "Requirement already satisfied: scipy>=1.3.2 in /usr/local/lib/python3.9/dist-packages (from scikit-learn) (1.10.1)\n",
            "Requirement already satisfied: threadpoolctl>=2.0.0 in /usr/local/lib/python3.9/dist-packages (from scikit-learn) (3.1.0)\n",
            "Requirement already satisfied: joblib>=1.1.1 in /usr/local/lib/python3.9/dist-packages (from scikit-learn) (1.1.1)\n",
            "Requirement already satisfied: numpy>=1.17.3 in /usr/local/lib/python3.9/dist-packages (from scikit-learn) (1.22.4)\n"
          ]
        }
      ],
      "source": [
        "pip install scikit-learn"
      ]
    },
    {
      "cell_type": "code",
      "execution_count": null,
      "id": "66d2003a",
      "metadata": {
        "colab": {
          "base_uri": "https://localhost:8080/"
        },
        "id": "66d2003a",
        "outputId": "6d31762d-258e-46ed-8374-410c49d7c6a0"
      },
      "outputs": [
        {
          "output_type": "stream",
          "name": "stdout",
          "text": [
            "1.2.2\n"
          ]
        }
      ],
      "source": [
        "import sklearn\n",
        "\n",
        "print(sklearn.__version__)"
      ]
    },
    {
      "cell_type": "markdown",
      "id": "833c544b",
      "metadata": {
        "id": "833c544b"
      },
      "source": [
        "## 2. 첫 번째 머신러닝 만들어 보기 - 불꽃 품종 예측하기"
      ]
    },
    {
      "cell_type": "markdown",
      "id": "d5e731b0",
      "metadata": {
        "id": "d5e731b0"
      },
      "source": [
        "붓꽃 데이터 세트로 붓꽃의 품종 분류하기 (Classification)    \n",
        "붓꽃 데이터 세트- 꽃잎의 길이, 너비, 꽃받침의 길이, 너비, 피처 기반으로 꽃을 품종을 예측하기 위한 것"
      ]
    },
    {
      "cell_type": "markdown",
      "id": "ddb8eb14",
      "metadata": {
        "id": "ddb8eb14"
      },
      "source": [
        "### 분류(Classification)  \n",
        "- 대표적인 지도학습(Supervised Learning) 방법의 하나\n",
        "- 지도학습: 명확한 정답이 주어진 데이터를 먼저 학습한 뒤 미지의 정답을 예측하는 방식\n",
        "- 학습 데이터 세트: 학습을 위해 주어진 데이터 세트\n",
        "- 테스트 데이터 세트: 머신러닝 모델의 예측 성능을 평가하기 위해 별도로 주어진 데이터 세트\n",
        "\n",
        "    \n",
        "**sklearn**: 사이킷런 패키지 내의 모듈명  \n",
        "**sklearn.datasets**: 사이킷런에서 자체적으로 제공하는 데이터 세트를 생성하는 모듈의 모임  \n",
        "**sklearn.tree**: 내의 모듈은 트리 기반 ML 알고리즘을 구현한 클래스의 모임  \n",
        "**sklearn.model_selection**: 학습 데이터, 검증 데이터, 예측 데이터로 데이터를 분리하거나 최적의 하이퍼 파라미터로 평가하기 위한 다양한 모듈의 모임  \n",
        "**하이퍼 파라미터**: 머신러닝 알고리즘별로 최적의 학습을 위해 직접 입력하는 파라미터들. 하이퍼 파라미터를 통해 머신러닝 알고리즘의 성능을 튜닝할 수 있다.  \n",
        "    \n",
        "load_iris() - 붓꽃 데이터 세트 생성  \n",
        "DecisionTreeClassifier - 의사 결정 트리(Decision Tree) ML 알고리즘  \n",
        "train_test_split() 함수 - 데이터 세트를 학습 데이터/테스트 데이터로 분리 "
      ]
    },
    {
      "cell_type": "code",
      "execution_count": null,
      "id": "b860d1d8",
      "metadata": {
        "id": "b860d1d8"
      },
      "outputs": [],
      "source": [
        "from sklearn.datasets import load_iris\n",
        "from sklearn.tree import DecisionTreeClassifier\n",
        "from sklearn.model_selection import train_test_split"
      ]
    },
    {
      "cell_type": "code",
      "execution_count": null,
      "id": "785b3c5e",
      "metadata": {
        "colab": {
          "base_uri": "https://localhost:8080/",
          "height": 252
        },
        "id": "785b3c5e",
        "outputId": "9d58ded7-63aa-4e65-d9fd-75506c5be827"
      },
      "outputs": [
        {
          "output_type": "stream",
          "name": "stdout",
          "text": [
            "iris target값: [0 0 0 0 0 0 0 0 0 0 0 0 0 0 0 0 0 0 0 0 0 0 0 0 0 0 0 0 0 0 0 0 0 0 0 0 0\n",
            " 0 0 0 0 0 0 0 0 0 0 0 0 0 1 1 1 1 1 1 1 1 1 1 1 1 1 1 1 1 1 1 1 1 1 1 1 1\n",
            " 1 1 1 1 1 1 1 1 1 1 1 1 1 1 1 1 1 1 1 1 1 1 1 1 1 1 2 2 2 2 2 2 2 2 2 2 2\n",
            " 2 2 2 2 2 2 2 2 2 2 2 2 2 2 2 2 2 2 2 2 2 2 2 2 2 2 2 2 2 2 2 2 2 2 2 2 2\n",
            " 2 2]\n",
            "iris target명: ['setosa' 'versicolor' 'virginica']\n"
          ]
        },
        {
          "output_type": "execute_result",
          "data": {
            "text/plain": [
              "   sepal length (cm)  sepal width (cm)  petal length (cm)  petal width (cm)  \\\n",
              "0                5.1               3.5                1.4               0.2   \n",
              "1                4.9               3.0                1.4               0.2   \n",
              "2                4.7               3.2                1.3               0.2   \n",
              "\n",
              "   label  \n",
              "0      0  \n",
              "1      0  \n",
              "2      0  "
            ],
            "text/html": [
              "\n",
              "  <div id=\"df-56745a68-af41-4e34-8b99-e5a3b97c56ea\">\n",
              "    <div class=\"colab-df-container\">\n",
              "      <div>\n",
              "<style scoped>\n",
              "    .dataframe tbody tr th:only-of-type {\n",
              "        vertical-align: middle;\n",
              "    }\n",
              "\n",
              "    .dataframe tbody tr th {\n",
              "        vertical-align: top;\n",
              "    }\n",
              "\n",
              "    .dataframe thead th {\n",
              "        text-align: right;\n",
              "    }\n",
              "</style>\n",
              "<table border=\"1\" class=\"dataframe\">\n",
              "  <thead>\n",
              "    <tr style=\"text-align: right;\">\n",
              "      <th></th>\n",
              "      <th>sepal length (cm)</th>\n",
              "      <th>sepal width (cm)</th>\n",
              "      <th>petal length (cm)</th>\n",
              "      <th>petal width (cm)</th>\n",
              "      <th>label</th>\n",
              "    </tr>\n",
              "  </thead>\n",
              "  <tbody>\n",
              "    <tr>\n",
              "      <th>0</th>\n",
              "      <td>5.1</td>\n",
              "      <td>3.5</td>\n",
              "      <td>1.4</td>\n",
              "      <td>0.2</td>\n",
              "      <td>0</td>\n",
              "    </tr>\n",
              "    <tr>\n",
              "      <th>1</th>\n",
              "      <td>4.9</td>\n",
              "      <td>3.0</td>\n",
              "      <td>1.4</td>\n",
              "      <td>0.2</td>\n",
              "      <td>0</td>\n",
              "    </tr>\n",
              "    <tr>\n",
              "      <th>2</th>\n",
              "      <td>4.7</td>\n",
              "      <td>3.2</td>\n",
              "      <td>1.3</td>\n",
              "      <td>0.2</td>\n",
              "      <td>0</td>\n",
              "    </tr>\n",
              "  </tbody>\n",
              "</table>\n",
              "</div>\n",
              "      <button class=\"colab-df-convert\" onclick=\"convertToInteractive('df-56745a68-af41-4e34-8b99-e5a3b97c56ea')\"\n",
              "              title=\"Convert this dataframe to an interactive table.\"\n",
              "              style=\"display:none;\">\n",
              "        \n",
              "  <svg xmlns=\"http://www.w3.org/2000/svg\" height=\"24px\"viewBox=\"0 0 24 24\"\n",
              "       width=\"24px\">\n",
              "    <path d=\"M0 0h24v24H0V0z\" fill=\"none\"/>\n",
              "    <path d=\"M18.56 5.44l.94 2.06.94-2.06 2.06-.94-2.06-.94-.94-2.06-.94 2.06-2.06.94zm-11 1L8.5 8.5l.94-2.06 2.06-.94-2.06-.94L8.5 2.5l-.94 2.06-2.06.94zm10 10l.94 2.06.94-2.06 2.06-.94-2.06-.94-.94-2.06-.94 2.06-2.06.94z\"/><path d=\"M17.41 7.96l-1.37-1.37c-.4-.4-.92-.59-1.43-.59-.52 0-1.04.2-1.43.59L10.3 9.45l-7.72 7.72c-.78.78-.78 2.05 0 2.83L4 21.41c.39.39.9.59 1.41.59.51 0 1.02-.2 1.41-.59l7.78-7.78 2.81-2.81c.8-.78.8-2.07 0-2.86zM5.41 20L4 18.59l7.72-7.72 1.47 1.35L5.41 20z\"/>\n",
              "  </svg>\n",
              "      </button>\n",
              "      \n",
              "  <style>\n",
              "    .colab-df-container {\n",
              "      display:flex;\n",
              "      flex-wrap:wrap;\n",
              "      gap: 12px;\n",
              "    }\n",
              "\n",
              "    .colab-df-convert {\n",
              "      background-color: #E8F0FE;\n",
              "      border: none;\n",
              "      border-radius: 50%;\n",
              "      cursor: pointer;\n",
              "      display: none;\n",
              "      fill: #1967D2;\n",
              "      height: 32px;\n",
              "      padding: 0 0 0 0;\n",
              "      width: 32px;\n",
              "    }\n",
              "\n",
              "    .colab-df-convert:hover {\n",
              "      background-color: #E2EBFA;\n",
              "      box-shadow: 0px 1px 2px rgba(60, 64, 67, 0.3), 0px 1px 3px 1px rgba(60, 64, 67, 0.15);\n",
              "      fill: #174EA6;\n",
              "    }\n",
              "\n",
              "    [theme=dark] .colab-df-convert {\n",
              "      background-color: #3B4455;\n",
              "      fill: #D2E3FC;\n",
              "    }\n",
              "\n",
              "    [theme=dark] .colab-df-convert:hover {\n",
              "      background-color: #434B5C;\n",
              "      box-shadow: 0px 1px 3px 1px rgba(0, 0, 0, 0.15);\n",
              "      filter: drop-shadow(0px 1px 2px rgba(0, 0, 0, 0.3));\n",
              "      fill: #FFFFFF;\n",
              "    }\n",
              "  </style>\n",
              "\n",
              "      <script>\n",
              "        const buttonEl =\n",
              "          document.querySelector('#df-56745a68-af41-4e34-8b99-e5a3b97c56ea button.colab-df-convert');\n",
              "        buttonEl.style.display =\n",
              "          google.colab.kernel.accessAllowed ? 'block' : 'none';\n",
              "\n",
              "        async function convertToInteractive(key) {\n",
              "          const element = document.querySelector('#df-56745a68-af41-4e34-8b99-e5a3b97c56ea');\n",
              "          const dataTable =\n",
              "            await google.colab.kernel.invokeFunction('convertToInteractive',\n",
              "                                                     [key], {});\n",
              "          if (!dataTable) return;\n",
              "\n",
              "          const docLinkHtml = 'Like what you see? Visit the ' +\n",
              "            '<a target=\"_blank\" href=https://colab.research.google.com/notebooks/data_table.ipynb>data table notebook</a>'\n",
              "            + ' to learn more about interactive tables.';\n",
              "          element.innerHTML = '';\n",
              "          dataTable['output_type'] = 'display_data';\n",
              "          await google.colab.output.renderOutput(dataTable, element);\n",
              "          const docLink = document.createElement('div');\n",
              "          docLink.innerHTML = docLinkHtml;\n",
              "          element.appendChild(docLink);\n",
              "        }\n",
              "      </script>\n",
              "    </div>\n",
              "  </div>\n",
              "  "
            ]
          },
          "metadata": {},
          "execution_count": 4
        }
      ],
      "source": [
        "import pandas as pd\n",
        "\n",
        "# 붓꽃 데이터 세트를 로딩합니다.\n",
        "iris = load_iris()\n",
        "\n",
        "# iris.data는 Iris 데이터 세트에서 피처(feature)만으로 된 데이터를 numpy로 가지고 있습니다.\n",
        "iris_data = iris.data\n",
        "\n",
        "# iris.target은 붓꽃 데이터 세트에서 레이블(결정 값) 데이터를 numpy로 가지고 있습니다.\n",
        "iris_label = iris.target\n",
        "print('iris target값:', iris_label)\n",
        "print('iris target명:', iris.target_names)\n",
        "\n",
        "# 붓꽃 데이터 세트를 자세히 보기 위해 DataFrame으로 변환합니다.\n",
        "iris_df = pd.DataFrame(data=iris_data, columns=iris.feature_names)\n",
        "iris_df['label'] = iris.target\n",
        "iris_df.head(3)"
      ]
    },
    {
      "cell_type": "markdown",
      "id": "ca01735f",
      "metadata": {
        "id": "ca01735f"
      },
      "source": [
        "**학습용 데이터/테스트용 데이터 분리**  \n",
        "-> 학습 데이터로 학습된 모델이 얼마나 뛰어난 성능을 가지는지 평가하려면 테스트 데이터 세트가 필요하므로 반드시 분리해야 함. \n",
        "\n",
        "**train_test_split()**: 학습 데이터와 테스트 데이터를 test_size 파라미터 입력 값의 비율로 쉽게 분할  \n",
        "train_test_split(피처 데이터 세트, 레이블 데이터 세트, 전체 데이터 중 테스트 데이터 세트의 비율, 난수 발생 값)  \n",
        "\\* train_test_split()은 호출 시 무작위로 데이터를 분리하므로 random_state를 지정하지 않으면 수행할 때마다 다른 학습/테스트 용 데이터를 만들 수 있다.  \n",
        "-> random_state: 호출할 때마다 같은 학습/테스트 용 데이터 세트를 생성하기 위해 주어지는 난수 발생 값"
      ]
    },
    {
      "cell_type": "code",
      "execution_count": null,
      "id": "f41ac389",
      "metadata": {
        "id": "f41ac389"
      },
      "outputs": [],
      "source": [
        "X_train, X_test, y_train, y_test = train_test_split(iris_data, iris_label, test_size=0.2, random_state=11)"
      ]
    },
    {
      "cell_type": "code",
      "execution_count": null,
      "id": "6b91317a",
      "metadata": {
        "id": "6b91317a"
      },
      "outputs": [],
      "source": [
        "# DecisionTreeClassifier 객체 생성\n",
        "dt_clf = DecisionTreeClassifier(random_state=11)\n",
        "\n",
        "# 학습 수행\n",
        "dt_clf.fit(X_train, y_train)\n",
        "\n",
        "# 학습이 완료된 DecisionTreeClassifier 객체에서 테스트 데이터 세트로 예측 수행\n",
        "pred = dt_clf.predict(X_test)"
      ]
    },
    {
      "cell_type": "code",
      "execution_count": null,
      "id": "ed3dde7d",
      "metadata": {
        "colab": {
          "base_uri": "https://localhost:8080/"
        },
        "id": "ed3dde7d",
        "outputId": "c5c87271-940e-43f9-f73b-257ba0fb07e6"
      },
      "outputs": [
        {
          "output_type": "stream",
          "name": "stdout",
          "text": [
            "예측 정확도: 0.933333\n"
          ]
        }
      ],
      "source": [
        "# 정확도 측정: accuracy_score()\n",
        "from sklearn.metrics import accuracy_score\n",
        "print('예측 정확도: {0:4f}'.format(accuracy_score(y_test,pred)))"
      ]
    },
    {
      "cell_type": "markdown",
      "id": "b29e1889",
      "metadata": {
        "id": "b29e1889"
      },
      "source": [
        "\\* 정리\n",
        "1. **데이터 세트 분리**: 학습/테스트 데이터\n",
        "2. **모델 학습**: ML 알고리즘을 적용해 모델을 학습\n",
        "3. **예측 수행**: 학습된 ML 모델을 이용해 테스트 데이터의 분류 예측\n",
        "4. **평가**: 예측된 결괏값 vs. 테스트 데이터의 실제 결괏값 비교 -> ML 모델 성능 평가"
      ]
    },
    {
      "cell_type": "markdown",
      "id": "a6573c83",
      "metadata": {
        "id": "a6573c83"
      },
      "source": [
        "## 3. 사이킷런 기반 프레임워크 익히기"
      ]
    },
    {
      "cell_type": "markdown",
      "id": "90ccac32",
      "metadata": {
        "id": "90ccac32"
      },
      "source": [
        "### Estimator 이해 및 fit(), predict() 메서드\n",
        "\n",
        "* ML 모델 학습 -> fit(), 학습된 모델의 예측 -> predict()  \n",
        "* 지도학습의 두 축(분류(Classification), 회귀(Regression))의 다양한 알고리즘을 구현한 모든 사이킷런 클래스는 fit()과 predict()만을 이용해 간단하게 학습과 예측 결과를 반환  \n",
        "* 분류 알고리즘을 구현한 클래스 -> Classifier, 회귀 알고리즘을 구현한 클래스 -> Regressor  \n",
        "* Estimator 클래스(Classifier + Regressor) : 지도학습의 모든 알고리즘을 구현한 클래스, fit()과 predict()를 내부에서 구현  \n",
        "\n",
        "* evaluation 함수(ex.cross_val_score()), 하이퍼 파라미터 튜닝을 지원하는 클래스(ex.GridSearchCV)의 경우 Estimator를 인자로 받음     \n",
        "인자로 받은 Estimator에 대해서 cross_val_score(), GridSearchCV.fit() 함수 내에서 이 Estimator의 fit()과 predict()를 호출 -> 평가 or 하이퍼 파라미터 튜닝 수행\n",
        "\n"
      ]
    },
    {
      "cell_type": "markdown",
      "id": "891c719f",
      "metadata": {
        "id": "891c719f"
      },
      "source": [
        "학습: fit(), 예측: predict() -> 분류, 회귀"
      ]
    },
    {
      "cell_type": "markdown",
      "id": "c8a2acdc",
      "metadata": {
        "id": "c8a2acdc"
      },
      "source": [
        "비지도학습(차원 축소, 클러스터링, 피처 추출(Feature Extraction) 등)을 구현한 클래스   -> fit()과 transform() 적용  \n",
        "* 비지도학습과 피처 추출에서 fit() - 학습X, 입력 데이터의 형태에 맞춰 데이터를 변환하기 위한 사전 구조를 맞추는 작업  \n",
        "* fit()으로 변환을 위한 사전 구조를 맞추면 -> 이후 입력 데이터의 차원 변환, 클러스터링, 피처 추출 등의 실제 작업은 transform()으로 수행 \n",
        "* fit_transform() = fit() + transform() \n"
      ]
    },
    {
      "cell_type": "markdown",
      "id": "ff080601",
      "metadata": {
        "id": "ff080601"
      },
      "source": [
        "### 사이킷런의 주요 모듈"
      ]
    },
    {
      "cell_type": "markdown",
      "id": "8321ac76",
      "metadata": {
        "id": "8321ac76"
      },
      "source": [
        "예제 데이터 \n",
        "- **sklearn.datasets** - 사이킷런에 내장되어 예제로 제공하는 데이터 세트\n",
        "\n",
        "피처 처리  \n",
        "- **sklearn.preprocessing** - 데이터 전처리에 필요한 다양한 가공 기능 제공 (문자열을 숫자형 코드 값으로 인코딩, 정규화, 스케일링 등)\n",
        "- **sklearn.feature_selection** - 알고리즘에 큰 영향을 미치는 피처를 우선순위대로 셀렉션 작업을 수행하는 다양한 기능 제공\n",
        "- **sklearn.feature_extraction** - 텍스트 데이터나 이미지 데이터의 벡터화된 피처를 추출하는 데 사용됨. (텍스트 데이터에서 Count Vectorizer나 Tf-Idf Vectorizer 등을 생성하는 기능 제공)\n",
        "\n",
        "피처 처리 & 차원 축소  \n",
        "- **sklearn.decomposition** - 차원 축소와 관련된 알고리즘을 지원하는 모듈 (PCA, NMF, Truncated SVD 등을 통해 차원 축소 기능을 수행할 수 있음)\n",
        "\n",
        "데이터 분리, 검증 & 파라미터 튜닝\n",
        "- **sklearn.model_selection** - 교차 검증을 위한 학습용/테스트용 분리 (그리드 서치(Grid Search)로 최적 파라미터 추출 등의 API 제공) \n",
        "\n",
        "평가\n",
        "- **sklearn.metrics** - 분류, 회귀, 클러스터링, 페어와이즈(Pairwise)에 대한 다양한 성능 측정 방법 제공 (Accuracy, Precision, Recall, ROC-AUC, RMSE 등 제공) \n",
        "\n",
        "ML 알고리즘\n",
        "- **sklearn.ensemble** - 앙상블 알고리즘 제공 (랜덤 포레스트, 에이다 부스트, 그래디언트 부스팅 등을 제공)\n",
        "- **sklearn.linear_model** - 주로 선형 회귀, 릿지(Ridge), 라쏘(Lasso) 및 로지스틱 회귀 등 회귀 관련 알고리즘을 지원. 또한 SGD(Stochastic Gradient Descent) 관련 알고리즘도 제공\n",
        "- **sklearn.naive_bayes** - 나이브 베이즈 알고리즘 제공. (가우시안 NB, 다항 분포 NB 등)\n",
        "- **sklearn.neighbors** - 최근접 이웃 알고리즘 제공. (K-NN 등)\n",
        "- **sklearn.svm** - 서포트 벡터 머신 알고리즘 제공\n",
        "- **sklearn.tree** - 의사 결정 트리 알고리즘 제공\n",
        "- **sklearn.cluster**  - 비지도 클러스터링 알고리즘 제공. (K-평균, 계층형, DBSCAN 등)\n",
        "\n",
        "유틸리티\n",
        "- **sklearn.pipeline** - 피러 처리 등의 변환과 ML 알고리즘 학습, 예측 등을 함께 묶어서 실행할 수 있는 유틸리티 제공\n"
      ]
    },
    {
      "cell_type": "markdown",
      "id": "7d7498a0",
      "metadata": {
        "id": "7d7498a0"
      },
      "source": [
        "### 내장된 예제 데이터 세트\n",
        "\n",
        "분류나 회귀 연습용 예제 데이터  \n",
        "- **datasets.load_boston()** - 회귀 용도. 미국 보스턴의 집 피처들과 가격에 대한 데이터 세트.\n",
        "- **datasets.load_breast_cancer()** - 분류 용도. 위스콘신 유방암 피처들과 악성/음성 레이블 데이터 세트.\n",
        "- **datasets.load_diabetes()** - 회귀 용도. 당뇨 데이터 세트.\n",
        "- **datasets.load_digits()**- 분류 용도. 0~9 숫자의 이미지 픽셀 데이터 세트.\n",
        "- **datasets.load_iris()** - 분류 용도. 붓꽃에 대한 피처 데이터 세트."
      ]
    },
    {
      "cell_type": "markdown",
      "id": "95d36220",
      "metadata": {
        "id": "95d36220"
      },
      "source": [
        "fetch 계열의 명령- 데이터의 크기가 커서 패키지에 처음부터 저장돼 있지 않고 인터넷에서 내려받아 홈 디렉터리 아래의 scikit_learn_data라는 서브 디렉터리에 저장한 후 추후 불러들이는 데이터. (최초 사용 시 인터넷에 연결돼 있어야 함)  \n",
        "* **fetch_covtype()**: 회귀 분석용 토지 조사 자료\n",
        "* **fetch_20newsgroups()**: 뉴스 그룹 텍스트 자료\n",
        "* **fetch_olivetti_faces()**: 얼굴 이미지 자료\n",
        "* **fetch_lfw_people()**: 얼굴 이미지 자료\n",
        "* **fetch_lfw_pairs()**: 얼굴 이미지 자료\n",
        "* **fetch_rcv1()**: 로이터 뉴스 말뭉치\n",
        "* **fetch_mldata()**: ML 웹사이트에서 다운로드\n"
      ]
    },
    {
      "cell_type": "markdown",
      "id": "cbb5c8ee",
      "metadata": {
        "id": "cbb5c8ee"
      },
      "source": [
        "분류와 클러스터링을 위한 표본 데이터 생성기  \n",
        "* **datasets.make_classifications()** - 분류를 위한 데이터 세트를 만듦. 특히 높은 상관도, 불필요한 속성 등의 노이즈 효과를 위한 데이터를 무작위로 생성해 줌.  \n",
        "* **datasets.make_blobs()** - 클러스터링을 위한 데이터 세트를 무작위로 생성해 줌. 군집 지정 개수에 따라 여러 가지 클러스터링을 위한 데이터 세트를 쉽게 만들어 줌."
      ]
    },
    {
      "cell_type": "markdown",
      "id": "bbc60d90",
      "metadata": {
        "id": "bbc60d90"
      },
      "source": [
        "분류나 회귀를 위한 연습용 예제 데이터 구성\n",
        "- 사이킷런에 내장된 데이터 세트를 일반적으로 딕셔너리 형태  \n",
        "- key: data, target, target_name, feature_names, DESCR  \n",
        "\n",
        "개별 key가 가리키는 데이터 세트의 의미  \n",
        "- data: 피처의 데이터 세트\n",
        "- target: 분류 시 레이블 값. 회귀일 때는 숫자 결괏값 데이터 세트.\n",
        "- target_names: 개별 레이블의 이름\n",
        "- feature_names: 피처의 이름\n",
        "- DESCR: 데이터 세트에 대한 설명과 각 피처의 설명\n",
        "\n",
        "\\* 타입  \n",
        "data, target - 넘파이 배열(ndarray) 타입  \n",
        "target_names, feature_names - 넘파이 배열 or 파이썬 리스트(list) 타입  \n",
        "DESCR- 스트링 타입"
      ]
    },
    {
      "cell_type": "code",
      "execution_count": null,
      "id": "83260dc2",
      "metadata": {
        "colab": {
          "base_uri": "https://localhost:8080/"
        },
        "id": "83260dc2",
        "outputId": "8d5b9006-d449-45c7-b7f0-fb53d781abfc"
      },
      "outputs": [
        {
          "output_type": "stream",
          "name": "stdout",
          "text": [
            "<class 'sklearn.utils._bunch.Bunch'>\n"
          ]
        }
      ],
      "source": [
        "from sklearn.datasets import load_iris\n",
        "\n",
        "iris_data = load_iris()\n",
        "print(type(iris_data))"
      ]
    },
    {
      "cell_type": "code",
      "execution_count": null,
      "id": "9ef95f12",
      "metadata": {
        "colab": {
          "base_uri": "https://localhost:8080/"
        },
        "id": "9ef95f12",
        "outputId": "c537ac6d-8ec7-47f8-ee26-343aa5f593ee"
      },
      "outputs": [
        {
          "output_type": "stream",
          "name": "stdout",
          "text": [
            "붓꽃 데이터 세트의 키들: dict_keys(['data', 'target', 'frame', 'target_names', 'DESCR', 'feature_names', 'filename', 'data_module'])\n"
          ]
        }
      ],
      "source": [
        "keys = iris_data.keys()\n",
        "print('붓꽃 데이터 세트의 키들:', keys)"
      ]
    },
    {
      "cell_type": "code",
      "execution_count": null,
      "id": "3d61126e",
      "metadata": {
        "colab": {
          "base_uri": "https://localhost:8080/"
        },
        "id": "3d61126e",
        "outputId": "538d4a29-58bc-4486-f8aa-0518ed1873d6"
      },
      "outputs": [
        {
          "output_type": "stream",
          "name": "stdout",
          "text": [
            "\n",
            " feature_names 의 type: <class 'list'>\n",
            " feature_names 의 shape: 4\n",
            "['sepal length (cm)', 'sepal width (cm)', 'petal length (cm)', 'petal width (cm)']\n",
            "\n",
            " target_names 의 type: <class 'numpy.ndarray'>\n",
            " target_names 의 shape: 3\n",
            "['setosa' 'versicolor' 'virginica']\n",
            "\n",
            " data 의 type: <class 'numpy.ndarray'>\n",
            " data 의 shape: (150, 4)\n",
            "[[5.1 3.5 1.4 0.2]\n",
            " [4.9 3.  1.4 0.2]\n",
            " [4.7 3.2 1.3 0.2]\n",
            " [4.6 3.1 1.5 0.2]\n",
            " [5.  3.6 1.4 0.2]\n",
            " [5.4 3.9 1.7 0.4]\n",
            " [4.6 3.4 1.4 0.3]\n",
            " [5.  3.4 1.5 0.2]\n",
            " [4.4 2.9 1.4 0.2]\n",
            " [4.9 3.1 1.5 0.1]\n",
            " [5.4 3.7 1.5 0.2]\n",
            " [4.8 3.4 1.6 0.2]\n",
            " [4.8 3.  1.4 0.1]\n",
            " [4.3 3.  1.1 0.1]\n",
            " [5.8 4.  1.2 0.2]\n",
            " [5.7 4.4 1.5 0.4]\n",
            " [5.4 3.9 1.3 0.4]\n",
            " [5.1 3.5 1.4 0.3]\n",
            " [5.7 3.8 1.7 0.3]\n",
            " [5.1 3.8 1.5 0.3]\n",
            " [5.4 3.4 1.7 0.2]\n",
            " [5.1 3.7 1.5 0.4]\n",
            " [4.6 3.6 1.  0.2]\n",
            " [5.1 3.3 1.7 0.5]\n",
            " [4.8 3.4 1.9 0.2]\n",
            " [5.  3.  1.6 0.2]\n",
            " [5.  3.4 1.6 0.4]\n",
            " [5.2 3.5 1.5 0.2]\n",
            " [5.2 3.4 1.4 0.2]\n",
            " [4.7 3.2 1.6 0.2]\n",
            " [4.8 3.1 1.6 0.2]\n",
            " [5.4 3.4 1.5 0.4]\n",
            " [5.2 4.1 1.5 0.1]\n",
            " [5.5 4.2 1.4 0.2]\n",
            " [4.9 3.1 1.5 0.2]\n",
            " [5.  3.2 1.2 0.2]\n",
            " [5.5 3.5 1.3 0.2]\n",
            " [4.9 3.6 1.4 0.1]\n",
            " [4.4 3.  1.3 0.2]\n",
            " [5.1 3.4 1.5 0.2]\n",
            " [5.  3.5 1.3 0.3]\n",
            " [4.5 2.3 1.3 0.3]\n",
            " [4.4 3.2 1.3 0.2]\n",
            " [5.  3.5 1.6 0.6]\n",
            " [5.1 3.8 1.9 0.4]\n",
            " [4.8 3.  1.4 0.3]\n",
            " [5.1 3.8 1.6 0.2]\n",
            " [4.6 3.2 1.4 0.2]\n",
            " [5.3 3.7 1.5 0.2]\n",
            " [5.  3.3 1.4 0.2]\n",
            " [7.  3.2 4.7 1.4]\n",
            " [6.4 3.2 4.5 1.5]\n",
            " [6.9 3.1 4.9 1.5]\n",
            " [5.5 2.3 4.  1.3]\n",
            " [6.5 2.8 4.6 1.5]\n",
            " [5.7 2.8 4.5 1.3]\n",
            " [6.3 3.3 4.7 1.6]\n",
            " [4.9 2.4 3.3 1. ]\n",
            " [6.6 2.9 4.6 1.3]\n",
            " [5.2 2.7 3.9 1.4]\n",
            " [5.  2.  3.5 1. ]\n",
            " [5.9 3.  4.2 1.5]\n",
            " [6.  2.2 4.  1. ]\n",
            " [6.1 2.9 4.7 1.4]\n",
            " [5.6 2.9 3.6 1.3]\n",
            " [6.7 3.1 4.4 1.4]\n",
            " [5.6 3.  4.5 1.5]\n",
            " [5.8 2.7 4.1 1. ]\n",
            " [6.2 2.2 4.5 1.5]\n",
            " [5.6 2.5 3.9 1.1]\n",
            " [5.9 3.2 4.8 1.8]\n",
            " [6.1 2.8 4.  1.3]\n",
            " [6.3 2.5 4.9 1.5]\n",
            " [6.1 2.8 4.7 1.2]\n",
            " [6.4 2.9 4.3 1.3]\n",
            " [6.6 3.  4.4 1.4]\n",
            " [6.8 2.8 4.8 1.4]\n",
            " [6.7 3.  5.  1.7]\n",
            " [6.  2.9 4.5 1.5]\n",
            " [5.7 2.6 3.5 1. ]\n",
            " [5.5 2.4 3.8 1.1]\n",
            " [5.5 2.4 3.7 1. ]\n",
            " [5.8 2.7 3.9 1.2]\n",
            " [6.  2.7 5.1 1.6]\n",
            " [5.4 3.  4.5 1.5]\n",
            " [6.  3.4 4.5 1.6]\n",
            " [6.7 3.1 4.7 1.5]\n",
            " [6.3 2.3 4.4 1.3]\n",
            " [5.6 3.  4.1 1.3]\n",
            " [5.5 2.5 4.  1.3]\n",
            " [5.5 2.6 4.4 1.2]\n",
            " [6.1 3.  4.6 1.4]\n",
            " [5.8 2.6 4.  1.2]\n",
            " [5.  2.3 3.3 1. ]\n",
            " [5.6 2.7 4.2 1.3]\n",
            " [5.7 3.  4.2 1.2]\n",
            " [5.7 2.9 4.2 1.3]\n",
            " [6.2 2.9 4.3 1.3]\n",
            " [5.1 2.5 3.  1.1]\n",
            " [5.7 2.8 4.1 1.3]\n",
            " [6.3 3.3 6.  2.5]\n",
            " [5.8 2.7 5.1 1.9]\n",
            " [7.1 3.  5.9 2.1]\n",
            " [6.3 2.9 5.6 1.8]\n",
            " [6.5 3.  5.8 2.2]\n",
            " [7.6 3.  6.6 2.1]\n",
            " [4.9 2.5 4.5 1.7]\n",
            " [7.3 2.9 6.3 1.8]\n",
            " [6.7 2.5 5.8 1.8]\n",
            " [7.2 3.6 6.1 2.5]\n",
            " [6.5 3.2 5.1 2. ]\n",
            " [6.4 2.7 5.3 1.9]\n",
            " [6.8 3.  5.5 2.1]\n",
            " [5.7 2.5 5.  2. ]\n",
            " [5.8 2.8 5.1 2.4]\n",
            " [6.4 3.2 5.3 2.3]\n",
            " [6.5 3.  5.5 1.8]\n",
            " [7.7 3.8 6.7 2.2]\n",
            " [7.7 2.6 6.9 2.3]\n",
            " [6.  2.2 5.  1.5]\n",
            " [6.9 3.2 5.7 2.3]\n",
            " [5.6 2.8 4.9 2. ]\n",
            " [7.7 2.8 6.7 2. ]\n",
            " [6.3 2.7 4.9 1.8]\n",
            " [6.7 3.3 5.7 2.1]\n",
            " [7.2 3.2 6.  1.8]\n",
            " [6.2 2.8 4.8 1.8]\n",
            " [6.1 3.  4.9 1.8]\n",
            " [6.4 2.8 5.6 2.1]\n",
            " [7.2 3.  5.8 1.6]\n",
            " [7.4 2.8 6.1 1.9]\n",
            " [7.9 3.8 6.4 2. ]\n",
            " [6.4 2.8 5.6 2.2]\n",
            " [6.3 2.8 5.1 1.5]\n",
            " [6.1 2.6 5.6 1.4]\n",
            " [7.7 3.  6.1 2.3]\n",
            " [6.3 3.4 5.6 2.4]\n",
            " [6.4 3.1 5.5 1.8]\n",
            " [6.  3.  4.8 1.8]\n",
            " [6.9 3.1 5.4 2.1]\n",
            " [6.7 3.1 5.6 2.4]\n",
            " [6.9 3.1 5.1 2.3]\n",
            " [5.8 2.7 5.1 1.9]\n",
            " [6.8 3.2 5.9 2.3]\n",
            " [6.7 3.3 5.7 2.5]\n",
            " [6.7 3.  5.2 2.3]\n",
            " [6.3 2.5 5.  1.9]\n",
            " [6.5 3.  5.2 2. ]\n",
            " [6.2 3.4 5.4 2.3]\n",
            " [5.9 3.  5.1 1.8]]\n",
            "\n",
            " target 의 type: <class 'numpy.ndarray'>\n",
            " target 의 shape: (150,)\n",
            "[0 0 0 0 0 0 0 0 0 0 0 0 0 0 0 0 0 0 0 0 0 0 0 0 0 0 0 0 0 0 0 0 0 0 0 0 0\n",
            " 0 0 0 0 0 0 0 0 0 0 0 0 0 1 1 1 1 1 1 1 1 1 1 1 1 1 1 1 1 1 1 1 1 1 1 1 1\n",
            " 1 1 1 1 1 1 1 1 1 1 1 1 1 1 1 1 1 1 1 1 1 1 1 1 1 1 2 2 2 2 2 2 2 2 2 2 2\n",
            " 2 2 2 2 2 2 2 2 2 2 2 2 2 2 2 2 2 2 2 2 2 2 2 2 2 2 2 2 2 2 2 2 2 2 2 2 2\n",
            " 2 2]\n"
          ]
        }
      ],
      "source": [
        "print('\\n feature_names 의 type:', type(iris_data.feature_names))\n",
        "print(' feature_names 의 shape:', len(iris_data.feature_names))\n",
        "print(iris_data.feature_names)\n",
        "\n",
        "print('\\n target_names 의 type:', type(iris_data.target_names))\n",
        "print(' target_names 의 shape:', len(iris_data.target_names))\n",
        "print(iris_data.target_names)\n",
        "\n",
        "print('\\n data 의 type:', type(iris_data.data))\n",
        "print(' data 의 shape:', iris_data.data.shape)\n",
        "print(iris_data['data'])\n",
        "\n",
        "print('\\n target 의 type:', type(iris_data.target))\n",
        "print(' target 의 shape:', iris_data.target.shape)\n",
        "print(iris_data.target)"
      ]
    },
    {
      "cell_type": "markdown",
      "id": "61742fc8",
      "metadata": {
        "id": "61742fc8"
      },
      "source": [
        "## 4. Model Selection 모듈 소개"
      ]
    },
    {
      "cell_type": "markdown",
      "id": "ebc417e4",
      "metadata": {
        "id": "ebc417e4"
      },
      "source": [
        "### 학습/테스트 데이터 세트 분리 - train_test_split()"
      ]
    },
    {
      "cell_type": "code",
      "execution_count": null,
      "id": "ffbb4119",
      "metadata": {
        "colab": {
          "base_uri": "https://localhost:8080/"
        },
        "id": "ffbb4119",
        "outputId": "3af6b044-f094-4321-e98e-5e51d3bc3f3a"
      },
      "outputs": [
        {
          "output_type": "stream",
          "name": "stdout",
          "text": [
            "예측 정확도: 1.0\n"
          ]
        }
      ],
      "source": [
        "from sklearn.datasets import load_iris\n",
        "from sklearn.tree import DecisionTreeClassifier\n",
        "from sklearn.metrics import accuracy_score\n",
        "\n",
        "iris = load_iris()\n",
        "dt_clf = DecisionTreeClassifier()\n",
        "train_data = iris.data\n",
        "train_label = iris.target\n",
        "dt_clf.fit(train_data, train_label)\n",
        "\n",
        "# 학습 데이터 세트로 예측 수행\n",
        "pred = dt_clf.predict(train_data)\n",
        "print('예측 정확도:', accuracy_score(train_label,pred))"
      ]
    },
    {
      "cell_type": "markdown",
      "id": "bf96f47e",
      "metadata": {
        "id": "bf96f47e"
      },
      "source": [
        "정확도가 100%인 이유: 이미 학습한 학습 데이터 세트를 기반으로 예측했기 때문  \n",
        "-> 예측을 수행하는 데이터 세트는 학습을 수행한 학습용 데이터 세트가 아닌 **전용의 테스트 데이터 세트**여야 한다."
      ]
    },
    {
      "cell_type": "markdown",
      "id": "e3958ed8",
      "metadata": {
        "id": "e3958ed8"
      },
      "source": [
        "* **test_size**: 전체 데이터에서 테스트 데이터 세트 크기를 얼마로 샘플링할 것인가를 결정(디폴트=0.25).  \n",
        "* **train_size**: 전체 데이터에서 학습용 데이터 세트 크기를 얼마로 샘플링할 것인가를 결정.\n",
        "* **shuffle**: 데이터를 분리하기 전에 데이터를 미리 섞을지를 결정(디폴트=True). 데이터를 분산시켜서 좀 더 효율적인 학습 및 테스트 데이터 세트를 만드는 데 사용됨.\n",
        "* **random_state**: 호출할 때마다 동일한 학습/테스트용 데이터 세트를 생성하기 위해 주어지는 난수 값. 지정하지 않으면 수행할 때마다 다른 학습/테스트 용 데이터 생성.\n",
        "* **train_test_split**: 반환값은 튜플 형태. 순차적으로 학습용 데이터의 피처 데이터 세트, 테스트용 데이터의 피처 데이터 세트, 학습용 데이터의 레이블 데이터 세트, 테스트용 데이터의 레이블 데이터 세트가 반환됨.\n"
      ]
    },
    {
      "cell_type": "code",
      "execution_count": null,
      "id": "b7fe29e6",
      "metadata": {
        "id": "b7fe29e6"
      },
      "outputs": [],
      "source": [
        "from sklearn.tree import DecisionTreeClassifier\n",
        "from sklearn.metrics import accuracy_score\n",
        "from sklearn.datasets import load_iris\n",
        "from sklearn.model_selection import train_test_split\n",
        "\n",
        "dt_clf = DecisionTreeClassifier()\n",
        "iris_data = load_iris()\n",
        "\n",
        "X_train, X_test, y_train, y_test = train_test_split(iris_data.data, iris_data.target, test_size=0.3, random_state=121)"
      ]
    },
    {
      "cell_type": "code",
      "execution_count": null,
      "id": "3d76d5bb",
      "metadata": {
        "scrolled": true,
        "colab": {
          "base_uri": "https://localhost:8080/"
        },
        "id": "3d76d5bb",
        "outputId": "8084b3fa-8b8b-40d5-f5d9-7934496afc07"
      },
      "outputs": [
        {
          "output_type": "stream",
          "name": "stdout",
          "text": [
            "예측 정확도: 0.955556\n"
          ]
        }
      ],
      "source": [
        "dt_clf.fit(X_train, y_train)\n",
        "pred = dt_clf.predict(X_test)\n",
        "print('예측 정확도: {0:4f}'.format(accuracy_score(y_test, pred)))"
      ]
    },
    {
      "cell_type": "markdown",
      "id": "81c14dfb",
      "metadata": {
        "id": "81c14dfb"
      },
      "source": [
        "### 교차 검증"
      ]
    },
    {
      "cell_type": "markdown",
      "id": "4eb9074b",
      "metadata": {
        "id": "4eb9074b"
      },
      "source": [
        "**과적합(Overfitting)**: 모델이 학습 데이터에만 과도하게 최적화되어, 실제 예측을 다른 데이터로 수행할 경우에는 예측 성능이 과도하게 떨어지는 것  \n",
        "-> 이러한 문제점을 개선하기 위해 **교차 검증**을 이용해 더 다양한 학습과 평가 수행\n",
        "\n",
        "**교차 검증**: 테스트 데이터 세트에 대해 평가하기 전에 교차 검증에서 많은 학습과 검증 세트에서 알고리즘 학습과 평가를 수행하는 것. (쉽게 말해, 본고사를 치르기 전에 모의고사를 여러 번 보는 것).  \n",
        "- 데이터 편중을 막기 위해 별도의 여러 세트로 구성된 학습 데이터 세트와 검증 데이터 세트에서 학습과 평가를 수행\n",
        "- 각 세트에서 수행한 평가 결과에 따라 하이퍼 파라미터 튜닝 등의 모델 최적화를 더욱 손쉽게 함\n",
        "\n",
        "**ML 모델의 성능 평가**  \n",
        "- 교차 검증 기반 1차 평가 -> 테스트 데이터 세트에 적용해 평가  \n",
        "- ML에서 사용되는 데이터 세트 세분화 -> 학습, 검증, 테스트 데이터 세트  \n",
        "- 테스트 데이터 세트 외 별도의 검증 데이터 세트를 둬서 최종 평가 이전에 학습된 모델을 다양하게 평가하는 데 사용  \n",
        "\n",
        "학습 데이터 세트 ->(분할)-> 학습 데이터 세트, 검증 데이터 세트(1차 평가)  \n",
        "테스트 데이터 세트: 모든 학습/검증 과정이 완료된 후 최종적으로 성능을 평가하기 위한 데이터 세트\n",
        "\n"
      ]
    },
    {
      "cell_type": "markdown",
      "id": "f753fd27",
      "metadata": {
        "id": "f753fd27"
      },
      "source": [
        "**K 폴드 교차 검증**  \n",
        "- 가장 보편적으로 사용되는 교차 검증 기법 \n",
        "- K개의 데이터 폴드 세트를 만들어 K번만큼 각 폴드 세트에 학습과 검증 평가를 반복적으로 수행\n",
        "- 학습 데이터 세트와 검증 데이터 세트를 점진적으로 변경하면서 마지막 K번째까지 학습과 검증을 수행하는 것\n",
        "- K개의 예측 평가를 구했으면 이를 평균해 K 폴드 평가 결과로 반영\n",
        "\n"
      ]
    },
    {
      "cell_type": "code",
      "execution_count": null,
      "id": "21853560",
      "metadata": {
        "colab": {
          "base_uri": "https://localhost:8080/"
        },
        "id": "21853560",
        "outputId": "c14f14b6-f4d9-47ce-a43e-eeb7c011fc4d"
      },
      "outputs": [
        {
          "output_type": "stream",
          "name": "stdout",
          "text": [
            "붓꽃 데이터 세트 크기: 150\n"
          ]
        }
      ],
      "source": [
        "from sklearn.tree import DecisionTreeClassifier\n",
        "from sklearn.metrics import accuracy_score\n",
        "from sklearn.model_selection import KFold\n",
        "import numpy as np\n",
        "\n",
        "iris = load_iris()\n",
        "features = iris.data\n",
        "label = iris.target\n",
        "dt_clf = DecisionTreeClassifier(random_state=156)\n",
        "\n",
        "# 5개의 폴드 세트로 분리하는 KFold 객체와 폴드 세트별 정확도를 담을 리스트 객체 생성.\n",
        "kfold = KFold(n_splits=5)\n",
        "cv_accuracy = []\n",
        "print('붓꽃 데이터 세트 크기:', features.shape[0])"
      ]
    },
    {
      "cell_type": "code",
      "execution_count": null,
      "id": "a5f42e03",
      "metadata": {
        "colab": {
          "base_uri": "https://localhost:8080/"
        },
        "id": "a5f42e03",
        "outputId": "e7b7deee-94c1-4276-d50f-42ae469d7082"
      },
      "outputs": [
        {
          "output_type": "stream",
          "name": "stdout",
          "text": [
            "\n",
            "#1 교차 검증 정확도: 1.0, 학습 데이터 크기: 120, 검증 데이터 크기: 30\n",
            "#1 검증 세트 인덱스:[ 0  1  2  3  4  5  6  7  8  9 10 11 12 13 14 15 16 17 18 19 20 21 22 23\n",
            " 24 25 26 27 28 29]]\n",
            "\n",
            "#2 교차 검증 정확도: 0.9667, 학습 데이터 크기: 120, 검증 데이터 크기: 30\n",
            "#2 검증 세트 인덱스:[30 31 32 33 34 35 36 37 38 39 40 41 42 43 44 45 46 47 48 49 50 51 52 53\n",
            " 54 55 56 57 58 59]]\n",
            "\n",
            "#3 교차 검증 정확도: 0.8667, 학습 데이터 크기: 120, 검증 데이터 크기: 30\n",
            "#3 검증 세트 인덱스:[60 61 62 63 64 65 66 67 68 69 70 71 72 73 74 75 76 77 78 79 80 81 82 83\n",
            " 84 85 86 87 88 89]]\n",
            "\n",
            "#4 교차 검증 정확도: 0.9333, 학습 데이터 크기: 120, 검증 데이터 크기: 30\n",
            "#4 검증 세트 인덱스:[ 90  91  92  93  94  95  96  97  98  99 100 101 102 103 104 105 106 107\n",
            " 108 109 110 111 112 113 114 115 116 117 118 119]]\n",
            "\n",
            "#5 교차 검증 정확도: 0.7333, 학습 데이터 크기: 120, 검증 데이터 크기: 30\n",
            "#5 검증 세트 인덱스:[120 121 122 123 124 125 126 127 128 129 130 131 132 133 134 135 136 137\n",
            " 138 139 140 141 142 143 144 145 146 147 148 149]]\n",
            "\n",
            "## 평균 검증 정확도: 0.9\n"
          ]
        }
      ],
      "source": [
        "n_iter = 0\n",
        "# KFold 객체의 split()를 호출하면 폴드 별 학습용, 검증용 테스트의 로우 인덱스를 array로 반환\n",
        "for train_index, test_index in kfold.split(features):\n",
        "    # kfold.split()으로 반환된 인덱스를 이용해 학습용, 검증용 테스트 데이터 추출\n",
        "    X_train, X_test = features[train_index], features[test_index]\n",
        "    y_train, y_test = label[train_index], label[test_index]\n",
        "    # 학습 및 예측\n",
        "    dt_clf.fit(X_train, y_train)\n",
        "    pred = dt_clf.predict(X_test)\n",
        "    n_iter += 1\n",
        "    # 반복 시마다 정확도 측정\n",
        "    accuracy = np.round(accuracy_score(y_test, pred), 4)\n",
        "    train_size = X_train.shape[0]\n",
        "    test_size = X_test.shape[0]\n",
        "    print('\\n#{0} 교차 검증 정확도: {1}, 학습 데이터 크기: {2}, 검증 데이터 크기: {3}'\n",
        "         .format(n_iter, accuracy, train_size, test_size))\n",
        "    print('#{0} 검증 세트 인덱스:{1}]'.format(n_iter, test_index))\n",
        "    cv_accuracy.append(accuracy)\n",
        "    \n",
        "# 개별 iteration별 정확도를 합하여 평균 정확도 계산\n",
        "print('\\n## 평균 검증 정확도:', np.mean(cv_accuracy))"
      ]
    },
    {
      "cell_type": "markdown",
      "id": "8ce29d84",
      "metadata": {
        "id": "8ce29d84"
      },
      "source": [
        "-> 5번 교차 검증 결과 평균 검증 정확도는 0.9이고, 교차 검증 시마다 검증 세트의 인덱스가 달라짐을 알 수 있다."
      ]
    },
    {
      "cell_type": "markdown",
      "id": "89688828",
      "metadata": {
        "id": "89688828"
      },
      "source": [
        "### Stratified K 폴드  \n",
        "- 불균형한 분포도를 가진 레이블(결정 클래스) 데이터 집합을 위한 K 폴드 방식\n",
        "- 불균형한 분포도를 가진 레이블 데이터 집합: 특정 레이블 값이 특이하게 많거나 매우 적어서 분포가 한쪽으로 치우치는 것\n",
        "- 원본 데이터와 유사한 레이블 값의 분포를 학습/테스트 세트에서도 유지하는 게 매우 중요  \n",
        " -> Stratified K 폴드가 제대로 분배하지 못하는 경우의 문제를 해결해 줌.  \n",
        " -> 원본 데이터의 레이블 분포를 먼저 고려한 뒤 동일하게 학습/검증 데이터 세틀 분배"
      ]
    },
    {
      "cell_type": "code",
      "execution_count": null,
      "id": "47909281",
      "metadata": {
        "colab": {
          "base_uri": "https://localhost:8080/"
        },
        "id": "47909281",
        "outputId": "c2953c77-ff8d-4ceb-df90-b9c4a465065e"
      },
      "outputs": [
        {
          "output_type": "execute_result",
          "data": {
            "text/plain": [
              "0    50\n",
              "1    50\n",
              "2    50\n",
              "Name: label, dtype: int64"
            ]
          },
          "metadata": {},
          "execution_count": 16
        }
      ],
      "source": [
        "import pandas as pd\n",
        "iris = load_iris()\n",
        "iris_df = pd.DataFrame(data=iris.data, columns = iris.feature_names)\n",
        "iris_df['label'] = iris.target\n",
        "iris_df['label'].value_counts()"
      ]
    },
    {
      "cell_type": "code",
      "execution_count": null,
      "id": "fb04afa5",
      "metadata": {
        "colab": {
          "base_uri": "https://localhost:8080/"
        },
        "id": "fb04afa5",
        "outputId": "f5a4bb99-ddda-48c1-8d53-fc4b652dffce"
      },
      "outputs": [
        {
          "output_type": "stream",
          "name": "stdout",
          "text": [
            "## 교차 검증: 1\n",
            "학습 레이블 데이터 분포:\n",
            " 1    50\n",
            "2    50\n",
            "Name: label, dtype: int64\n",
            "검증 레이블 데이터 분포:\n",
            " 0    50\n",
            "Name: label, dtype: int64\n",
            "## 교차 검증: 2\n",
            "학습 레이블 데이터 분포:\n",
            " 0    50\n",
            "2    50\n",
            "Name: label, dtype: int64\n",
            "검증 레이블 데이터 분포:\n",
            " 1    50\n",
            "Name: label, dtype: int64\n",
            "## 교차 검증: 3\n",
            "학습 레이블 데이터 분포:\n",
            " 0    50\n",
            "1    50\n",
            "Name: label, dtype: int64\n",
            "검증 레이블 데이터 분포:\n",
            " 2    50\n",
            "Name: label, dtype: int64\n"
          ]
        }
      ],
      "source": [
        "# 이슈가 발생하는 현상을 도출하기 위해 3개의 폴드 세트를 KFold로 생성\n",
        "kfold = KFold(n_splits=3)\n",
        "\n",
        "# 각 교차 검증 시마다 생성되는 학습/검증 레이블 데이터 값의 분포도 확인\n",
        "n_iter = 0\n",
        "for train_index, test_index in kfold.split(iris_df):\n",
        "    n_iter += 1\n",
        "    label_train = iris_df['label'].iloc[train_index]\n",
        "    label_test = iris_df['label'].iloc[test_index]\n",
        "    print('## 교차 검증: {0}'.format(n_iter))\n",
        "    print('학습 레이블 데이터 분포:\\n', label_train.value_counts())\n",
        "    print('검증 레이블 데이터 분포:\\n', label_test.value_counts())\n",
        "    iris_df['label'].value_counts()"
      ]
    },
    {
      "cell_type": "code",
      "execution_count": null,
      "id": "6a34a633",
      "metadata": {
        "colab": {
          "base_uri": "https://localhost:8080/"
        },
        "id": "6a34a633",
        "outputId": "9ecadee3-56cd-4fbf-d138-342dae8f5a65"
      },
      "outputs": [
        {
          "output_type": "stream",
          "name": "stdout",
          "text": [
            "## 교차 검증: 1\n",
            "학습 레이블 데이터 분포: \n",
            " 2    34\n",
            "0    33\n",
            "1    33\n",
            "Name: label, dtype: int64\n",
            "검증 레이블 데이터 분포: \n",
            " 0    17\n",
            "1    17\n",
            "2    16\n",
            "Name: label, dtype: int64\n",
            "## 교차 검증: 2\n",
            "학습 레이블 데이터 분포: \n",
            " 1    34\n",
            "0    33\n",
            "2    33\n",
            "Name: label, dtype: int64\n",
            "검증 레이블 데이터 분포: \n",
            " 0    17\n",
            "2    17\n",
            "1    16\n",
            "Name: label, dtype: int64\n",
            "## 교차 검증: 3\n",
            "학습 레이블 데이터 분포: \n",
            " 0    34\n",
            "1    33\n",
            "2    33\n",
            "Name: label, dtype: int64\n",
            "검증 레이블 데이터 분포: \n",
            " 1    17\n",
            "2    17\n",
            "0    16\n",
            "Name: label, dtype: int64\n"
          ]
        }
      ],
      "source": [
        "from sklearn.model_selection import StratifiedKFold\n",
        "\n",
        "skf = StratifiedKFold(n_splits=3)\n",
        "n_iter=0\n",
        "\n",
        "for train_index, test_index in skf.split(iris_df, iris_df['label']):\n",
        "    n_iter += 1\n",
        "    label_train = iris_df['label'].iloc[train_index]\n",
        "    label_test = iris_df['label'].iloc[test_index]\n",
        "    print('## 교차 검증: {0}'.format(n_iter))\n",
        "    print('학습 레이블 데이터 분포: \\n', label_train.value_counts())\n",
        "    print('검증 레이블 데이터 분포: \\n', label_test.value_counts())"
      ]
    },
    {
      "cell_type": "code",
      "execution_count": null,
      "id": "5ec5848b",
      "metadata": {
        "colab": {
          "base_uri": "https://localhost:8080/"
        },
        "id": "5ec5848b",
        "outputId": "eb1e2894-5a34-4997-80df-61e511c3904e"
      },
      "outputs": [
        {
          "output_type": "stream",
          "name": "stdout",
          "text": [
            "\n",
            "#1 교차 검증 정확도 :0.98, 학습 데이터 크기: 100, 검증 데이터 크기: 50\n",
            "#1 검증 세트 인덱스:[  0   1   2   3   4   5   6   7   8   9  10  11  12  13  14  15  16  50\n",
            "  51  52  53  54  55  56  57  58  59  60  61  62  63  64  65  66 100 101\n",
            " 102 103 104 105 106 107 108 109 110 111 112 113 114 115]\n",
            "\n",
            "#2 교차 검증 정확도 :0.94, 학습 데이터 크기: 100, 검증 데이터 크기: 50\n",
            "#2 검증 세트 인덱스:[ 17  18  19  20  21  22  23  24  25  26  27  28  29  30  31  32  33  67\n",
            "  68  69  70  71  72  73  74  75  76  77  78  79  80  81  82 116 117 118\n",
            " 119 120 121 122 123 124 125 126 127 128 129 130 131 132]\n",
            "\n",
            "#3 교차 검증 정확도 :0.98, 학습 데이터 크기: 100, 검증 데이터 크기: 50\n",
            "#3 검증 세트 인덱스:[ 34  35  36  37  38  39  40  41  42  43  44  45  46  47  48  49  83  84\n",
            "  85  86  87  88  89  90  91  92  93  94  95  96  97  98  99 133 134 135\n",
            " 136 137 138 139 140 141 142 143 144 145 146 147 148 149]\n",
            "\n",
            "## 교차 검증별 정확도: [0.98 0.94 0.98]\n",
            "## 평균 검증 정확도: 0.9667\n"
          ]
        }
      ],
      "source": [
        "dt_clf = DecisionTreeClassifier(random_state=156)\n",
        "\n",
        "skfold = StratifiedKFold(n_splits=3)\n",
        "n_iter=0\n",
        "cv_accuracy=[]\n",
        "\n",
        "# StratifiedKFold의 split() 호출 시 반드시 레이블 데이터 세트도 추가 입력 필요\n",
        "for train_index, test_index in skfold.split(features, label):\n",
        "    # split()으로 반환된 인덱스를 이용해 학습용, 검증용 테스트 데이터 추출\n",
        "    X_train, X_test = features[train_index], features[test_index]\n",
        "    y_train, y_test = label[train_index], label[test_index]\n",
        "    # 학습 및 예측 \n",
        "    dt_clf.fit(X_train, y_train)    \n",
        "    pred = dt_clf.predict(X_test)\n",
        "\n",
        "    # 반복 시마다 정확도 측정 \n",
        "    n_iter += 1\n",
        "    accuracy = np.round(accuracy_score(y_test,pred), 4)\n",
        "    train_size = X_train.shape[0]\n",
        "    test_size = X_test.shape[0]\n",
        "    print('\\n#{0} 교차 검증 정확도 :{1}, 학습 데이터 크기: {2}, 검증 데이터 크기: {3}'\n",
        "          .format(n_iter, accuracy, train_size, test_size))\n",
        "    print('#{0} 검증 세트 인덱스:{1}'.format(n_iter,test_index))\n",
        "    cv_accuracy.append(accuracy)\n",
        "    \n",
        "# 교차 검증별 정확도 및 평균 정확도 계산 \n",
        "print('\\n## 교차 검증별 정확도:', np.round(cv_accuracy, 4))\n",
        "print('## 평균 검증 정확도:', np.round(np.mean(cv_accuracy),4))"
      ]
    },
    {
      "cell_type": "markdown",
      "id": "d025cf15",
      "metadata": {
        "id": "d025cf15"
      },
      "source": [
        "\\* 정리\n",
        "- 왜곡된 레이블 데이터 세트에서는 반드시 Stratified K 폴드를 이용해 교차 검증해야 한다.\n",
        "- 분류(Classification) -> Stratified K 폴드로 분할.\n",
        "- 회귀(Regression) -> Stratified K 폴드가 지원되지 않음. (회귀의 결정값이 연속된 숫자값이기 때문에 결정값별로 분포를 정하는 의미X)"
      ]
    },
    {
      "cell_type": "markdown",
      "id": "fca11407",
      "metadata": {
        "id": "fca11407"
      },
      "source": [
        "### 교차 검증을 보다 간편하게 - cross_val_score()  \n",
        "\n",
        "\\* KFold의 데이터 학습, 예측 과정\n",
        "1. 폴드 세트 설정\n",
        "2. for 루프에서 반복으로 학습, 테스트 데이터 인덱스 추출\n",
        "3. 학습, 예측 반복 수행\n",
        "4. 예측 성능 반환"
      ]
    },
    {
      "cell_type": "markdown",
      "id": "8851653b",
      "metadata": {
        "id": "8851653b"
      },
      "source": [
        "**cross_val_score()**\n",
        "- KFold의 데이터 학습, 예측하는 일련의 과정을 한꺼번에 수행해주는 API\n",
        "- classifier가 입력되면 Stratified K 폴드방식으로 레이블값 분포에 따라 학습/테스트 세트를 분할함(회귀일 경우 K 폴드 방식)\n",
        "- cross_val_score(estimator, X, y=None, scoring=None, cv=None, n_jobs=1, verbose=0, fit_params=None, pre_dispatch='2*n_jobs').  \n",
        "\n",
        "\n",
        "\\* 주요 파라미터: estimator, X, y, scoring\n",
        "- estimator: 알고리즘 클래스- Classifier(분류) 또는 Regressor(회귀)\n",
        "- X: 피처 데이터 세트\n",
        "- y: 레이블 데이터 세트\n",
        "- scoring: 예측 성능 평가 지표\n",
        "- cv: 교차 검증 폴드 수\n"
      ]
    },
    {
      "cell_type": "code",
      "execution_count": null,
      "id": "55ca4b89",
      "metadata": {
        "colab": {
          "base_uri": "https://localhost:8080/"
        },
        "id": "55ca4b89",
        "outputId": "0e65ae2e-d25a-46dd-da21-23a9647318b3"
      },
      "outputs": [
        {
          "output_type": "stream",
          "name": "stdout",
          "text": [
            "[0.98 0.94 0.98]\n",
            "0.9667\n"
          ]
        }
      ],
      "source": [
        "from sklearn.tree import DecisionTreeClassifier\n",
        "from sklearn.model_selection import cross_val_score, cross_validate\n",
        "from sklearn.datasets import load_iris\n",
        "\n",
        "iris_data = load_iris()\n",
        "dt_clf = DecisionTreeClassifier(random_state=156)\n",
        "\n",
        "data = iris_data.data\n",
        "label = iris_data.target\n",
        "\n",
        "# 성능 지표는 정확도(accuracy), 교차 검증 세트는 3개\n",
        "scores = cross_val_score(dt_clf, data, label, scoring='accuracy', cv=3)\n",
        "print(np.round(scores, 4))            # 교차 검증별 정확도\n",
        "print(np.round(np.mean(scores), 4))   # 평균 검증 정확도f"
      ]
    },
    {
      "cell_type": "markdown",
      "id": "7078764c",
      "metadata": {
        "id": "7078764c"
      },
      "source": [
        "- cv로 지정된 횟수만큼 scoring 파라미터로 지정된 평가 지표로 평가 결괏값을 배열로 반환 -> 이를 평균해 평가 수치로 사용\n",
        "- 내부에서 Estimator를 학습(fit), 예측(predict), 평가(evaluation) 시켜주므로 간단하게 교차 검증 수행 가능\n",
        "- 각 교차 검증별 정확도와 평균 검증 정확도가 모두 동일 - 내부적으로 StratifiedKFold를 사용하기 때문\n",
        "\n",
        "\\* cross_validate() \n",
        "- 여러 개 평가 지표 반환 가능 (cross_val_score()는 단 하나의 평가 지표만 가능)\n",
        "- 학습 데이터에 대한 성능 평가 지표, 수행 시간 같이 제공"
      ]
    },
    {
      "cell_type": "markdown",
      "id": "9ed30fc4",
      "metadata": {
        "id": "9ed30fc4"
      },
      "source": [
        "### GridSearchCV - 교차 검증과 최적 하이퍼 파라미터 튜닝을 한 번에"
      ]
    },
    {
      "cell_type": "markdown",
      "id": "b30bd04a",
      "metadata": {
        "id": "b30bd04a"
      },
      "source": [
        "**하이퍼 파라미터**\n",
        "- 머신러닝 알고리즘을 구성하는 주요 구성 요소\n",
        "- 이 값을 조정해 알고리즘의 예측 성능 개선\n",
        "\n",
        "사이킷런은 GridSearchCV API를 이용해 Classifier나 Regressor와 같은 알고리즘에 사용되는 하이퍼 파라미터를 순차적으로 입력하면서 편리하게 최적의 파라미터를 도출할 수 있는 방안을 제공한다."
      ]
    },
    {
      "cell_type": "code",
      "execution_count": null,
      "id": "177fb174",
      "metadata": {
        "id": "177fb174"
      },
      "outputs": [],
      "source": [
        "grid_parameters = {'max_depth': [1,2,3],\n",
        "                   'min_samples_split': [2,3]\n",
        "                   }"
      ]
    },
    {
      "cell_type": "markdown",
      "id": "3303d134",
      "metadata": {
        "id": "3303d134"
      },
      "source": [
        "GridSearchCV\n",
        "- 교차 검증 기반, 하이퍼 파라미터의 최적 값을 찾게 해줌.\n",
        "- 데이터 세트를 cross-validation을 위한 학습/테스트 세트로 자동으로 분할한 뒤,\n",
        "- 하이퍼 파라미터 그리드에 기술된 모든 파라미터를 순차적으로 적용해\n",
        "- 최적의 파라미터를 편리하게 찾게 해줌.\n",
        "- 단점: 수행시간이 상대적으로 오래 걸림.\n",
        "\n",
        "\\* 주요 파라미터\n",
        "- estimator: classifier, regressor, pipeline\n",
        "- param_grid: key + 리스트 값을 가지는 딕셔너리. estimator의 튜닝을 위한 파라미터명, 파라미터값\n",
        "- scoring: 예측 성능 측정 평가 방법. (ex. 정확도- accuracy)\n",
        "- cv: 교차 검증을 위해 분할되는 학습/테스트 세트 개수\n",
        "- refit: 디폴트 = True. True로 생성 시 가장 최적의 하이퍼 파라미터 찾은 뒤 입력된 estimator 객체를 해당 하이퍼 파라미터로 재학습시킴.\n"
      ]
    },
    {
      "cell_type": "code",
      "execution_count": null,
      "id": "d8012063",
      "metadata": {
        "id": "d8012063"
      },
      "outputs": [],
      "source": [
        "from sklearn.datasets import load_iris\n",
        "from sklearn.tree import DecisionTreeClassifier\n",
        "from sklearn.model_selection import GridSearchCV\n",
        "\n",
        "# 데이터를 로딩하고 학습 데이터와 테스트 데이터 분리\n",
        "iris_data = load_iris()\n",
        "X_train, X_test, y_train, y_test = train_test_split(iris_data.data, iris_data.target,\n",
        "                                                    test_size=0.2, random_state=121)\n",
        "\n",
        "dtree = DecisionTreeClassifier()\n",
        "\n",
        "### 파라미터를 딕셔너리 형태로 설정\n",
        "## 명칭- 문자열 Key 값, 하이퍼 파라미터의 값- 리스트 형\n",
        "parameters = {'max_depth':[1,2,3], 'min_samples_split':[2,3]}  "
      ]
    },
    {
      "cell_type": "markdown",
      "id": "7156f94f",
      "metadata": {
        "id": "7156f94f"
      },
      "source": [
        "- fit = 학습 데이터 세트  \n",
        "- cv = 학습 데이터를 분할할 폴딩 세트\n",
        "- param_grid = 하이퍼 파라미터\n",
        "- cv_results_ : 결과  \n",
        "cv_results_를 Pandas의 DataFrame으로 변환하면 내용을 좀 더 쉽게 볼 수 있다."
      ]
    },
    {
      "cell_type": "code",
      "execution_count": null,
      "id": "ccb3acf5",
      "metadata": {
        "colab": {
          "base_uri": "https://localhost:8080/",
          "height": 237
        },
        "id": "ccb3acf5",
        "outputId": "d6bd73ad-97e9-4757-8773-415a0d8f58ee"
      },
      "outputs": [
        {
          "output_type": "execute_result",
          "data": {
            "text/plain": [
              "                                     params  mean_test_score  rank_test_score  \\\n",
              "0  {'max_depth': 1, 'min_samples_split': 2}         0.700000                5   \n",
              "1  {'max_depth': 1, 'min_samples_split': 3}         0.700000                5   \n",
              "2  {'max_depth': 2, 'min_samples_split': 2}         0.958333                3   \n",
              "3  {'max_depth': 2, 'min_samples_split': 3}         0.958333                3   \n",
              "4  {'max_depth': 3, 'min_samples_split': 2}         0.975000                1   \n",
              "5  {'max_depth': 3, 'min_samples_split': 3}         0.975000                1   \n",
              "\n",
              "   split0_test_score  split1_test_score  split2_test_score  \n",
              "0              0.700                0.7               0.70  \n",
              "1              0.700                0.7               0.70  \n",
              "2              0.925                1.0               0.95  \n",
              "3              0.925                1.0               0.95  \n",
              "4              0.975                1.0               0.95  \n",
              "5              0.975                1.0               0.95  "
            ],
            "text/html": [
              "\n",
              "  <div id=\"df-ac6b8a87-dd20-45f4-a1ac-bcdae63a2bc0\">\n",
              "    <div class=\"colab-df-container\">\n",
              "      <div>\n",
              "<style scoped>\n",
              "    .dataframe tbody tr th:only-of-type {\n",
              "        vertical-align: middle;\n",
              "    }\n",
              "\n",
              "    .dataframe tbody tr th {\n",
              "        vertical-align: top;\n",
              "    }\n",
              "\n",
              "    .dataframe thead th {\n",
              "        text-align: right;\n",
              "    }\n",
              "</style>\n",
              "<table border=\"1\" class=\"dataframe\">\n",
              "  <thead>\n",
              "    <tr style=\"text-align: right;\">\n",
              "      <th></th>\n",
              "      <th>params</th>\n",
              "      <th>mean_test_score</th>\n",
              "      <th>rank_test_score</th>\n",
              "      <th>split0_test_score</th>\n",
              "      <th>split1_test_score</th>\n",
              "      <th>split2_test_score</th>\n",
              "    </tr>\n",
              "  </thead>\n",
              "  <tbody>\n",
              "    <tr>\n",
              "      <th>0</th>\n",
              "      <td>{'max_depth': 1, 'min_samples_split': 2}</td>\n",
              "      <td>0.700000</td>\n",
              "      <td>5</td>\n",
              "      <td>0.700</td>\n",
              "      <td>0.7</td>\n",
              "      <td>0.70</td>\n",
              "    </tr>\n",
              "    <tr>\n",
              "      <th>1</th>\n",
              "      <td>{'max_depth': 1, 'min_samples_split': 3}</td>\n",
              "      <td>0.700000</td>\n",
              "      <td>5</td>\n",
              "      <td>0.700</td>\n",
              "      <td>0.7</td>\n",
              "      <td>0.70</td>\n",
              "    </tr>\n",
              "    <tr>\n",
              "      <th>2</th>\n",
              "      <td>{'max_depth': 2, 'min_samples_split': 2}</td>\n",
              "      <td>0.958333</td>\n",
              "      <td>3</td>\n",
              "      <td>0.925</td>\n",
              "      <td>1.0</td>\n",
              "      <td>0.95</td>\n",
              "    </tr>\n",
              "    <tr>\n",
              "      <th>3</th>\n",
              "      <td>{'max_depth': 2, 'min_samples_split': 3}</td>\n",
              "      <td>0.958333</td>\n",
              "      <td>3</td>\n",
              "      <td>0.925</td>\n",
              "      <td>1.0</td>\n",
              "      <td>0.95</td>\n",
              "    </tr>\n",
              "    <tr>\n",
              "      <th>4</th>\n",
              "      <td>{'max_depth': 3, 'min_samples_split': 2}</td>\n",
              "      <td>0.975000</td>\n",
              "      <td>1</td>\n",
              "      <td>0.975</td>\n",
              "      <td>1.0</td>\n",
              "      <td>0.95</td>\n",
              "    </tr>\n",
              "    <tr>\n",
              "      <th>5</th>\n",
              "      <td>{'max_depth': 3, 'min_samples_split': 3}</td>\n",
              "      <td>0.975000</td>\n",
              "      <td>1</td>\n",
              "      <td>0.975</td>\n",
              "      <td>1.0</td>\n",
              "      <td>0.95</td>\n",
              "    </tr>\n",
              "  </tbody>\n",
              "</table>\n",
              "</div>\n",
              "      <button class=\"colab-df-convert\" onclick=\"convertToInteractive('df-ac6b8a87-dd20-45f4-a1ac-bcdae63a2bc0')\"\n",
              "              title=\"Convert this dataframe to an interactive table.\"\n",
              "              style=\"display:none;\">\n",
              "        \n",
              "  <svg xmlns=\"http://www.w3.org/2000/svg\" height=\"24px\"viewBox=\"0 0 24 24\"\n",
              "       width=\"24px\">\n",
              "    <path d=\"M0 0h24v24H0V0z\" fill=\"none\"/>\n",
              "    <path d=\"M18.56 5.44l.94 2.06.94-2.06 2.06-.94-2.06-.94-.94-2.06-.94 2.06-2.06.94zm-11 1L8.5 8.5l.94-2.06 2.06-.94-2.06-.94L8.5 2.5l-.94 2.06-2.06.94zm10 10l.94 2.06.94-2.06 2.06-.94-2.06-.94-.94-2.06-.94 2.06-2.06.94z\"/><path d=\"M17.41 7.96l-1.37-1.37c-.4-.4-.92-.59-1.43-.59-.52 0-1.04.2-1.43.59L10.3 9.45l-7.72 7.72c-.78.78-.78 2.05 0 2.83L4 21.41c.39.39.9.59 1.41.59.51 0 1.02-.2 1.41-.59l7.78-7.78 2.81-2.81c.8-.78.8-2.07 0-2.86zM5.41 20L4 18.59l7.72-7.72 1.47 1.35L5.41 20z\"/>\n",
              "  </svg>\n",
              "      </button>\n",
              "      \n",
              "  <style>\n",
              "    .colab-df-container {\n",
              "      display:flex;\n",
              "      flex-wrap:wrap;\n",
              "      gap: 12px;\n",
              "    }\n",
              "\n",
              "    .colab-df-convert {\n",
              "      background-color: #E8F0FE;\n",
              "      border: none;\n",
              "      border-radius: 50%;\n",
              "      cursor: pointer;\n",
              "      display: none;\n",
              "      fill: #1967D2;\n",
              "      height: 32px;\n",
              "      padding: 0 0 0 0;\n",
              "      width: 32px;\n",
              "    }\n",
              "\n",
              "    .colab-df-convert:hover {\n",
              "      background-color: #E2EBFA;\n",
              "      box-shadow: 0px 1px 2px rgba(60, 64, 67, 0.3), 0px 1px 3px 1px rgba(60, 64, 67, 0.15);\n",
              "      fill: #174EA6;\n",
              "    }\n",
              "\n",
              "    [theme=dark] .colab-df-convert {\n",
              "      background-color: #3B4455;\n",
              "      fill: #D2E3FC;\n",
              "    }\n",
              "\n",
              "    [theme=dark] .colab-df-convert:hover {\n",
              "      background-color: #434B5C;\n",
              "      box-shadow: 0px 1px 3px 1px rgba(0, 0, 0, 0.15);\n",
              "      filter: drop-shadow(0px 1px 2px rgba(0, 0, 0, 0.3));\n",
              "      fill: #FFFFFF;\n",
              "    }\n",
              "  </style>\n",
              "\n",
              "      <script>\n",
              "        const buttonEl =\n",
              "          document.querySelector('#df-ac6b8a87-dd20-45f4-a1ac-bcdae63a2bc0 button.colab-df-convert');\n",
              "        buttonEl.style.display =\n",
              "          google.colab.kernel.accessAllowed ? 'block' : 'none';\n",
              "\n",
              "        async function convertToInteractive(key) {\n",
              "          const element = document.querySelector('#df-ac6b8a87-dd20-45f4-a1ac-bcdae63a2bc0');\n",
              "          const dataTable =\n",
              "            await google.colab.kernel.invokeFunction('convertToInteractive',\n",
              "                                                     [key], {});\n",
              "          if (!dataTable) return;\n",
              "\n",
              "          const docLinkHtml = 'Like what you see? Visit the ' +\n",
              "            '<a target=\"_blank\" href=https://colab.research.google.com/notebooks/data_table.ipynb>data table notebook</a>'\n",
              "            + ' to learn more about interactive tables.';\n",
              "          element.innerHTML = '';\n",
              "          dataTable['output_type'] = 'display_data';\n",
              "          await google.colab.output.renderOutput(dataTable, element);\n",
              "          const docLink = document.createElement('div');\n",
              "          docLink.innerHTML = docLinkHtml;\n",
              "          element.appendChild(docLink);\n",
              "        }\n",
              "      </script>\n",
              "    </div>\n",
              "  </div>\n",
              "  "
            ]
          },
          "metadata": {},
          "execution_count": 23
        }
      ],
      "source": [
        "import pandas as pd\n",
        "\n",
        "# param_grid의 하이퍼 파라미터를 3개의 train, test set fold로 나누어 테스트 수행 설정.\n",
        "## refit = True가 default임. True이면 가장 좋은 파라미터 설정으로 재학습시킴.\n",
        "grid_dtree = GridSearchCV(dtree, param_grid=parameters, cv=3, refit=True)\n",
        "\n",
        "# 붓꽃 학습 데이터로 param_grid의 하이퍼 파라미터를 순차적으로 학습/평가\n",
        "grid_dtree.fit(X_train, y_train)\n",
        "\n",
        "# GridSearchCV 결과를 추출해 DataFrame으로 변환\n",
        "scores_df = pd.DataFrame(grid_dtree.cv_results_)\n",
        "scores_df[['params', 'mean_test_score', 'rank_test_score', \n",
        "           'split0_test_score', 'split1_test_score', 'split2_test_score']]  "
      ]
    },
    {
      "cell_type": "markdown",
      "id": "6a806417",
      "metadata": {
        "id": "6a806417"
      },
      "source": [
        "- params: 수행할 때마다 적용된 개별 하이퍼 파라미터값.\n",
        "- rank_test_score: 하이퍼 파라미터별 성능이 좋은 score 순위. 1이 최적의 하이퍼 파라미터.\n",
        "- mean_test_score: 개별 하이퍼 파라미터별 CV 폴딩 테스트 세트에 대해 총 수행한 평가 평균값."
      ]
    },
    {
      "cell_type": "code",
      "execution_count": null,
      "id": "4f61288c",
      "metadata": {
        "colab": {
          "base_uri": "https://localhost:8080/"
        },
        "id": "4f61288c",
        "outputId": "1e0fa2de-e0dc-4e9c-99e1-6dd9735c2fda"
      },
      "outputs": [
        {
          "output_type": "stream",
          "name": "stdout",
          "text": [
            "GridSearchCV 최적 파라미터: {'max_depth': 3, 'min_samples_split': 2}\n",
            "GridSearchCV 최고 정확도:0.9750\n"
          ]
        }
      ],
      "source": [
        "print('GridSearchCV 최적 파라미터:', grid_dtree.best_params_)\n",
        "print('GridSearchCV 최고 정확도:{0:.4f}'.format(grid_dtree.best_score_))"
      ]
    },
    {
      "cell_type": "code",
      "execution_count": null,
      "id": "a1856fc7",
      "metadata": {
        "colab": {
          "base_uri": "https://localhost:8080/"
        },
        "id": "a1856fc7",
        "outputId": "09c50701-ddb6-40fe-bda2-4cbaa1cffced"
      },
      "outputs": [
        {
          "output_type": "stream",
          "name": "stdout",
          "text": [
            "테스트 데이터 세트 정확도: 0.9667\n"
          ]
        }
      ],
      "source": [
        "# GridSearchCV의 refit으로 이미 학습된 estimator 반환\n",
        "estimator = grid_dtree.best_estimator_ \n",
        "\n",
        "# GridSearchCV의 best_estimator_는 이미 최적 학습이 됐으므로 별도 학습이 필요 없음\n",
        "pred = estimator.predict(X_test)\n",
        "print('테스트 데이터 세트 정확도: {0:.4f}'.format(accuracy_score(y_test, pred)))"
      ]
    },
    {
      "cell_type": "markdown",
      "id": "06e0e422",
      "metadata": {
        "id": "06e0e422"
      },
      "source": [
        "-> 학습 데이터를 GridSearchCV를 이용해 최적 하이퍼 파라미터 튜닝을 수행한 뒤, 별도의 테스트 세트에서 이를 평가하는 것이 일반적인 머신러닝 모델 적용 방법."
      ]
    }
  ],
  "metadata": {
    "kernelspec": {
      "display_name": "Python 3 (ipykernel)",
      "language": "python",
      "name": "python3"
    },
    "language_info": {
      "codemirror_mode": {
        "name": "ipython",
        "version": 3
      },
      "file_extension": ".py",
      "mimetype": "text/x-python",
      "name": "python",
      "nbconvert_exporter": "python",
      "pygments_lexer": "ipython3",
      "version": "3.9.12"
    },
    "colab": {
      "provenance": [],
      "include_colab_link": true
    }
  },
  "nbformat": 4,
  "nbformat_minor": 5
}