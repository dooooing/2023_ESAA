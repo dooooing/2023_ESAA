{
  "nbformat": 4,
  "nbformat_minor": 0,
  "metadata": {
    "colab": {
      "provenance": [],
      "authorship_tag": "ABX9TyNeTJG3LOK846WnWszvTlwG",
      "include_colab_link": true
    },
    "kernelspec": {
      "name": "python3",
      "display_name": "Python 3"
    },
    "language_info": {
      "name": "python"
    }
  },
  "cells": [
    {
      "cell_type": "markdown",
      "metadata": {
        "id": "view-in-github",
        "colab_type": "text"
      },
      "source": [
        "<a href=\"https://colab.research.google.com/github/dooooing/2023_ESAA/blob/main/1110_%EC%A0%9C%EC%B6%9C_%EC%BA%90%EA%B8%80_%ED%95%84%EC%82%AC.ipynb\" target=\"_parent\"><img src=\"https://colab.research.google.com/assets/colab-badge.svg\" alt=\"Open In Colab\"/></a>"
      ]
    },
    {
      "cell_type": "markdown",
      "source": [
        "**Recommender System Using Amazon Reviews**"
      ],
      "metadata": {
        "id": "GI8VrgYQlr2K"
      }
    },
    {
      "cell_type": "markdown",
      "source": [
        "## Import Libraries"
      ],
      "metadata": {
        "id": "CQLXu6Ralzyr"
      }
    },
    {
      "cell_type": "code",
      "execution_count": null,
      "metadata": {
        "id": "pAQidtexlZLY"
      },
      "outputs": [],
      "source": [
        "import numpy as np # linear algebra\n",
        "import pandas as pd # data processing, CSV file I/O (e.g. pd.read_csv)\n",
        "import os\n",
        "from IPython.core.interactiveshell import InteractiveShell\n",
        "InteractiveShell.ast_node_interactivity = \"all\"\n",
        "import math\n",
        "import json\n",
        "import time\n",
        "import matplotlib.pyplot as plt\n",
        "import seaborn as sns\n",
        "from sklearn.metrics.pairwise import cosine_similarity\n",
        "from sklearn.model_selection import train_test_split\n",
        "from sklearn.neighbors import NearestNeighbors\n",
        "import joblib\n",
        "import scipy.sparse\n",
        "from scipy.sparse import csr_matrix\n",
        "from scipy.sparse.linalg import svds\n",
        "import warnings; warnings.simplefilter('ignore')\n",
        "%matplotlib inline\n",
        "\n",
        "for dirname, _, filenames in os.walk('/kaggle/input'):\n",
        "    for filename in filenames:\n",
        "        print(os.path.join(dirname, filename))"
      ]
    },
    {
      "cell_type": "markdown",
      "source": [
        "## Load the Dataset and Add headers"
      ],
      "metadata": {
        "id": "JEgQ10eJmQBz"
      }
    },
    {
      "cell_type": "code",
      "source": [
        "electronics_data=pd.read_csv(\"ratings_Electronics (1).csv\",names=['userId', 'productId','Rating','timestamp'])"
      ],
      "metadata": {
        "id": "UIwAROLul7Ei"
      },
      "execution_count": 11,
      "outputs": []
    },
    {
      "cell_type": "code",
      "source": [
        "# Display the data\n",
        "\n",
        "electronics_data.head()"
      ],
      "metadata": {
        "colab": {
          "base_uri": "https://localhost:8080/",
          "height": 206
        },
        "id": "HLXQCXQgm5WA",
        "outputId": "4526ea94-d48f-49a0-e8d8-c6fd722d6d5b"
      },
      "execution_count": 12,
      "outputs": [
        {
          "output_type": "execute_result",
          "data": {
            "text/plain": [
              "           userId   productId  Rating     timestamp\n",
              "0   AKM1MP6P0OYPR  0132793040     5.0  1.365811e+09\n",
              "1  A2CX7LUOHB2NDG  0321732944     5.0  1.341101e+09\n",
              "2  A2NWSAGRHCP8N5  0439886341     1.0  1.367194e+09\n",
              "3  A2WNBOD3WNDNKT  0439886341     3.0  1.374451e+09\n",
              "4  A1GI0U4ZRJA8WN  0439886341     1.0  1.334707e+09"
            ],
            "text/html": [
              "\n",
              "  <div id=\"df-383f1750-d1f2-4f91-aa72-603b6b9ec95e\" class=\"colab-df-container\">\n",
              "    <div>\n",
              "<style scoped>\n",
              "    .dataframe tbody tr th:only-of-type {\n",
              "        vertical-align: middle;\n",
              "    }\n",
              "\n",
              "    .dataframe tbody tr th {\n",
              "        vertical-align: top;\n",
              "    }\n",
              "\n",
              "    .dataframe thead th {\n",
              "        text-align: right;\n",
              "    }\n",
              "</style>\n",
              "<table border=\"1\" class=\"dataframe\">\n",
              "  <thead>\n",
              "    <tr style=\"text-align: right;\">\n",
              "      <th></th>\n",
              "      <th>userId</th>\n",
              "      <th>productId</th>\n",
              "      <th>Rating</th>\n",
              "      <th>timestamp</th>\n",
              "    </tr>\n",
              "  </thead>\n",
              "  <tbody>\n",
              "    <tr>\n",
              "      <th>0</th>\n",
              "      <td>AKM1MP6P0OYPR</td>\n",
              "      <td>0132793040</td>\n",
              "      <td>5.0</td>\n",
              "      <td>1.365811e+09</td>\n",
              "    </tr>\n",
              "    <tr>\n",
              "      <th>1</th>\n",
              "      <td>A2CX7LUOHB2NDG</td>\n",
              "      <td>0321732944</td>\n",
              "      <td>5.0</td>\n",
              "      <td>1.341101e+09</td>\n",
              "    </tr>\n",
              "    <tr>\n",
              "      <th>2</th>\n",
              "      <td>A2NWSAGRHCP8N5</td>\n",
              "      <td>0439886341</td>\n",
              "      <td>1.0</td>\n",
              "      <td>1.367194e+09</td>\n",
              "    </tr>\n",
              "    <tr>\n",
              "      <th>3</th>\n",
              "      <td>A2WNBOD3WNDNKT</td>\n",
              "      <td>0439886341</td>\n",
              "      <td>3.0</td>\n",
              "      <td>1.374451e+09</td>\n",
              "    </tr>\n",
              "    <tr>\n",
              "      <th>4</th>\n",
              "      <td>A1GI0U4ZRJA8WN</td>\n",
              "      <td>0439886341</td>\n",
              "      <td>1.0</td>\n",
              "      <td>1.334707e+09</td>\n",
              "    </tr>\n",
              "  </tbody>\n",
              "</table>\n",
              "</div>\n",
              "    <div class=\"colab-df-buttons\">\n",
              "\n",
              "  <div class=\"colab-df-container\">\n",
              "    <button class=\"colab-df-convert\" onclick=\"convertToInteractive('df-383f1750-d1f2-4f91-aa72-603b6b9ec95e')\"\n",
              "            title=\"Convert this dataframe to an interactive table.\"\n",
              "            style=\"display:none;\">\n",
              "\n",
              "  <svg xmlns=\"http://www.w3.org/2000/svg\" height=\"24px\" viewBox=\"0 -960 960 960\">\n",
              "    <path d=\"M120-120v-720h720v720H120Zm60-500h600v-160H180v160Zm220 220h160v-160H400v160Zm0 220h160v-160H400v160ZM180-400h160v-160H180v160Zm440 0h160v-160H620v160ZM180-180h160v-160H180v160Zm440 0h160v-160H620v160Z\"/>\n",
              "  </svg>\n",
              "    </button>\n",
              "\n",
              "  <style>\n",
              "    .colab-df-container {\n",
              "      display:flex;\n",
              "      gap: 12px;\n",
              "    }\n",
              "\n",
              "    .colab-df-convert {\n",
              "      background-color: #E8F0FE;\n",
              "      border: none;\n",
              "      border-radius: 50%;\n",
              "      cursor: pointer;\n",
              "      display: none;\n",
              "      fill: #1967D2;\n",
              "      height: 32px;\n",
              "      padding: 0 0 0 0;\n",
              "      width: 32px;\n",
              "    }\n",
              "\n",
              "    .colab-df-convert:hover {\n",
              "      background-color: #E2EBFA;\n",
              "      box-shadow: 0px 1px 2px rgba(60, 64, 67, 0.3), 0px 1px 3px 1px rgba(60, 64, 67, 0.15);\n",
              "      fill: #174EA6;\n",
              "    }\n",
              "\n",
              "    .colab-df-buttons div {\n",
              "      margin-bottom: 4px;\n",
              "    }\n",
              "\n",
              "    [theme=dark] .colab-df-convert {\n",
              "      background-color: #3B4455;\n",
              "      fill: #D2E3FC;\n",
              "    }\n",
              "\n",
              "    [theme=dark] .colab-df-convert:hover {\n",
              "      background-color: #434B5C;\n",
              "      box-shadow: 0px 1px 3px 1px rgba(0, 0, 0, 0.15);\n",
              "      filter: drop-shadow(0px 1px 2px rgba(0, 0, 0, 0.3));\n",
              "      fill: #FFFFFF;\n",
              "    }\n",
              "  </style>\n",
              "\n",
              "    <script>\n",
              "      const buttonEl =\n",
              "        document.querySelector('#df-383f1750-d1f2-4f91-aa72-603b6b9ec95e button.colab-df-convert');\n",
              "      buttonEl.style.display =\n",
              "        google.colab.kernel.accessAllowed ? 'block' : 'none';\n",
              "\n",
              "      async function convertToInteractive(key) {\n",
              "        const element = document.querySelector('#df-383f1750-d1f2-4f91-aa72-603b6b9ec95e');\n",
              "        const dataTable =\n",
              "          await google.colab.kernel.invokeFunction('convertToInteractive',\n",
              "                                                    [key], {});\n",
              "        if (!dataTable) return;\n",
              "\n",
              "        const docLinkHtml = 'Like what you see? Visit the ' +\n",
              "          '<a target=\"_blank\" href=https://colab.research.google.com/notebooks/data_table.ipynb>data table notebook</a>'\n",
              "          + ' to learn more about interactive tables.';\n",
              "        element.innerHTML = '';\n",
              "        dataTable['output_type'] = 'display_data';\n",
              "        await google.colab.output.renderOutput(dataTable, element);\n",
              "        const docLink = document.createElement('div');\n",
              "        docLink.innerHTML = docLinkHtml;\n",
              "        element.appendChild(docLink);\n",
              "      }\n",
              "    </script>\n",
              "  </div>\n",
              "\n",
              "\n",
              "<div id=\"df-ec1e2917-544f-4580-a996-d0022ff0dbdc\">\n",
              "  <button class=\"colab-df-quickchart\" onclick=\"quickchart('df-ec1e2917-544f-4580-a996-d0022ff0dbdc')\"\n",
              "            title=\"Suggest charts\"\n",
              "            style=\"display:none;\">\n",
              "\n",
              "<svg xmlns=\"http://www.w3.org/2000/svg\" height=\"24px\"viewBox=\"0 0 24 24\"\n",
              "     width=\"24px\">\n",
              "    <g>\n",
              "        <path d=\"M19 3H5c-1.1 0-2 .9-2 2v14c0 1.1.9 2 2 2h14c1.1 0 2-.9 2-2V5c0-1.1-.9-2-2-2zM9 17H7v-7h2v7zm4 0h-2V7h2v10zm4 0h-2v-4h2v4z\"/>\n",
              "    </g>\n",
              "</svg>\n",
              "  </button>\n",
              "\n",
              "<style>\n",
              "  .colab-df-quickchart {\n",
              "      --bg-color: #E8F0FE;\n",
              "      --fill-color: #1967D2;\n",
              "      --hover-bg-color: #E2EBFA;\n",
              "      --hover-fill-color: #174EA6;\n",
              "      --disabled-fill-color: #AAA;\n",
              "      --disabled-bg-color: #DDD;\n",
              "  }\n",
              "\n",
              "  [theme=dark] .colab-df-quickchart {\n",
              "      --bg-color: #3B4455;\n",
              "      --fill-color: #D2E3FC;\n",
              "      --hover-bg-color: #434B5C;\n",
              "      --hover-fill-color: #FFFFFF;\n",
              "      --disabled-bg-color: #3B4455;\n",
              "      --disabled-fill-color: #666;\n",
              "  }\n",
              "\n",
              "  .colab-df-quickchart {\n",
              "    background-color: var(--bg-color);\n",
              "    border: none;\n",
              "    border-radius: 50%;\n",
              "    cursor: pointer;\n",
              "    display: none;\n",
              "    fill: var(--fill-color);\n",
              "    height: 32px;\n",
              "    padding: 0;\n",
              "    width: 32px;\n",
              "  }\n",
              "\n",
              "  .colab-df-quickchart:hover {\n",
              "    background-color: var(--hover-bg-color);\n",
              "    box-shadow: 0 1px 2px rgba(60, 64, 67, 0.3), 0 1px 3px 1px rgba(60, 64, 67, 0.15);\n",
              "    fill: var(--button-hover-fill-color);\n",
              "  }\n",
              "\n",
              "  .colab-df-quickchart-complete:disabled,\n",
              "  .colab-df-quickchart-complete:disabled:hover {\n",
              "    background-color: var(--disabled-bg-color);\n",
              "    fill: var(--disabled-fill-color);\n",
              "    box-shadow: none;\n",
              "  }\n",
              "\n",
              "  .colab-df-spinner {\n",
              "    border: 2px solid var(--fill-color);\n",
              "    border-color: transparent;\n",
              "    border-bottom-color: var(--fill-color);\n",
              "    animation:\n",
              "      spin 1s steps(1) infinite;\n",
              "  }\n",
              "\n",
              "  @keyframes spin {\n",
              "    0% {\n",
              "      border-color: transparent;\n",
              "      border-bottom-color: var(--fill-color);\n",
              "      border-left-color: var(--fill-color);\n",
              "    }\n",
              "    20% {\n",
              "      border-color: transparent;\n",
              "      border-left-color: var(--fill-color);\n",
              "      border-top-color: var(--fill-color);\n",
              "    }\n",
              "    30% {\n",
              "      border-color: transparent;\n",
              "      border-left-color: var(--fill-color);\n",
              "      border-top-color: var(--fill-color);\n",
              "      border-right-color: var(--fill-color);\n",
              "    }\n",
              "    40% {\n",
              "      border-color: transparent;\n",
              "      border-right-color: var(--fill-color);\n",
              "      border-top-color: var(--fill-color);\n",
              "    }\n",
              "    60% {\n",
              "      border-color: transparent;\n",
              "      border-right-color: var(--fill-color);\n",
              "    }\n",
              "    80% {\n",
              "      border-color: transparent;\n",
              "      border-right-color: var(--fill-color);\n",
              "      border-bottom-color: var(--fill-color);\n",
              "    }\n",
              "    90% {\n",
              "      border-color: transparent;\n",
              "      border-bottom-color: var(--fill-color);\n",
              "    }\n",
              "  }\n",
              "</style>\n",
              "\n",
              "  <script>\n",
              "    async function quickchart(key) {\n",
              "      const quickchartButtonEl =\n",
              "        document.querySelector('#' + key + ' button');\n",
              "      quickchartButtonEl.disabled = true;  // To prevent multiple clicks.\n",
              "      quickchartButtonEl.classList.add('colab-df-spinner');\n",
              "      try {\n",
              "        const charts = await google.colab.kernel.invokeFunction(\n",
              "            'suggestCharts', [key], {});\n",
              "      } catch (error) {\n",
              "        console.error('Error during call to suggestCharts:', error);\n",
              "      }\n",
              "      quickchartButtonEl.classList.remove('colab-df-spinner');\n",
              "      quickchartButtonEl.classList.add('colab-df-quickchart-complete');\n",
              "    }\n",
              "    (() => {\n",
              "      let quickchartButtonEl =\n",
              "        document.querySelector('#df-ec1e2917-544f-4580-a996-d0022ff0dbdc button');\n",
              "      quickchartButtonEl.style.display =\n",
              "        google.colab.kernel.accessAllowed ? 'block' : 'none';\n",
              "    })();\n",
              "  </script>\n",
              "</div>\n",
              "    </div>\n",
              "  </div>\n"
            ]
          },
          "metadata": {},
          "execution_count": 12
        }
      ]
    },
    {
      "cell_type": "code",
      "source": [
        "#Shape of the data\n",
        "electronics_data.shape"
      ],
      "metadata": {
        "colab": {
          "base_uri": "https://localhost:8080/"
        },
        "id": "Tk022QRRoh6I",
        "outputId": "b519483c-1c4e-4a45-a666-781250dee977"
      },
      "execution_count": 13,
      "outputs": [
        {
          "output_type": "execute_result",
          "data": {
            "text/plain": [
              "(129174, 4)"
            ]
          },
          "metadata": {},
          "execution_count": 13
        }
      ]
    },
    {
      "cell_type": "code",
      "source": [
        "#Taking subset of the dataset\n",
        "electronics_data=electronics_data.iloc[:1048576,0:]"
      ],
      "metadata": {
        "id": "VJGf6o-Uoipm"
      },
      "execution_count": 14,
      "outputs": []
    },
    {
      "cell_type": "code",
      "source": [
        "#Check the datatypes\n",
        "electronics_data.dtypes"
      ],
      "metadata": {
        "colab": {
          "base_uri": "https://localhost:8080/"
        },
        "id": "7nwMy7WpokAJ",
        "outputId": "c02cf335-82f2-4bc2-e6bf-cc647c9e91e3"
      },
      "execution_count": 15,
      "outputs": [
        {
          "output_type": "execute_result",
          "data": {
            "text/plain": [
              "userId        object\n",
              "productId     object\n",
              "Rating       float64\n",
              "timestamp    float64\n",
              "dtype: object"
            ]
          },
          "metadata": {},
          "execution_count": 15
        }
      ]
    },
    {
      "cell_type": "code",
      "source": [
        "electronics_data.info()"
      ],
      "metadata": {
        "colab": {
          "base_uri": "https://localhost:8080/"
        },
        "id": "_jSzZ0sFooNd",
        "outputId": "4046c51f-ed5f-449a-af9c-0e1ba6d04227"
      },
      "execution_count": 16,
      "outputs": [
        {
          "output_type": "stream",
          "name": "stdout",
          "text": [
            "<class 'pandas.core.frame.DataFrame'>\n",
            "RangeIndex: 129174 entries, 0 to 129173\n",
            "Data columns (total 4 columns):\n",
            " #   Column     Non-Null Count   Dtype  \n",
            "---  ------     --------------   -----  \n",
            " 0   userId     129174 non-null  object \n",
            " 1   productId  129174 non-null  object \n",
            " 2   Rating     129173 non-null  float64\n",
            " 3   timestamp  129173 non-null  float64\n",
            "dtypes: float64(2), object(2)\n",
            "memory usage: 3.9+ MB\n"
          ]
        }
      ]
    },
    {
      "cell_type": "code",
      "source": [
        "#Five point summary\n",
        "\n",
        "electronics_data.describe()['Rating'].T"
      ],
      "metadata": {
        "colab": {
          "base_uri": "https://localhost:8080/"
        },
        "id": "OexHQn0gop8f",
        "outputId": "aaeeda9b-6932-403a-c826-137acf605532"
      },
      "execution_count": 17,
      "outputs": [
        {
          "output_type": "execute_result",
          "data": {
            "text/plain": [
              "count    129173.000000\n",
              "mean          4.035495\n",
              "std           1.353866\n",
              "min           1.000000\n",
              "25%           4.000000\n",
              "50%           5.000000\n",
              "75%           5.000000\n",
              "max           5.000000\n",
              "Name: Rating, dtype: float64"
            ]
          },
          "metadata": {},
          "execution_count": 17
        }
      ]
    },
    {
      "cell_type": "code",
      "source": [
        "#Find the minimum and maximum ratings\n",
        "print('Minimum rating is: %d' %(electronics_data.Rating.min()))\n",
        "print('Maximum rating is: %d' %(electronics_data.Rating.max()))"
      ],
      "metadata": {
        "colab": {
          "base_uri": "https://localhost:8080/"
        },
        "id": "_7Rwol8FosY6",
        "outputId": "1d2de2d9-0a44-4bfd-df83-3237aeef8f8a"
      },
      "execution_count": 18,
      "outputs": [
        {
          "output_type": "stream",
          "name": "stdout",
          "text": [
            "Minimum rating is: 1\n",
            "Maximum rating is: 5\n"
          ]
        }
      ]
    },
    {
      "cell_type": "markdown",
      "source": [
        "## Handling Missing values"
      ],
      "metadata": {
        "id": "csOTD2Qxotl6"
      }
    },
    {
      "cell_type": "code",
      "source": [
        "#Check for missing values\n",
        "print('Number of missing values across columns: \\n',electronics_data.isnull().sum())"
      ],
      "metadata": {
        "colab": {
          "base_uri": "https://localhost:8080/"
        },
        "id": "szSzwDy7oyNT",
        "outputId": "51e79cd5-62fb-4f36-d684-e30915d24e3c"
      },
      "execution_count": 19,
      "outputs": [
        {
          "output_type": "stream",
          "name": "stdout",
          "text": [
            "Number of missing values across columns: \n",
            " userId       0\n",
            "productId    0\n",
            "Rating       1\n",
            "timestamp    1\n",
            "dtype: int64\n"
          ]
        }
      ]
    },
    {
      "cell_type": "markdown",
      "source": [
        "## Ratings"
      ],
      "metadata": {
        "id": "ZbgO-fLso2PR"
      }
    },
    {
      "cell_type": "code",
      "source": [
        "# Check the distribution of the rating\n",
        "with sns.axes_style('white'):\n",
        "    g = sns.catplot(x=\"Rating\", data=electronics_data, aspect=2.0,kind='count')\n",
        "    g.set_ylabels(\"Total number of ratings\")"
      ],
      "metadata": {
        "colab": {
          "base_uri": "https://localhost:8080/",
          "height": 396
        },
        "id": "1uLgsDpYo3aA",
        "outputId": "595f0825-3e62-4831-ed46-6523eb328731"
      },
      "execution_count": 21,
      "outputs": [
        {
          "output_type": "execute_result",
          "data": {
            "text/plain": [
              "<seaborn.axisgrid.FacetGrid at 0x7de4cde56740>"
            ]
          },
          "metadata": {},
          "execution_count": 21
        },
        {
          "output_type": "display_data",
          "data": {
            "text/plain": [
              "<Figure size 1000x500 with 1 Axes>"
            ],
            "image/png": "[encoded data removed]"
          },
          "metadata": {}
        }
      ]
    },
    {
      "cell_type": "markdown",
      "source": [
        "## Unique Users and products"
      ],
      "metadata": {
        "id": "hppsMddppCef"
      }
    },
    {
      "cell_type": "code",
      "source": [
        "print(\"Total data \")\n",
        "print(\"-\"*50)\n",
        "print(\"\\nTotal no of ratings :\",electronics_data.shape[0])\n",
        "print(\"Total No of Users   :\", len(np.unique(electronics_data.userId)))\n",
        "print(\"Total No of products  :\", len(np.unique(electronics_data.productId)))"
      ],
      "metadata": {
        "colab": {
          "base_uri": "https://localhost:8080/"
        },
        "id": "CfQZVQs4pEft",
        "outputId": "3dabd2e4-ff21-4f8e-db65-ba0e2c148046"
      },
      "execution_count": 22,
      "outputs": [
        {
          "output_type": "stream",
          "name": "stdout",
          "text": [
            "Total data \n",
            "--------------------------------------------------\n",
            "\n",
            "Total no of ratings : 129174\n",
            "Total No of Users   : 114618\n",
            "Total No of products  : 8630\n"
          ]
        }
      ]
    },
    {
      "cell_type": "markdown",
      "source": [
        "## Dropping the TimeStamp Column"
      ],
      "metadata": {
        "id": "_SsW5xm8pHk9"
      }
    },
    {
      "cell_type": "code",
      "source": [
        "#Dropping the Timestamp column\n",
        "\n",
        "electronics_data.drop(['timestamp'], axis=1,inplace=True)"
      ],
      "metadata": {
        "id": "uFUHl8jRpF1x"
      },
      "execution_count": 23,
      "outputs": []
    },
    {
      "cell_type": "markdown",
      "source": [
        "## Analyzing the rating"
      ],
      "metadata": {
        "id": "zQHY29pCpLr-"
      }
    },
    {
      "cell_type": "code",
      "source": [
        "#Analysis of rating given by the user\n",
        "\n",
        "no_of_rated_products_per_user = electronics_data.groupby(by='userId')['Rating'].count().sort_values(ascending=False)\n",
        "\n",
        "no_of_rated_products_per_user.head()"
      ],
      "metadata": {
        "colab": {
          "base_uri": "https://localhost:8080/"
        },
        "id": "0hvtX6EhpLKO",
        "outputId": "e0f35d7a-f5bf-4dea-e24c-cec276920d58"
      },
      "execution_count": 24,
      "outputs": [
        {
          "output_type": "execute_result",
          "data": {
            "text/plain": [
              "userId\n",
              "A231WM2Z2JL0U3    145\n",
              "A2BGZ52M908MJY     54\n",
              "A1RPTVW5VEOSI      38\n",
              "A1MJMYLRTZ76ZX     38\n",
              "AY8Q1X7G96HV5      37\n",
              "Name: Rating, dtype: int64"
            ]
          },
          "metadata": {},
          "execution_count": 24
        }
      ]
    },
    {
      "cell_type": "code",
      "source": [
        "no_of_rated_products_per_user.describe()"
      ],
      "metadata": {
        "colab": {
          "base_uri": "https://localhost:8080/"
        },
        "id": "hUpyFQBkpO8e",
        "outputId": "3b6a802c-85f4-4a38-f2ab-c4333bd9b11c"
      },
      "execution_count": 25,
      "outputs": [
        {
          "output_type": "execute_result",
          "data": {
            "text/plain": [
              "count    114618.000000\n",
              "mean          1.126987\n",
              "std           0.830804\n",
              "min           1.000000\n",
              "25%           1.000000\n",
              "50%           1.000000\n",
              "75%           1.000000\n",
              "max         145.000000\n",
              "Name: Rating, dtype: float64"
            ]
          },
          "metadata": {},
          "execution_count": 25
        }
      ]
    },
    {
      "cell_type": "code",
      "source": [
        "quantiles = no_of_rated_products_per_user.quantile(np.arange(0,1.01,0.01), interpolation='higher')"
      ],
      "metadata": {
        "id": "BVH3u5_vpRDq"
      },
      "execution_count": 26,
      "outputs": []
    },
    {
      "cell_type": "code",
      "source": [
        "plt.figure(figsize=(10,10))\n",
        "plt.title(\"Quantiles and their Values\")\n",
        "quantiles.plot()\n",
        "# quantiles with 0.05 difference\n",
        "plt.scatter(x=quantiles.index[::5], y=quantiles.values[::5], c='orange', label=\"quantiles with 0.05 intervals\")\n",
        "# quantiles with 0.25 difference\n",
        "plt.scatter(x=quantiles.index[::25], y=quantiles.values[::25], c='m', label = \"quantiles with 0.25 intervals\")\n",
        "plt.ylabel('No of ratings by user')\n",
        "plt.xlabel('Value at the quantile')\n",
        "plt.legend(loc='best')\n",
        "plt.show()"
      ],
      "metadata": {
        "colab": {
          "base_uri": "https://localhost:8080/",
          "height": 826
        },
        "id": "ThHvEA8epShh",
        "outputId": "2ee854c0-d8e6-428a-8610-5fffc3c8f9ec"
      },
      "execution_count": 27,
      "outputs": [
        {
          "output_type": "execute_result",
          "data": {
            "text/plain": [
              "<Figure size 1000x1000 with 0 Axes>"
            ]
          },
          "metadata": {},
          "execution_count": 27
        },
        {
          "output_type": "execute_result",
          "data": {
            "text/plain": [
              "Text(0.5, 1.0, 'Quantiles and their Values')"
            ]
          },
          "metadata": {},
          "execution_count": 27
        },
        {
          "output_type": "execute_result",
          "data": {
            "text/plain": [
              "<Axes: title={'center': 'Quantiles and their Values'}>"
            ]
          },
          "metadata": {},
          "execution_count": 27
        },
        {
          "output_type": "execute_result",
          "data": {
            "text/plain": [
              "<matplotlib.collections.PathCollection at 0x7de4c6732d40>"
            ]
          },
          "metadata": {},
          "execution_count": 27
        },
        {
          "output_type": "execute_result",
          "data": {
            "text/plain": [
              "<matplotlib.collections.PathCollection at 0x7de4c67334c0>"
            ]
          },
          "metadata": {},
          "execution_count": 27
        },
        {
          "output_type": "execute_result",
          "data": {
            "text/plain": [
              "Text(0, 0.5, 'No of ratings by user')"
            ]
          },
          "metadata": {},
          "execution_count": 27
        },
        {
          "output_type": "execute_result",
          "data": {
            "text/plain": [
              "Text(0.5, 0, 'Value at the quantile')"
            ]
          },
          "metadata": {},
          "execution_count": 27
        },
        {
          "output_type": "execute_result",
          "data": {
            "text/plain": [
              "<matplotlib.legend.Legend at 0x7de4c66cb730>"
            ]
          },
          "metadata": {},
          "execution_count": 27
        },
        {
          "output_type": "display_data",
          "data": {
            "text/plain": [
              "<Figure size 1000x1000 with 1 Axes>"
            ],
            "image/png": "[encoded data removed]"
          },
          "metadata": {}
        }
      ]
    },
    {
      "cell_type": "code",
      "source": [
        "print('\\n No of rated product more than 50 per user : {}\\n'.format(sum(no_of_rated_products_per_user >= 50)) )"
      ],
      "metadata": {
        "colab": {
          "base_uri": "https://localhost:8080/"
        },
        "id": "NLK6K_eBpUoa",
        "outputId": "079b31d7-404d-42f8-b545-c0b38941f0f5"
      },
      "execution_count": 28,
      "outputs": [
        {
          "output_type": "stream",
          "name": "stdout",
          "text": [
            "\n",
            " No of rated product more than 50 per user : 2\n",
            "\n"
          ]
        }
      ]
    },
    {
      "cell_type": "markdown",
      "source": [
        "## Popularity Based Recommendation"
      ],
      "metadata": {
        "id": "vN_bG-4ppWet"
      }
    },
    {
      "cell_type": "code",
      "source": [
        "#Getting the new dataframe which contains users who has given 50 or more ratings\n",
        "\n",
        "new_df=electronics_data.groupby(\"productId\").filter(lambda x:x['Rating'].count() >=50)"
      ],
      "metadata": {
        "id": "6iojTtgupZMX"
      },
      "execution_count": 29,
      "outputs": []
    },
    {
      "cell_type": "code",
      "source": [
        "no_of_ratings_per_product = new_df.groupby(by='productId')['Rating'].count().sort_values(ascending=False)\n",
        "\n",
        "fig = plt.figure(figsize=plt.figaspect(.5))\n",
        "ax = plt.gca()\n",
        "plt.plot(no_of_ratings_per_product.values)\n",
        "plt.title('# RATINGS per Product')\n",
        "plt.xlabel('Product')\n",
        "plt.ylabel('No of ratings per product')\n",
        "ax.set_xticklabels([])\n",
        "\n",
        "plt.show()"
      ],
      "metadata": {
        "colab": {
          "base_uri": "https://localhost:8080/",
          "height": 555
        },
        "id": "KSCo2cLMpbju",
        "outputId": "065938f5-d901-46ce-b83a-374e7fa63d32"
      },
      "execution_count": 30,
      "outputs": [
        {
          "output_type": "execute_result",
          "data": {
            "text/plain": [
              "[<matplotlib.lines.Line2D at 0x7de4c6dcf610>]"
            ]
          },
          "metadata": {},
          "execution_count": 30
        },
        {
          "output_type": "execute_result",
          "data": {
            "text/plain": [
              "Text(0.5, 1.0, '# RATINGS per Product')"
            ]
          },
          "metadata": {},
          "execution_count": 30
        },
        {
          "output_type": "execute_result",
          "data": {
            "text/plain": [
              "Text(0.5, 0, 'Product')"
            ]
          },
          "metadata": {},
          "execution_count": 30
        },
        {
          "output_type": "execute_result",
          "data": {
            "text/plain": [
              "Text(0, 0.5, 'No of ratings per product')"
            ]
          },
          "metadata": {},
          "execution_count": 30
        },
        {
          "output_type": "execute_result",
          "data": {
            "text/plain": [
              "[Text(-100.0, 0, ''),\n",
              " Text(0.0, 0, ''),\n",
              " Text(100.0, 0, ''),\n",
              " Text(200.0, 0, ''),\n",
              " Text(300.0, 0, ''),\n",
              " Text(400.0, 0, ''),\n",
              " Text(500.0, 0, '')]"
            ]
          },
          "metadata": {},
          "execution_count": 30
        },
        {
          "output_type": "display_data",
          "data": {
            "text/plain": [
              "<Figure size 960x480 with 1 Axes>"
            ],
            "image/png": "[encoded data removed]"
          },
          "metadata": {}
        }
      ]
    },
    {
      "cell_type": "code",
      "source": [
        "#Average rating of the product\n",
        "\n",
        "new_df.groupby('productId')['Rating'].mean().head()"
      ],
      "metadata": {
        "colab": {
          "base_uri": "https://localhost:8080/"
        },
        "id": "BeUBhtp9pe-w",
        "outputId": "1d8b59c6-0625-4941-b9a7-4bd2975f2565"
      },
      "execution_count": 31,
      "outputs": [
        {
          "output_type": "execute_result",
          "data": {
            "text/plain": [
              "productId\n",
              "0972683275    4.470980\n",
              "1400501466    3.560000\n",
              "1400501520    4.243902\n",
              "1400501776    3.884892\n",
              "1400532620    3.684211\n",
              "Name: Rating, dtype: float64"
            ]
          },
          "metadata": {},
          "execution_count": 31
        }
      ]
    },
    {
      "cell_type": "code",
      "source": [
        "new_df.groupby('productId')['Rating'].mean().sort_values(ascending=False).head()"
      ],
      "metadata": {
        "colab": {
          "base_uri": "https://localhost:8080/"
        },
        "id": "YaHIjcn9pfXg",
        "outputId": "9a828b7d-3a61-4bfa-cbaf-7e8a4aab0a15"
      },
      "execution_count": 32,
      "outputs": [
        {
          "output_type": "execute_result",
          "data": {
            "text/plain": [
              "productId\n",
              "B000053HC5    4.945783\n",
              "B00005LE76    4.879310\n",
              "B00005UKBD    4.858974\n",
              "B000053HH5    4.841499\n",
              "B00004TDLD    4.840517\n",
              "Name: Rating, dtype: float64"
            ]
          },
          "metadata": {},
          "execution_count": 32
        }
      ]
    },
    {
      "cell_type": "code",
      "source": [
        "#Total no of rating for product\n",
        "\n",
        "new_df.groupby('productId')['Rating'].count().sort_values(ascending=False).head()"
      ],
      "metadata": {
        "colab": {
          "base_uri": "https://localhost:8080/"
        },
        "id": "e1kxTEClpg-C",
        "outputId": "2c211df6-3a05-4bfe-a413-a1febfe7ac20"
      },
      "execution_count": 33,
      "outputs": [
        {
          "output_type": "execute_result",
          "data": {
            "text/plain": [
              "productId\n",
              "B00004ZCJE    2547\n",
              "B00001P4ZH    2075\n",
              "B00004T8R2    1692\n",
              "B00001WRSJ    1586\n",
              "B00005N6KG    1296\n",
              "Name: Rating, dtype: int64"
            ]
          },
          "metadata": {},
          "execution_count": 33
        }
      ]
    },
    {
      "cell_type": "code",
      "source": [
        "ratings_mean_count = pd.DataFrame(new_df.groupby('productId')['Rating'].mean())"
      ],
      "metadata": {
        "id": "nQEMCWCUpiSh"
      },
      "execution_count": 34,
      "outputs": []
    },
    {
      "cell_type": "code",
      "source": [
        "ratings_mean_count['rating_counts'] = pd.DataFrame(new_df.groupby('productId')['Rating'].count())"
      ],
      "metadata": {
        "id": "gUF7zfE7pmNq"
      },
      "execution_count": 35,
      "outputs": []
    },
    {
      "cell_type": "code",
      "source": [
        "ratings_mean_count.head()"
      ],
      "metadata": {
        "colab": {
          "base_uri": "https://localhost:8080/",
          "height": 237
        },
        "id": "oVLGxRVxpoPK",
        "outputId": "f8262c8c-89a3-48f7-df2a-baf20d8ced45"
      },
      "execution_count": 36,
      "outputs": [
        {
          "output_type": "execute_result",
          "data": {
            "text/plain": [
              "              Rating  rating_counts\n",
              "productId                          \n",
              "0972683275  4.470980           1051\n",
              "1400501466  3.560000            250\n",
              "1400501520  4.243902             82\n",
              "1400501776  3.884892            139\n",
              "1400532620  3.684211            171"
            ],
            "text/html": [
              "\n",
              "  <div id=\"df-1461f889-658c-4dc3-9b5c-5c35d0d98bed\" class=\"colab-df-container\">\n",
              "    <div>\n",
              "<style scoped>\n",
              "    .dataframe tbody tr th:only-of-type {\n",
              "        vertical-align: middle;\n",
              "    }\n",
              "\n",
              "    .dataframe tbody tr th {\n",
              "        vertical-align: top;\n",
              "    }\n",
              "\n",
              "    .dataframe thead th {\n",
              "        text-align: right;\n",
              "    }\n",
              "</style>\n",
              "<table border=\"1\" class=\"dataframe\">\n",
              "  <thead>\n",
              "    <tr style=\"text-align: right;\">\n",
              "      <th></th>\n",
              "      <th>Rating</th>\n",
              "      <th>rating_counts</th>\n",
              "    </tr>\n",
              "    <tr>\n",
              "      <th>productId</th>\n",
              "      <th></th>\n",
              "      <th></th>\n",
              "    </tr>\n",
              "  </thead>\n",
              "  <tbody>\n",
              "    <tr>\n",
              "      <th>0972683275</th>\n",
              "      <td>4.470980</td>\n",
              "      <td>1051</td>\n",
              "    </tr>\n",
              "    <tr>\n",
              "      <th>1400501466</th>\n",
              "      <td>3.560000</td>\n",
              "      <td>250</td>\n",
              "    </tr>\n",
              "    <tr>\n",
              "      <th>1400501520</th>\n",
              "      <td>4.243902</td>\n",
              "      <td>82</td>\n",
              "    </tr>\n",
              "    <tr>\n",
              "      <th>1400501776</th>\n",
              "      <td>3.884892</td>\n",
              "      <td>139</td>\n",
              "    </tr>\n",
              "    <tr>\n",
              "      <th>1400532620</th>\n",
              "      <td>3.684211</td>\n",
              "      <td>171</td>\n",
              "    </tr>\n",
              "  </tbody>\n",
              "</table>\n",
              "</div>\n",
              "    <div class=\"colab-df-buttons\">\n",
              "\n",
              "  <div class=\"colab-df-container\">\n",
              "    <button class=\"colab-df-convert\" onclick=\"convertToInteractive('df-1461f889-658c-4dc3-9b5c-5c35d0d98bed')\"\n",
              "            title=\"Convert this dataframe to an interactive table.\"\n",
              "            style=\"display:none;\">\n",
              "\n",
              "  <svg xmlns=\"http://www.w3.org/2000/svg\" height=\"24px\" viewBox=\"0 -960 960 960\">\n",
              "    <path d=\"M120-120v-720h720v720H120Zm60-500h600v-160H180v160Zm220 220h160v-160H400v160Zm0 220h160v-160H400v160ZM180-400h160v-160H180v160Zm440 0h160v-160H620v160ZM180-180h160v-160H180v160Zm440 0h160v-160H620v160Z\"/>\n",
              "  </svg>\n",
              "    </button>\n",
              "\n",
              "  <style>\n",
              "    .colab-df-container {\n",
              "      display:flex;\n",
              "      gap: 12px;\n",
              "    }\n",
              "\n",
              "    .colab-df-convert {\n",
              "      background-color: #E8F0FE;\n",
              "      border: none;\n",
              "      border-radius: 50%;\n",
              "      cursor: pointer;\n",
              "      display: none;\n",
              "      fill: #1967D2;\n",
              "      height: 32px;\n",
              "      padding: 0 0 0 0;\n",
              "      width: 32px;\n",
              "    }\n",
              "\n",
              "    .colab-df-convert:hover {\n",
              "      background-color: #E2EBFA;\n",
              "      box-shadow: 0px 1px 2px rgba(60, 64, 67, 0.3), 0px 1px 3px 1px rgba(60, 64, 67, 0.15);\n",
              "      fill: #174EA6;\n",
              "    }\n",
              "\n",
              "    .colab-df-buttons div {\n",
              "      margin-bottom: 4px;\n",
              "    }\n",
              "\n",
              "    [theme=dark] .colab-df-convert {\n",
              "      background-color: #3B4455;\n",
              "      fill: #D2E3FC;\n",
              "    }\n",
              "\n",
              "    [theme=dark] .colab-df-convert:hover {\n",
              "      background-color: #434B5C;\n",
              "      box-shadow: 0px 1px 3px 1px rgba(0, 0, 0, 0.15);\n",
              "      filter: drop-shadow(0px 1px 2px rgba(0, 0, 0, 0.3));\n",
              "      fill: #FFFFFF;\n",
              "    }\n",
              "  </style>\n",
              "\n",
              "    <script>\n",
              "      const buttonEl =\n",
              "        document.querySelector('#df-1461f889-658c-4dc3-9b5c-5c35d0d98bed button.colab-df-convert');\n",
              "      buttonEl.style.display =\n",
              "        google.colab.kernel.accessAllowed ? 'block' : 'none';\n",
              "\n",
              "      async function convertToInteractive(key) {\n",
              "        const element = document.querySelector('#df-1461f889-658c-4dc3-9b5c-5c35d0d98bed');\n",
              "        const dataTable =\n",
              "          await google.colab.kernel.invokeFunction('convertToInteractive',\n",
              "                                                    [key], {});\n",
              "        if (!dataTable) return;\n",
              "\n",
              "        const docLinkHtml = 'Like what you see? Visit the ' +\n",
              "          '<a target=\"_blank\" href=https://colab.research.google.com/notebooks/data_table.ipynb>data table notebook</a>'\n",
              "          + ' to learn more about interactive tables.';\n",
              "        element.innerHTML = '';\n",
              "        dataTable['output_type'] = 'display_data';\n",
              "        await google.colab.output.renderOutput(dataTable, element);\n",
              "        const docLink = document.createElement('div');\n",
              "        docLink.innerHTML = docLinkHtml;\n",
              "        element.appendChild(docLink);\n",
              "      }\n",
              "    </script>\n",
              "  </div>\n",
              "\n",
              "\n",
              "<div id=\"df-537333fb-0075-4101-98d0-1f5b4896dd8d\">\n",
              "  <button class=\"colab-df-quickchart\" onclick=\"quickchart('df-537333fb-0075-4101-98d0-1f5b4896dd8d')\"\n",
              "            title=\"Suggest charts\"\n",
              "            style=\"display:none;\">\n",
              "\n",
              "<svg xmlns=\"http://www.w3.org/2000/svg\" height=\"24px\"viewBox=\"0 0 24 24\"\n",
              "     width=\"24px\">\n",
              "    <g>\n",
              "        <path d=\"M19 3H5c-1.1 0-2 .9-2 2v14c0 1.1.9 2 2 2h14c1.1 0 2-.9 2-2V5c0-1.1-.9-2-2-2zM9 17H7v-7h2v7zm4 0h-2V7h2v10zm4 0h-2v-4h2v4z\"/>\n",
              "    </g>\n",
              "</svg>\n",
              "  </button>\n",
              "\n",
              "<style>\n",
              "  .colab-df-quickchart {\n",
              "      --bg-color: #E8F0FE;\n",
              "      --fill-color: #1967D2;\n",
              "      --hover-bg-color: #E2EBFA;\n",
              "      --hover-fill-color: #174EA6;\n",
              "      --disabled-fill-color: #AAA;\n",
              "      --disabled-bg-color: #DDD;\n",
              "  }\n",
              "\n",
              "  [theme=dark] .colab-df-quickchart {\n",
              "      --bg-color: #3B4455;\n",
              "      --fill-color: #D2E3FC;\n",
              "      --hover-bg-color: #434B5C;\n",
              "      --hover-fill-color: #FFFFFF;\n",
              "      --disabled-bg-color: #3B4455;\n",
              "      --disabled-fill-color: #666;\n",
              "  }\n",
              "\n",
              "  .colab-df-quickchart {\n",
              "    background-color: var(--bg-color);\n",
              "    border: none;\n",
              "    border-radius: 50%;\n",
              "    cursor: pointer;\n",
              "    display: none;\n",
              "    fill: var(--fill-color);\n",
              "    height: 32px;\n",
              "    padding: 0;\n",
              "    width: 32px;\n",
              "  }\n",
              "\n",
              "  .colab-df-quickchart:hover {\n",
              "    background-color: var(--hover-bg-color);\n",
              "    box-shadow: 0 1px 2px rgba(60, 64, 67, 0.3), 0 1px 3px 1px rgba(60, 64, 67, 0.15);\n",
              "    fill: var(--button-hover-fill-color);\n",
              "  }\n",
              "\n",
              "  .colab-df-quickchart-complete:disabled,\n",
              "  .colab-df-quickchart-complete:disabled:hover {\n",
              "    background-color: var(--disabled-bg-color);\n",
              "    fill: var(--disabled-fill-color);\n",
              "    box-shadow: none;\n",
              "  }\n",
              "\n",
              "  .colab-df-spinner {\n",
              "    border: 2px solid var(--fill-color);\n",
              "    border-color: transparent;\n",
              "    border-bottom-color: var(--fill-color);\n",
              "    animation:\n",
              "      spin 1s steps(1) infinite;\n",
              "  }\n",
              "\n",
              "  @keyframes spin {\n",
              "    0% {\n",
              "      border-color: transparent;\n",
              "      border-bottom-color: var(--fill-color);\n",
              "      border-left-color: var(--fill-color);\n",
              "    }\n",
              "    20% {\n",
              "      border-color: transparent;\n",
              "      border-left-color: var(--fill-color);\n",
              "      border-top-color: var(--fill-color);\n",
              "    }\n",
              "    30% {\n",
              "      border-color: transparent;\n",
              "      border-left-color: var(--fill-color);\n",
              "      border-top-color: var(--fill-color);\n",
              "      border-right-color: var(--fill-color);\n",
              "    }\n",
              "    40% {\n",
              "      border-color: transparent;\n",
              "      border-right-color: var(--fill-color);\n",
              "      border-top-color: var(--fill-color);\n",
              "    }\n",
              "    60% {\n",
              "      border-color: transparent;\n",
              "      border-right-color: var(--fill-color);\n",
              "    }\n",
              "    80% {\n",
              "      border-color: transparent;\n",
              "      border-right-color: var(--fill-color);\n",
              "      border-bottom-color: var(--fill-color);\n",
              "    }\n",
              "    90% {\n",
              "      border-color: transparent;\n",
              "      border-bottom-color: var(--fill-color);\n",
              "    }\n",
              "  }\n",
              "</style>\n",
              "\n",
              "  <script>\n",
              "    async function quickchart(key) {\n",
              "      const quickchartButtonEl =\n",
              "        document.querySelector('#' + key + ' button');\n",
              "      quickchartButtonEl.disabled = true;  // To prevent multiple clicks.\n",
              "      quickchartButtonEl.classList.add('colab-df-spinner');\n",
              "      try {\n",
              "        const charts = await google.colab.kernel.invokeFunction(\n",
              "            'suggestCharts', [key], {});\n",
              "      } catch (error) {\n",
              "        console.error('Error during call to suggestCharts:', error);\n",
              "      }\n",
              "      quickchartButtonEl.classList.remove('colab-df-spinner');\n",
              "      quickchartButtonEl.classList.add('colab-df-quickchart-complete');\n",
              "    }\n",
              "    (() => {\n",
              "      let quickchartButtonEl =\n",
              "        document.querySelector('#df-537333fb-0075-4101-98d0-1f5b4896dd8d button');\n",
              "      quickchartButtonEl.style.display =\n",
              "        google.colab.kernel.accessAllowed ? 'block' : 'none';\n",
              "    })();\n",
              "  </script>\n",
              "</div>\n",
              "    </div>\n",
              "  </div>\n"
            ]
          },
          "metadata": {},
          "execution_count": 36
        }
      ]
    },
    {
      "cell_type": "code",
      "source": [
        "ratings_mean_count['rating_counts'].max()"
      ],
      "metadata": {
        "colab": {
          "base_uri": "https://localhost:8080/"
        },
        "id": "yLMryRJTppiA",
        "outputId": "0bb5d308-a5d0-4ada-8239-981055025e40"
      },
      "execution_count": 37,
      "outputs": [
        {
          "output_type": "execute_result",
          "data": {
            "text/plain": [
              "2547"
            ]
          },
          "metadata": {},
          "execution_count": 37
        }
      ]
    },
    {
      "cell_type": "code",
      "source": [
        "plt.figure(figsize=(8,6))\n",
        "plt.rcParams['patch.force_edgecolor'] = True\n",
        "ratings_mean_count['rating_counts'].hist(bins=50)"
      ],
      "metadata": {
        "colab": {
          "base_uri": "https://localhost:8080/",
          "height": 541
        },
        "id": "ogCdMhgcprvU",
        "outputId": "4cd49ec4-3075-4f38-b4c3-e8ee08fd2dc9"
      },
      "execution_count": 38,
      "outputs": [
        {
          "output_type": "execute_result",
          "data": {
            "text/plain": [
              "<Figure size 800x600 with 0 Axes>"
            ]
          },
          "metadata": {},
          "execution_count": 38
        },
        {
          "output_type": "execute_result",
          "data": {
            "text/plain": [
              "<Axes: >"
            ]
          },
          "metadata": {},
          "execution_count": 38
        },
        {
          "output_type": "display_data",
          "data": {
            "text/plain": [
              "<Figure size 800x600 with 1 Axes>"
            ],
            "image/png": "[encoded data removed]"
          },
          "metadata": {}
        }
      ]
    },
    {
      "cell_type": "code",
      "source": [
        "plt.figure(figsize=(8,6))\n",
        "plt.rcParams['patch.force_edgecolor'] = True\n",
        "ratings_mean_count['Rating'].hist(bins=50)"
      ],
      "metadata": {
        "colab": {
          "base_uri": "https://localhost:8080/",
          "height": 541
        },
        "id": "lfax0dOspsu5",
        "outputId": "819fbff0-8c44-44c2-db1f-720bcf15a8fa"
      },
      "execution_count": 39,
      "outputs": [
        {
          "output_type": "execute_result",
          "data": {
            "text/plain": [
              "<Figure size 800x600 with 0 Axes>"
            ]
          },
          "metadata": {},
          "execution_count": 39
        },
        {
          "output_type": "execute_result",
          "data": {
            "text/plain": [
              "<Axes: >"
            ]
          },
          "metadata": {},
          "execution_count": 39
        },
        {
          "output_type": "display_data",
          "data": {
            "text/plain": [
              "<Figure size 800x600 with 1 Axes>"
            ],
            "image/png": "[encoded data removed]"
          },
          "metadata": {}
        }
      ]
    },
    {
      "cell_type": "code",
      "source": [
        "plt.figure(figsize=(8,6))\n",
        "plt.rcParams['patch.force_edgecolor'] = True\n",
        "sns.jointplot(x='Rating', y='rating_counts', data=ratings_mean_count, alpha=0.4)"
      ],
      "metadata": {
        "colab": {
          "base_uri": "https://localhost:8080/",
          "height": 644
        },
        "id": "7bCmKI4ppwBH",
        "outputId": "d6fca808-796b-4c79-dbd8-633389c16dea"
      },
      "execution_count": 40,
      "outputs": [
        {
          "output_type": "execute_result",
          "data": {
            "text/plain": [
              "<Figure size 800x600 with 0 Axes>"
            ]
          },
          "metadata": {},
          "execution_count": 40
        },
        {
          "output_type": "execute_result",
          "data": {
            "text/plain": [
              "<seaborn.axisgrid.JointGrid at 0x7de4c6afd900>"
            ]
          },
          "metadata": {},
          "execution_count": 40
        },
        {
          "output_type": "display_data",
          "data": {
            "text/plain": [
              "<Figure size 800x600 with 0 Axes>"
            ]
          },
          "metadata": {}
        },
        {
          "output_type": "display_data",
          "data": {
            "text/plain": [
              "<Figure size 600x600 with 3 Axes>"
            ],
            "image/png": "[encoded data removed]"
          },
          "metadata": {}
        }
      ]
    },
    {
      "cell_type": "code",
      "source": [
        "popular_products = pd.DataFrame(new_df.groupby('productId')['Rating'].count())\n",
        "most_popular = popular_products.sort_values('Rating', ascending=False)\n",
        "most_popular.head(30).plot(kind = \"bar\")"
      ],
      "metadata": {
        "colab": {
          "base_uri": "https://localhost:8080/",
          "height": 551
        },
        "id": "-DcHGejtpx0Y",
        "outputId": "c39e991a-9231-481d-e3f1-abcdbe5c89d3"
      },
      "execution_count": 41,
      "outputs": [
        {
          "output_type": "execute_result",
          "data": {
            "text/plain": [
              "<Axes: xlabel='productId'>"
            ]
          },
          "metadata": {},
          "execution_count": 41
        },
        {
          "output_type": "display_data",
          "data": {
            "text/plain": [
              "<Figure size 640x480 with 1 Axes>"
            ],
            "image/png": "[encoded data removed]"
          },
          "metadata": {}
        }
      ]
    },
    {
      "cell_type": "markdown",
      "source": [
        "Collaberative filtering (Item-Item recommedation)"
      ],
      "metadata": {
        "id": "Rwpq2G4XpzOo"
      }
    },
    {
      "cell_type": "code",
      "source": [
        "!pip install scikit-surprise\n",
        "from surprise import KNNWithMeans\n",
        "from surprise import Dataset\n",
        "from surprise import accuracy\n",
        "from surprise import Reader\n",
        "import os\n",
        "from surprise.model_selection import train_test_split"
      ],
      "metadata": {
        "colab": {
          "base_uri": "https://localhost:8080/"
        },
        "id": "KMZw6-24p3Ef",
        "outputId": "f9e07e5c-1db1-4c6c-bf13-5a86f82fb222"
      },
      "execution_count": 43,
      "outputs": [
        {
          "output_type": "stream",
          "name": "stdout",
          "text": [
            "Collecting scikit-surprise\n",
            "  Downloading scikit-surprise-1.1.3.tar.gz (771 kB)\n",
            "\u001b[?25l     \u001b[90m━━━━━━━━━━━━━━━━━━━━━━━━━━━━━━━━━━━━━━━━\u001b[0m \u001b[32m0.0/772.0 kB\u001b[0m \u001b[31m?\u001b[0m eta \u001b[36m-:--:--\u001b[0m\r\u001b[2K     \u001b[91m━━━━━\u001b[0m\u001b[91m╸\u001b[0m\u001b[90m━━━━━━━━━━━━━━━━━━━━━━━━━━━━━━━━━━\u001b[0m \u001b[32m112.6/772.0 kB\u001b[0m \u001b[31m3.3 MB/s\u001b[0m eta \u001b[36m0:00:01\u001b[0m\r\u001b[2K     \u001b[91m━━━━━━━━━━━━━━━━━━━━━━━━━━━━━━━━━━━━━━━\u001b[0m\u001b[91m╸\u001b[0m \u001b[32m768.0/772.0 kB\u001b[0m \u001b[31m11.9 MB/s\u001b[0m eta \u001b[36m0:00:01\u001b[0m\r\u001b[2K     \u001b[90m━━━━━━━━━━━━━━━━━━━━━━━━━━━━━━━━━━━━━━━━\u001b[0m \u001b[32m772.0/772.0 kB\u001b[0m \u001b[31m10.1 MB/s\u001b[0m eta \u001b[36m0:00:00\u001b[0m\n",
            "\u001b[?25h  Preparing metadata (setup.py) ... \u001b[?25l\u001b[?25hdone\n",
            "Requirement already satisfied: joblib>=1.0.0 in /usr/local/lib/python3.10/dist-packages (from scikit-surprise) (1.3.2)\n",
            "Requirement already satisfied: numpy>=1.17.3 in /usr/local/lib/python3.10/dist-packages (from scikit-surprise) (1.23.5)\n",
            "Requirement already satisfied: scipy>=1.3.2 in /usr/local/lib/python3.10/dist-packages (from scikit-surprise) (1.11.3)\n",
            "Building wheels for collected packages: scikit-surprise\n",
            "  Building wheel for scikit-surprise (setup.py) ... \u001b[?25l\u001b[?25hdone\n",
            "  Created wheel for scikit-surprise: filename=scikit_surprise-1.1.3-cp310-cp310-linux_x86_64.whl size=3163483 sha256=52b6d3b6a2d2337eb625fdcf7d81c5e3111e0aa9ba309beff98fc263aff3f31f\n",
            "  Stored in directory: /root/.cache/pip/wheels/a5/ca/a8/4e28def53797fdc4363ca4af740db15a9c2f1595ebc51fb445\n",
            "Successfully built scikit-surprise\n",
            "Installing collected packages: scikit-surprise\n",
            "Successfully installed scikit-surprise-1.1.3\n"
          ]
        }
      ]
    },
    {
      "cell_type": "code",
      "source": [
        "#Reading the dataset\n",
        "reader = Reader(rating_scale=(1, 5))\n",
        "data = Dataset.load_from_df(new_df,reader)"
      ],
      "metadata": {
        "id": "NBRMbkcBqC6f"
      },
      "execution_count": 44,
      "outputs": []
    },
    {
      "cell_type": "code",
      "source": [
        "#Splitting the dataset\n",
        "trainset, testset = train_test_split(data, test_size=0.3,random_state=10)"
      ],
      "metadata": {
        "id": "-cRmkWNvqDfp"
      },
      "execution_count": 45,
      "outputs": []
    },
    {
      "cell_type": "code",
      "source": [
        "# Use user_based true/false to switch between user-based or item-based collaborative filtering\n",
        "algo = KNNWithMeans(k=5, sim_options={'name': 'pearson_baseline', 'user_based': False})\n",
        "algo.fit(trainset)"
      ],
      "metadata": {
        "colab": {
          "base_uri": "https://localhost:8080/"
        },
        "id": "oHaQdNgzqHGV",
        "outputId": "dc69621e-387f-4826-b81d-0c15bdba6eac"
      },
      "execution_count": 46,
      "outputs": [
        {
          "output_type": "stream",
          "name": "stdout",
          "text": [
            "Estimating biases using als...\n",
            "Computing the pearson_baseline similarity matrix...\n",
            "Done computing similarity matrix.\n"
          ]
        },
        {
          "output_type": "execute_result",
          "data": {
            "text/plain": [
              "<surprise.prediction_algorithms.knns.KNNWithMeans at 0x7de4c680b280>"
            ]
          },
          "metadata": {},
          "execution_count": 46
        }
      ]
    },
    {
      "cell_type": "code",
      "source": [
        "# run the trained model against the testset\n",
        "test_pred = algo.test(testset)"
      ],
      "metadata": {
        "id": "9vDWxdQJqIof"
      },
      "execution_count": 47,
      "outputs": []
    },
    {
      "cell_type": "code",
      "source": [
        "test_pred"
      ],
      "metadata": {
        "colab": {
          "base_uri": "https://localhost:8080/"
        },
        "id": "Jx6ibPMmqJOR",
        "outputId": "0aa1b8e8-0822-46bd-a220-4b7513ea7084"
      },
      "execution_count": 48,
      "outputs": [
        {
          "output_type": "execute_result",
          "data": {
            "text/plain": [
              "[Prediction(uid='A1HOJZ7CVUV1FT', iid='B00004ZC8Y', r_ui=4.0, est=4.13277566818924, details={'was_impossible': True, 'reason': 'User and/or item is unknown.'}),\n",
              " Prediction(uid='A3JGAZZ8P5O5AG', iid='B00005NHH8', r_ui=5.0, est=4.13277566818924, details={'was_impossible': True, 'reason': 'User and/or item is unknown.'}),\n",
              " Prediction(uid='A2TSRC3W2NMJX0', iid='B00005114Z', r_ui=5.0, est=4.13277566818924, details={'was_impossible': True, 'reason': 'User and/or item is unknown.'}),\n",
              " Prediction(uid='A13M9IAMD78WWT', iid='B00005219A', r_ui=1.0, est=4.13277566818924, details={'was_impossible': True, 'reason': 'User and/or item is unknown.'}),\n",
              " Prediction(uid='A3VL8YXEIBTP5G', iid='B00001ZWXA', r_ui=5.0, est=4.13277566818924, details={'was_impossible': True, 'reason': 'User and/or item is unknown.'}),\n",
              " Prediction(uid='A1U41RXYTEEQSB', iid='B00004WCIC', r_ui=3.0, est=4.13277566818924, details={'was_impossible': True, 'reason': 'User and/or item is unknown.'}),\n",
              " Prediction(uid='A1FYX3RHM6B6EX', iid='B00004SB92', r_ui=5.0, est=3.8714090287277703, details={'actual_k': 0, 'was_impossible': False}),\n",
              " Prediction(uid='AKGEF0PV711XT', iid='B00004TBLW', r_ui=4.0, est=4.13277566818924, details={'was_impossible': True, 'reason': 'User and/or item is unknown.'}),\n",
              " Prediction(uid='AY5D4VMX7PFS8', iid='B00005LEN4', r_ui=5.0, est=4.13277566818924, details={'was_impossible': True, 'reason': 'User and/or item is unknown.'}),\n",
              " Prediction(uid='A29G3T6ZZY26TL', iid='B000058AKE', r_ui=5.0, est=4.13277566818924, details={'was_impossible': True, 'reason': 'User and/or item is unknown.'}),\n",
              " Prediction(uid='AZFF4CX9MQ4AE', iid='B000001OM5', r_ui=5.0, est=3.7857142857142856, details={'actual_k': 0, 'was_impossible': False}),\n",
              " Prediction(uid='A1KUF5T8B1VT94', iid='B00005T380', r_ui=5.0, est=4.13277566818924, details={'was_impossible': True, 'reason': 'User and/or item is unknown.'}),\n",
              " Prediction(uid='A33M6I2BY6NXMX', iid='8862935293', r_ui=4.0, est=4.13277566818924, details={'was_impossible': True, 'reason': 'User and/or item is unknown.'}),\n",
              " Prediction(uid='A1REG3AAG33O73', iid='B00001WRSJ', r_ui=5.0, est=4.13277566818924, details={'was_impossible': True, 'reason': 'User and/or item is unknown.'}),\n",
              " Prediction(uid='A3TZJTWZRNGRT9', iid='B00005NIMJ', r_ui=5.0, est=4.13277566818924, details={'was_impossible': True, 'reason': 'User and/or item is unknown.'}),\n",
              " Prediction(uid='A16WIPFD05J6DI', iid='B00004Z5P4', r_ui=5.0, est=4.13277566818924, details={'was_impossible': True, 'reason': 'User and/or item is unknown.'}),\n",
              " Prediction(uid='A3VDXNWL6KIZXN', iid='B00005NHH8', r_ui=4.0, est=4.13277566818924, details={'was_impossible': True, 'reason': 'User and/or item is unknown.'}),\n",
              " Prediction(uid='A3F31A4N0OO6MY', iid='B00005AW1H', r_ui=1.0, est=4.13277566818924, details={'was_impossible': True, 'reason': 'User and/or item is unknown.'}),\n",
              " Prediction(uid='A3H3QOBWMML2SS', iid='B00005BC0K', r_ui=5.0, est=4.13277566818924, details={'was_impossible': True, 'reason': 'User and/or item is unknown.'}),\n",
              " Prediction(uid='A2M0COD7LGQNGX', iid='B00004SB92', r_ui=1.0, est=4.13277566818924, details={'was_impossible': True, 'reason': 'User and/or item is unknown.'}),\n",
              " Prediction(uid='AP5NXS66INNOB', iid='B00004RDMR', r_ui=5.0, est=4.13277566818924, details={'was_impossible': True, 'reason': 'User and/or item is unknown.'}),\n",
              " Prediction(uid='A3J8A5L5AF5TX9', iid='B00001P4XA', r_ui=4.0, est=3.8071979434447303, details={'actual_k': 0, 'was_impossible': False}),\n",
              " Prediction(uid='A364CT24MOIRWB', iid='B00005ATMI', r_ui=5.0, est=4.13277566818924, details={'was_impossible': True, 'reason': 'User and/or item is unknown.'}),\n",
              " Prediction(uid='A1UOEH2FVF5B67', iid='B0000513O4', r_ui=5.0, est=4.13277566818924, details={'was_impossible': True, 'reason': 'User and/or item is unknown.'}),\n",
              " Prediction(uid='A3I5S0G8FMWV03', iid='B00004RDL5', r_ui=4.0, est=3.690909090909091, details={'actual_k': 0, 'was_impossible': False}),\n",
              " Prediction(uid='A3N49USDO87Q2B', iid='B00003CWDK', r_ui=5.0, est=4.13277566818924, details={'was_impossible': True, 'reason': 'User and/or item is unknown.'}),\n",
              " Prediction(uid='A611J1TAB1VGT', iid='B00004Z5D1', r_ui=5.0, est=4.13277566818924, details={'was_impossible': True, 'reason': 'User and/or item is unknown.'}),\n",
              " Prediction(uid='AYQ6GWCSVVYW8', iid='B00004TDL2', r_ui=1.0, est=4.13277566818924, details={'was_impossible': True, 'reason': 'User and/or item is unknown.'}),\n",
              " Prediction(uid='A3VZ53R6F842QZ', iid='0972683275', r_ui=5.0, est=4.13277566818924, details={'was_impossible': True, 'reason': 'User and/or item is unknown.'}),\n",
              " Prediction(uid='A1T6YVY254ZUY1', iid='B00004RC2D', r_ui=5.0, est=4.235772357723577, details={'actual_k': 0, 'was_impossible': False}),\n",
              " Prediction(uid='AWJWCKB92RJX2', iid='B00005Q5U5', r_ui=5.0, est=4.582278481012659, details={'actual_k': 0, 'was_impossible': False}),\n",
              " Prediction(uid='A2EK51SWGKF7C2', iid='B00002NDRQ', r_ui=3.0, est=4.13277566818924, details={'was_impossible': True, 'reason': 'User and/or item is unknown.'}),\n",
              " Prediction(uid='A2Z9GC87ORIL2M', iid='B00004T1XK', r_ui=3.0, est=4.13277566818924, details={'was_impossible': True, 'reason': 'User and/or item is unknown.'}),\n",
              " Prediction(uid='A29H18442XHM0S', iid='B00005NIMJ', r_ui=4.0, est=4.476038338658147, details={'actual_k': 0, 'was_impossible': False}),\n",
              " Prediction(uid='A1BJQJZUQI20FC', iid='B000031KIM', r_ui=1.0, est=4.13277566818924, details={'was_impossible': True, 'reason': 'User and/or item is unknown.'}),\n",
              " Prediction(uid='AF2GG3KQ3IWPZ', iid='B00004WCGF', r_ui=5.0, est=4.13277566818924, details={'was_impossible': True, 'reason': 'User and/or item is unknown.'}),\n",
              " Prediction(uid='AUD3625DTT5KY', iid='B000051SD1', r_ui=1.0, est=4.13277566818924, details={'was_impossible': True, 'reason': 'User and/or item is unknown.'}),\n",
              " Prediction(uid='A161HOJT5208X3', iid='B00004TWVY', r_ui=3.0, est=4.13277566818924, details={'was_impossible': True, 'reason': 'User and/or item is unknown.'}),\n",
              " Prediction(uid='AACO2XCA4SK7E', iid='B00001P4XA', r_ui=1.0, est=4.13277566818924, details={'was_impossible': True, 'reason': 'User and/or item is unknown.'}),\n",
              " Prediction(uid='A1AC3V035REH04', iid='B00004Z68P', r_ui=5.0, est=4.13277566818924, details={'was_impossible': True, 'reason': 'User and/or item is unknown.'}),\n",
              " Prediction(uid='A3K1IA5RMKIBK6', iid='B00004THCZ', r_ui=1.0, est=4.13277566818924, details={'was_impossible': True, 'reason': 'User and/or item is unknown.'}),\n",
              " Prediction(uid='A1Z53RTCX90DXO', iid='B00005T3XH', r_ui=5.0, est=4.13277566818924, details={'was_impossible': True, 'reason': 'User and/or item is unknown.'}),\n",
              " Prediction(uid='A3N9DSKGIJ42D0', iid='B00001OWYM', r_ui=1.0, est=2.242160278745645, details={'actual_k': 1, 'was_impossible': False}),\n",
              " Prediction(uid='A2KZWL4NQ65C7P', iid='B00004SABB', r_ui=5.0, est=4.13277566818924, details={'was_impossible': True, 'reason': 'User and/or item is unknown.'}),\n",
              " Prediction(uid='A1FJGID5Z4LZ2Q', iid='B00005T3BD', r_ui=5.0, est=4.13277566818924, details={'was_impossible': True, 'reason': 'User and/or item is unknown.'}),\n",
              " Prediction(uid='A19R31HPDVQ4I1', iid='B00005NCWM', r_ui=4.0, est=4.13277566818924, details={'was_impossible': True, 'reason': 'User and/or item is unknown.'}),\n",
              " Prediction(uid='A3LAVQS23XB7G2', iid='B00005LEN4', r_ui=5.0, est=4.13277566818924, details={'was_impossible': True, 'reason': 'User and/or item is unknown.'}),\n",
              " Prediction(uid='AGUQ0H27K8QKD', iid='B00001ZWXA', r_ui=5.0, est=4.13277566818924, details={'was_impossible': True, 'reason': 'User and/or item is unknown.'}),\n",
              " Prediction(uid='A14MVDOC2AN2DM', iid='B00004WIMW', r_ui=5.0, est=4.13277566818924, details={'was_impossible': True, 'reason': 'User and/or item is unknown.'}),\n",
              " Prediction(uid='A1ABWB0U3CA8UI', iid='9983891212', r_ui=5.0, est=4.13277566818924, details={'was_impossible': True, 'reason': 'User and/or item is unknown.'}),\n",
              " Prediction(uid='A1407K66LJPJPF', iid='B00005T3XH', r_ui=5.0, est=4.13277566818924, details={'was_impossible': True, 'reason': 'User and/or item is unknown.'}),\n",
              " Prediction(uid='A2RFNIOYR9YO69', iid='1400532655', r_ui=5.0, est=4.13277566818924, details={'was_impossible': True, 'reason': 'User and/or item is unknown.'}),\n",
              " Prediction(uid='A3J3JW5BZIP214', iid='B00004VX39', r_ui=5.0, est=4.13277566818924, details={'was_impossible': True, 'reason': 'User and/or item is unknown.'}),\n",
              " Prediction(uid='A3OMLSETBU3BB', iid='B00004WCIC', r_ui=3.0, est=4.13277566818924, details={'was_impossible': True, 'reason': 'User and/or item is unknown.'}),\n",
              " Prediction(uid='A2NUN3UYLJYKFN', iid='9984984354', r_ui=1.0, est=4.13277566818924, details={'was_impossible': True, 'reason': 'User and/or item is unknown.'}),\n",
              " Prediction(uid='A1JJ9ZG89YRJJ5', iid='B000056SSM', r_ui=3.0, est=4.13277566818924, details={'was_impossible': True, 'reason': 'User and/or item is unknown.'}),\n",
              " Prediction(uid='A2044QNOP60N5K', iid='B00005A9AV', r_ui=4.0, est=4.13277566818924, details={'was_impossible': True, 'reason': 'User and/or item is unknown.'}),\n",
              " Prediction(uid='A8T06H7NPOCUM', iid='B00005T406', r_ui=5.0, est=4.13277566818924, details={'was_impossible': True, 'reason': 'User and/or item is unknown.'}),\n",
              " Prediction(uid='A1G2YT0MO8MVWK', iid='B00004TWM6', r_ui=4.0, est=4.13277566818924, details={'was_impossible': True, 'reason': 'User and/or item is unknown.'}),\n",
              " Prediction(uid='A2Z2ILV1UY9OKL', iid='140053271X', r_ui=5.0, est=4.13277566818924, details={'was_impossible': True, 'reason': 'User and/or item is unknown.'}),\n",
              " Prediction(uid='A269V6P005C6L', iid='B00004WCID', r_ui=1.0, est=4.13277566818924, details={'was_impossible': True, 'reason': 'User and/or item is unknown.'}),\n",
              " Prediction(uid='A3M48YAHSW7EHO', iid='B00001P505', r_ui=4.0, est=4.13277566818924, details={'was_impossible': True, 'reason': 'User and/or item is unknown.'}),\n",
              " Prediction(uid='A2L1JQZXIHSV8M', iid='B00000JDF6', r_ui=5.0, est=4.13277566818924, details={'was_impossible': True, 'reason': 'User and/or item is unknown.'}),\n",
              " Prediction(uid='A1P8DPH15FY634', iid='B00005I9RU', r_ui=5.0, est=4.13277566818924, details={'was_impossible': True, 'reason': 'User and/or item is unknown.'}),\n",
              " Prediction(uid='A1RV4IVM88V8AP', iid='B000051SD1', r_ui=4.0, est=4.13277566818924, details={'was_impossible': True, 'reason': 'User and/or item is unknown.'}),\n",
              " Prediction(uid='A2Z6K9EAI8WHZT', iid='B00004Z7G9', r_ui=4.0, est=4.13277566818924, details={'was_impossible': True, 'reason': 'User and/or item is unknown.'}),\n",
              " Prediction(uid='A2CLEFG4Q9SBAZ', iid='B000038AB2', r_ui=3.0, est=4.13277566818924, details={'was_impossible': True, 'reason': 'User and/or item is unknown.'}),\n",
              " Prediction(uid='AEO8TXEYD1BNW', iid='B00004WCGF', r_ui=2.0, est=4.13277566818924, details={'was_impossible': True, 'reason': 'User and/or item is unknown.'}),\n",
              " Prediction(uid='AIW29MDC0PM1E', iid='B00004WCGF', r_ui=3.0, est=4.13277566818924, details={'was_impossible': True, 'reason': 'User and/or item is unknown.'}),\n",
              " Prediction(uid='APNK7ROJ68Z09', iid='B00004Z6Q6', r_ui=5.0, est=4.13277566818924, details={'was_impossible': True, 'reason': 'User and/or item is unknown.'}),\n",
              " Prediction(uid='A1X8O5AK6X3FE', iid='B000038AB2', r_ui=5.0, est=4.13277566818924, details={'was_impossible': True, 'reason': 'User and/or item is unknown.'}),\n",
              " Prediction(uid='A3ON6O7VS05SKO', iid='B00003G1RG', r_ui=2.0, est=4.13277566818924, details={'was_impossible': True, 'reason': 'User and/or item is unknown.'}),\n",
              " Prediction(uid='A2EVLFN3CCGYV9', iid='B00001W0DH', r_ui=4.0, est=4.13277566818924, details={'was_impossible': True, 'reason': 'User and/or item is unknown.'}),\n",
              " Prediction(uid='A1Y0PINPBUP9L0', iid='B000050AUJ', r_ui=5.0, est=4.13277566818924, details={'was_impossible': True, 'reason': 'User and/or item is unknown.'}),\n",
              " Prediction(uid='A1TM6APH5KYAA5', iid='B00005NHHA', r_ui=3.0, est=4.13277566818924, details={'was_impossible': True, 'reason': 'User and/or item is unknown.'}),\n",
              " Prediction(uid='A14I2M46ZFOV1V', iid='B00000JSGF', r_ui=4.0, est=4.13277566818924, details={'was_impossible': True, 'reason': 'User and/or item is unknown.'}),\n",
              " Prediction(uid='A1FD8KMRCM8UC4', iid='B00004Z5M1', r_ui=5.0, est=4.13277566818924, details={'was_impossible': True, 'reason': 'User and/or item is unknown.'}),\n",
              " Prediction(uid='A8BZEB7HYFLKF', iid='B00000J1QK', r_ui=5.0, est=4.13277566818924, details={'was_impossible': True, 'reason': 'User and/or item is unknown.'}),\n",
              " Prediction(uid='A1AEDTWQDFH5XA', iid='B00005T3BD', r_ui=5.0, est=4.13277566818924, details={'was_impossible': True, 'reason': 'User and/or item is unknown.'}),\n",
              " Prediction(uid='A3ENJ651LYGHXJ', iid='B00004SABJ', r_ui=3.0, est=4.13277566818924, details={'was_impossible': True, 'reason': 'User and/or item is unknown.'}),\n",
              " Prediction(uid='A12BLL881ZMRS6', iid='B00005AW1F', r_ui=1.0, est=4.13277566818924, details={'was_impossible': True, 'reason': 'User and/or item is unknown.'}),\n",
              " Prediction(uid='APA3R0RARCBQ0', iid='B00000K4KH', r_ui=4.0, est=4.13277566818924, details={'was_impossible': True, 'reason': 'User and/or item is unknown.'}),\n",
              " Prediction(uid='A32MIVILCUX18L', iid='B0000510ZO', r_ui=5.0, est=4.13277566818924, details={'was_impossible': True, 'reason': 'User and/or item is unknown.'}),\n",
              " Prediction(uid='AUKZQ9NJYFKF5', iid='B00002NDRQ', r_ui=1.0, est=4.13277566818924, details={'was_impossible': True, 'reason': 'User and/or item is unknown.'}),\n",
              " Prediction(uid='A32R9X6MNUK9NS', iid='B00004Z5M1', r_ui=5.0, est=4.13277566818924, details={'was_impossible': True, 'reason': 'User and/or item is unknown.'}),\n",
              " Prediction(uid='A1CVZOG0FYO4CA', iid='B00001P4XA', r_ui=3.0, est=4.13277566818924, details={'was_impossible': True, 'reason': 'User and/or item is unknown.'}),\n",
              " Prediction(uid='A3A79P33DX65N4', iid='B00004ZCAT', r_ui=5.0, est=4.13277566818924, details={'was_impossible': True, 'reason': 'User and/or item is unknown.'}),\n",
              " Prediction(uid='A1AEUSW0DKZ8NB', iid='B00005T406', r_ui=2.0, est=4.13277566818924, details={'was_impossible': True, 'reason': 'User and/or item is unknown.'}),\n",
              " Prediction(uid='A2FNQZV4AGRA82', iid='B00005LVWB', r_ui=5.0, est=4.13277566818924, details={'was_impossible': True, 'reason': 'User and/or item is unknown.'}),\n",
              " Prediction(uid='A3MX0XE7UPEZ62', iid='B00000JBAT', r_ui=3.0, est=4.13277566818924, details={'was_impossible': True, 'reason': 'User and/or item is unknown.'}),\n",
              " Prediction(uid='A3TBJ6T21PNRJ3', iid='B00004VUGJ', r_ui=5.0, est=4.13277566818924, details={'was_impossible': True, 'reason': 'User and/or item is unknown.'}),\n",
              " Prediction(uid='A2B201HPHQVX3V', iid='B00005JDDZ', r_ui=5.0, est=4.13277566818924, details={'was_impossible': True, 'reason': 'User and/or item is unknown.'}),\n",
              " Prediction(uid='AGE7VUSYGZ2ZV', iid='B00004ZCA5', r_ui=5.0, est=4.13277566818924, details={'was_impossible': True, 'reason': 'User and/or item is unknown.'}),\n",
              " Prediction(uid='A26DYFB4JWK3HW', iid='B00004YKHT', r_ui=3.0, est=4.13277566818924, details={'was_impossible': True, 'reason': 'User and/or item is unknown.'}),\n",
              " Prediction(uid='A1H082QQXU9VIT', iid='B00005N6KG', r_ui=5.0, est=4.13277566818924, details={'was_impossible': True, 'reason': 'User and/or item is unknown.'}),\n",
              " Prediction(uid='A2JSX9RSAJ4PE0', iid='B00005ATMB', r_ui=4.0, est=4.13277566818924, details={'was_impossible': True, 'reason': 'User and/or item is unknown.'}),\n",
              " Prediction(uid='A2KV61GNN22GAH', iid='B00005ML7Q', r_ui=1.0, est=3.9117043121149897, details={'actual_k': 0, 'was_impossible': False}),\n",
              " Prediction(uid='A3DHF208SGC8EB', iid='B00004VUGJ', r_ui=5.0, est=4.13277566818924, details={'was_impossible': True, 'reason': 'User and/or item is unknown.'}),\n",
              " Prediction(uid='A35YH43A4N9IC1', iid='B00005MNSS', r_ui=5.0, est=4.13277566818924, details={'was_impossible': True, 'reason': 'User and/or item is unknown.'}),\n",
              " Prediction(uid='A1AQAQAOMY8I58', iid='B00005UK9P', r_ui=3.0, est=4.13277566818924, details={'was_impossible': True, 'reason': 'User and/or item is unknown.'}),\n",
              " Prediction(uid='A15U5NUS1EY7IQ', iid='B00004T8R2', r_ui=5.0, est=5, details={'actual_k': 1, 'was_impossible': False}),\n",
              " Prediction(uid='A1DDG2R80UWTPI', iid='B00004SABB', r_ui=5.0, est=4.13277566818924, details={'was_impossible': True, 'reason': 'User and/or item is unknown.'}),\n",
              " Prediction(uid='A3M9C2K8LJT7OM', iid='B00004XOM3', r_ui=5.0, est=4.13277566818924, details={'was_impossible': True, 'reason': 'User and/or item is unknown.'}),\n",
              " Prediction(uid='A1MJMYLRTZ76ZX', iid='B00005AWBJ', r_ui=5.0, est=3.074626865671642, details={'actual_k': 0, 'was_impossible': False}),\n",
              " Prediction(uid='AW9S0M2S5EM8N', iid='B000051SHL', r_ui=5.0, est=4.490128928283642, details={'actual_k': 1, 'was_impossible': False}),\n",
              " Prediction(uid='A1DKGFL78S6DBO', iid='B00005T3H5', r_ui=3.0, est=4.13277566818924, details={'was_impossible': True, 'reason': 'User and/or item is unknown.'}),\n",
              " Prediction(uid='A2EQVLY0BKQINM', iid='B00004TBLW', r_ui=5.0, est=4.391089108910891, details={'actual_k': 0, 'was_impossible': False}),\n",
              " Prediction(uid='A5BR77YAIE341', iid='B00001P4XA', r_ui=5.0, est=4.13277566818924, details={'was_impossible': True, 'reason': 'User and/or item is unknown.'}),\n",
              " Prediction(uid='A3SY7IB3HSANBY', iid='B00005A1K1', r_ui=4.0, est=4.13277566818924, details={'was_impossible': True, 'reason': 'User and/or item is unknown.'}),\n",
              " Prediction(uid='A301ZMQ2FPX1AG', iid='B00005QFZF', r_ui=5.0, est=4.458823529411765, details={'actual_k': 0, 'was_impossible': False}),\n",
              " Prediction(uid='AL1JCS9XZD30D', iid='B00005A1K1', r_ui=5.0, est=4.13277566818924, details={'was_impossible': True, 'reason': 'User and/or item is unknown.'}),\n",
              " Prediction(uid='AM561MMUXTASA', iid='B00002N7FQ', r_ui=4.0, est=4.13277566818924, details={'was_impossible': True, 'reason': 'User and/or item is unknown.'}),\n",
              " Prediction(uid='A2N3QLW1C33B1V', iid='B00004THCZ', r_ui=4.0, est=4.13277566818924, details={'was_impossible': True, 'reason': 'User and/or item is unknown.'}),\n",
              " Prediction(uid='A14ZA3CLBW8241', iid='B00005N5WU', r_ui=5.0, est=4.13277566818924, details={'was_impossible': True, 'reason': 'User and/or item is unknown.'}),\n",
              " Prediction(uid='A1881MXNHQUV3N', iid='B00004Z5D1', r_ui=5.0, est=4.13277566818924, details={'was_impossible': True, 'reason': 'User and/or item is unknown.'}),\n",
              " Prediction(uid='A2EHL5JSMXF8LY', iid='B000058EGT', r_ui=5.0, est=4.13277566818924, details={'was_impossible': True, 'reason': 'User and/or item is unknown.'}),\n",
              " Prediction(uid='A2ZNAFINHTD1WN', iid='B00004ZCLV', r_ui=5.0, est=4.13277566818924, details={'was_impossible': True, 'reason': 'User and/or item is unknown.'}),\n",
              " Prediction(uid='A2TBT57KW64TQO', iid='B00004SABJ', r_ui=5.0, est=4.13277566818924, details={'was_impossible': True, 'reason': 'User and/or item is unknown.'}),\n",
              " Prediction(uid='ASWYSSKL9LL9X', iid='B00000IGBF', r_ui=5.0, est=4.243243243243243, details={'actual_k': 0, 'was_impossible': False}),\n",
              " Prediction(uid='A3VGAPZFOVQ7K3', iid='B00004WCGF', r_ui=5.0, est=4.13277566818924, details={'was_impossible': True, 'reason': 'User and/or item is unknown.'}),\n",
              " Prediction(uid='A1M2C49S4GG5CA', iid='B00003CWDH', r_ui=5.0, est=4.13277566818924, details={'was_impossible': True, 'reason': 'User and/or item is unknown.'}),\n",
              " Prediction(uid='A3JQ3Y8724DKA0', iid='B00001P4XA', r_ui=5.0, est=4.13277566818924, details={'was_impossible': True, 'reason': 'User and/or item is unknown.'}),\n",
              " Prediction(uid='A2VG03YOHJ841D', iid='B00005T3GH', r_ui=5.0, est=4.13277566818924, details={'was_impossible': True, 'reason': 'User and/or item is unknown.'}),\n",
              " Prediction(uid='A13MZWBBHVJGP5', iid='9888002198', r_ui=1.0, est=4.13277566818924, details={'was_impossible': True, 'reason': 'User and/or item is unknown.'}),\n",
              " Prediction(uid='A9K49PQMU9V1X', iid='B00000JYLO', r_ui=3.0, est=4.13277566818924, details={'was_impossible': True, 'reason': 'User and/or item is unknown.'}),\n",
              " Prediction(uid='AHHDN364RMB46', iid='B00005ATMI', r_ui=5.0, est=4.13277566818924, details={'was_impossible': True, 'reason': 'User and/or item is unknown.'}),\n",
              " Prediction(uid='A195R12H05K313', iid='B00000J1V5', r_ui=5.0, est=4.13277566818924, details={'was_impossible': True, 'reason': 'User and/or item is unknown.'}),\n",
              " Prediction(uid='AXHB61WXBXQXO', iid='B00004ZCJE', r_ui=5.0, est=4.13277566818924, details={'was_impossible': True, 'reason': 'User and/or item is unknown.'}),\n",
              " Prediction(uid='A114WCM63UQJCO', iid='B00005S8KM', r_ui=5.0, est=4.6976744186046515, details={'actual_k': 0, 'was_impossible': False}),\n",
              " Prediction(uid='A30SU644CDBJ2B', iid='B00000J1EQ', r_ui=1.0, est=4.13277566818924, details={'was_impossible': True, 'reason': 'User and/or item is unknown.'}),\n",
              " Prediction(uid='A1GQQO7V2A28ZO', iid='B00004Z7H5', r_ui=5.0, est=4.13277566818924, details={'was_impossible': True, 'reason': 'User and/or item is unknown.'}),\n",
              " Prediction(uid='A2JFLB3Y5NM72H', iid='B00004TS16', r_ui=5.0, est=4.13277566818924, details={'was_impossible': True, 'reason': 'User and/or item is unknown.'}),\n",
              " Prediction(uid='A2ZIDCYC0GWWKF', iid='B00004Z5H3', r_ui=5.0, est=4.13277566818924, details={'was_impossible': True, 'reason': 'User and/or item is unknown.'}),\n",
              " Prediction(uid='A2G2KB12GWOPY4', iid='B00004ZCJE', r_ui=5.0, est=4.13277566818924, details={'was_impossible': True, 'reason': 'User and/or item is unknown.'}),\n",
              " Prediction(uid='A370XYLIZCSK1Y', iid='B00005T3G0', r_ui=5.0, est=4.13277566818924, details={'was_impossible': True, 'reason': 'User and/or item is unknown.'}),\n",
              " Prediction(uid='A3C8MN2Y4N5KFX', iid='B0000511U7', r_ui=5.0, est=4.13277566818924, details={'was_impossible': True, 'reason': 'User and/or item is unknown.'}),\n",
              " Prediction(uid='AKR3957P638V3', iid='B00004VX3T', r_ui=2.0, est=4.13277566818924, details={'was_impossible': True, 'reason': 'User and/or item is unknown.'}),\n",
              " Prediction(uid='A1GYZJTU4N47G5', iid='B00005A1K1', r_ui=5.0, est=4.13277566818924, details={'was_impossible': True, 'reason': 'User and/or item is unknown.'}),\n",
              " Prediction(uid='A37VUYHNHPUA0J', iid='B00004Z5L8', r_ui=3.0, est=4.13277566818924, details={'was_impossible': True, 'reason': 'User and/or item is unknown.'}),\n",
              " Prediction(uid='ASYIVKEMXRO5L', iid='140053271X', r_ui=5.0, est=4.13277566818924, details={'was_impossible': True, 'reason': 'User and/or item is unknown.'}),\n",
              " Prediction(uid='A3MFPDFZ0JGP8J', iid='B00001P4ZH', r_ui=4.0, est=4.13277566818924, details={'was_impossible': True, 'reason': 'User and/or item is unknown.'}),\n",
              " Prediction(uid='A2STLT852H9K75', iid='B00005AT7Y', r_ui=5.0, est=3.9661016949152543, details={'actual_k': 0, 'was_impossible': False}),\n",
              " Prediction(uid='A2WN60CWMH7AMZ', iid='B00005QBUU', r_ui=2.0, est=4.13277566818924, details={'was_impossible': True, 'reason': 'User and/or item is unknown.'}),\n",
              " Prediction(uid='A1T802PUUZZYGG', iid='B00000JI4F', r_ui=5.0, est=4.13277566818924, details={'was_impossible': True, 'reason': 'User and/or item is unknown.'}),\n",
              " Prediction(uid='A3FROGHYP055GK', iid='B00000JI4F', r_ui=1.0, est=4.13277566818924, details={'was_impossible': True, 'reason': 'User and/or item is unknown.'}),\n",
              " Prediction(uid='A38BUEXQR3ERCX', iid='B00000JI4F', r_ui=4.0, est=4.13277566818924, details={'was_impossible': True, 'reason': 'User and/or item is unknown.'}),\n",
              " Prediction(uid='A2P4QLV45WR55U', iid='B00001P4XH', r_ui=3.0, est=4.13277566818924, details={'was_impossible': True, 'reason': 'User and/or item is unknown.'}),\n",
              " Prediction(uid='A2COUDP11A48BM', iid='B00004ZC9V', r_ui=5.0, est=4.13277566818924, details={'was_impossible': True, 'reason': 'User and/or item is unknown.'}),\n",
              " Prediction(uid='A4LY0031TJ8AU', iid='B00005ML7Q', r_ui=5.0, est=4.13277566818924, details={'was_impossible': True, 'reason': 'User and/or item is unknown.'}),\n",
              " Prediction(uid='A2ZI49BM5SJXX2', iid='B00005ATMB', r_ui=4.0, est=4.13277566818924, details={'was_impossible': True, 'reason': 'User and/or item is unknown.'}),\n",
              " Prediction(uid='A3TB2M0Y63G0OF', iid='B00004T8R2', r_ui=4.0, est=4.646979144794073, details={'actual_k': 1, 'was_impossible': False}),\n",
              " Prediction(uid='A3LA3N5LLZU40Q', iid='B00004SY4H', r_ui=5.0, est=4.13277566818924, details={'was_impossible': True, 'reason': 'User and/or item is unknown.'}),\n",
              " Prediction(uid='A3JYD50G7SCD5A', iid='B00004Z0BN', r_ui=5.0, est=4.13277566818924, details={'was_impossible': True, 'reason': 'User and/or item is unknown.'}),\n",
              " Prediction(uid='A1P3LH0J7QS8DO', iid='B000023VW2', r_ui=4.0, est=4.13277566818924, details={'was_impossible': True, 'reason': 'User and/or item is unknown.'}),\n",
              " Prediction(uid='AHJ8QOXHOZGOX', iid='B00001OPJZ', r_ui=5.0, est=4.13277566818924, details={'was_impossible': True, 'reason': 'User and/or item is unknown.'}),\n",
              " Prediction(uid='A1LOVQPEFGVPCZ', iid='B00005ARK3', r_ui=4.0, est=4.13277566818924, details={'was_impossible': True, 'reason': 'User and/or item is unknown.'}),\n",
              " Prediction(uid='A1N4UL33MD8BOY', iid='B00002EQCW', r_ui=3.0, est=4.13277566818924, details={'was_impossible': True, 'reason': 'User and/or item is unknown.'}),\n",
              " Prediction(uid='A1XRKRGYYBI0LU', iid='B00005T3H5', r_ui=5.0, est=4.13277566818924, details={'was_impossible': True, 'reason': 'User and/or item is unknown.'}),\n",
              " Prediction(uid='A2M5OLA5G6J361', iid='B00004VX39', r_ui=4.0, est=4.13277566818924, details={'was_impossible': True, 'reason': 'User and/or item is unknown.'}),\n",
              " Prediction(uid='A1D1T2CG7JM5ME', iid='B00004SABB', r_ui=5.0, est=4.13277566818924, details={'was_impossible': True, 'reason': 'User and/or item is unknown.'}),\n",
              " Prediction(uid='A3VQDC74RE13AI', iid='B00005T3RC', r_ui=5.0, est=4.13277566818924, details={'was_impossible': True, 'reason': 'User and/or item is unknown.'}),\n",
              " Prediction(uid='A1RK4AQQH4YODD', iid='B00002SWHH', r_ui=5.0, est=4.13277566818924, details={'was_impossible': True, 'reason': 'User and/or item is unknown.'}),\n",
              " Prediction(uid='A1JQ7K37IVD50C', iid='B00004ZCJE', r_ui=5.0, est=4.104879416713405, details={'actual_k': 0, 'was_impossible': False}),\n",
              " Prediction(uid='AVX4WL8HYRUWU', iid='B00000J061', r_ui=5.0, est=4.13277566818924, details={'was_impossible': True, 'reason': 'User and/or item is unknown.'}),\n",
              " Prediction(uid='A3FB6K2K7GWEZX', iid='B00005N6KG', r_ui=4.0, est=4.13277566818924, details={'was_impossible': True, 'reason': 'User and/or item is unknown.'}),\n",
              " Prediction(uid='A1FYHOGQFCPLRT', iid='B00004Z5D1', r_ui=5.0, est=4.13277566818924, details={'was_impossible': True, 'reason': 'User and/or item is unknown.'}),\n",
              " Prediction(uid='A258JR1HVXLDDC', iid='B00005T39Y', r_ui=5.0, est=4.13277566818924, details={'was_impossible': True, 'reason': 'User and/or item is unknown.'}),\n",
              " Prediction(uid='AK3BOZF5S2CWU', iid='B00004SPUN', r_ui=4.0, est=4.13277566818924, details={'was_impossible': True, 'reason': 'User and/or item is unknown.'}),\n",
              " Prediction(uid='AQP9DU9L0O5YW', iid='1400698987', r_ui=5.0, est=4.13277566818924, details={'was_impossible': True, 'reason': 'User and/or item is unknown.'}),\n",
              " Prediction(uid='A3DVGMO8DCK8AX', iid='B00000K13A', r_ui=5.0, est=4.13277566818924, details={'was_impossible': True, 'reason': 'User and/or item is unknown.'}),\n",
              " Prediction(uid='A2YMAINVB8LDR3', iid='B00004XO1V', r_ui=4.0, est=4.13277566818924, details={'was_impossible': True, 'reason': 'User and/or item is unknown.'}),\n",
              " Prediction(uid='A3IP4QTI2TSHI5', iid='B00001P4XA', r_ui=3.0, est=4.13277566818924, details={'was_impossible': True, 'reason': 'User and/or item is unknown.'}),\n",
              " Prediction(uid='A3VH1W4GSFDCOE', iid='B000059MSI', r_ui=5.0, est=4.13277566818924, details={'was_impossible': True, 'reason': 'User and/or item is unknown.'}),\n",
              " Prediction(uid='A38DSYHNBYZNUG', iid='B0000510ZO', r_ui=5.0, est=4.338645418326693, details={'actual_k': 0, 'was_impossible': False}),\n",
              " Prediction(uid='A2HSY3JMTKSGQ', iid='B00005BMSN', r_ui=5.0, est=4.13277566818924, details={'was_impossible': True, 'reason': 'User and/or item is unknown.'}),\n",
              " Prediction(uid='A2R6RA8FRBS608', iid='B00004Z5M1', r_ui=5.0, est=4.559233449477352, details={'actual_k': 0, 'was_impossible': False}),\n",
              " Prediction(uid='A152N23OZGWVQE', iid='B00004Z5D1', r_ui=2.0, est=4.13277566818924, details={'was_impossible': True, 'reason': 'User and/or item is unknown.'}),\n",
              " Prediction(uid='ADKXNP8VECJNO', iid='B00004Z5M1', r_ui=5.0, est=4.13277566818924, details={'was_impossible': True, 'reason': 'User and/or item is unknown.'}),\n",
              " Prediction(uid='A3KY786O4T4CMT', iid='B000051SHL', r_ui=2.0, est=4.13277566818924, details={'was_impossible': True, 'reason': 'User and/or item is unknown.'}),\n",
              " Prediction(uid='AAJ0NJL17KRNX', iid='0972683275', r_ui=4.0, est=4.13277566818924, details={'was_impossible': True, 'reason': 'User and/or item is unknown.'}),\n",
              " Prediction(uid='AI8OB76QKWDH9', iid='B00004ZC8Y', r_ui=4.0, est=4.127542458286595, details={'actual_k': 1, 'was_impossible': False}),\n",
              " Prediction(uid='A2XM786PX5P97H', iid='9888002198', r_ui=5.0, est=4.13277566818924, details={'was_impossible': True, 'reason': 'User and/or item is unknown.'}),\n",
              " Prediction(uid='A1S3428P2I9E4Y', iid='B00005T3VT', r_ui=2.0, est=4.13277566818924, details={'was_impossible': True, 'reason': 'User and/or item is unknown.'}),\n",
              " Prediction(uid='A30AH4DU1TR8Y4', iid='B00005V619', r_ui=4.0, est=4.13277566818924, details={'was_impossible': True, 'reason': 'User and/or item is unknown.'}),\n",
              " Prediction(uid='A2EQHPOUJDP299', iid='B00004THCZ', r_ui=2.0, est=4.13277566818924, details={'was_impossible': True, 'reason': 'User and/or item is unknown.'}),\n",
              " Prediction(uid='A2T3S8TYRFGJ3S', iid='B00001W0DD', r_ui=4.0, est=4.13277566818924, details={'was_impossible': True, 'reason': 'User and/or item is unknown.'}),\n",
              " Prediction(uid='A19MW9QVDZCPOE', iid='B000053HH5', r_ui=5.0, est=4.13277566818924, details={'was_impossible': True, 'reason': 'User and/or item is unknown.'}),\n",
              " Prediction(uid='A3VHEYLZ0R7LCU', iid='B00002EQCW', r_ui=5.0, est=4.13277566818924, details={'was_impossible': True, 'reason': 'User and/or item is unknown.'}),\n",
              " Prediction(uid='A2ITIDPJOO3XGF', iid='B00005T3XH', r_ui=5.0, est=4.13277566818924, details={'was_impossible': True, 'reason': 'User and/or item is unknown.'}),\n",
              " Prediction(uid='A216H9L5WUAUO6', iid='B00001W0DD', r_ui=3.0, est=4.13277566818924, details={'was_impossible': True, 'reason': 'User and/or item is unknown.'}),\n",
              " Prediction(uid='A3HPTT42L6P85H', iid='B00004ZC9V', r_ui=4.0, est=4.13277566818924, details={'was_impossible': True, 'reason': 'User and/or item is unknown.'}),\n",
              " Prediction(uid='AE3BZ7JJ7W00V', iid='0972683275', r_ui=5.0, est=4.13277566818924, details={'was_impossible': True, 'reason': 'User and/or item is unknown.'}),\n",
              " Prediction(uid='A3H5EMPO8T64JN', iid='1400532655', r_ui=5.0, est=4.13277566818924, details={'was_impossible': True, 'reason': 'User and/or item is unknown.'}),\n",
              " Prediction(uid='A7GE0KIFKVY90', iid='B00004Z476', r_ui=4.0, est=4.13277566818924, details={'was_impossible': True, 'reason': 'User and/or item is unknown.'}),\n",
              " Prediction(uid='A15WLZ3Q2ODN1L', iid='B00004SB92', r_ui=4.0, est=4.13277566818924, details={'was_impossible': True, 'reason': 'User and/or item is unknown.'}),\n",
              " Prediction(uid='A12TAFRBBG9EI6', iid='B00000J0D2', r_ui=3.0, est=4.13277566818924, details={'was_impossible': True, 'reason': 'User and/or item is unknown.'}),\n",
              " Prediction(uid='A2BMXOTFK1KNL3', iid='B00002EQCW', r_ui=5.0, est=4.13277566818924, details={'was_impossible': True, 'reason': 'User and/or item is unknown.'}),\n",
              " Prediction(uid='A6S6SI0CJ7K58', iid='B00005T3XH', r_ui=3.0, est=4.13277566818924, details={'was_impossible': True, 'reason': 'User and/or item is unknown.'}),\n",
              " Prediction(uid='AFYAUWZ1HKFRJ', iid='B00003G1RG', r_ui=5.0, est=4.13277566818924, details={'was_impossible': True, 'reason': 'User and/or item is unknown.'}),\n",
              " Prediction(uid='AI3SY08KPL4UH', iid='B00004Z6N6', r_ui=4.0, est=4.13277566818924, details={'was_impossible': True, 'reason': 'User and/or item is unknown.'}),\n",
              " Prediction(uid='A3MV6KF5EEUV1Z', iid='B000053HH5', r_ui=5.0, est=4.13277566818924, details={'was_impossible': True, 'reason': 'User and/or item is unknown.'}),\n",
              " Prediction(uid='A3VJGFQZF1I7XJ', iid='B00000J1UQ', r_ui=5.0, est=4.13277566818924, details={'was_impossible': True, 'reason': 'User and/or item is unknown.'}),\n",
              " Prediction(uid='A11IZQIJOI94CV', iid='B00004ZCJE', r_ui=5.0, est=4.13277566818924, details={'was_impossible': True, 'reason': 'User and/or item is unknown.'}),\n",
              " Prediction(uid='AZPLFOPEVIQ2S', iid='B00004T8R2', r_ui=5.0, est=4.13277566818924, details={'was_impossible': True, 'reason': 'User and/or item is unknown.'}),\n",
              " Prediction(uid='AMD2FUPF9QWP3', iid='B00005ATMI', r_ui=5.0, est=4.13277566818924, details={'was_impossible': True, 'reason': 'User and/or item is unknown.'}),\n",
              " Prediction(uid='AMPBZ1KI9X3VN', iid='B00005O70S', r_ui=5.0, est=4.13277566818924, details={'was_impossible': True, 'reason': 'User and/or item is unknown.'}),\n",
              " Prediction(uid='A2VNS0PWNDSI0B', iid='B00005V5YP', r_ui=5.0, est=4.13277566818924, details={'was_impossible': True, 'reason': 'User and/or item is unknown.'}),\n",
              " Prediction(uid='A13L7H2QQC3ANZ', iid='B00005MNSS', r_ui=3.0, est=4.13277566818924, details={'was_impossible': True, 'reason': 'User and/or item is unknown.'}),\n",
              " Prediction(uid='A30PTMWO0FCVP0', iid='B00005NOKT', r_ui=5.0, est=4.13277566818924, details={'was_impossible': True, 'reason': 'User and/or item is unknown.'}),\n",
              " Prediction(uid='A1BH9DTTB885GC', iid='B00004WCIC', r_ui=1.0, est=4.410614525139665, details={'actual_k': 0, 'was_impossible': False}),\n",
              " Prediction(uid='A2LK476A1UDRDK', iid='1400501466', r_ui=5.0, est=4.13277566818924, details={'was_impossible': True, 'reason': 'User and/or item is unknown.'}),\n",
              " Prediction(uid='A3BCQBTQVG13PK', iid='B00004Z6XS', r_ui=5.0, est=4.13277566818924, details={'was_impossible': True, 'reason': 'User and/or item is unknown.'}),\n",
              " Prediction(uid='AGHBBNPI5ECYZ', iid='B00004WCFT', r_ui=5.0, est=4.13277566818924, details={'was_impossible': True, 'reason': 'User and/or item is unknown.'}),\n",
              " Prediction(uid='A2RW2K79D6FZCP', iid='B00004ZC8Y', r_ui=2.0, est=4.13277566818924, details={'was_impossible': True, 'reason': 'User and/or item is unknown.'}),\n",
              " Prediction(uid='A2XHGQEBAYBGFV', iid='B00005NIMJ', r_ui=5.0, est=4.13277566818924, details={'was_impossible': True, 'reason': 'User and/or item is unknown.'}),\n",
              " Prediction(uid='A3ILLOO0YFULKN', iid='B00004ZCAT', r_ui=5.0, est=4.13277566818924, details={'was_impossible': True, 'reason': 'User and/or item is unknown.'}),\n",
              " Prediction(uid='A2IP2ZDLEYT2PW', iid='B00004WCGF', r_ui=5.0, est=4.13277566818924, details={'was_impossible': True, 'reason': 'User and/or item is unknown.'}),\n",
              " Prediction(uid='AD2B1IU0ZBDTM', iid='B000050NON', r_ui=4.0, est=4.13277566818924, details={'was_impossible': True, 'reason': 'User and/or item is unknown.'}),\n",
              " Prediction(uid='A1XIHD81KZ56EI', iid='B00001P4ZH', r_ui=5.0, est=4.13277566818924, details={'was_impossible': True, 'reason': 'User and/or item is unknown.'}),\n",
              " Prediction(uid='ALR3HC474I2E5', iid='B00004YZQ8', r_ui=4.0, est=4.13277566818924, details={'was_impossible': True, 'reason': 'User and/or item is unknown.'}),\n",
              " Prediction(uid='A3542AHWGV3F9O', iid='B00005T3G0', r_ui=5.0, est=4.13277566818924, details={'was_impossible': True, 'reason': 'User and/or item is unknown.'}),\n",
              " Prediction(uid='A3JRW3C22ZVLNM', iid='B00004ZCJE', r_ui=5.0, est=4.13277566818924, details={'was_impossible': True, 'reason': 'User and/or item is unknown.'}),\n",
              " Prediction(uid='A12JIXUJ68HEP2', iid='B00004ZCKV', r_ui=5.0, est=4.13277566818924, details={'was_impossible': True, 'reason': 'User and/or item is unknown.'}),\n",
              " Prediction(uid='A10A8UOBJ5J510', iid='B00004VX3T', r_ui=5.0, est=4.13277566818924, details={'was_impossible': True, 'reason': 'User and/or item is unknown.'}),\n",
              " Prediction(uid='A2BUX79ELTHDQC', iid='B0000510ZO', r_ui=4.0, est=4.13277566818924, details={'was_impossible': True, 'reason': 'User and/or item is unknown.'}),\n",
              " Prediction(uid='A17PRCN0ZR5DW', iid='B00005T3N3', r_ui=5.0, est=4.13277566818924, details={'was_impossible': True, 'reason': 'User and/or item is unknown.'}),\n",
              " Prediction(uid='A2WV8Y608V90IJ', iid='B00004Y7TC', r_ui=4.0, est=3.9069767441860463, details={'actual_k': 0, 'was_impossible': False}),\n",
              " Prediction(uid='A1K8ZVGIIBQCB9', iid='B00005N6KG', r_ui=5.0, est=4.13277566818924, details={'was_impossible': True, 'reason': 'User and/or item is unknown.'}),\n",
              " Prediction(uid='A3LP2JQRGBSSTE', iid='B000023VW2', r_ui=3.0, est=4.13277566818924, details={'was_impossible': True, 'reason': 'User and/or item is unknown.'}),\n",
              " Prediction(uid='A335QXPTV1RIV1', iid='B00000J4FS', r_ui=5.0, est=4.011111111111111, details={'actual_k': 0, 'was_impossible': False}),\n",
              " Prediction(uid='A3AVIV8L47Q7W', iid='B00005MIS8', r_ui=5.0, est=4.13277566818924, details={'was_impossible': True, 'reason': 'User and/or item is unknown.'}),\n",
              " Prediction(uid='A2YJ4KPS2OYP2O', iid='B00004WCID', r_ui=5.0, est=4.13277566818924, details={'was_impossible': True, 'reason': 'User and/or item is unknown.'}),\n",
              " Prediction(uid='A2CGBJ3XYL6433', iid='B00005BC0K', r_ui=5.0, est=4.13277566818924, details={'was_impossible': True, 'reason': 'User and/or item is unknown.'}),\n",
              " Prediction(uid='A3CGR6H3I971VP', iid='B000051ZOA', r_ui=5.0, est=4.13277566818924, details={'was_impossible': True, 'reason': 'User and/or item is unknown.'}),\n",
              " Prediction(uid='A1MP1S1GK7R8YT', iid='B00005T406', r_ui=5.0, est=4.305841924398625, details={'actual_k': 0, 'was_impossible': False}),\n",
              " Prediction(uid='A9B5144R63GL1', iid='B00004ZCDD', r_ui=5.0, est=4.13277566818924, details={'was_impossible': True, 'reason': 'User and/or item is unknown.'}),\n",
              " Prediction(uid='A16SPA09XORLPB', iid='B00005N6KG', r_ui=5.0, est=4.13277566818924, details={'was_impossible': True, 'reason': 'User and/or item is unknown.'}),\n",
              " Prediction(uid='A9KCD0L4ADRDR', iid='B00004ZCJE', r_ui=5.0, est=4.13277566818924, details={'was_impossible': True, 'reason': 'User and/or item is unknown.'}),\n",
              " Prediction(uid='AMUPNH4W41DK7', iid='B00005N6KG', r_ui=4.0, est=4.13277566818924, details={'was_impossible': True, 'reason': 'User and/or item is unknown.'}),\n",
              " Prediction(uid='A114A50Q2YFX48', iid='B00001P4XA', r_ui=2.0, est=4.13277566818924, details={'was_impossible': True, 'reason': 'User and/or item is unknown.'}),\n",
              " Prediction(uid='A11QXA9UL5OXPO', iid='B00005T380', r_ui=5.0, est=4.13277566818924, details={'was_impossible': True, 'reason': 'User and/or item is unknown.'}),\n",
              " Prediction(uid='A37GOD11BEB7LH', iid='B00005854B', r_ui=4.0, est=4.13277566818924, details={'was_impossible': True, 'reason': 'User and/or item is unknown.'}),\n",
              " Prediction(uid='A3IBJQ2Y9HHBPP', iid='B00005T6GZ', r_ui=5.0, est=4.13277566818924, details={'was_impossible': True, 'reason': 'User and/or item is unknown.'}),\n",
              " Prediction(uid='A2YDH4R73MEDIG', iid='B00001P4ZH', r_ui=5.0, est=4.13277566818924, details={'was_impossible': True, 'reason': 'User and/or item is unknown.'}),\n",
              " Prediction(uid='A23629U0DAFMOP', iid='B00005A9AU', r_ui=4.0, est=4.13277566818924, details={'was_impossible': True, 'reason': 'User and/or item is unknown.'}),\n",
              " Prediction(uid='A19UZY5T33J0E7', iid='B00000JII6', r_ui=1.0, est=4.13277566818924, details={'was_impossible': True, 'reason': 'User and/or item is unknown.'}),\n",
              " Prediction(uid='AYNAMKEMDWQ4V', iid='B00002N7FQ', r_ui=5.0, est=4.13277566818924, details={'was_impossible': True, 'reason': 'User and/or item is unknown.'}),\n",
              " Prediction(uid='A1YD5VA9H1B5A7', iid='B00005T3XH', r_ui=5.0, est=4.13277566818924, details={'was_impossible': True, 'reason': 'User and/or item is unknown.'}),\n",
              " Prediction(uid='A1KS90N9NHLP1K', iid='B00000JI4F', r_ui=5.0, est=4.13277566818924, details={'was_impossible': True, 'reason': 'User and/or item is unknown.'}),\n",
              " Prediction(uid='A1BZ5251X7KWF9', iid='B00004YBVE', r_ui=1.0, est=4.13277566818924, details={'was_impossible': True, 'reason': 'User and/or item is unknown.'}),\n",
              " Prediction(uid='A1N65HC6NQCZ7Y', iid='B00005B4BW', r_ui=1.0, est=4.13277566818924, details={'was_impossible': True, 'reason': 'User and/or item is unknown.'}),\n",
              " Prediction(uid='A35V0TDX1P4UJC', iid='1400599997', r_ui=4.0, est=4.13277566818924, details={'was_impossible': True, 'reason': 'User and/or item is unknown.'}),\n",
              " Prediction(uid='AV2AZD7ZIBC3L', iid='0972683275', r_ui=5.0, est=4.13277566818924, details={'was_impossible': True, 'reason': 'User and/or item is unknown.'}),\n",
              " Prediction(uid='A24T8X9K45JPT1', iid='B000001OM5', r_ui=5.0, est=4.13277566818924, details={'was_impossible': True, 'reason': 'User and/or item is unknown.'}),\n",
              " Prediction(uid='A3KX9X95S8D3FC', iid='B00002SWUE', r_ui=5.0, est=4.13277566818924, details={'was_impossible': True, 'reason': 'User and/or item is unknown.'}),\n",
              " Prediction(uid='AGKR5N02BGK5W', iid='B00001W0DI', r_ui=4.0, est=4.13277566818924, details={'was_impossible': True, 'reason': 'User and/or item is unknown.'}),\n",
              " Prediction(uid='A1TTW3G7D18GS5', iid='0972683275', r_ui=5.0, est=4.13277566818924, details={'was_impossible': True, 'reason': 'User and/or item is unknown.'}),\n",
              " Prediction(uid='AOJGNSEBH0WW6', iid='B00005ATMB', r_ui=5.0, est=4.13277566818924, details={'was_impossible': True, 'reason': 'User and/or item is unknown.'}),\n",
              " Prediction(uid='A3HJ7L6HP2WG1X', iid='B00004ZCKV', r_ui=5.0, est=4.13277566818924, details={'was_impossible': True, 'reason': 'User and/or item is unknown.'}),\n",
              " Prediction(uid='A3RHS64LX7RIDF', iid='B00001OWYM', r_ui=5.0, est=4.13277566818924, details={'was_impossible': True, 'reason': 'User and/or item is unknown.'}),\n",
              " Prediction(uid='A2TDIFABWXWNNP', iid='B00005OCWN', r_ui=2.0, est=4.13277566818924, details={'was_impossible': True, 'reason': 'User and/or item is unknown.'}),\n",
              " Prediction(uid='A2SLYNL56TJRZE', iid='B00004TEN2', r_ui=5.0, est=4.13277566818924, details={'was_impossible': True, 'reason': 'User and/or item is unknown.'}),\n",
              " Prediction(uid='A25DIGLWBZTBCT', iid='1400599997', r_ui=1.0, est=4.13277566818924, details={'was_impossible': True, 'reason': 'User and/or item is unknown.'}),\n",
              " Prediction(uid='A1C572HOWKIHNN', iid='B00001P4XH', r_ui=5.0, est=4.13277566818924, details={'was_impossible': True, 'reason': 'User and/or item is unknown.'}),\n",
              " Prediction(uid='A1VCG5QVSZYERM', iid='B00000JI4F', r_ui=5.0, est=4.13277566818924, details={'was_impossible': True, 'reason': 'User and/or item is unknown.'}),\n",
              " Prediction(uid='A37YN0K5Y2NO2G', iid='B000058BCQ', r_ui=3.0, est=4.13277566818924, details={'was_impossible': True, 'reason': 'User and/or item is unknown.'}),\n",
              " Prediction(uid='A23DKQXZNVZOX5', iid='B00004Z5D1', r_ui=5.0, est=4.13277566818924, details={'was_impossible': True, 'reason': 'User and/or item is unknown.'}),\n",
              " Prediction(uid='A2JINTBMLMVZW9', iid='B00005T380', r_ui=5.0, est=4.13277566818924, details={'was_impossible': True, 'reason': 'User and/or item is unknown.'}),\n",
              " Prediction(uid='AGTCIEB44ZATU', iid='B00004ZCJE', r_ui=4.0, est=4.13277566818924, details={'was_impossible': True, 'reason': 'User and/or item is unknown.'}),\n",
              " Prediction(uid='A6FS73IK52W6X', iid='B00004X0ZO', r_ui=2.0, est=4.13277566818924, details={'was_impossible': True, 'reason': 'User and/or item is unknown.'}),\n",
              " Prediction(uid='A26AM4KTHJVV8I', iid='9985511476', r_ui=5.0, est=4.13277566818924, details={'was_impossible': True, 'reason': 'User and/or item is unknown.'}),\n",
              " Prediction(uid='A1IZFKWWI6MUAB', iid='B00004Z5M1', r_ui=5.0, est=4.13277566818924, details={'was_impossible': True, 'reason': 'User and/or item is unknown.'}),\n",
              " Prediction(uid='AA2N9DTUJ6DIA', iid='B00000JYLO', r_ui=5.0, est=4.13277566818924, details={'was_impossible': True, 'reason': 'User and/or item is unknown.'}),\n",
              " Prediction(uid='A3I27CAOTKT7P8', iid='B00004Y7CF', r_ui=5.0, est=4.13277566818924, details={'was_impossible': True, 'reason': 'User and/or item is unknown.'}),\n",
              " Prediction(uid='AP30VHZEOC1BA', iid='B00004WHE5', r_ui=5.0, est=4.13277566818924, details={'was_impossible': True, 'reason': 'User and/or item is unknown.'}),\n",
              " Prediction(uid='A11E2PXM0MXYBM', iid='B000050NPX', r_ui=4.0, est=4.13277566818924, details={'was_impossible': True, 'reason': 'User and/or item is unknown.'}),\n",
              " Prediction(uid='AZHBPHOPU8LTV', iid='B0000513O4', r_ui=4.0, est=4.13277566818924, details={'was_impossible': True, 'reason': 'User and/or item is unknown.'}),\n",
              " Prediction(uid='A1VH43DIOLL4DW', iid='B00005AW1H', r_ui=5.0, est=4.13277566818924, details={'was_impossible': True, 'reason': 'User and/or item is unknown.'}),\n",
              " Prediction(uid='A3336BD5GVMRVX', iid='B00005T406', r_ui=4.0, est=4.13277566818924, details={'was_impossible': True, 'reason': 'User and/or item is unknown.'}),\n",
              " Prediction(uid='A1S4SA6YMF421F', iid='B00004ZCJE', r_ui=5.0, est=4.13277566818924, details={'was_impossible': True, 'reason': 'User and/or item is unknown.'}),\n",
              " Prediction(uid='A3HKJEGORVHF5N', iid='B00001P4ZH', r_ui=4.0, est=4.13277566818924, details={'was_impossible': True, 'reason': 'User and/or item is unknown.'}),\n",
              " Prediction(uid='A33FAZ6S178C1M', iid='B00005LEN4', r_ui=5.0, est=4.13277566818924, details={'was_impossible': True, 'reason': 'User and/or item is unknown.'}),\n",
              " Prediction(uid='AI6U9UZKMHZIC', iid='B00005T3H5', r_ui=5.0, est=4.13277566818924, details={'was_impossible': True, 'reason': 'User and/or item is unknown.'}),\n",
              " Prediction(uid='A229KNRZM9URT', iid='B00000J0D5', r_ui=5.0, est=4.13277566818924, details={'was_impossible': True, 'reason': 'User and/or item is unknown.'}),\n",
              " Prediction(uid='A2E256UK0R4VFS', iid='B00005NWR0', r_ui=4.0, est=4.13277566818924, details={'was_impossible': True, 'reason': 'User and/or item is unknown.'}),\n",
              " Prediction(uid='APVAEF5ZIRL6D', iid='B00002EQCS', r_ui=5.0, est=4.13277566818924, details={'was_impossible': True, 'reason': 'User and/or item is unknown.'}),\n",
              " Prediction(uid='A18KS7UYEVV27X', iid='B00005B9W6', r_ui=1.0, est=4.13277566818924, details={'was_impossible': True, 'reason': 'User and/or item is unknown.'}),\n",
              " Prediction(uid='A2UXSHN75FDG93', iid='B000053HH5', r_ui=5.0, est=4.13277566818924, details={'was_impossible': True, 'reason': 'User and/or item is unknown.'}),\n",
              " Prediction(uid='A2KYRPDKVBI2R4', iid='B00004Z6N6', r_ui=5.0, est=4.13277566818924, details={'was_impossible': True, 'reason': 'User and/or item is unknown.'}),\n",
              " Prediction(uid='A2QARZA980DE7S', iid='140053271X', r_ui=3.0, est=4.13277566818924, details={'was_impossible': True, 'reason': 'User and/or item is unknown.'}),\n",
              " Prediction(uid='A355G0RTKGTNF5', iid='B00001WRSJ', r_ui=5.0, est=4.13277566818924, details={'was_impossible': True, 'reason': 'User and/or item is unknown.'}),\n",
              " Prediction(uid='A8MKQWOUV8WPO', iid='B00005115S', r_ui=5.0, est=4.13277566818924, details={'was_impossible': True, 'reason': 'User and/or item is unknown.'}),\n",
              " Prediction(uid='A17H66C9OOF7P7', iid='B00000K2YR', r_ui=4.0, est=4.13277566818924, details={'was_impossible': True, 'reason': 'User and/or item is unknown.'}),\n",
              " Prediction(uid='A1YBV30B0IR8PB', iid='B0000511U7', r_ui=5.0, est=4.13277566818924, details={'was_impossible': True, 'reason': 'User and/or item is unknown.'}),\n",
              " Prediction(uid='ATAPVLU8MRRAT', iid='B00005OQMO', r_ui=3.0, est=4.13277566818924, details={'was_impossible': True, 'reason': 'User and/or item is unknown.'}),\n",
              " Prediction(uid='A2NH9GM8RYOZYL', iid='B00004Z0C7', r_ui=5.0, est=4.13277566818924, details={'was_impossible': True, 'reason': 'User and/or item is unknown.'}),\n",
              " Prediction(uid='A1WPDGKWL4ANIS', iid='B00000JDF5', r_ui=4.0, est=4.13277566818924, details={'was_impossible': True, 'reason': 'User and/or item is unknown.'}),\n",
              " Prediction(uid='A1V20WJ9JAZLVI', iid='B00005T39Y', r_ui=5.0, est=4.13277566818924, details={'was_impossible': True, 'reason': 'User and/or item is unknown.'}),\n",
              " Prediction(uid='A1MC4013WKDABW', iid='B00000K2YR', r_ui=5.0, est=4.13277566818924, details={'was_impossible': True, 'reason': 'User and/or item is unknown.'}),\n",
              " Prediction(uid='A34LQ791ACZ0JC', iid='B00001WRSJ', r_ui=5.0, est=5, details={'actual_k': 1, 'was_impossible': False}),\n",
              " Prediction(uid='A2MXJTXU5XF5CB', iid='B00005OT5X', r_ui=4.0, est=4.13277566818924, details={'was_impossible': True, 'reason': 'User and/or item is unknown.'}),\n",
              " Prediction(uid='AXABTEYS7A4A8', iid='B00004ZCB4', r_ui=5.0, est=4.3, details={'actual_k': 0, 'was_impossible': False}),\n",
              " Prediction(uid='AH98R0U9G0UX1', iid='B00001W0DI', r_ui=4.0, est=4.13277566818924, details={'was_impossible': True, 'reason': 'User and/or item is unknown.'}),\n",
              " Prediction(uid='A24Y4U3IANV7JY', iid='B00004TDLD', r_ui=5.0, est=4.13277566818924, details={'was_impossible': True, 'reason': 'User and/or item is unknown.'}),\n",
              " Prediction(uid='A1I3CL5ETXG4PS', iid='B00001U0AJ', r_ui=1.0, est=4.13277566818924, details={'was_impossible': True, 'reason': 'User and/or item is unknown.'}),\n",
              " Prediction(uid='A198JGOF1W0D69', iid='B00004YRVY', r_ui=5.0, est=4.155555555555556, details={'actual_k': 0, 'was_impossible': False}),\n",
              " Prediction(uid='APBF796U7GUTV', iid='0972683275', r_ui=5.0, est=4.13277566818924, details={'was_impossible': True, 'reason': 'User and/or item is unknown.'}),\n",
              " Prediction(uid='A3A36VG147MKYA', iid='B00005Y3OM', r_ui=3.0, est=4.079470198675497, details={'actual_k': 0, 'was_impossible': False}),\n",
              " Prediction(uid='A1MTULV08ZGKYY', iid='B00004ZCJE', r_ui=5.0, est=4.13277566818924, details={'was_impossible': True, 'reason': 'User and/or item is unknown.'}),\n",
              " Prediction(uid='AFP75ZN3Z3M86', iid='B00004T8R2', r_ui=5.0, est=4.13277566818924, details={'was_impossible': True, 'reason': 'User and/or item is unknown.'}),\n",
              " Prediction(uid='A36Q47EVQJRMIV', iid='B00004THDE', r_ui=4.0, est=4.13277566818924, details={'was_impossible': True, 'reason': 'User and/or item is unknown.'}),\n",
              " Prediction(uid='A2UN17YPDK9DUX', iid='B00001WRSJ', r_ui=5.0, est=4.13277566818924, details={'was_impossible': True, 'reason': 'User and/or item is unknown.'}),\n",
              " Prediction(uid='AQP0JD1RAUXCI', iid='B00005A1KZ', r_ui=4.0, est=4.13277566818924, details={'was_impossible': True, 'reason': 'User and/or item is unknown.'}),\n",
              " Prediction(uid='A2QXYVTWRCIXRO', iid='B00004T8R2', r_ui=5.0, est=4.13277566818924, details={'was_impossible': True, 'reason': 'User and/or item is unknown.'}),\n",
              " Prediction(uid='A34WISS43CVLDP', iid='9625993428', r_ui=4.0, est=4.13277566818924, details={'was_impossible': True, 'reason': 'User and/or item is unknown.'}),\n",
              " Prediction(uid='A27181AF6YYMRF', iid='B00000K2YV', r_ui=5.0, est=4.13277566818924, details={'was_impossible': True, 'reason': 'User and/or item is unknown.'}),\n",
              " Prediction(uid='A2MUTLXDSV3JRC', iid='B00005T3N3', r_ui=5.0, est=4.13277566818924, details={'was_impossible': True, 'reason': 'User and/or item is unknown.'}),\n",
              " Prediction(uid='A2ANIO9P7WE1SX', iid='B00005T406', r_ui=4.0, est=4.13277566818924, details={'was_impossible': True, 'reason': 'User and/or item is unknown.'}),\n",
              " Prediction(uid='A353T4BUTGJNS6', iid='B00005AWBJ', r_ui=3.0, est=4.13277566818924, details={'was_impossible': True, 'reason': 'User and/or item is unknown.'}),\n",
              " Prediction(uid='A2MTXUIGK2736T', iid='B00001W0DI', r_ui=5.0, est=4.13277566818924, details={'was_impossible': True, 'reason': 'User and/or item is unknown.'}),\n",
              " Prediction(uid='A37L0TVEHFIS9U', iid='B00004TVSP', r_ui=5.0, est=4.13277566818924, details={'was_impossible': True, 'reason': 'User and/or item is unknown.'}),\n",
              " Prediction(uid='A2O8C1FFH46Q6T', iid='B00000JBPB', r_ui=3.0, est=4.13277566818924, details={'was_impossible': True, 'reason': 'User and/or item is unknown.'}),\n",
              " Prediction(uid='A37L676SGJCDXZ', iid='B00005MAAR', r_ui=4.0, est=3.9285714285714284, details={'actual_k': 0, 'was_impossible': False}),\n",
              " Prediction(uid='A3N1KKOGKXBICU', iid='B00004T8R2', r_ui=4.0, est=4.13277566818924, details={'was_impossible': True, 'reason': 'User and/or item is unknown.'}),\n",
              " Prediction(uid='A33NP124FT35WP', iid='B000056SSM', r_ui=5.0, est=4.13277566818924, details={'was_impossible': True, 'reason': 'User and/or item is unknown.'}),\n",
              " Prediction(uid='A8B264284T8IW', iid='B00004WCGF', r_ui=5.0, est=4.13277566818924, details={'was_impossible': True, 'reason': 'User and/or item is unknown.'}),\n",
              " Prediction(uid='A1TSEDVYLWNMFH', iid='B00005NOKT', r_ui=5.0, est=4.13277566818924, details={'was_impossible': True, 'reason': 'User and/or item is unknown.'}),\n",
              " Prediction(uid='A3NVB6HKMUH2NM', iid='B00005AW1H', r_ui=3.0, est=4.13277566818924, details={'was_impossible': True, 'reason': 'User and/or item is unknown.'}),\n",
              " Prediction(uid='AJE90EY807UR8', iid='7214047977', r_ui=5.0, est=4.13277566818924, details={'was_impossible': True, 'reason': 'User and/or item is unknown.'}),\n",
              " Prediction(uid='A2AGJ1MQ1PBAEG', iid='B00000DM9W', r_ui=2.0, est=4.13277566818924, details={'was_impossible': True, 'reason': 'User and/or item is unknown.'}),\n",
              " Prediction(uid='A2D9RNCIQGF4P0', iid='B00004Z5M1', r_ui=3.0, est=4.13277566818924, details={'was_impossible': True, 'reason': 'User and/or item is unknown.'}),\n",
              " Prediction(uid='A1344KW4ZLX1M', iid='B00005T3RC', r_ui=5.0, est=4.13277566818924, details={'was_impossible': True, 'reason': 'User and/or item is unknown.'}),\n",
              " Prediction(uid='A6NZ93XM5N1DJ', iid='B00005T39Y', r_ui=4.0, est=3.9477434679334915, details={'actual_k': 0, 'was_impossible': False}),\n",
              " Prediction(uid='A3N8O68DOEQ2FE', iid='B00000J1V5', r_ui=5.0, est=4.13277566818924, details={'was_impossible': True, 'reason': 'User and/or item is unknown.'}),\n",
              " Prediction(uid='A3B33K26KZ5NG8', iid='B00005T3C8', r_ui=5.0, est=4.13277566818924, details={'was_impossible': True, 'reason': 'User and/or item is unknown.'}),\n",
              " Prediction(uid='A17RUKDSXN6J5J', iid='B00004SB92', r_ui=2.0, est=4.13277566818924, details={'was_impossible': True, 'reason': 'User and/or item is unknown.'}),\n",
              " Prediction(uid='A4PA1HC5LDEI1', iid='B00001W0DH', r_ui=2.0, est=4.13277566818924, details={'was_impossible': True, 'reason': 'User and/or item is unknown.'}),\n",
              " Prediction(uid='A1IO8365H969TU', iid='B00001P4ZH', r_ui=5.0, est=4.13277566818924, details={'was_impossible': True, 'reason': 'User and/or item is unknown.'}),\n",
              " Prediction(uid='A4LXIGDJNXY13', iid='B00004TVSP', r_ui=4.0, est=4.13277566818924, details={'was_impossible': True, 'reason': 'User and/or item is unknown.'}),\n",
              " Prediction(uid='A1JMS554D6FN1H', iid='B00005AY8Q', r_ui=1.0, est=4.13277566818924, details={'was_impossible': True, 'reason': 'User and/or item is unknown.'}),\n",
              " Prediction(uid='A3L4XDYC7BD2N4', iid='B00004Y7TD', r_ui=5.0, est=4.13277566818924, details={'was_impossible': True, 'reason': 'User and/or item is unknown.'}),\n",
              " Prediction(uid='A2BPGEU4DHZJSR', iid='0972683275', r_ui=4.0, est=4.13277566818924, details={'was_impossible': True, 'reason': 'User and/or item is unknown.'}),\n",
              " Prediction(uid='A1KWPIORLG2QV', iid='B00005T3N3', r_ui=5.0, est=4.584664536741214, details={'actual_k': 0, 'was_impossible': False}),\n",
              " Prediction(uid='A1UEDJXFM6TM4C', iid='B00005UOS4', r_ui=1.0, est=4.13277566818924, details={'was_impossible': True, 'reason': 'User and/or item is unknown.'}),\n",
              " Prediction(uid='A1K5WKVK07E2X8', iid='B00004ZCJE', r_ui=3.0, est=4.872457541713405, details={'actual_k': 1, 'was_impossible': False}),\n",
              " Prediction(uid='A1A92SOROE0T26', iid='B00004ZCJE', r_ui=4.0, est=4.13277566818924, details={'was_impossible': True, 'reason': 'User and/or item is unknown.'}),\n",
              " Prediction(uid='A3AR0ND4T2XU3Z', iid='B00005T380', r_ui=5.0, est=4.13277566818924, details={'was_impossible': True, 'reason': 'User and/or item is unknown.'}),\n",
              " Prediction(uid='ANTA79F1KFOHP', iid='B00005LEN4', r_ui=5.0, est=4.13277566818924, details={'was_impossible': True, 'reason': 'User and/or item is unknown.'}),\n",
              " Prediction(uid='A3G5WJR4364QG', iid='B00004ZC9V', r_ui=4.0, est=4.13277566818924, details={'was_impossible': True, 'reason': 'User and/or item is unknown.'}),\n",
              " Prediction(uid='ACL1WUHP42PF', iid='B00005K47X', r_ui=5.0, est=4.13277566818924, details={'was_impossible': True, 'reason': 'User and/or item is unknown.'}),\n",
              " Prediction(uid='A1FI67P2E7GMQ5', iid='B000058BCQ', r_ui=4.0, est=4.961840628507295, details={'actual_k': 1, 'was_impossible': False}),\n",
              " Prediction(uid='A1510H4QHCVFNH', iid='B00004ZCJE', r_ui=5.0, est=4.13277566818924, details={'was_impossible': True, 'reason': 'User and/or item is unknown.'}),\n",
              " Prediction(uid='A37MRYCC1NE1A5', iid='B00004T8R2', r_ui=5.0, est=4.13277566818924, details={'was_impossible': True, 'reason': 'User and/or item is unknown.'}),\n",
              " Prediction(uid='A1ASQVW8UGLSNF', iid='B00005ATMB', r_ui=5.0, est=4.13277566818924, details={'was_impossible': True, 'reason': 'User and/or item is unknown.'}),\n",
              " Prediction(uid='A2WBHLEI5TQU7B', iid='B00000J1EP', r_ui=5.0, est=4.13277566818924, details={'was_impossible': True, 'reason': 'User and/or item is unknown.'}),\n",
              " Prediction(uid='A1NL56D0Y0TORY', iid='B00001WRSJ', r_ui=3.0, est=4.13277566818924, details={'was_impossible': True, 'reason': 'User and/or item is unknown.'}),\n",
              " Prediction(uid='ANQAWT9GUNXIQ', iid='B000051SGX', r_ui=5.0, est=4.13277566818924, details={'was_impossible': True, 'reason': 'User and/or item is unknown.'}),\n",
              " Prediction(uid='A1Z55VKH466S3B', iid='B00004THCZ', r_ui=4.0, est=4.13277566818924, details={'was_impossible': True, 'reason': 'User and/or item is unknown.'}),\n",
              " Prediction(uid='A14I7BDXA0UDI3', iid='B00005I9RU', r_ui=5.0, est=4.13277566818924, details={'was_impossible': True, 'reason': 'User and/or item is unknown.'}),\n",
              " Prediction(uid='ADLVFFE4VBT8', iid='B00005114Z', r_ui=5.0, est=4.13277566818924, details={'was_impossible': True, 'reason': 'User and/or item is unknown.'}),\n",
              " Prediction(uid='A23D2WSMTTIYXT', iid='B00004T8R2', r_ui=2.0, est=4.13277566818924, details={'was_impossible': True, 'reason': 'User and/or item is unknown.'}),\n",
              " Prediction(uid='A298GL2D0BHGKZ', iid='B00001WRSJ', r_ui=5.0, est=4.13277566818924, details={'was_impossible': True, 'reason': 'User and/or item is unknown.'}),\n",
              " Prediction(uid='AI95J0LFJEQ1A', iid='B00004WCGF', r_ui=4.0, est=4.13277566818924, details={'was_impossible': True, 'reason': 'User and/or item is unknown.'}),\n",
              " Prediction(uid='A257H33BF3WAJ9', iid='B00004Z5D1', r_ui=5.0, est=4.13277566818924, details={'was_impossible': True, 'reason': 'User and/or item is unknown.'}),\n",
              " Prediction(uid='AKCHN2AXEI92R', iid='B00004SB92', r_ui=4.0, est=4.13277566818924, details={'was_impossible': True, 'reason': 'User and/or item is unknown.'}),\n",
              " Prediction(uid='A1H6CI0ZHV7S7Z', iid='B00005T3BD', r_ui=3.0, est=4.13277566818924, details={'was_impossible': True, 'reason': 'User and/or item is unknown.'}),\n",
              " Prediction(uid='A1W6D1WGA9NBZC', iid='B00004SYNX', r_ui=4.0, est=4.13277566818924, details={'was_impossible': True, 'reason': 'User and/or item is unknown.'}),\n",
              " Prediction(uid='A2NYVPWJGI4ZV4', iid='B00001WRSJ', r_ui=5.0, est=4.13277566818924, details={'was_impossible': True, 'reason': 'User and/or item is unknown.'}),\n",
              " Prediction(uid='A1F89D3TCO7OGE', iid='B00004TDMX', r_ui=1.0, est=4.13277566818924, details={'was_impossible': True, 'reason': 'User and/or item is unknown.'}),\n",
              " Prediction(uid='A2D795JFSYKNWF', iid='B00001W0DH', r_ui=5.0, est=4.13277566818924, details={'was_impossible': True, 'reason': 'User and/or item is unknown.'}),\n",
              " Prediction(uid='A3IZS7S1P39K6O', iid='B0000511U7', r_ui=5.0, est=4.13277566818924, details={'was_impossible': True, 'reason': 'User and/or item is unknown.'}),\n",
              " Prediction(uid='A2L6ARD2XWNC9P', iid='B00003G1RG', r_ui=5.0, est=4.13277566818924, details={'was_impossible': True, 'reason': 'User and/or item is unknown.'}),\n",
              " Prediction(uid='A35C0MSP2U9LT8', iid='B00004TL5Q', r_ui=3.0, est=4.13277566818924, details={'was_impossible': True, 'reason': 'User and/or item is unknown.'}),\n",
              " Prediction(uid='A9X92JN6E8B5C', iid='B00005A9AU', r_ui=5.0, est=4.13277566818924, details={'was_impossible': True, 'reason': 'User and/or item is unknown.'}),\n",
              " Prediction(uid='A382HL6S0S29VE', iid='B00004VUGJ', r_ui=5.0, est=4.13277566818924, details={'was_impossible': True, 'reason': 'User and/or item is unknown.'}),\n",
              " Prediction(uid='A389SXHFZ82MZG', iid='1400698987', r_ui=4.0, est=4.13277566818924, details={'was_impossible': True, 'reason': 'User and/or item is unknown.'}),\n",
              " Prediction(uid='A1B5LK036YB41', iid='B000056SSM', r_ui=3.0, est=4.13277566818924, details={'was_impossible': True, 'reason': 'User and/or item is unknown.'}),\n",
              " Prediction(uid='A2DKZZ2BKZN99I', iid='B00004XO1V', r_ui=3.0, est=4.13277566818924, details={'was_impossible': True, 'reason': 'User and/or item is unknown.'}),\n",
              " Prediction(uid='AWYAJCVLQNJK8', iid='0972683275', r_ui=5.0, est=4.13277566818924, details={'was_impossible': True, 'reason': 'User and/or item is unknown.'}),\n",
              " Prediction(uid='A2K3J2X8KDY47N', iid='B00005T3N3', r_ui=4.0, est=4.13277566818924, details={'was_impossible': True, 'reason': 'User and/or item is unknown.'}),\n",
              " Prediction(uid='A12O0X9736UPVC', iid='B00004WCIC', r_ui=5.0, est=4.13277566818924, details={'was_impossible': True, 'reason': 'User and/or item is unknown.'}),\n",
              " Prediction(uid='A26KWG162U8VBQ', iid='B00005ARK3', r_ui=2.0, est=1.9875158481171975, details={'actual_k': 1, 'was_impossible': False}),\n",
              " Prediction(uid='A24SP5889THDQE', iid='B00005Q4ZV', r_ui=5.0, est=4.13277566818924, details={'was_impossible': True, 'reason': 'User and/or item is unknown.'}),\n",
              " Prediction(uid='A3PRHF4YCM0PC2', iid='B000053HH5', r_ui=5.0, est=4.13277566818924, details={'was_impossible': True, 'reason': 'User and/or item is unknown.'}),\n",
              " Prediction(uid='A2FJQKZ3RP29Q3', iid='B00005NIMJ', r_ui=4.0, est=4.13277566818924, details={'was_impossible': True, 'reason': 'User and/or item is unknown.'}),\n",
              " Prediction(uid='A1807D84IQKI0E', iid='B00004T8R2', r_ui=5.0, est=4.13277566818924, details={'was_impossible': True, 'reason': 'User and/or item is unknown.'}),\n",
              " Prediction(uid='ASP7EHP1GVA6L', iid='B00005AB9R', r_ui=4.0, est=4.13277566818924, details={'was_impossible': True, 'reason': 'User and/or item is unknown.'}),\n",
              " Prediction(uid='A3KRRB6SG6P63T', iid='B00001W0DI', r_ui=5.0, est=4.13277566818924, details={'was_impossible': True, 'reason': 'User and/or item is unknown.'}),\n",
              " Prediction(uid='A1FE2WSCLJO819', iid='B00004XOM3', r_ui=5.0, est=4.13277566818924, details={'was_impossible': True, 'reason': 'User and/or item is unknown.'}),\n",
              " Prediction(uid='A2SWUGWHUUKPBW', iid='B00004TDLD', r_ui=5.0, est=4.13277566818924, details={'was_impossible': True, 'reason': 'User and/or item is unknown.'}),\n",
              " Prediction(uid='A84RPLK8MRXLN', iid='B00005QXWI', r_ui=5.0, est=4.13277566818924, details={'was_impossible': True, 'reason': 'User and/or item is unknown.'}),\n",
              " Prediction(uid='AL5PL2LN69I67', iid='B000051ZOA', r_ui=5.0, est=4.13277566818924, details={'was_impossible': True, 'reason': 'User and/or item is unknown.'}),\n",
              " Prediction(uid='A17DLVIHMT5JYL', iid='B0000504DH', r_ui=4.0, est=3.731707317073171, details={'actual_k': 0, 'was_impossible': False}),\n",
              " Prediction(uid='A2UWPPU5GZLMQZ', iid='B00005A9AU', r_ui=4.0, est=4.13277566818924, details={'was_impossible': True, 'reason': 'User and/or item is unknown.'}),\n",
              " Prediction(uid='A2T07G80FXRZGO', iid='B00001WRSJ', r_ui=5.0, est=4.13277566818924, details={'was_impossible': True, 'reason': 'User and/or item is unknown.'}),\n",
              " Prediction(uid='A2ANQDDECTJ41Q', iid='B00004TWM6', r_ui=3.0, est=4.13277566818924, details={'was_impossible': True, 'reason': 'User and/or item is unknown.'}),\n",
              " Prediction(uid='A27EBP9AARN6IN', iid='B00004T8R2', r_ui=4.0, est=4.13277566818924, details={'was_impossible': True, 'reason': 'User and/or item is unknown.'}),\n",
              " Prediction(uid='A1RB9EVZZXW1Q8', iid='B00004TWLY', r_ui=5.0, est=4.13277566818924, details={'was_impossible': True, 'reason': 'User and/or item is unknown.'}),\n",
              " Prediction(uid='A2XCCMK20MPBZ', iid='B00000JI4F', r_ui=3.0, est=4.13277566818924, details={'was_impossible': True, 'reason': 'User and/or item is unknown.'}),\n",
              " Prediction(uid='AGUOI1ESL2O52', iid='B00002NDRQ', r_ui=5.0, est=4.13277566818924, details={'was_impossible': True, 'reason': 'User and/or item is unknown.'}),\n",
              " Prediction(uid='A3R4F0CO9CI3SX', iid='B00000J4GE', r_ui=3.0, est=4.13277566818924, details={'was_impossible': True, 'reason': 'User and/or item is unknown.'}),\n",
              " Prediction(uid='A3RV8U299PEOYS', iid='B00005T3GH', r_ui=5.0, est=4.13277566818924, details={'was_impossible': True, 'reason': 'User and/or item is unknown.'}),\n",
              " Prediction(uid='A8ZWSVFHTF5SF', iid='B00004T1XK', r_ui=5.0, est=4.13277566818924, details={'was_impossible': True, 'reason': 'User and/or item is unknown.'}),\n",
              " Prediction(uid='A1Z4USXNOL4T2Y', iid='B000051SEN', r_ui=4.0, est=4.13277566818924, details={'was_impossible': True, 'reason': 'User and/or item is unknown.'}),\n",
              " Prediction(uid='A3PDRABP5Y6DI2', iid='B00004WCGF', r_ui=5.0, est=4.13277566818924, details={'was_impossible': True, 'reason': 'User and/or item is unknown.'}),\n",
              " Prediction(uid='A1QT9U3ERTEBZK', iid='B00005N6KG', r_ui=5.0, est=4.13277566818924, details={'was_impossible': True, 'reason': 'User and/or item is unknown.'}),\n",
              " Prediction(uid='A3KVHFT85HDYLS', iid='B00004ZCJE', r_ui=5.0, est=4.13277566818924, details={'was_impossible': True, 'reason': 'User and/or item is unknown.'}),\n",
              " Prediction(uid='A10NBGOUJOAJ4U', iid='1400698987', r_ui=1.0, est=4.13277566818924, details={'was_impossible': True, 'reason': 'User and/or item is unknown.'}),\n",
              " Prediction(uid='AWWXON831DT2', iid='140053271X', r_ui=5.0, est=4.13277566818924, details={'was_impossible': True, 'reason': 'User and/or item is unknown.'}),\n",
              " Prediction(uid='A32W4IR1RMW98W', iid='B00001W0DI', r_ui=3.0, est=4.13277566818924, details={'was_impossible': True, 'reason': 'User and/or item is unknown.'}),\n",
              " Prediction(uid='A2DGM8XW30DJLG', iid='B00004YBVE', r_ui=3.0, est=4.13277566818924, details={'was_impossible': True, 'reason': 'User and/or item is unknown.'}),\n",
              " Prediction(uid='A35EW3Z647HKJG', iid='B00001P4ZH', r_ui=5.0, est=4.13277566818924, details={'was_impossible': True, 'reason': 'User and/or item is unknown.'}),\n",
              " Prediction(uid='A2OLR3BZUJT9JZ', iid='B00005NVBF', r_ui=3.0, est=4.13277566818924, details={'was_impossible': True, 'reason': 'User and/or item is unknown.'}),\n",
              " Prediction(uid='A3KTWXWO9MYIYB', iid='B00004SQET', r_ui=4.0, est=4.13277566818924, details={'was_impossible': True, 'reason': 'User and/or item is unknown.'}),\n",
              " Prediction(uid='A1CLPFK36OJUY1', iid='B00005T380', r_ui=4.0, est=4.13277566818924, details={'was_impossible': True, 'reason': 'User and/or item is unknown.'}),\n",
              " Prediction(uid='A24RTPK3HTGWB5', iid='B00003006R', r_ui=1.0, est=4.13277566818924, details={'was_impossible': True, 'reason': 'User and/or item is unknown.'}),\n",
              " Prediction(uid='A2LNEDA3J12TPY', iid='B00000JBPB', r_ui=1.0, est=4.13277566818924, details={'was_impossible': True, 'reason': 'User and/or item is unknown.'}),\n",
              " Prediction(uid='A2CLHETS107G3F', iid='B00004ZCKV', r_ui=5.0, est=4.13277566818924, details={'was_impossible': True, 'reason': 'User and/or item is unknown.'}),\n",
              " Prediction(uid='A3AES1C04IQHFN', iid='B00004TWVY', r_ui=4.0, est=4.13277566818924, details={'was_impossible': True, 'reason': 'User and/or item is unknown.'}),\n",
              " Prediction(uid='A26TQPF0O7PZI3', iid='B00004Z5M1', r_ui=5.0, est=4.13277566818924, details={'was_impossible': True, 'reason': 'User and/or item is unknown.'}),\n",
              " Prediction(uid='A90PZKDH0B40J', iid='B00000J1QK', r_ui=5.0, est=4.13277566818924, details={'was_impossible': True, 'reason': 'User and/or item is unknown.'}),\n",
              " Prediction(uid='A12UM2PCEZ4G0X', iid='9984984354', r_ui=1.0, est=4.13277566818924, details={'was_impossible': True, 'reason': 'User and/or item is unknown.'}),\n",
              " Prediction(uid='AYAVWT90RONLV', iid='B00004Z5PY', r_ui=2.0, est=4.13277566818924, details={'was_impossible': True, 'reason': 'User and/or item is unknown.'}),\n",
              " Prediction(uid='APGNAW5LNBJ9A', iid='B00005LWLW', r_ui=5.0, est=4.13277566818924, details={'was_impossible': True, 'reason': 'User and/or item is unknown.'}),\n",
              " Prediction(uid='A2EMRW2KAWUFL3', iid='B00003006E', r_ui=5.0, est=4.13277566818924, details={'was_impossible': True, 'reason': 'User and/or item is unknown.'}),\n",
              " Prediction(uid='A2KSXR63LFHPU', iid='B00005T406', r_ui=5.0, est=4.13277566818924, details={'was_impossible': True, 'reason': 'User and/or item is unknown.'}),\n",
              " Prediction(uid='A7YKQRCRPPCMU', iid='B00002EQCW', r_ui=5.0, est=4.13277566818924, details={'was_impossible': True, 'reason': 'User and/or item is unknown.'}),\n",
              " Prediction(uid='A2E0UXNZNKXD1H', iid='B00003CWDH', r_ui=5.0, est=4.13277566818924, details={'was_impossible': True, 'reason': 'User and/or item is unknown.'}),\n",
              " Prediction(uid='A1ONH2GABU76T0', iid='B00004WCGF', r_ui=3.0, est=4.13277566818924, details={'was_impossible': True, 'reason': 'User and/or item is unknown.'}),\n",
              " Prediction(uid='A13A6WTJ0FKEMM', iid='B00004Z5M1', r_ui=5.0, est=4.13277566818924, details={'was_impossible': True, 'reason': 'User and/or item is unknown.'}),\n",
              " Prediction(uid='A33M6XO4NOJ6ZO', iid='B00000K13L', r_ui=5.0, est=4.573333333333333, details={'actual_k': 0, 'was_impossible': False}),\n",
              " Prediction(uid='AJXAKVU3FUPEA', iid='B00005TQ08', r_ui=5.0, est=4.13277566818924, details={'was_impossible': True, 'reason': 'User and/or item is unknown.'}),\n",
              " Prediction(uid='A1XW57FUHORGLC', iid='B00004Z5M1', r_ui=4.0, est=4.13277566818924, details={'was_impossible': True, 'reason': 'User and/or item is unknown.'}),\n",
              " Prediction(uid='A3FYSRXY46VSF1', iid='B00001ZWXA', r_ui=5.0, est=4.13277566818924, details={'was_impossible': True, 'reason': 'User and/or item is unknown.'}),\n",
              " Prediction(uid='A23T2RC20HHLME', iid='B000051WW9', r_ui=5.0, est=4.13277566818924, details={'was_impossible': True, 'reason': 'User and/or item is unknown.'}),\n",
              " Prediction(uid='A26GYXNHK3M7LF', iid='B00004T8R2', r_ui=3.0, est=4.13277566818924, details={'was_impossible': True, 'reason': 'User and/or item is unknown.'}),\n",
              " Prediction(uid='A3FB3Q9639UCGC', iid='B00003CWDH', r_ui=5.0, est=4.13277566818924, details={'was_impossible': True, 'reason': 'User and/or item is unknown.'}),\n",
              " Prediction(uid='A2S4DGOUQ07PSD', iid='B00005LEN4', r_ui=5.0, est=4.13277566818924, details={'was_impossible': True, 'reason': 'User and/or item is unknown.'}),\n",
              " Prediction(uid='A1QH9F8WE7VYSD', iid='1400532655', r_ui=5.0, est=4.13277566818924, details={'was_impossible': True, 'reason': 'User and/or item is unknown.'}),\n",
              " Prediction(uid='A33NTIYQQLJ6C7', iid='B00001P4XA', r_ui=3.0, est=4.13277566818924, details={'was_impossible': True, 'reason': 'User and/or item is unknown.'}),\n",
              " Prediction(uid='A14EO36F2S1A90', iid='B00003006K', r_ui=5.0, est=4.13277566818924, details={'was_impossible': True, 'reason': 'User and/or item is unknown.'}),\n",
              " Prediction(uid='A2V8WQ7E1OD7XL', iid='B00001OWYM', r_ui=1.0, est=4.13277566818924, details={'was_impossible': True, 'reason': 'User and/or item is unknown.'}),\n",
              " Prediction(uid='A37E8TWQS8ZXBP', iid='B00005Y3OM', r_ui=2.0, est=4.13277566818924, details={'was_impossible': True, 'reason': 'User and/or item is unknown.'}),\n",
              " Prediction(uid='AS5OFZDS5YR2X', iid='B00005LEN4', r_ui=5.0, est=4.13277566818924, details={'was_impossible': True, 'reason': 'User and/or item is unknown.'}),\n",
              " Prediction(uid='A1C0CQEQFZI9MZ', iid='B00004TBLW', r_ui=2.0, est=4.13277566818924, details={'was_impossible': True, 'reason': 'User and/or item is unknown.'}),\n",
              " Prediction(uid='ARF5JYO713IV3', iid='B00000J0D5', r_ui=5.0, est=4.13277566818924, details={'was_impossible': True, 'reason': 'User and/or item is unknown.'}),\n",
              " Prediction(uid='A3AQ0SYYM61LE0', iid='B00005B8M3', r_ui=5.0, est=4.13277566818924, details={'was_impossible': True, 'reason': 'User and/or item is unknown.'}),\n",
              " Prediction(uid='A2HCHU60G30OFD', iid='B00005T3G0', r_ui=5.0, est=4.13277566818924, details={'was_impossible': True, 'reason': 'User and/or item is unknown.'}),\n",
              " Prediction(uid='A17OMWURHXVXQF', iid='B00005AB9R', r_ui=4.0, est=4.13277566818924, details={'was_impossible': True, 'reason': 'User and/or item is unknown.'}),\n",
              " Prediction(uid='APOHJ0S99TKAF', iid='B00001P4XA', r_ui=3.0, est=4.13277566818924, details={'was_impossible': True, 'reason': 'User and/or item is unknown.'}),\n",
              " Prediction(uid='A2RZVD8A0T6ZF1', iid='B00000J1U8', r_ui=5.0, est=4.13277566818924, details={'was_impossible': True, 'reason': 'User and/or item is unknown.'}),\n",
              " Prediction(uid='A623RZN427KZR', iid='B00005UKBG', r_ui=5.0, est=4.13277566818924, details={'was_impossible': True, 'reason': 'User and/or item is unknown.'}),\n",
              " Prediction(uid='A16DTDATESVBWI', iid='B00004WCIC', r_ui=5.0, est=4.13277566818924, details={'was_impossible': True, 'reason': 'User and/or item is unknown.'}),\n",
              " Prediction(uid='A3DHUN630D8WEB', iid='B00005N6KG', r_ui=5.0, est=4.13277566818924, details={'was_impossible': True, 'reason': 'User and/or item is unknown.'}),\n",
              " Prediction(uid='A33Q7QGZSKTGTP', iid='B00005NOKT', r_ui=4.0, est=4.13277566818924, details={'was_impossible': True, 'reason': 'User and/or item is unknown.'}),\n",
              " Prediction(uid='A2K5TMUEATWZ3Y', iid='B00004TBLW', r_ui=5.0, est=4.13277566818924, details={'was_impossible': True, 'reason': 'User and/or item is unknown.'}),\n",
              " Prediction(uid='A1EEBCDUFAFEDG', iid='B00003006K', r_ui=5.0, est=4.13277566818924, details={'was_impossible': True, 'reason': 'User and/or item is unknown.'}),\n",
              " Prediction(uid='A5S85L7PD4HVS', iid='B000058BCQ', r_ui=3.0, est=4.13277566818924, details={'was_impossible': True, 'reason': 'User and/or item is unknown.'}),\n",
              " Prediction(uid='A1PITDN2K13HBI', iid='B00005QFZF', r_ui=5.0, est=4.13277566818924, details={'was_impossible': True, 'reason': 'User and/or item is unknown.'}),\n",
              " Prediction(uid='AQMD0WGJVD4RJ', iid='B00003G1RG', r_ui=5.0, est=4.6568627450980395, details={'actual_k': 0, 'was_impossible': False}),\n",
              " Prediction(uid='A2PDA0LY8ZPDYE', iid='B00004TWM6', r_ui=5.0, est=4.13277566818924, details={'was_impossible': True, 'reason': 'User and/or item is unknown.'}),\n",
              " Prediction(uid='AU9W36Q1997OS', iid='B00004SABJ', r_ui=1.0, est=4.13277566818924, details={'was_impossible': True, 'reason': 'User and/or item is unknown.'}),\n",
              " Prediction(uid='A3GKQFS95ERXFD', iid='B00004TKVD', r_ui=5.0, est=4.13277566818924, details={'was_impossible': True, 'reason': 'User and/or item is unknown.'}),\n",
              " Prediction(uid='A1TPB3S2DMC0XJ', iid='B00000JFMK', r_ui=3.0, est=4.13277566818924, details={'was_impossible': True, 'reason': 'User and/or item is unknown.'}),\n",
              " Prediction(uid='A15K7FM0DRU3A6', iid='B00005KK2Q', r_ui=4.0, est=4.13277566818924, details={'was_impossible': True, 'reason': 'User and/or item is unknown.'}),\n",
              " Prediction(uid='A382LV9KW0J14T', iid='B00004TWVY', r_ui=4.0, est=4.13277566818924, details={'was_impossible': True, 'reason': 'User and/or item is unknown.'}),\n",
              " Prediction(uid='A1FMOOUYMBEXZB', iid='B00005OTG6', r_ui=4.0, est=4.13277566818924, details={'was_impossible': True, 'reason': 'User and/or item is unknown.'}),\n",
              " Prediction(uid='A2TLN1WPFTHY24', iid='B00000JBAT', r_ui=1.0, est=4.13277566818924, details={'was_impossible': True, 'reason': 'User and/or item is unknown.'}),\n",
              " Prediction(uid='A29EDVGQPOAJXL', iid='B00000JDF6', r_ui=5.0, est=4.13277566818924, details={'was_impossible': True, 'reason': 'User and/or item is unknown.'}),\n",
              " Prediction(uid='A26W5C2OC26ZXI', iid='B00000JDF5', r_ui=5.0, est=4.13277566818924, details={'was_impossible': True, 'reason': 'User and/or item is unknown.'}),\n",
              " Prediction(uid='A1WE838TZ5YFX9', iid='B00004Z7H5', r_ui=5.0, est=4.13277566818924, details={'was_impossible': True, 'reason': 'User and/or item is unknown.'}),\n",
              " Prediction(uid='A2QD5TYJ0VP5YM', iid='B00000J0D8', r_ui=2.0, est=4.13277566818924, details={'was_impossible': True, 'reason': 'User and/or item is unknown.'}),\n",
              " Prediction(uid='AUSMGD8LVU7D2', iid='0972683275', r_ui=5.0, est=4.13277566818924, details={'was_impossible': True, 'reason': 'User and/or item is unknown.'}),\n",
              " Prediction(uid='A34V0V1CGJPKIU', iid='B00004SB92', r_ui=5.0, est=4.13277566818924, details={'was_impossible': True, 'reason': 'User and/or item is unknown.'}),\n",
              " Prediction(uid='A26BZ1I78GIPUK', iid='B00004THCZ', r_ui=5.0, est=4.13277566818924, details={'was_impossible': True, 'reason': 'User and/or item is unknown.'}),\n",
              " Prediction(uid='A1NAAI0SBO3FBA', iid='B00001P4ZH', r_ui=5.0, est=4.13277566818924, details={'was_impossible': True, 'reason': 'User and/or item is unknown.'}),\n",
              " Prediction(uid='A15XN766I9BKSN', iid='B00005LEN4', r_ui=5.0, est=4.13277566818924, details={'was_impossible': True, 'reason': 'User and/or item is unknown.'}),\n",
              " Prediction(uid='A33GO0KKMW20BK', iid='B00000JBAT', r_ui=3.0, est=4.13277566818924, details={'was_impossible': True, 'reason': 'User and/or item is unknown.'}),\n",
              " Prediction(uid='A3MHXLGXCQY89K', iid='B00005N5X2', r_ui=1.0, est=4.13277566818924, details={'was_impossible': True, 'reason': 'User and/or item is unknown.'}),\n",
              " Prediction(uid='A1QRP7ZINHIGT7', iid='B00005I9RU', r_ui=5.0, est=4.13277566818924, details={'was_impossible': True, 'reason': 'User and/or item is unknown.'}),\n",
              " Prediction(uid='A35J8X6E6868PI', iid='B00003CWDQ', r_ui=5.0, est=4.13277566818924, details={'was_impossible': True, 'reason': 'User and/or item is unknown.'}),\n",
              " Prediction(uid='A1OPKNO7IXWV27', iid='B00001W0EQ', r_ui=4.0, est=4.13277566818924, details={'was_impossible': True, 'reason': 'User and/or item is unknown.'}),\n",
              " Prediction(uid='A2NJRYBKD9NL87', iid='B00004TWVY', r_ui=1.0, est=4.13277566818924, details={'was_impossible': True, 'reason': 'User and/or item is unknown.'}),\n",
              " Prediction(uid='AQ7Y1KYTBND5N', iid='1400599997', r_ui=5.0, est=4.13277566818924, details={'was_impossible': True, 'reason': 'User and/or item is unknown.'}),\n",
              " Prediction(uid='A3RTW7A302AKQM', iid='1400501466', r_ui=5.0, est=4.13277566818924, details={'was_impossible': True, 'reason': 'User and/or item is unknown.'}),\n",
              " Prediction(uid='A1UH6OVMDSHE7C', iid='B00005ATMI', r_ui=5.0, est=4.13277566818924, details={'was_impossible': True, 'reason': 'User and/or item is unknown.'}),\n",
              " Prediction(uid='AN5ISBOQ5U7C', iid='B00004Z5PY', r_ui=5.0, est=4.13277566818924, details={'was_impossible': True, 'reason': 'User and/or item is unknown.'}),\n",
              " Prediction(uid='ALA0F41TEOE2P', iid='B00000IGBF', r_ui=4.0, est=4.13277566818924, details={'was_impossible': True, 'reason': 'User and/or item is unknown.'}),\n",
              " Prediction(uid='A3AI8CNPPQAT38', iid='1400532655', r_ui=5.0, est=4.13277566818924, details={'was_impossible': True, 'reason': 'User and/or item is unknown.'}),\n",
              " Prediction(uid='A2CH2WDQWY1M65', iid='B00001W0DI', r_ui=5.0, est=4.13277566818924, details={'was_impossible': True, 'reason': 'User and/or item is unknown.'}),\n",
              " Prediction(uid='A7NXSXS34YPCV', iid='B00004XO1V', r_ui=5.0, est=4.13277566818924, details={'was_impossible': True, 'reason': 'User and/or item is unknown.'}),\n",
              " Prediction(uid='A34EQDIZM94VSN', iid='B00005T406', r_ui=1.0, est=4.13277566818924, details={'was_impossible': True, 'reason': 'User and/or item is unknown.'}),\n",
              " Prediction(uid='A38ONUWY6M0KZU', iid='B00004THCZ', r_ui=4.0, est=4.13277566818924, details={'was_impossible': True, 'reason': 'User and/or item is unknown.'}),\n",
              " Prediction(uid='A26CPEEWB2WKRE', iid='B00004W3ZQ', r_ui=5.0, est=4.13277566818924, details={'was_impossible': True, 'reason': 'User and/or item is unknown.'}),\n",
              " Prediction(uid='A3M5CEQWC2ENSS', iid='B00004ZCJE', r_ui=5.0, est=4.13277566818924, details={'was_impossible': True, 'reason': 'User and/or item is unknown.'}),\n",
              " Prediction(uid='A2DSNWWXBEWHMV', iid='B00005O0IU', r_ui=1.0, est=4.13277566818924, details={'was_impossible': True, 'reason': 'User and/or item is unknown.'}),\n",
              " Prediction(uid='A3GTTII3IQTANG', iid='B00005N6KG', r_ui=5.0, est=4.13277566818924, details={'was_impossible': True, 'reason': 'User and/or item is unknown.'}),\n",
              " Prediction(uid='A1UC44YH7BRJHP', iid='B00005BC0J', r_ui=5.0, est=4.13277566818924, details={'was_impossible': True, 'reason': 'User and/or item is unknown.'}),\n",
              " Prediction(uid='A1GNYV0RA0EQSS', iid='B00004YRVY', r_ui=4.0, est=4.155555555555556, details={'actual_k': 0, 'was_impossible': False}),\n",
              " Prediction(uid='A39GH93MR2JS43', iid='B00002ST80', r_ui=1.0, est=4.13277566818924, details={'was_impossible': True, 'reason': 'User and/or item is unknown.'}),\n",
              " Prediction(uid='A1A30U3FBBRFU3', iid='B00004ZCJE', r_ui=5.0, est=4.13277566818924, details={'was_impossible': True, 'reason': 'User and/or item is unknown.'}),\n",
              " Prediction(uid='A1QBD8ROX93T4H', iid='B00004SABB', r_ui=3.0, est=4.13277566818924, details={'was_impossible': True, 'reason': 'User and/or item is unknown.'}),\n",
              " Prediction(uid='A18YGKOYEWTL6E', iid='B00005BMSN', r_ui=5.0, est=4.13277566818924, details={'was_impossible': True, 'reason': 'User and/or item is unknown.'}),\n",
              " Prediction(uid='A2AWJVTRURCGX3', iid='B00004SABJ', r_ui=5.0, est=4.13277566818924, details={'was_impossible': True, 'reason': 'User and/or item is unknown.'}),\n",
              " Prediction(uid='A3BDSLSBWQFUVQ', iid='B00005NVPW', r_ui=5.0, est=4.13277566818924, details={'was_impossible': True, 'reason': 'User and/or item is unknown.'}),\n",
              " Prediction(uid='A3E9VBNS25Z9FI', iid='B00004Z5L8', r_ui=5.0, est=4.333333333333333, details={'actual_k': 0, 'was_impossible': False}),\n",
              " Prediction(uid='A1LXOMK4K8CPPU', iid='B00004T8R2', r_ui=4.0, est=4.290401875756354, details={'actual_k': 1, 'was_impossible': False}),\n",
              " Prediction(uid='A28PJWG7JM8G5L', iid='B00005K47X', r_ui=5.0, est=4.13277566818924, details={'was_impossible': True, 'reason': 'User and/or item is unknown.'}),\n",
              " Prediction(uid='AXESR33QGBXE3', iid='B00002SWHH', r_ui=1.0, est=4.13277566818924, details={'was_impossible': True, 'reason': 'User and/or item is unknown.'}),\n",
              " Prediction(uid='A30DKE000A8MS2', iid='B00005K47X', r_ui=4.0, est=4.13277566818924, details={'was_impossible': True, 'reason': 'User and/or item is unknown.'}),\n",
              " Prediction(uid='A19QH17EGSOF1L', iid='B00000J061', r_ui=5.0, est=4.13277566818924, details={'was_impossible': True, 'reason': 'User and/or item is unknown.'}),\n",
              " Prediction(uid='AC00PPI7UFYG5', iid='B00005AB9R', r_ui=5.0, est=4.13277566818924, details={'was_impossible': True, 'reason': 'User and/or item is unknown.'}),\n",
              " Prediction(uid='A2S6T0AUW40S28', iid='B00004ZCJE', r_ui=5.0, est=4.517984829818817, details={'actual_k': 1, 'was_impossible': False}),\n",
              " Prediction(uid='A2K5HIO4KPD3Z8', iid='B00005114Z', r_ui=3.0, est=4.13277566818924, details={'was_impossible': True, 'reason': 'User and/or item is unknown.'}),\n",
              " Prediction(uid='A2W05NQWE884PL', iid='B00004WCID', r_ui=5.0, est=4.13277566818924, details={'was_impossible': True, 'reason': 'User and/or item is unknown.'}),\n",
              " Prediction(uid='A36GFY2IAE96N2', iid='B00004VUGJ', r_ui=5.0, est=4.13277566818924, details={'was_impossible': True, 'reason': 'User and/or item is unknown.'}),\n",
              " Prediction(uid='A21R77R5NK6KV8', iid='B00005LLY4', r_ui=1.0, est=4.13277566818924, details={'was_impossible': True, 'reason': 'User and/or item is unknown.'}),\n",
              " Prediction(uid='A1YCHQKVX2NNT7', iid='B00005K47X', r_ui=5.0, est=4.13277566818924, details={'was_impossible': True, 'reason': 'User and/or item is unknown.'}),\n",
              " Prediction(uid='AXYO1FXMI0ZGU', iid='B000058BCQ', r_ui=2.0, est=4.13277566818924, details={'was_impossible': True, 'reason': 'User and/or item is unknown.'}),\n",
              " Prediction(uid='A2X25PURG3UG0P', iid='B00001X5AL', r_ui=5.0, est=4.13277566818924, details={'was_impossible': True, 'reason': 'User and/or item is unknown.'}),\n",
              " Prediction(uid='AKAM7V6ZM3VH1', iid='B00000J1EQ', r_ui=4.0, est=4.13277566818924, details={'was_impossible': True, 'reason': 'User and/or item is unknown.'}),\n",
              " Prediction(uid='A3TKXNPC2WG3VZ', iid='B00004SABB', r_ui=4.0, est=4.13277566818924, details={'was_impossible': True, 'reason': 'User and/or item is unknown.'}),\n",
              " Prediction(uid='A1CTJQWS0ZDFUZ', iid='B00004SABB', r_ui=4.0, est=4.13277566818924, details={'was_impossible': True, 'reason': 'User and/or item is unknown.'}),\n",
              " Prediction(uid='A1MPWNHKORF65X', iid='B00004ZC8Y', r_ui=4.0, est=4.13277566818924, details={'was_impossible': True, 'reason': 'User and/or item is unknown.'}),\n",
              " Prediction(uid='A1R8QVG6F2DQWK', iid='B00000JCT8', r_ui=1.0, est=3.5306122448979593, details={'actual_k': 0, 'was_impossible': False}),\n",
              " Prediction(uid='A3BLUVWAPD0NI9', iid='B00004TX71', r_ui=5.0, est=4.13277566818924, details={'was_impossible': True, 'reason': 'User and/or item is unknown.'}),\n",
              " Prediction(uid='A35G7XIKSKDDQI', iid='B00005U21H', r_ui=1.0, est=4.13277566818924, details={'was_impossible': True, 'reason': 'User and/or item is unknown.'}),\n",
              " Prediction(uid='A1XJ4CEI6BDDK5', iid='B00005NBR6', r_ui=5.0, est=4.13277566818924, details={'was_impossible': True, 'reason': 'User and/or item is unknown.'}),\n",
              " Prediction(uid='A1USLMR4BJ1RH0', iid='B00004ZCJE', r_ui=5.0, est=4.13277566818924, details={'was_impossible': True, 'reason': 'User and/or item is unknown.'}),\n",
              " Prediction(uid='A2PSVAS79MUM8O', iid='B00005T3G0', r_ui=5.0, est=4.13277566818924, details={'was_impossible': True, 'reason': 'User and/or item is unknown.'}),\n",
              " Prediction(uid='AF106W8A5MK7D', iid='B00005OTG6', r_ui=1.0, est=4.13277566818924, details={'was_impossible': True, 'reason': 'User and/or item is unknown.'}),\n",
              " Prediction(uid='AUUI1FXOJNFVB', iid='B00001P4ZH', r_ui=5.0, est=5, details={'actual_k': 1, 'was_impossible': False}),\n",
              " Prediction(uid='A3LLSWJMK2INHL', iid='B00005V8R8', r_ui=5.0, est=4.13277566818924, details={'was_impossible': True, 'reason': 'User and/or item is unknown.'}),\n",
              " Prediction(uid='A28GKH4VU6RWDS', iid='B00005QXWI', r_ui=5.0, est=4.13277566818924, details={'was_impossible': True, 'reason': 'User and/or item is unknown.'}),\n",
              " Prediction(uid='A2OK0BLSSE5Z7W', iid='B00001WRSJ', r_ui=4.0, est=4.13277566818924, details={'was_impossible': True, 'reason': 'User and/or item is unknown.'}),\n",
              " Prediction(uid='A3IFDR4FUX5AIB', iid='B00005B4BW', r_ui=5.0, est=4.13277566818924, details={'was_impossible': True, 'reason': 'User and/or item is unknown.'}),\n",
              " Prediction(uid='A1QHBPGJJB3X4F', iid='1400532655', r_ui=2.0, est=4.13277566818924, details={'was_impossible': True, 'reason': 'User and/or item is unknown.'}),\n",
              " Prediction(uid='A3QG3Q55EFWPX', iid='B00000JDF5', r_ui=5.0, est=4.13277566818924, details={'was_impossible': True, 'reason': 'User and/or item is unknown.'}),\n",
              " Prediction(uid='ARMYCTNFKFGX8', iid='1400501520', r_ui=5.0, est=4.13277566818924, details={'was_impossible': True, 'reason': 'User and/or item is unknown.'}),\n",
              " Prediction(uid='A2NFD9HP2K6VRW', iid='B00004SABJ', r_ui=1.0, est=4.13277566818924, details={'was_impossible': True, 'reason': 'User and/or item is unknown.'}),\n",
              " Prediction(uid='A1BTRK7JLJTAOR', iid='B00004TL5Q', r_ui=5.0, est=4.13277566818924, details={'was_impossible': True, 'reason': 'User and/or item is unknown.'}),\n",
              " Prediction(uid='AUJUKK16BBYNK', iid='B00001P4ZH', r_ui=5.0, est=4.13277566818924, details={'was_impossible': True, 'reason': 'User and/or item is unknown.'}),\n",
              " Prediction(uid='A2F5RR0ONOH48E', iid='B00005N6KG', r_ui=5.0, est=4.13277566818924, details={'was_impossible': True, 'reason': 'User and/or item is unknown.'}),\n",
              " Prediction(uid='ABXXRDVWAKO1Z', iid='B00005NIMR', r_ui=5.0, est=4.13277566818924, details={'was_impossible': True, 'reason': 'User and/or item is unknown.'}),\n",
              " Prediction(uid='A3V5UEC1CO5W1M', iid='B00003006E', r_ui=5.0, est=4.13277566818924, details={'was_impossible': True, 'reason': 'User and/or item is unknown.'}),\n",
              " Prediction(uid='A2D2PI0CUJXVGJ', iid='B00005T39Y', r_ui=2.0, est=4.13277566818924, details={'was_impossible': True, 'reason': 'User and/or item is unknown.'}),\n",
              " Prediction(uid='AS6LLWLYEBAUA', iid='B00005S8KM', r_ui=5.0, est=4.13277566818924, details={'was_impossible': True, 'reason': 'User and/or item is unknown.'}),\n",
              " Prediction(uid='A365GTMI0RAAIP', iid='B00004XOYF', r_ui=1.0, est=4.13277566818924, details={'was_impossible': True, 'reason': 'User and/or item is unknown.'}),\n",
              " Prediction(uid='A1MSK0PZIA0Q7R', iid='B00004THCZ', r_ui=5.0, est=4.13277566818924, details={'was_impossible': True, 'reason': 'User and/or item is unknown.'}),\n",
              " Prediction(uid='A18FZEKQF6XZO5', iid='B00001P4ZH', r_ui=4.0, est=4.13277566818924, details={'was_impossible': True, 'reason': 'User and/or item is unknown.'}),\n",
              " Prediction(uid='A1YGX7IGS5AKPH', iid='B00005LE75', r_ui=5.0, est=4.45, details={'actual_k': 0, 'was_impossible': False}),\n",
              " Prediction(uid='A1ZF4G0228NHD0', iid='B00005T39Y', r_ui=5.0, est=4.13277566818924, details={'was_impossible': True, 'reason': 'User and/or item is unknown.'}),\n",
              " Prediction(uid='A31OIXDTDVNVS8', iid='B00005ARK3', r_ui=5.0, est=4.13277566818924, details={'was_impossible': True, 'reason': 'User and/or item is unknown.'}),\n",
              " Prediction(uid='A2JVYVZJBVVRBH', iid='B00001P4ZH', r_ui=3.0, est=4.13277566818924, details={'was_impossible': True, 'reason': 'User and/or item is unknown.'}),\n",
              " Prediction(uid='A1X4LVXV2ZEFU1', iid='B00004SB99', r_ui=4.0, est=4.13277566818924, details={'was_impossible': True, 'reason': 'User and/or item is unknown.'}),\n",
              " Prediction(uid='A2TM8TW6F916H3', iid='B00004TWM6', r_ui=1.0, est=4.13277566818924, details={'was_impossible': True, 'reason': 'User and/or item is unknown.'}),\n",
              " Prediction(uid='ADHRR4OR2V36Y', iid='B00004ZCJE', r_ui=5.0, est=4.872457541713405, details={'actual_k': 1, 'was_impossible': False}),\n",
              " Prediction(uid='A32ZNPZDXOK609', iid='B00004SD88', r_ui=5.0, est=4.13277566818924, details={'was_impossible': True, 'reason': 'User and/or item is unknown.'}),\n",
              " Prediction(uid='A1YUOO2MJCCDKD', iid='B00005ML7Q', r_ui=5.0, est=4.13277566818924, details={'was_impossible': True, 'reason': 'User and/or item is unknown.'}),\n",
              " Prediction(uid='AAQGN2IJSKPZI', iid='B00005ARK4', r_ui=2.0, est=4.13277566818924, details={'was_impossible': True, 'reason': 'User and/or item is unknown.'}),\n",
              " Prediction(uid='A36QK5OUM19EUC', iid='B00005BMSN', r_ui=5.0, est=4.13277566818924, details={'was_impossible': True, 'reason': 'User and/or item is unknown.'}),\n",
              " Prediction(uid='ADDWJHF7YQYPN', iid='1400532655', r_ui=5.0, est=4.13277566818924, details={'was_impossible': True, 'reason': 'User and/or item is unknown.'}),\n",
              " Prediction(uid='AYEEGOT7RUDQV', iid='B00005N6KG', r_ui=3.0, est=4.13277566818924, details={'was_impossible': True, 'reason': 'User and/or item is unknown.'}),\n",
              " Prediction(uid='A3KIYBNV70YST2', iid='B00004WCGC', r_ui=5.0, est=4.13277566818924, details={'was_impossible': True, 'reason': 'User and/or item is unknown.'}),\n",
              " Prediction(uid='A3TRQW8SQ5D0KG', iid='B00005854B', r_ui=2.0, est=4.13277566818924, details={'was_impossible': True, 'reason': 'User and/or item is unknown.'}),\n",
              " Prediction(uid='A2VWJR6CI5XS40', iid='B00003G1RG', r_ui=5.0, est=4.13277566818924, details={'was_impossible': True, 'reason': 'User and/or item is unknown.'}),\n",
              " Prediction(uid='A2NMX4AHLCFGO1', iid='B00001P4XA', r_ui=5.0, est=4.13277566818924, details={'was_impossible': True, 'reason': 'User and/or item is unknown.'}),\n",
              " Prediction(uid='A95K7QZ4W0O9D', iid='B00001WRSJ', r_ui=5.0, est=4.13277566818924, details={'was_impossible': True, 'reason': 'User and/or item is unknown.'}),\n",
              " Prediction(uid='A325JIG9ZTMJ5Y', iid='B000058EGT', r_ui=5.0, est=4.13277566818924, details={'was_impossible': True, 'reason': 'User and/or item is unknown.'}),\n",
              " Prediction(uid='A25WIPV00S3YAG', iid='B000058BCR', r_ui=5.0, est=4.13277566818924, details={'was_impossible': True, 'reason': 'User and/or item is unknown.'}),\n",
              " Prediction(uid='A1AXI567SXHZ5A', iid='B00003CWDH', r_ui=5.0, est=4.13277566818924, details={'was_impossible': True, 'reason': 'User and/or item is unknown.'}),\n",
              " Prediction(uid='A2MCWDGOYWUACG', iid='B00005T3G0', r_ui=5.0, est=4.635960044395117, details={'actual_k': 0, 'was_impossible': False}),\n",
              " Prediction(uid='A20U1DZ2UCWUX4', iid='B00005NGQF', r_ui=5.0, est=4.13277566818924, details={'was_impossible': True, 'reason': 'User and/or item is unknown.'}),\n",
              " Prediction(uid='A2XZNX41OXL6DX', iid='B00003CWDH', r_ui=5.0, est=4.13277566818924, details={'was_impossible': True, 'reason': 'User and/or item is unknown.'}),\n",
              " Prediction(uid='A2AXQJDHWSJKCD', iid='B000058BCQ', r_ui=5.0, est=4.13277566818924, details={'was_impossible': True, 'reason': 'User and/or item is unknown.'}),\n",
              " Prediction(uid='A1HUCLM95N69X5', iid='B00001W0DH', r_ui=1.0, est=4.13277566818924, details={'was_impossible': True, 'reason': 'User and/or item is unknown.'}),\n",
              " Prediction(uid='A2E36XULD26LOK', iid='1400501466', r_ui=1.0, est=4.13277566818924, details={'was_impossible': True, 'reason': 'User and/or item is unknown.'}),\n",
              " Prediction(uid='A3B4SQ9T2YBNFI', iid='B00004SABB', r_ui=5.0, est=4.13277566818924, details={'was_impossible': True, 'reason': 'User and/or item is unknown.'}),\n",
              " Prediction(uid='A2MAX33E3EO9WS', iid='B00005AWCL', r_ui=1.0, est=4.13277566818924, details={'was_impossible': True, 'reason': 'User and/or item is unknown.'}),\n",
              " Prediction(uid='A37NTVW2P6676Y', iid='B00005T3EV', r_ui=4.0, est=4.13277566818924, details={'was_impossible': True, 'reason': 'User and/or item is unknown.'}),\n",
              " Prediction(uid='A2KHUQBX39VZC3', iid='B00003WGP5', r_ui=1.0, est=4.13277566818924, details={'was_impossible': True, 'reason': 'User and/or item is unknown.'}),\n",
              " Prediction(uid='A2UAS6OGCR8IUG', iid='0972683275', r_ui=5.0, est=4.13277566818924, details={'was_impossible': True, 'reason': 'User and/or item is unknown.'}),\n",
              " Prediction(uid='A38SHOPZADNOLN', iid='B00005LB8P', r_ui=5.0, est=4.686746987951807, details={'actual_k': 0, 'was_impossible': False}),\n",
              " Prediction(uid='AODKS0TPQ6TBW', iid='B00005BMSN', r_ui=5.0, est=4.13277566818924, details={'was_impossible': True, 'reason': 'User and/or item is unknown.'}),\n",
              " Prediction(uid='A1SE742CIFPFCM', iid='B00004VUGJ', r_ui=1.0, est=4.13277566818924, details={'was_impossible': True, 'reason': 'User and/or item is unknown.'}),\n",
              " Prediction(uid='A3F3VH3NTD3H2Y', iid='1400532620', r_ui=1.0, est=4.13277566818924, details={'was_impossible': True, 'reason': 'User and/or item is unknown.'}),\n",
              " Prediction(uid='A1U6QHZOAJOF8M', iid='B00005T3N3', r_ui=5.0, est=4.13277566818924, details={'was_impossible': True, 'reason': 'User and/or item is unknown.'}),\n",
              " Prediction(uid='A1C9QHL63NSRP1', iid='B00005ML7Q', r_ui=3.0, est=4.13277566818924, details={'was_impossible': True, 'reason': 'User and/or item is unknown.'}),\n",
              " Prediction(uid='A3H2Y7A8FPNDBM', iid='1400532620', r_ui=1.0, est=4.13277566818924, details={'was_impossible': True, 'reason': 'User and/or item is unknown.'}),\n",
              " Prediction(uid='A35JXACMOS90NT', iid='B00005AW1H', r_ui=5.0, est=4.13277566818924, details={'was_impossible': True, 'reason': 'User and/or item is unknown.'}),\n",
              " Prediction(uid='A2KPJD66E3WBG8', iid='B00001P4ZH', r_ui=5.0, est=4.13277566818924, details={'was_impossible': True, 'reason': 'User and/or item is unknown.'}),\n",
              " Prediction(uid='A25SJLO22V5GXO', iid='B00004T8R2', r_ui=5.0, est=4.13277566818924, details={'was_impossible': True, 'reason': 'User and/or item is unknown.'}),\n",
              " Prediction(uid='A35T4169F13XCU', iid='B00004Y3UY', r_ui=5.0, est=4.13277566818924, details={'was_impossible': True, 'reason': 'User and/or item is unknown.'}),\n",
              " Prediction(uid='A377F0BSA85FRF', iid='B00005NIMJ', r_ui=4.0, est=4.13277566818924, details={'was_impossible': True, 'reason': 'User and/or item is unknown.'}),\n",
              " Prediction(uid='A1EBURY2R53NYK', iid='B00004W3YX', r_ui=5.0, est=4.13277566818924, details={'was_impossible': True, 'reason': 'User and/or item is unknown.'}),\n",
              " Prediction(uid='A3RV97GL27YDND', iid='1400599997', r_ui=4.0, est=4.13277566818924, details={'was_impossible': True, 'reason': 'User and/or item is unknown.'}),\n",
              " Prediction(uid='A2GIS1BQMZRQ4Q', iid='1400599997', r_ui=5.0, est=4.13277566818924, details={'was_impossible': True, 'reason': 'User and/or item is unknown.'}),\n",
              " Prediction(uid='A3MP13NK6EDR0I', iid='B00004SPUN', r_ui=2.0, est=4.13277566818924, details={'was_impossible': True, 'reason': 'User and/or item is unknown.'}),\n",
              " Prediction(uid='AWXGMG05XQR7A', iid='B00005NVBF', r_ui=1.0, est=4.13277566818924, details={'was_impossible': True, 'reason': 'User and/or item is unknown.'}),\n",
              " Prediction(uid='A302E0JR7PW2AS', iid='B00005A1KZ', r_ui=2.0, est=4.13277566818924, details={'was_impossible': True, 'reason': 'User and/or item is unknown.'}),\n",
              " Prediction(uid='A1QFD394I355DA', iid='B00005T3NH', r_ui=4.0, est=4.13277566818924, details={'was_impossible': True, 'reason': 'User and/or item is unknown.'}),\n",
              " Prediction(uid='A3BDHHIUI08PXH', iid='1400698987', r_ui=1.0, est=4.13277566818924, details={'was_impossible': True, 'reason': 'User and/or item is unknown.'}),\n",
              " Prediction(uid='A37PT6K7X21FQW', iid='B00005T3ND', r_ui=4.0, est=4.13277566818924, details={'was_impossible': True, 'reason': 'User and/or item is unknown.'}),\n",
              " Prediction(uid='A22WN65LJZHBD2', iid='B00005KK2Q', r_ui=1.0, est=4.13277566818924, details={'was_impossible': True, 'reason': 'User and/or item is unknown.'}),\n",
              " Prediction(uid='AEU1GIVIENYK6', iid='B00001P4ZH', r_ui=5.0, est=4.13277566818924, details={'was_impossible': True, 'reason': 'User and/or item is unknown.'}),\n",
              " Prediction(uid='A1G5FHPI3IBMOU', iid='B00005LEN4', r_ui=5.0, est=4.13277566818924, details={'was_impossible': True, 'reason': 'User and/or item is unknown.'}),\n",
              " Prediction(uid='A2JBP607CN5TA3', iid='B00005137P', r_ui=4.0, est=4.13277566818924, details={'was_impossible': True, 'reason': 'User and/or item is unknown.'}),\n",
              " Prediction(uid='A2NRMXYMP9FPKK', iid='B00003CWDH', r_ui=1.0, est=4.13277566818924, details={'was_impossible': True, 'reason': 'User and/or item is unknown.'}),\n",
              " Prediction(uid='A1KJIGNCVLKF8F', iid='B00003CWDG', r_ui=1.0, est=4.13277566818924, details={'was_impossible': True, 'reason': 'User and/or item is unknown.'}),\n",
              " Prediction(uid='A2MH5E9EYQMGBZ', iid='B00004THCZ', r_ui=4.0, est=4.13277566818924, details={'was_impossible': True, 'reason': 'User and/or item is unknown.'}),\n",
              " Prediction(uid='AOXM84LEEK1DY', iid='B00003WGP5', r_ui=5.0, est=5, details={'actual_k': 1, 'was_impossible': False}),\n",
              " Prediction(uid='A2YO550KO51Q82', iid='B00004SABB', r_ui=3.0, est=4.13277566818924, details={'was_impossible': True, 'reason': 'User and/or item is unknown.'}),\n",
              " Prediction(uid='A2NAD5DJUIU877', iid='B00003G1RG', r_ui=5.0, est=4.6568627450980395, details={'actual_k': 0, 'was_impossible': False}),\n",
              " Prediction(uid='A21A6YRR0H04A4', iid='B00004W3ZQ', r_ui=5.0, est=4.13277566818924, details={'was_impossible': True, 'reason': 'User and/or item is unknown.'}),\n",
              " Prediction(uid='AUO1EH2YS0BNH', iid='B00003CWDG', r_ui=5.0, est=4.13277566818924, details={'was_impossible': True, 'reason': 'User and/or item is unknown.'}),\n",
              " Prediction(uid='A3V68ZMKUBKJGN', iid='1400532655', r_ui=5.0, est=4.13277566818924, details={'was_impossible': True, 'reason': 'User and/or item is unknown.'}),\n",
              " Prediction(uid='A11YUCEJ399PHL', iid='B00005ATMI', r_ui=5.0, est=4.296202531645569, details={'actual_k': 0, 'was_impossible': False}),\n",
              " Prediction(uid='A1644SQ9ZZX25B', iid='B00001W0DI', r_ui=4.0, est=4.13277566818924, details={'was_impossible': True, 'reason': 'User and/or item is unknown.'}),\n",
              " Prediction(uid='A3S22Z70FTRIXH', iid='B00000JSGF', r_ui=5.0, est=4.13277566818924, details={'was_impossible': True, 'reason': 'User and/or item is unknown.'}),\n",
              " Prediction(uid='A3VVCHJQG9MGWQ', iid='B00004Z5PY', r_ui=1.0, est=4.13277566818924, details={'was_impossible': True, 'reason': 'User and/or item is unknown.'}),\n",
              " Prediction(uid='A2D79RGSHR7DVY', iid='B00000JFIF', r_ui=1.0, est=4.13277566818924, details={'was_impossible': True, 'reason': 'User and/or item is unknown.'}),\n",
              " Prediction(uid='A31NRU1JJPR4UP', iid='B00005T39Y', r_ui=3.0, est=4.13277566818924, details={'was_impossible': True, 'reason': 'User and/or item is unknown.'}),\n",
              " Prediction(uid='A1D3X5TOQV6FQ7', iid='1400532655', r_ui=4.0, est=4.13277566818924, details={'was_impossible': True, 'reason': 'User and/or item is unknown.'}),\n",
              " Prediction(uid='A2TWRLPWAM0XQR', iid='B00000DM9W', r_ui=5.0, est=4.13277566818924, details={'was_impossible': True, 'reason': 'User and/or item is unknown.'}),\n",
              " Prediction(uid='A2KUN01WGV8RKD', iid='B000059MSI', r_ui=4.0, est=4.13277566818924, details={'was_impossible': True, 'reason': 'User and/or item is unknown.'}),\n",
              " Prediction(uid='A106YUCY4SVX1D', iid='0972683275', r_ui=5.0, est=4.13277566818924, details={'was_impossible': True, 'reason': 'User and/or item is unknown.'}),\n",
              " Prediction(uid='AM26RFIA7EC09', iid='B00005NVBT', r_ui=5.0, est=4.13277566818924, details={'was_impossible': True, 'reason': 'User and/or item is unknown.'}),\n",
              " Prediction(uid='A1J2ODREE6T9QS', iid='1400532620', r_ui=1.0, est=4.13277566818924, details={'was_impossible': True, 'reason': 'User and/or item is unknown.'}),\n",
              " Prediction(uid='A2O1KM5AKK9L3K', iid='B00000J1TX', r_ui=5.0, est=4.13277566818924, details={'was_impossible': True, 'reason': 'User and/or item is unknown.'}),\n",
              " Prediction(uid='A2O5TLE802NTA8', iid='B00005NGQF', r_ui=5.0, est=4.233333333333333, details={'actual_k': 0, 'was_impossible': False}),\n",
              " Prediction(uid='A1E65VGBNFP0TE', iid='B00005QFYE', r_ui=1.0, est=4.13277566818924, details={'was_impossible': True, 'reason': 'User and/or item is unknown.'}),\n",
              " Prediction(uid='A16HBRW4JMHJMX', iid='B00005LEOO', r_ui=5.0, est=4.13277566818924, details={'was_impossible': True, 'reason': 'User and/or item is unknown.'}),\n",
              " Prediction(uid='A2DGIN4LW9EZX', iid='B00005T406', r_ui=2.0, est=4.13277566818924, details={'was_impossible': True, 'reason': 'User and/or item is unknown.'}),\n",
              " Prediction(uid='AIT1VEKH625F5', iid='B00004ZCJE', r_ui=5.0, est=4.13277566818924, details={'was_impossible': True, 'reason': 'User and/or item is unknown.'}),\n",
              " Prediction(uid='A3BJHQSDEPOPTJ', iid='B00004YMBK', r_ui=4.0, est=4.13277566818924, details={'was_impossible': True, 'reason': 'User and/or item is unknown.'}),\n",
              " Prediction(uid='A12FT1EFE4P9AY', iid='B00004XOM3', r_ui=5.0, est=4.13277566818924, details={'was_impossible': True, 'reason': 'User and/or item is unknown.'}),\n",
              " Prediction(uid='A1SI1H9QGPMQV7', iid='B0000510ZO', r_ui=5.0, est=4.13277566818924, details={'was_impossible': True, 'reason': 'User and/or item is unknown.'}),\n",
              " Prediction(uid='A31U44PHHNR8Z3', iid='B00005T39Y', r_ui=5.0, est=4.13277566818924, details={'was_impossible': True, 'reason': 'User and/or item is unknown.'}),\n",
              " Prediction(uid='A261R7G743C0S1', iid='B00005Y1Z7', r_ui=1.0, est=4.13277566818924, details={'was_impossible': True, 'reason': 'User and/or item is unknown.'}),\n",
              " Prediction(uid='AS8TVMOQA4MZ7', iid='B00005T3RC', r_ui=5.0, est=4.13277566818924, details={'was_impossible': True, 'reason': 'User and/or item is unknown.'}),\n",
              " Prediction(uid='A2OMO3NYWQQKS5', iid='B00001P4ZH', r_ui=1.0, est=4.13277566818924, details={'was_impossible': True, 'reason': 'User and/or item is unknown.'}),\n",
              " Prediction(uid='ATEXFRKS4Q6QQ', iid='B00004WCID', r_ui=5.0, est=4.13277566818924, details={'was_impossible': True, 'reason': 'User and/or item is unknown.'}),\n",
              " Prediction(uid='A28SWZVAJQF86W', iid='B00003WGP5', r_ui=1.0, est=4.13277566818924, details={'was_impossible': True, 'reason': 'User and/or item is unknown.'}),\n",
              " Prediction(uid='A16STSPYYW0YB7', iid='B00005N5X2', r_ui=4.0, est=4.13277566818924, details={'was_impossible': True, 'reason': 'User and/or item is unknown.'}),\n",
              " Prediction(uid='A31WHAVWPFPH0P', iid='B00004THCZ', r_ui=5.0, est=4.13277566818924, details={'was_impossible': True, 'reason': 'User and/or item is unknown.'}),\n",
              " Prediction(uid='A197LUWLS0MF91', iid='B00005T406', r_ui=1.0, est=4.13277566818924, details={'was_impossible': True, 'reason': 'User and/or item is unknown.'}),\n",
              " Prediction(uid='A3BB6OYSK075O2', iid='B00005NIMR', r_ui=5.0, est=4.13277566818924, details={'was_impossible': True, 'reason': 'User and/or item is unknown.'}),\n",
              " Prediction(uid='ALQ6ER2K8NGNU', iid='B000001ON6', r_ui=4.0, est=4.13277566818924, details={'was_impossible': True, 'reason': 'User and/or item is unknown.'}),\n",
              " Prediction(uid='A2IZ2958GZ16EU', iid='9575871979', r_ui=5.0, est=4.13277566818924, details={'was_impossible': True, 'reason': 'User and/or item is unknown.'}),\n",
              " Prediction(uid='A1JV2N8KF26I2K', iid='B00005LEN4', r_ui=5.0, est=4.13277566818924, details={'was_impossible': True, 'reason': 'User and/or item is unknown.'}),\n",
              " Prediction(uid='A31R95S733H7PG', iid='B00005BC0K', r_ui=5.0, est=4.13277566818924, details={'was_impossible': True, 'reason': 'User and/or item is unknown.'}),\n",
              " Prediction(uid='A1TSBAASUO1E5B', iid='B00005NIMJ', r_ui=5.0, est=4.13277566818924, details={'was_impossible': True, 'reason': 'User and/or item is unknown.'}),\n",
              " Prediction(uid='A3BYOGUXJ2RRUT', iid='B00004SGD3', r_ui=4.0, est=4.13277566818924, details={'was_impossible': True, 'reason': 'User and/or item is unknown.'}),\n",
              " Prediction(uid='A1PDOO3ARJ00QX', iid='B00004XRED', r_ui=5.0, est=4.13277566818924, details={'was_impossible': True, 'reason': 'User and/or item is unknown.'}),\n",
              " Prediction(uid='A2GZ7NJBF5HSDE', iid='B000021YUO', r_ui=5.0, est=4.13277566818924, details={'was_impossible': True, 'reason': 'User and/or item is unknown.'}),\n",
              " Prediction(uid='A1W2XC02X74KY2', iid='B00005KK2Q', r_ui=4.0, est=4.13277566818924, details={'was_impossible': True, 'reason': 'User and/or item is unknown.'}),\n",
              " Prediction(uid='A3RBCYAFAX5O6C', iid='B00001W0DH', r_ui=5.0, est=4.13277566818924, details={'was_impossible': True, 'reason': 'User and/or item is unknown.'}),\n",
              " Prediction(uid='AW6CZ60A1PFDN', iid='B00004VUGJ', r_ui=5.0, est=4.13277566818924, details={'was_impossible': True, 'reason': 'User and/or item is unknown.'}),\n",
              " Prediction(uid='ASJT08B3X5FIK', iid='B00004VXNI', r_ui=5.0, est=4.13277566818924, details={'was_impossible': True, 'reason': 'User and/or item is unknown.'}),\n",
              " Prediction(uid='A2BK7LBCEWRREY', iid='B00001WRSJ', r_ui=5.0, est=4.625912408759124, details={'actual_k': 0, 'was_impossible': False}),\n",
              " Prediction(uid='A9E3O61P3VSM2', iid='B00004RC2D', r_ui=5.0, est=4.13277566818924, details={'was_impossible': True, 'reason': 'User and/or item is unknown.'}),\n",
              " Prediction(uid='A1LZMJE6J9R8OM', iid='B00004WCGF', r_ui=5.0, est=4.13277566818924, details={'was_impossible': True, 'reason': 'User and/or item is unknown.'}),\n",
              " Prediction(uid='A2EUEF7WXLU171', iid='B00005A1K1', r_ui=5.0, est=4.13277566818924, details={'was_impossible': True, 'reason': 'User and/or item is unknown.'}),\n",
              " Prediction(uid='AJ0PG46QD33RD', iid='B00004SB92', r_ui=5.0, est=3.8714090287277703, details={'actual_k': 0, 'was_impossible': False}),\n",
              " Prediction(uid='AOJBKPV6ELTE9', iid='B00005T3G0', r_ui=5.0, est=4.635960044395117, details={'actual_k': 0, 'was_impossible': False}),\n",
              " Prediction(uid='A19A6A3Q1K59OV', iid='B00000J0D8', r_ui=3.0, est=4.13277566818924, details={'was_impossible': True, 'reason': 'User and/or item is unknown.'}),\n",
              " Prediction(uid='A19QBHYY7RB7ZY', iid='B00005T3N3', r_ui=4.0, est=4.13277566818924, details={'was_impossible': True, 'reason': 'User and/or item is unknown.'}),\n",
              " Prediction(uid='A2A1YDOQFAW0YT', iid='B000053HH5', r_ui=5.0, est=4.13277566818924, details={'was_impossible': True, 'reason': 'User and/or item is unknown.'}),\n",
              " Prediction(uid='A2F6PV2XAQ8TIO', iid='B00004X0ZO', r_ui=3.0, est=4.13277566818924, details={'was_impossible': True, 'reason': 'User and/or item is unknown.'}),\n",
              " Prediction(uid='A2YMIFT8QYJJXS', iid='B00005ARK4', r_ui=4.0, est=4.13277566818924, details={'was_impossible': True, 'reason': 'User and/or item is unknown.'}),\n",
              " Prediction(uid='AD3PVF4GNKD4I', iid='B00004TS16', r_ui=5.0, est=4.13277566818924, details={'was_impossible': True, 'reason': 'User and/or item is unknown.'}),\n",
              " Prediction(uid='A29CQN52W61VJ6', iid='B000051ZOA', r_ui=3.0, est=4.13277566818924, details={'was_impossible': True, 'reason': 'User and/or item is unknown.'}),\n",
              " Prediction(uid='A2PXGYCYRCD8UY', iid='B00005K47X', r_ui=5.0, est=4.13277566818924, details={'was_impossible': True, 'reason': 'User and/or item is unknown.'}),\n",
              " Prediction(uid='ASZN6KJHFY5PJ', iid='1400698987', r_ui=5.0, est=4.13277566818924, details={'was_impossible': True, 'reason': 'User and/or item is unknown.'}),\n",
              " Prediction(uid='A3BJLE99R4ZWVF', iid='B00005115S', r_ui=5.0, est=4.13277566818924, details={'was_impossible': True, 'reason': 'User and/or item is unknown.'}),\n",
              " Prediction(uid='A2CCHCGJY0IR9F', iid='B00001ZWXA', r_ui=5.0, est=4.282051282051282, details={'actual_k': 0, 'was_impossible': False}),\n",
              " Prediction(uid='ACCF2L8PSUT1H', iid='B00005NIMJ', r_ui=4.0, est=4.13277566818924, details={'was_impossible': True, 'reason': 'User and/or item is unknown.'}),\n",
              " Prediction(uid='A3G0JPW6C4ZQ2Q', iid='B00005LEOH', r_ui=5.0, est=4.13277566818924, details={'was_impossible': True, 'reason': 'User and/or item is unknown.'}),\n",
              " Prediction(uid='AX7UBFZZ40BLO', iid='B00004THDE', r_ui=1.0, est=4.13277566818924, details={'was_impossible': True, 'reason': 'User and/or item is unknown.'}),\n",
              " Prediction(uid='A13U70AKRR43RF', iid='B00004T8R2', r_ui=1.0, est=4.13277566818924, details={'was_impossible': True, 'reason': 'User and/or item is unknown.'}),\n",
              " Prediction(uid='A1ZTSV4IDULSP0', iid='B00001P4ZR', r_ui=5.0, est=4.13277566818924, details={'was_impossible': True, 'reason': 'User and/or item is unknown.'}),\n",
              " Prediction(uid='A28X2M0RLSHDW4', iid='B00005ATMB', r_ui=5.0, est=4.13277566818924, details={'was_impossible': True, 'reason': 'User and/or item is unknown.'}),\n",
              " Prediction(uid='A3MPYVHI94SRMD', iid='B00005N6KG', r_ui=5.0, est=4.13277566818924, details={'was_impossible': True, 'reason': 'User and/or item is unknown.'}),\n",
              " Prediction(uid='AND3APGWT9E9I', iid='B00000J1V5', r_ui=5.0, est=4.13277566818924, details={'was_impossible': True, 'reason': 'User and/or item is unknown.'}),\n",
              " Prediction(uid='AEHM0PXWWZQM6', iid='B00000K13A', r_ui=4.0, est=4.13277566818924, details={'was_impossible': True, 'reason': 'User and/or item is unknown.'}),\n",
              " Prediction(uid='AJQZGNF70AEQH', iid='B00004VXNI', r_ui=4.0, est=4.13277566818924, details={'was_impossible': True, 'reason': 'User and/or item is unknown.'}),\n",
              " Prediction(uid='A1Z54EM24Y40LL', iid='B00005TQ08', r_ui=4.0, est=4.13277566818924, details={'was_impossible': True, 'reason': 'User and/or item is unknown.'}),\n",
              " Prediction(uid='ATZWOZPFN2NFQ', iid='B00000K13A', r_ui=1.0, est=4.13277566818924, details={'was_impossible': True, 'reason': 'User and/or item is unknown.'}),\n",
              " Prediction(uid='AZDFTIJHEFO3B', iid='B00001W0DH', r_ui=5.0, est=4.13277566818924, details={'was_impossible': True, 'reason': 'User and/or item is unknown.'}),\n",
              " Prediction(uid='A1G2L3UDELCXP9', iid='B00001WRSJ', r_ui=5.0, est=4.13277566818924, details={'was_impossible': True, 'reason': 'User and/or item is unknown.'}),\n",
              " Prediction(uid='A300U6ZODOE604', iid='B00004T1XK', r_ui=4.0, est=4.13277566818924, details={'was_impossible': True, 'reason': 'User and/or item is unknown.'}),\n",
              " Prediction(uid='A3K1ZO80FIISW6', iid='B00001WRSJ', r_ui=5.0, est=4.13277566818924, details={'was_impossible': True, 'reason': 'User and/or item is unknown.'}),\n",
              " Prediction(uid='A11D1KHM7DVOQK', iid='B00004T8R2', r_ui=2.0, est=4.2829391891891895, details={'actual_k': 0, 'was_impossible': False}),\n",
              " Prediction(uid='A2BF426U2WWHM1', iid='B00005QFZG', r_ui=5.0, est=4.13277566818924, details={'was_impossible': True, 'reason': 'User and/or item is unknown.'}),\n",
              " Prediction(uid='A2K4IDHREI1GLM', iid='1400501466', r_ui=5.0, est=4.13277566818924, details={'was_impossible': True, 'reason': 'User and/or item is unknown.'}),\n",
              " Prediction(uid='APD9LSLF6VIX8', iid='B00001W0EQ', r_ui=3.0, est=4.13277566818924, details={'was_impossible': True, 'reason': 'User and/or item is unknown.'}),\n",
              " Prediction(uid='A118UALMTDU86Y', iid='B000051SHL', r_ui=4.0, est=4.13277566818924, details={'was_impossible': True, 'reason': 'User and/or item is unknown.'}),\n",
              " Prediction(uid='A10MATUKLBJJKM', iid='B00005T380', r_ui=5.0, est=4.13277566818924, details={'was_impossible': True, 'reason': 'User and/or item is unknown.'}),\n",
              " Prediction(uid='A2WJ44HYL056PB', iid='B00004W3ZQ', r_ui=5.0, est=4.13277566818924, details={'was_impossible': True, 'reason': 'User and/or item is unknown.'}),\n",
              " Prediction(uid='A2JMN2JA9LSHVL', iid='0972683275', r_ui=1.0, est=4.13277566818924, details={'was_impossible': True, 'reason': 'User and/or item is unknown.'}),\n",
              " Prediction(uid='A24QPETCWJL6OQ', iid='B0000510ZO', r_ui=5.0, est=4.13277566818924, details={'was_impossible': True, 'reason': 'User and/or item is unknown.'}),\n",
              " Prediction(uid='ANZHPMJLXBU9T', iid='B00001WRSJ', r_ui=5.0, est=4.13277566818924, details={'was_impossible': True, 'reason': 'User and/or item is unknown.'}),\n",
              " Prediction(uid='A2N0ONLNI3FP3Q', iid='B00005NIMJ', r_ui=5.0, est=4.13277566818924, details={'was_impossible': True, 'reason': 'User and/or item is unknown.'}),\n",
              " Prediction(uid='A2MZL03J8NVY6U', iid='B00005T3G0', r_ui=4.0, est=4.13277566818924, details={'was_impossible': True, 'reason': 'User and/or item is unknown.'}),\n",
              " Prediction(uid='A12CNJOKLRHUWE', iid='B00005N6KG', r_ui=5.0, est=4.13277566818924, details={'was_impossible': True, 'reason': 'User and/or item is unknown.'}),\n",
              " Prediction(uid='A3SIWCE3PZVO91', iid='B00001W0DI', r_ui=5.0, est=4.13277566818924, details={'was_impossible': True, 'reason': 'User and/or item is unknown.'}),\n",
              " Prediction(uid='AOMNGGLSG8SN3', iid='B00005A3MB', r_ui=5.0, est=4.13277566818924, details={'was_impossible': True, 'reason': 'User and/or item is unknown.'}),\n",
              " Prediction(uid='A2LRKR3ODGV33F', iid='B00004Z61H', r_ui=1.0, est=4.13277566818924, details={'was_impossible': True, 'reason': 'User and/or item is unknown.'}),\n",
              " Prediction(uid='ATLQCM8SNNEV0', iid='B00005B70I', r_ui=3.0, est=4.13277566818924, details={'was_impossible': True, 'reason': 'User and/or item is unknown.'}),\n",
              " Prediction(uid='A1F0O78HKGBRKO', iid='B00001OWYM', r_ui=3.0, est=3.0714285714285716, details={'actual_k': 0, 'was_impossible': False}),\n",
              " Prediction(uid='AGC75EPFB7CYD', iid='B00001P4ZH', r_ui=4.0, est=4.13277566818924, details={'was_impossible': True, 'reason': 'User and/or item is unknown.'}),\n",
              " Prediction(uid='A11DWU58VVY9F3', iid='B00005T3VT', r_ui=4.0, est=4.13277566818924, details={'was_impossible': True, 'reason': 'User and/or item is unknown.'}),\n",
              " Prediction(uid='A17JB3A8H3S2K7', iid='B00005A9AU', r_ui=4.0, est=4.13277566818924, details={'was_impossible': True, 'reason': 'User and/or item is unknown.'}),\n",
              " Prediction(uid='A24Y48EFIGHY1N', iid='B00005LEN4', r_ui=5.0, est=4.13277566818924, details={'was_impossible': True, 'reason': 'User and/or item is unknown.'}),\n",
              " Prediction(uid='A3G4K71U7C4NLG', iid='B00004Z7G9', r_ui=4.0, est=4.13277566818924, details={'was_impossible': True, 'reason': 'User and/or item is unknown.'}),\n",
              " Prediction(uid='A38Y1A284GI1IK', iid='B00005AXHW', r_ui=3.0, est=4.13277566818924, details={'was_impossible': True, 'reason': 'User and/or item is unknown.'}),\n",
              " Prediction(uid='A3619GCYSCAR0S', iid='B000051ZOA', r_ui=4.0, est=4.13277566818924, details={'was_impossible': True, 'reason': 'User and/or item is unknown.'}),\n",
              " Prediction(uid='A2E8WCQBYEJO0F', iid='B00001W0DD', r_ui=5.0, est=4.13277566818924, details={'was_impossible': True, 'reason': 'User and/or item is unknown.'}),\n",
              " Prediction(uid='A218TLBQB3IYMD', iid='B00005ML7Q', r_ui=1.0, est=4.13277566818924, details={'was_impossible': True, 'reason': 'User and/or item is unknown.'}),\n",
              " Prediction(uid='A34RK0QCMINX97', iid='B00005T3XH', r_ui=5.0, est=4.13277566818924, details={'was_impossible': True, 'reason': 'User and/or item is unknown.'}),\n",
              " Prediction(uid='A1EZRW31XUX5UZ', iid='B00000JII6', r_ui=4.0, est=4.13277566818924, details={'was_impossible': True, 'reason': 'User and/or item is unknown.'}),\n",
              " Prediction(uid='A27QJSPXDC0982', iid='B00004THCZ', r_ui=4.0, est=4.13277566818924, details={'was_impossible': True, 'reason': 'User and/or item is unknown.'}),\n",
              " Prediction(uid='A321ZUV6QGU3GQ', iid='B00004TWM6', r_ui=4.0, est=4.13277566818924, details={'was_impossible': True, 'reason': 'User and/or item is unknown.'}),\n",
              " Prediction(uid='A3TR3KLL5PXSZ8', iid='B00004WCID', r_ui=5.0, est=4.13277566818924, details={'was_impossible': True, 'reason': 'User and/or item is unknown.'}),\n",
              " Prediction(uid='A1Q0DMMJQFCIKN', iid='B00004ZCJE', r_ui=1.0, est=4.13277566818924, details={'was_impossible': True, 'reason': 'User and/or item is unknown.'}),\n",
              " Prediction(uid='A5RM7VF99O19G', iid='B00004T8R2', r_ui=5.0, est=4.13277566818924, details={'was_impossible': True, 'reason': 'User and/or item is unknown.'}),\n",
              " Prediction(uid='A2XIH7KHC3OVVH', iid='B00004THCZ', r_ui=3.0, est=4.13277566818924, details={'was_impossible': True, 'reason': 'User and/or item is unknown.'}),\n",
              " Prediction(uid='A2WR9AADEXS60H', iid='B00005AWCL', r_ui=2.0, est=4.13277566818924, details={'was_impossible': True, 'reason': 'User and/or item is unknown.'}),\n",
              " Prediction(uid='A1V0E3ITYVCFPJ', iid='B000038ABH', r_ui=4.0, est=4.13277566818924, details={'was_impossible': True, 'reason': 'User and/or item is unknown.'}),\n",
              " Prediction(uid='A8E9TAPZ0ZH5U', iid='B00004YRVY', r_ui=5.0, est=4.13277566818924, details={'was_impossible': True, 'reason': 'User and/or item is unknown.'}),\n",
              " Prediction(uid='A114DXMPWSDFEE', iid='B00005K47X', r_ui=4.0, est=4.13277566818924, details={'was_impossible': True, 'reason': 'User and/or item is unknown.'}),\n",
              " Prediction(uid='A3AQKH7PWIH7AT', iid='B00004TWM6', r_ui=2.0, est=4.13277566818924, details={'was_impossible': True, 'reason': 'User and/or item is unknown.'}),\n",
              " Prediction(uid='AAP3HAYJWEII9', iid='B00004TDLD', r_ui=4.0, est=4.13277566818924, details={'was_impossible': True, 'reason': 'User and/or item is unknown.'}),\n",
              " Prediction(uid='A2KIIFMO9C4Q9', iid='B00000JD34', r_ui=5.0, est=4.13277566818924, details={'was_impossible': True, 'reason': 'User and/or item is unknown.'}),\n",
              " Prediction(uid='A1UUHNL922MTZJ', iid='B00005BMSN', r_ui=1.0, est=4.13277566818924, details={'was_impossible': True, 'reason': 'User and/or item is unknown.'}),\n",
              " Prediction(uid='A1O7S1R2LLYA0C', iid='B00002CEX9', r_ui=5.0, est=4.13277566818924, details={'was_impossible': True, 'reason': 'User and/or item is unknown.'}),\n",
              " Prediction(uid='A2Y6YYPH84E0IQ', iid='B00004Z5PY', r_ui=2.0, est=4.13277566818924, details={'was_impossible': True, 'reason': 'User and/or item is unknown.'}),\n",
              " Prediction(uid='A34CPEAFJ52Y27', iid='B00004ZCJE', r_ui=1.0, est=4.13277566818924, details={'was_impossible': True, 'reason': 'User and/or item is unknown.'}),\n",
              " Prediction(uid='A2E35SA79249LT', iid='B00004Z5PY', r_ui=4.0, est=4.13277566818924, details={'was_impossible': True, 'reason': 'User and/or item is unknown.'}),\n",
              " Prediction(uid='A20DY44BGC6A5C', iid='B00005125T', r_ui=5.0, est=4.13277566818924, details={'was_impossible': True, 'reason': 'User and/or item is unknown.'}),\n",
              " Prediction(uid='A1SOBKVAN8D0HX', iid='B00004Z5KA', r_ui=5.0, est=4.13277566818924, details={'was_impossible': True, 'reason': 'User and/or item is unknown.'}),\n",
              " Prediction(uid='A220X783IS8VY1', iid='B00004T8R2', r_ui=4.0, est=4.13277566818924, details={'was_impossible': True, 'reason': 'User and/or item is unknown.'}),\n",
              " Prediction(uid='A1ISSD3FCKS4BB', iid='B00005LLY4', r_ui=5.0, est=4.13277566818924, details={'was_impossible': True, 'reason': 'User and/or item is unknown.'}),\n",
              " Prediction(uid='A3I2XX22Z8HD0I', iid='B00004RDMR', r_ui=5.0, est=4.13277566818924, details={'was_impossible': True, 'reason': 'User and/or item is unknown.'}),\n",
              " Prediction(uid='A2SJV7Z7OHG1X4', iid='B00005N6KG', r_ui=2.0, est=4.13277566818924, details={'was_impossible': True, 'reason': 'User and/or item is unknown.'}),\n",
              " Prediction(uid='A2H9ZRTB0XCQ0X', iid='B00004TZE5', r_ui=5.0, est=4.13277566818924, details={'was_impossible': True, 'reason': 'User and/or item is unknown.'}),\n",
              " Prediction(uid='A2J0NO592JVGC5', iid='B00005BC0K', r_ui=5.0, est=4.13277566818924, details={'was_impossible': True, 'reason': 'User and/or item is unknown.'}),\n",
              " Prediction(uid='A34YJ2YZRP0Q84', iid='B00005ARK3', r_ui=1.0, est=4.13277566818924, details={'was_impossible': True, 'reason': 'User and/or item is unknown.'}),\n",
              " Prediction(uid='A17L2OIWYITZEY', iid='B000026D8E', r_ui=4.0, est=4.13277566818924, details={'was_impossible': True, 'reason': 'User and/or item is unknown.'}),\n",
              " Prediction(uid='A2XJB5QGYU7BD6', iid='B00004TDL2', r_ui=5.0, est=4.13277566818924, details={'was_impossible': True, 'reason': 'User and/or item is unknown.'}),\n",
              " Prediction(uid='A1C7VT3CVDPEV9', iid='B00004SB92', r_ui=5.0, est=4.13277566818924, details={'was_impossible': True, 'reason': 'User and/or item is unknown.'}),\n",
              " Prediction(uid='A9SSQJ46YXCHY', iid='B00004TYBM', r_ui=5.0, est=4.13277566818924, details={'was_impossible': True, 'reason': 'User and/or item is unknown.'}),\n",
              " Prediction(uid='A2LD8BKBO9I11Q', iid='B00005NCWK', r_ui=5.0, est=4.13277566818924, details={'was_impossible': True, 'reason': 'User and/or item is unknown.'}),\n",
              " Prediction(uid='A13VKQ3PZ5OGUA', iid='B00005T3G0', r_ui=5.0, est=4.13277566818924, details={'was_impossible': True, 'reason': 'User and/or item is unknown.'}),\n",
              " Prediction(uid='A1HT81V0Z717H7', iid='B00005A1K1', r_ui=4.0, est=4.13277566818924, details={'was_impossible': True, 'reason': 'User and/or item is unknown.'}),\n",
              " Prediction(uid='A351TM1V66NOEJ', iid='B00004TYBM', r_ui=5.0, est=4.13277566818924, details={'was_impossible': True, 'reason': 'User and/or item is unknown.'}),\n",
              " Prediction(uid='A3BR4RIE8HDY1W', iid='B00005B6UF', r_ui=5.0, est=4.13277566818924, details={'was_impossible': True, 'reason': 'User and/or item is unknown.'}),\n",
              " Prediction(uid='A3173COD43GLZN', iid='B00005NIMJ', r_ui=5.0, est=4.13277566818924, details={'was_impossible': True, 'reason': 'User and/or item is unknown.'}),\n",
              " Prediction(uid='A21C5UTNZ9D8XA', iid='B00004TDN2', r_ui=5.0, est=4.13277566818924, details={'was_impossible': True, 'reason': 'User and/or item is unknown.'}),\n",
              " Prediction(uid='A13PJOSPMW65CW', iid='B00005UOS4', r_ui=3.0, est=4.13277566818924, details={'was_impossible': True, 'reason': 'User and/or item is unknown.'}),\n",
              " Prediction(uid='A3POOQMFOLS1B7', iid='B00004XOM3', r_ui=5.0, est=4.13277566818924, details={'was_impossible': True, 'reason': 'User and/or item is unknown.'}),\n",
              " Prediction(uid='A1Q8S4W2KYQJZX', iid='B00005137P', r_ui=5.0, est=4.13277566818924, details={'was_impossible': True, 'reason': 'User and/or item is unknown.'}),\n",
              " Prediction(uid='A2SMZIJZES7HOX', iid='B00005T3G0', r_ui=5.0, est=4.13277566818924, details={'was_impossible': True, 'reason': 'User and/or item is unknown.'}),\n",
              " Prediction(uid='A35JP8KSV9281K', iid='B00000K135', r_ui=5.0, est=4.13277566818924, details={'was_impossible': True, 'reason': 'User and/or item is unknown.'}),\n",
              " Prediction(uid='A2624IHUDRUSA7', iid='B00004ZC8Y', r_ui=5.0, est=4.822165464743589, details={'actual_k': 1, 'was_impossible': False}),\n",
              " Prediction(uid='A32YOYKCLARA87', iid='B00000J1GA', r_ui=4.0, est=4.13277566818924, details={'was_impossible': True, 'reason': 'User and/or item is unknown.'}),\n",
              " Prediction(uid='AOHNLSWSOLK8N', iid='B00000JDF6', r_ui=4.0, est=4.13277566818924, details={'was_impossible': True, 'reason': 'User and/or item is unknown.'}),\n",
              " Prediction(uid='A3N8R72KTOMW81', iid='B000058AKE', r_ui=5.0, est=4.13277566818924, details={'was_impossible': True, 'reason': 'User and/or item is unknown.'}),\n",
              " Prediction(uid='A3SFQQB23IZVVL', iid='B00000J4GE', r_ui=5.0, est=4.13277566818924, details={'was_impossible': True, 'reason': 'User and/or item is unknown.'}),\n",
              " Prediction(uid='A2OZ0CM6U2BMMF', iid='B00005LEOH', r_ui=5.0, est=4.13277566818924, details={'was_impossible': True, 'reason': 'User and/or item is unknown.'}),\n",
              " Prediction(uid='A1F8UC1G8YJ69A', iid='B00004T1XK', r_ui=5.0, est=4.13277566818924, details={'was_impossible': True, 'reason': 'User and/or item is unknown.'}),\n",
              " Prediction(uid='A3QOHN0P1HVAPY', iid='B00004VX15', r_ui=5.0, est=4.13277566818924, details={'was_impossible': True, 'reason': 'User and/or item is unknown.'}),\n",
              " Prediction(uid='A22GQ1BBILKEJ7', iid='B00005219A', r_ui=5.0, est=4.13277566818924, details={'was_impossible': True, 'reason': 'User and/or item is unknown.'}),\n",
              " Prediction(uid='A1900XBPW6TKNR', iid='B00000J061', r_ui=5.0, est=4.13277566818924, details={'was_impossible': True, 'reason': 'User and/or item is unknown.'}),\n",
              " Prediction(uid='A3EPZNFF590EXL', iid='B00004TYBM', r_ui=5.0, est=4.13277566818924, details={'was_impossible': True, 'reason': 'User and/or item is unknown.'}),\n",
              " Prediction(uid='A20RIYQIMFLVM5', iid='B00005N5X2', r_ui=4.0, est=4.13277566818924, details={'was_impossible': True, 'reason': 'User and/or item is unknown.'}),\n",
              " Prediction(uid='A3QE4Z99H4U3BB', iid='B00004WCIC', r_ui=5.0, est=4.410614525139665, details={'actual_k': 0, 'was_impossible': False}),\n",
              " Prediction(uid='A2IMLPUXYQJTSY', iid='B00000J4FS', r_ui=5.0, est=5, details={'actual_k': 2, 'was_impossible': False}),\n",
              " Prediction(uid='AQ3IN3MRXQ5KH', iid='B00005853Z', r_ui=4.0, est=4.13277566818924, details={'was_impossible': True, 'reason': 'User and/or item is unknown.'}),\n",
              " Prediction(uid='A6HC1169G5QFA', iid='B00004T8R2', r_ui=4.0, est=4.13277566818924, details={'was_impossible': True, 'reason': 'User and/or item is unknown.'}),\n",
              " Prediction(uid='A125VZSCC41BMX', iid='B000051WW9', r_ui=1.0, est=4.13277566818924, details={'was_impossible': True, 'reason': 'User and/or item is unknown.'}),\n",
              " Prediction(uid='AMS4R86RZ7OGS', iid='B00005AR4L', r_ui=5.0, est=4.13277566818924, details={'was_impossible': True, 'reason': 'User and/or item is unknown.'}),\n",
              " Prediction(uid='A3DK1CS37YFMZF', iid='B00004VWM3', r_ui=4.0, est=4.13277566818924, details={'was_impossible': True, 'reason': 'User and/or item is unknown.'}),\n",
              " Prediction(uid='A2K5FK58JSWXJ9', iid='B00004SB92', r_ui=5.0, est=3.8714090287277703, details={'actual_k': 0, 'was_impossible': False}),\n",
              " Prediction(uid='A1KMF1EF9ZENSL', iid='B00004Z6N6', r_ui=4.0, est=4.13277566818924, details={'was_impossible': True, 'reason': 'User and/or item is unknown.'}),\n",
              " Prediction(uid='A2WHGKRE0PAXYP', iid='B00005AWBJ', r_ui=4.0, est=4.13277566818924, details={'was_impossible': True, 'reason': 'User and/or item is unknown.'}),\n",
              " Prediction(uid='A7U6ZHE5FXUGX', iid='B00005A1K1', r_ui=5.0, est=4.13277566818924, details={'was_impossible': True, 'reason': 'User and/or item is unknown.'}),\n",
              " Prediction(uid='A2WG8TO9IRVF68', iid='B00001P4ZR', r_ui=4.0, est=4.13277566818924, details={'was_impossible': True, 'reason': 'User and/or item is unknown.'}),\n",
              " Prediction(uid='A1KBS2DR2JLZ4Q', iid='B000051YGF', r_ui=4.0, est=4.13277566818924, details={'was_impossible': True, 'reason': 'User and/or item is unknown.'}),\n",
              " Prediction(uid='A36J0PTVT5P39X', iid='B00005ARK3', r_ui=5.0, est=5, details={'actual_k': 1, 'was_impossible': False}),\n",
              " Prediction(uid='A2Q2CYMA9GD7G0', iid='B00004T8R2', r_ui=5.0, est=4.13277566818924, details={'was_impossible': True, 'reason': 'User and/or item is unknown.'}),\n",
              " Prediction(uid='A3QUK8180C0B1G', iid='1400599997', r_ui=1.0, est=4.13277566818924, details={'was_impossible': True, 'reason': 'User and/or item is unknown.'}),\n",
              " Prediction(uid='AIL4HD8BRUHV9', iid='B00005B6UF', r_ui=5.0, est=4.13277566818924, details={'was_impossible': True, 'reason': 'User and/or item is unknown.'}),\n",
              " Prediction(uid='A143Q8HUC6DN4', iid='B00004YZQ8', r_ui=4.0, est=4.13277566818924, details={'was_impossible': True, 'reason': 'User and/or item is unknown.'}),\n",
              " Prediction(uid='A35TD8QAUMV0DB', iid='B00001P4ZR', r_ui=5.0, est=4.084677419354839, details={'actual_k': 0, 'was_impossible': False}),\n",
              " Prediction(uid='A27GLQ68C8IAL5', iid='B00004TWM6', r_ui=5.0, est=4.13277566818924, details={'was_impossible': True, 'reason': 'User and/or item is unknown.'}),\n",
              " Prediction(uid='AY3XPKRAMKKY7', iid='B00005N6KG', r_ui=5.0, est=3.9925373134328357, details={'actual_k': 0, 'was_impossible': False}),\n",
              " Prediction(uid='AYSH263VXQBTF', iid='B00004T8R2', r_ui=5.0, est=4.13277566818924, details={'was_impossible': True, 'reason': 'User and/or item is unknown.'}),\n",
              " Prediction(uid='A2V004ESWTVJX5', iid='B00003CWDH', r_ui=5.0, est=4.13277566818924, details={'was_impossible': True, 'reason': 'User and/or item is unknown.'}),\n",
              " Prediction(uid='A25RVWE1U9VPL1', iid='B00005QFYE', r_ui=3.0, est=4.13277566818924, details={'was_impossible': True, 'reason': 'User and/or item is unknown.'}),\n",
              " Prediction(uid='A21MZORJWFJDIO', iid='B00004Z5H3', r_ui=5.0, est=4.13277566818924, details={'was_impossible': True, 'reason': 'User and/or item is unknown.'}),\n",
              " Prediction(uid='A11F2L09QEFFWV', iid='B000031KIM', r_ui=5.0, est=4.13277566818924, details={'was_impossible': True, 'reason': 'User and/or item is unknown.'}),\n",
              " Prediction(uid='A1BG9OB73109C8', iid='B00000K13A', r_ui=5.0, est=4.13277566818924, details={'was_impossible': True, 'reason': 'User and/or item is unknown.'}),\n",
              " Prediction(uid='A2XZMHJ78VRD1H', iid='B00005ML7Q', r_ui=4.0, est=4.13277566818924, details={'was_impossible': True, 'reason': 'User and/or item is unknown.'}),\n",
              " Prediction(uid='A1IKKROYGII2CM', iid='B0000513US', r_ui=5.0, est=4.13277566818924, details={'was_impossible': True, 'reason': 'User and/or item is unknown.'}),\n",
              " Prediction(uid='A2IN1WZFQAC298', iid='9625993428', r_ui=1.0, est=4.13277566818924, details={'was_impossible': True, 'reason': 'User and/or item is unknown.'}),\n",
              " Prediction(uid='AQYZPJO6V7QUS', iid='B00005A1K1', r_ui=1.0, est=4.13277566818924, details={'was_impossible': True, 'reason': 'User and/or item is unknown.'}),\n",
              " Prediction(uid='AA09WAVEY6VT3', iid='B00004VX3T', r_ui=5.0, est=4.13277566818924, details={'was_impossible': True, 'reason': 'User and/or item is unknown.'}),\n",
              " Prediction(uid='A3V4QMRVE1RQWL', iid='B00000JCT8', r_ui=1.0, est=4.13277566818924, details={'was_impossible': True, 'reason': 'User and/or item is unknown.'}),\n",
              " Prediction(uid='A1D1J58W770ZHF', iid='B00005QCT3', r_ui=5.0, est=4.13277566818924, details={'was_impossible': True, 'reason': 'User and/or item is unknown.'}),\n",
              " Prediction(uid='A2ZOOUGBHUDVGZ', iid='B00001P4ZH', r_ui=5.0, est=4.13277566818924, details={'was_impossible': True, 'reason': 'User and/or item is unknown.'}),\n",
              " Prediction(uid='A5UXPFQFIBXH6', iid='B00005MNSS', r_ui=5.0, est=4.13277566818924, details={'was_impossible': True, 'reason': 'User and/or item is unknown.'}),\n",
              " Prediction(uid='A248JZHAX7RNOB', iid='B00004Y7TD', r_ui=4.0, est=4.13277566818924, details={'was_impossible': True, 'reason': 'User and/or item is unknown.'}),\n",
              " Prediction(uid='A1LVAK1LOFIGUQ', iid='B00004ZCJE', r_ui=2.0, est=4.13277566818924, details={'was_impossible': True, 'reason': 'User and/or item is unknown.'}),\n",
              " Prediction(uid='A3270XHBUVTJRU', iid='B00004ZCJE', r_ui=5.0, est=4.13277566818924, details={'was_impossible': True, 'reason': 'User and/or item is unknown.'}),\n",
              " Prediction(uid='A1Y7M6CLUZIM0R', iid='B000053HC5', r_ui=5.0, est=4.13277566818924, details={'was_impossible': True, 'reason': 'User and/or item is unknown.'}),\n",
              " Prediction(uid='A1GSU4SIGGR4ZZ', iid='B00005QFZG', r_ui=5.0, est=4.13277566818924, details={'was_impossible': True, 'reason': 'User and/or item is unknown.'}),\n",
              " Prediction(uid='A1OF0OK6E23U5N', iid='B00005ML7Q', r_ui=4.0, est=4.13277566818924, details={'was_impossible': True, 'reason': 'User and/or item is unknown.'}),\n",
              " Prediction(uid='A1WEJH3I4LQ6F8', iid='B000038AB2', r_ui=4.0, est=4.13277566818924, details={'was_impossible': True, 'reason': 'User and/or item is unknown.'}),\n",
              " Prediction(uid='A1S1A8DKIFOJLU', iid='B00005ML7Q', r_ui=5.0, est=3.9117043121149897, details={'actual_k': 0, 'was_impossible': False}),\n",
              " Prediction(uid='A3GTUIX3BHK8XO', iid='B00005ML7Q', r_ui=5.0, est=4.13277566818924, details={'was_impossible': True, 'reason': 'User and/or item is unknown.'}),\n",
              " Prediction(uid='ANUJ8VECESQH9', iid='B00001WRSJ', r_ui=5.0, est=4.13277566818924, details={'was_impossible': True, 'reason': 'User and/or item is unknown.'}),\n",
              " Prediction(uid='A3VT9VE8JYA0LI', iid='B00004SABB', r_ui=5.0, est=4.13277566818924, details={'was_impossible': True, 'reason': 'User and/or item is unknown.'}),\n",
              " Prediction(uid='AS105DBOIHQ90', iid='B00004SABB', r_ui=3.0, est=4.13277566818924, details={'was_impossible': True, 'reason': 'User and/or item is unknown.'}),\n",
              " Prediction(uid='A2LQ1AK18SU6OC', iid='B00004RG6K', r_ui=5.0, est=4.13277566818924, details={'was_impossible': True, 'reason': 'User and/or item is unknown.'}),\n",
              " Prediction(uid='A1A982T94C7QXT', iid='B00005AXHW', r_ui=1.0, est=4.13277566818924, details={'was_impossible': True, 'reason': 'User and/or item is unknown.'}),\n",
              " Prediction(uid='A3GMRYV7VAYK5Q', iid='B00004TDSC', r_ui=2.0, est=4.13277566818924, details={'was_impossible': True, 'reason': 'User and/or item is unknown.'}),\n",
              " Prediction(uid='AXL5GV53HA58I', iid='B00001WRSJ', r_ui=5.0, est=4.13277566818924, details={'was_impossible': True, 'reason': 'User and/or item is unknown.'}),\n",
              " Prediction(uid='A337XAWK7DPG0U', iid='B00005T3XH', r_ui=4.0, est=4.13277566818924, details={'was_impossible': True, 'reason': 'User and/or item is unknown.'}),\n",
              " Prediction(uid='A3UEJNBO4BD2NV', iid='B0000510ZO', r_ui=5.0, est=4.13277566818924, details={'was_impossible': True, 'reason': 'User and/or item is unknown.'}),\n",
              " Prediction(uid='A1OC99HBHTZ4AA', iid='B00004Z5H3', r_ui=4.0, est=4.13277566818924, details={'was_impossible': True, 'reason': 'User and/or item is unknown.'}),\n",
              " Prediction(uid='A20PA1H4J8NAM0', iid='B00005AC8W', r_ui=5.0, est=4.13277566818924, details={'was_impossible': True, 'reason': 'User and/or item is unknown.'}),\n",
              " Prediction(uid='A3HJC4Q5GIFQV3', iid='B00004WCID', r_ui=5.0, est=4.13277566818924, details={'was_impossible': True, 'reason': 'User and/or item is unknown.'}),\n",
              " Prediction(uid='A1BPUOLFJXY3GV', iid='B000051299', r_ui=5.0, est=4.13277566818924, details={'was_impossible': True, 'reason': 'User and/or item is unknown.'}),\n",
              " Prediction(uid='A1F5YCHX8JTCDI', iid='B00005N6KG', r_ui=1.0, est=4.13277566818924, details={'was_impossible': True, 'reason': 'User and/or item is unknown.'}),\n",
              " Prediction(uid='A146UT3ZQL8TQU', iid='B00005N6KG', r_ui=4.0, est=4.13277566818924, details={'was_impossible': True, 'reason': 'User and/or item is unknown.'}),\n",
              " Prediction(uid='AN5KFWQRALBJU', iid='7214047977', r_ui=5.0, est=4.13277566818924, details={'was_impossible': True, 'reason': 'User and/or item is unknown.'}),\n",
              " Prediction(uid='A27Z3O99DOP9FU', iid='B00004RG6K', r_ui=5.0, est=4.13277566818924, details={'was_impossible': True, 'reason': 'User and/or item is unknown.'}),\n",
              " Prediction(uid='AKB4EDDU3JND0', iid='B00005ALB1', r_ui=4.0, est=4.13277566818924, details={'was_impossible': True, 'reason': 'User and/or item is unknown.'}),\n",
              " Prediction(uid='A2TEE2CXV7TQSY', iid='B00005OT5X', r_ui=4.0, est=4.13277566818924, details={'was_impossible': True, 'reason': 'User and/or item is unknown.'}),\n",
              " Prediction(uid='A3EVZWV5Z76SCM', iid='B000051299', r_ui=2.0, est=4.13277566818924, details={'was_impossible': True, 'reason': 'User and/or item is unknown.'}),\n",
              " Prediction(uid='A3CPN7C4X3WW45', iid='B00004WHFK', r_ui=4.0, est=4.13277566818924, details={'was_impossible': True, 'reason': 'User and/or item is unknown.'}),\n",
              " Prediction(uid='AFG72M153Q5L9', iid='B00001P4ZH', r_ui=5.0, est=4.13277566818924, details={'was_impossible': True, 'reason': 'User and/or item is unknown.'}),\n",
              " Prediction(uid='A1S8HPHKV57OQY', iid='B00004THCZ', r_ui=2.0, est=4.13277566818924, details={'was_impossible': True, 'reason': 'User and/or item is unknown.'}),\n",
              " Prediction(uid='AP27X3RV3HUHT', iid='B00005T39Y', r_ui=5.0, est=4.13277566818924, details={'was_impossible': True, 'reason': 'User and/or item is unknown.'}),\n",
              " Prediction(uid='A34H3DSG6VQ9XN', iid='B00005B8HO', r_ui=5.0, est=4.13277566818924, details={'was_impossible': True, 'reason': 'User and/or item is unknown.'}),\n",
              " Prediction(uid='A2Z8MMEACJCJZ9', iid='B00005T380', r_ui=4.0, est=4.13277566818924, details={'was_impossible': True, 'reason': 'User and/or item is unknown.'}),\n",
              " Prediction(uid='A153QWIIP6IO61', iid='B00005AW1F', r_ui=5.0, est=4.13277566818924, details={'was_impossible': True, 'reason': 'User and/or item is unknown.'}),\n",
              " Prediction(uid='A3D8NXND1ALT91', iid='0972683275', r_ui=4.0, est=4.13277566818924, details={'was_impossible': True, 'reason': 'User and/or item is unknown.'}),\n",
              " Prediction(uid='A2Z8K7G6N83JX6', iid='B00005K47X', r_ui=5.0, est=4.13277566818924, details={'was_impossible': True, 'reason': 'User and/or item is unknown.'}),\n",
              " Prediction(uid='A2GXSEDWH5IDMA', iid='B00005N6KG', r_ui=5.0, est=4.13277566818924, details={'was_impossible': True, 'reason': 'User and/or item is unknown.'}),\n",
              " Prediction(uid='A3CO12S3VULW4G', iid='B00004T8R2', r_ui=5.0, est=4.13277566818924, details={'was_impossible': True, 'reason': 'User and/or item is unknown.'}),\n",
              " Prediction(uid='AAANCRV8SOGSZ', iid='B00005ML7Q', r_ui=4.0, est=4.13277566818924, details={'was_impossible': True, 'reason': 'User and/or item is unknown.'}),\n",
              " Prediction(uid='A3EJ1LTTUWMEBJ', iid='B00004Y2MM', r_ui=5.0, est=4.13277566818924, details={'was_impossible': True, 'reason': 'User and/or item is unknown.'}),\n",
              " Prediction(uid='A2164DOVYDAIU7', iid='B00005B8HO', r_ui=5.0, est=4.13277566818924, details={'was_impossible': True, 'reason': 'User and/or item is unknown.'}),\n",
              " Prediction(uid='A1A1C0KT5M37ZO', iid='B00004ZC9V', r_ui=5.0, est=4.13277566818924, details={'was_impossible': True, 'reason': 'User and/or item is unknown.'}),\n",
              " Prediction(uid='A1NFGD689TKTIN', iid='B00005ATMB', r_ui=5.0, est=4.13277566818924, details={'was_impossible': True, 'reason': 'User and/or item is unknown.'}),\n",
              " Prediction(uid='A141XBKOLLEAPJ', iid='B00003WGP5', r_ui=5.0, est=4.13277566818924, details={'was_impossible': True, 'reason': 'User and/or item is unknown.'}),\n",
              " Prediction(uid='AFADNTL25LLL8', iid='B00004T8R2', r_ui=5.0, est=4.13277566818924, details={'was_impossible': True, 'reason': 'User and/or item is unknown.'}),\n",
              " Prediction(uid='A3RDA76TLQAW11', iid='B0000228GF', r_ui=4.0, est=4.13277566818924, details={'was_impossible': True, 'reason': 'User and/or item is unknown.'}),\n",
              " Prediction(uid='A31006OIGFFZF4', iid='B00002NDRQ', r_ui=2.0, est=4.13277566818924, details={'was_impossible': True, 'reason': 'User and/or item is unknown.'}),\n",
              " Prediction(uid='A2R2ZMVX4ENQTU', iid='B0000228GF', r_ui=5.0, est=4.13277566818924, details={'was_impossible': True, 'reason': 'User and/or item is unknown.'}),\n",
              " Prediction(uid='AQ24060XOMCHM', iid='B00004WCID', r_ui=5.0, est=4.13277566818924, details={'was_impossible': True, 'reason': 'User and/or item is unknown.'}),\n",
              " Prediction(uid='A3MFL4MZ7W9KNU', iid='B00005A9AV', r_ui=3.0, est=4.1265822784810124, details={'actual_k': 0, 'was_impossible': False}),\n",
              " Prediction(uid='A1OUXX985YTFXB', iid='B00004SB92', r_ui=5.0, est=4.13277566818924, details={'was_impossible': True, 'reason': 'User and/or item is unknown.'}),\n",
              " Prediction(uid='A2BCM8B300MTAQ', iid='B00001WRSJ', r_ui=5.0, est=4.13277566818924, details={'was_impossible': True, 'reason': 'User and/or item is unknown.'}),\n",
              " Prediction(uid='A21V6HGU6SU4JG', iid='B00004WCFY', r_ui=3.0, est=4.13277566818924, details={'was_impossible': True, 'reason': 'User and/or item is unknown.'}),\n",
              " Prediction(uid='A1QYOB73WONCYT', iid='B00000JI4F', r_ui=4.0, est=4.13277566818924, details={'was_impossible': True, 'reason': 'User and/or item is unknown.'}),\n",
              " Prediction(uid='A36J9FCV5XWRLZ', iid='B00005N6KG', r_ui=4.0, est=4.13277566818924, details={'was_impossible': True, 'reason': 'User and/or item is unknown.'}),\n",
              " Prediction(uid='A3MU9T9XZ3UJGE', iid='B00004THCZ', r_ui=4.0, est=4.13277566818924, details={'was_impossible': True, 'reason': 'User and/or item is unknown.'}),\n",
              " Prediction(uid='A21ZOMZ93G306Y', iid='B00004T1XE', r_ui=5.0, est=4.13277566818924, details={'was_impossible': True, 'reason': 'User and/or item is unknown.'}),\n",
              " Prediction(uid='A3I9DMCAY33F3Z', iid='B00005T6GZ', r_ui=5.0, est=4.13277566818924, details={'was_impossible': True, 'reason': 'User and/or item is unknown.'}),\n",
              " Prediction(uid='AYZ56OM81I2OJ', iid='B00003WGP5', r_ui=4.0, est=4.13277566818924, details={'was_impossible': True, 'reason': 'User and/or item is unknown.'}),\n",
              " Prediction(uid='ALR0TMY2FBIT5', iid='B00004Z61H', r_ui=1.0, est=4.13277566818924, details={'was_impossible': True, 'reason': 'User and/or item is unknown.'}),\n",
              " Prediction(uid='A1ICDP1SXHZE0U', iid='B00001P4ZH', r_ui=5.0, est=4.13277566818924, details={'was_impossible': True, 'reason': 'User and/or item is unknown.'}),\n",
              " Prediction(uid='A3LFBEOD5RIGMK', iid='B00002EQCS', r_ui=5.0, est=4.42, details={'actual_k': 0, 'was_impossible': False}),\n",
              " Prediction(uid='A3E3C9L8MNIH5M', iid='B00004WCGF', r_ui=5.0, est=4.13277566818924, details={'was_impossible': True, 'reason': 'User and/or item is unknown.'}),\n",
              " Prediction(uid='A2BWWC1GYVC8TY', iid='B00001W0EQ', r_ui=1.0, est=4.13277566818924, details={'was_impossible': True, 'reason': 'User and/or item is unknown.'}),\n",
              " Prediction(uid='A5NX2AG3IP0Q5', iid='B00003ETSJ', r_ui=5.0, est=4.13277566818924, details={'was_impossible': True, 'reason': 'User and/or item is unknown.'}),\n",
              " Prediction(uid='A14B7I13ITNUZQ', iid='B00005MA9X', r_ui=5.0, est=4.13277566818924, details={'was_impossible': True, 'reason': 'User and/or item is unknown.'}),\n",
              " Prediction(uid='A3MWKN7DU6SOT7', iid='B00004ZCKV', r_ui=4.0, est=4.13277566818924, details={'was_impossible': True, 'reason': 'User and/or item is unknown.'}),\n",
              " Prediction(uid='A10MC5C359B1T7', iid='0972683275', r_ui=5.0, est=4.13277566818924, details={'was_impossible': True, 'reason': 'User and/or item is unknown.'}),\n",
              " Prediction(uid='A87M9K22QML4N', iid='B00005ATMB', r_ui=5.0, est=4.13277566818924, details={'was_impossible': True, 'reason': 'User and/or item is unknown.'}),\n",
              " Prediction(uid='A20ARV2ILWXT7N', iid='B00001P4XA', r_ui=5.0, est=4.13277566818924, details={'was_impossible': True, 'reason': 'User and/or item is unknown.'}),\n",
              " Prediction(uid='A30F2IK8DO96UV', iid='B00001P4ZH', r_ui=5.0, est=4.13277566818924, details={'was_impossible': True, 'reason': 'User and/or item is unknown.'}),\n",
              " Prediction(uid='A2MGGP3MVYBVX9', iid='B00005T3ND', r_ui=2.0, est=4.13277566818924, details={'was_impossible': True, 'reason': 'User and/or item is unknown.'}),\n",
              " Prediction(uid='A2X0C36RWUABUF', iid='B00005A9AU', r_ui=4.0, est=4.13277566818924, details={'was_impossible': True, 'reason': 'User and/or item is unknown.'}),\n",
              " Prediction(uid='A2SAYIT9OKCHK7', iid='B00005NIMJ', r_ui=5.0, est=4.13277566818924, details={'was_impossible': True, 'reason': 'User and/or item is unknown.'}),\n",
              " Prediction(uid='A2CZZ2T6Q1EHYM', iid='B00000J1V3', r_ui=5.0, est=4.13277566818924, details={'was_impossible': True, 'reason': 'User and/or item is unknown.'}),\n",
              " Prediction(uid='A39V4GM5R0KW6B', iid='9983891212', r_ui=5.0, est=4.13277566818924, details={'was_impossible': True, 'reason': 'User and/or item is unknown.'}),\n",
              " Prediction(uid='A2Z21MFP3Q0GB1', iid='B00004ZCJE', r_ui=5.0, est=4.13277566818924, details={'was_impossible': True, 'reason': 'User and/or item is unknown.'}),\n",
              " Prediction(uid='APWB9EK99ABOR', iid='B00004R8V6', r_ui=5.0, est=4.13277566818924, details={'was_impossible': True, 'reason': 'User and/or item is unknown.'}),\n",
              " Prediction(uid='AVNFH7KXBBLKI', iid='B00004Z68P', r_ui=5.0, est=4.13277566818924, details={'was_impossible': True, 'reason': 'User and/or item is unknown.'}),\n",
              " Prediction(uid='ARW08E970C4A4', iid='0972683275', r_ui=3.0, est=4.13277566818924, details={'was_impossible': True, 'reason': 'User and/or item is unknown.'}),\n",
              " Prediction(uid='A3F4V6YRX2PTDI', iid='1400698987', r_ui=5.0, est=4.13277566818924, details={'was_impossible': True, 'reason': 'User and/or item is unknown.'}),\n",
              " Prediction(uid='A32AFX2PUJ82HG', iid='B00001WRSJ', r_ui=4.0, est=4.13277566818924, details={'was_impossible': True, 'reason': 'User and/or item is unknown.'}),\n",
              " Prediction(uid='APK3MFKXTQ2VT', iid='7214047977', r_ui=5.0, est=4.13277566818924, details={'was_impossible': True, 'reason': 'User and/or item is unknown.'}),\n",
              " Prediction(uid='A25W2H9YWVRR9C', iid='B00005NWQN', r_ui=3.0, est=4.13277566818924, details={'was_impossible': True, 'reason': 'User and/or item is unknown.'}),\n",
              " Prediction(uid='A24MH9IO1JSZJZ', iid='B00005A1K1', r_ui=4.0, est=4.13277566818924, details={'was_impossible': True, 'reason': 'User and/or item is unknown.'}),\n",
              " Prediction(uid='AZSPWMLZ8NQOD', iid='B00005T3EM', r_ui=3.0, est=4.13277566818924, details={'was_impossible': True, 'reason': 'User and/or item is unknown.'}),\n",
              " Prediction(uid='A2K94TIU0OFCNK', iid='B00004Z6XS', r_ui=5.0, est=4.13277566818924, details={'was_impossible': True, 'reason': 'User and/or item is unknown.'}),\n",
              " Prediction(uid='A1G52DKGEQDOTY', iid='B00005NIMJ', r_ui=5.0, est=4.13277566818924, details={'was_impossible': True, 'reason': 'User and/or item is unknown.'}),\n",
              " Prediction(uid='A2J12DSIHSBMRX', iid='B000058AKE', r_ui=5.0, est=4.13277566818924, details={'was_impossible': True, 'reason': 'User and/or item is unknown.'}),\n",
              " Prediction(uid='A3D6OHGHXN95AS', iid='B000050X97', r_ui=5.0, est=3.180327868852459, details={'actual_k': 0, 'was_impossible': False}),\n",
              " Prediction(uid='A1AM6636H0IH0O', iid='B00004T8R2', r_ui=1.0, est=4.13277566818924, details={'was_impossible': True, 'reason': 'User and/or item is unknown.'}),\n",
              " Prediction(uid='A22AT39NSCIOEZ', iid='B00005T3G0', r_ui=5.0, est=4.13277566818924, details={'was_impossible': True, 'reason': 'User and/or item is unknown.'}),\n",
              " Prediction(uid='A3K0BEX3SDD7VX', iid='B0000510T7', r_ui=5.0, est=4.13277566818924, details={'was_impossible': True, 'reason': 'User and/or item is unknown.'}),\n",
              " Prediction(uid='A1I02M2IAR1GWP', iid='B00005LEN4', r_ui=5.0, est=4.13277566818924, details={'was_impossible': True, 'reason': 'User and/or item is unknown.'}),\n",
              " Prediction(uid='A6RCJJ1HCN84R', iid='B00005ML7Q', r_ui=5.0, est=4.13277566818924, details={'was_impossible': True, 'reason': 'User and/or item is unknown.'}),\n",
              " Prediction(uid='AAH2JCHUAIWTG', iid='B00000J0D5', r_ui=1.0, est=4.13277566818924, details={'was_impossible': True, 'reason': 'User and/or item is unknown.'}),\n",
              " Prediction(uid='A1T8A6OCVV0UYU', iid='1400698987', r_ui=5.0, est=4.13277566818924, details={'was_impossible': True, 'reason': 'User and/or item is unknown.'}),\n",
              " Prediction(uid='A11EPTGTFECW4A', iid='B00004ZCKV', r_ui=1.0, est=4.13277566818924, details={'was_impossible': True, 'reason': 'User and/or item is unknown.'}),\n",
              " Prediction(uid='A35B6SN8AMN2DD', iid='B00005UKBD', r_ui=5.0, est=4.13277566818924, details={'was_impossible': True, 'reason': 'User and/or item is unknown.'}),\n",
              " Prediction(uid='A2TUJJN2C8ND38', iid='B00001W0EQ', r_ui=1.0, est=4.13277566818924, details={'was_impossible': True, 'reason': 'User and/or item is unknown.'}),\n",
              " Prediction(uid='A1PORTFBFB91T9', iid='B00000JYWQ', r_ui=4.0, est=4.13277566818924, details={'was_impossible': True, 'reason': 'User and/or item is unknown.'}),\n",
              " Prediction(uid='AI2RPJ74G91IO', iid='B000051SD1', r_ui=1.0, est=4.13277566818924, details={'was_impossible': True, 'reason': 'User and/or item is unknown.'}),\n",
              " Prediction(uid='A39U2TDTIC348N', iid='B000051SD1', r_ui=2.0, est=4.13277566818924, details={'was_impossible': True, 'reason': 'User and/or item is unknown.'}),\n",
              " Prediction(uid='A3URIS1G20CGRK', iid='B00005T3G0', r_ui=3.0, est=4.13277566818924, details={'was_impossible': True, 'reason': 'User and/or item is unknown.'}),\n",
              " Prediction(uid='ANSHF2KKLYCMY', iid='B00005BC0K', r_ui=5.0, est=4.13277566818924, details={'was_impossible': True, 'reason': 'User and/or item is unknown.'}),\n",
              " Prediction(uid='A1EVDHDMX9LHM3', iid='B00004T8R2', r_ui=4.0, est=4.13277566818924, details={'was_impossible': True, 'reason': 'User and/or item is unknown.'}),\n",
              " Prediction(uid='AO98CF90X59X6', iid='B000053HC5', r_ui=5.0, est=4.13277566818924, details={'was_impossible': True, 'reason': 'User and/or item is unknown.'}),\n",
              " Prediction(uid='A3MWSCI12YGTGK', iid='B00004TBLW', r_ui=5.0, est=4.13277566818924, details={'was_impossible': True, 'reason': 'User and/or item is unknown.'}),\n",
              " Prediction(uid='A17KTT4YO6MDHP', iid='B00005ARK3', r_ui=5.0, est=4.13277566818924, details={'was_impossible': True, 'reason': 'User and/or item is unknown.'}),\n",
              " Prediction(uid='A1TGECHJNN38B0', iid='B000056SSM', r_ui=1.0, est=4.13277566818924, details={'was_impossible': True, 'reason': 'User and/or item is unknown.'}),\n",
              " Prediction(uid='A2HVGO4GRYAPEH', iid='B00000J0D8', r_ui=5.0, est=4.13277566818924, details={'was_impossible': True, 'reason': 'User and/or item is unknown.'}),\n",
              " Prediction(uid='A1HP2LCEFNELRI', iid='B000053HH5', r_ui=5.0, est=4.13277566818924, details={'was_impossible': True, 'reason': 'User and/or item is unknown.'}),\n",
              " Prediction(uid='AXFJ9MBZ7C48B', iid='B00000J1V5', r_ui=5.0, est=4.13277566818924, details={'was_impossible': True, 'reason': 'User and/or item is unknown.'}),\n",
              " Prediction(uid='AY7Y69EUL5GGL', iid='0972683275', r_ui=5.0, est=4.13277566818924, details={'was_impossible': True, 'reason': 'User and/or item is unknown.'}),\n",
              " Prediction(uid='A1CXPKDG89GEDR', iid='B00005Q4ZV', r_ui=2.0, est=4.13277566818924, details={'was_impossible': True, 'reason': 'User and/or item is unknown.'}),\n",
              " Prediction(uid='A131E28H6DRH61', iid='B00005T3G0', r_ui=5.0, est=4.635960044395117, details={'actual_k': 0, 'was_impossible': False}),\n",
              " Prediction(uid='A3DIXHIECTEKV2', iid='B00005T3G0', r_ui=4.0, est=4.635960044395117, details={'actual_k': 0, 'was_impossible': False}),\n",
              " Prediction(uid='AO652N5KNRRYY', iid='B00004ZCJE', r_ui=5.0, est=4.13277566818924, details={'was_impossible': True, 'reason': 'User and/or item is unknown.'}),\n",
              " Prediction(uid='A7A45W0QP3O5O', iid='B00004VUGJ', r_ui=5.0, est=4.13277566818924, details={'was_impossible': True, 'reason': 'User and/or item is unknown.'}),\n",
              " Prediction(uid='A28AALFXLCUOC9', iid='B00005T3N3', r_ui=5.0, est=4.13277566818924, details={'was_impossible': True, 'reason': 'User and/or item is unknown.'}),\n",
              " Prediction(uid='A1SE7Y5G3VD0O0', iid='B00005ARK3', r_ui=5.0, est=4.13277566818924, details={'was_impossible': True, 'reason': 'User and/or item is unknown.'}),\n",
              " Prediction(uid='A1YVH4YXCA9EPY', iid='B000051SHL', r_ui=3.0, est=2.9558823529411766, details={'actual_k': 0, 'was_impossible': False}),\n",
              " Prediction(uid='A1QTS869P6TYKJ', iid='B00004Z5PY', r_ui=1.0, est=4.13277566818924, details={'was_impossible': True, 'reason': 'User and/or item is unknown.'}),\n",
              " Prediction(uid='A2RH99UN1E3SFR', iid='B000056SSM', r_ui=5.0, est=4.13277566818924, details={'was_impossible': True, 'reason': 'User and/or item is unknown.'}),\n",
              " Prediction(uid='A3N5CN21FU1X6T', iid='B000053HBB', r_ui=5.0, est=4.13277566818924, details={'was_impossible': True, 'reason': 'User and/or item is unknown.'}),\n",
              " Prediction(uid='A36OY5MM2DWR48', iid='B00005NPWJ', r_ui=5.0, est=4.13277566818924, details={'was_impossible': True, 'reason': 'User and/or item is unknown.'}),\n",
              " Prediction(uid='A1QPSQ5ZMY6CB', iid='B00000K135', r_ui=5.0, est=4.13277566818924, details={'was_impossible': True, 'reason': 'User and/or item is unknown.'}),\n",
              " Prediction(uid='A2NMQ8B553QCQH', iid='B00005LENO', r_ui=4.0, est=4.13277566818924, details={'was_impossible': True, 'reason': 'User and/or item is unknown.'}),\n",
              " Prediction(uid='A4PWTR3R2ZO89', iid='B00005BC0K', r_ui=5.0, est=4.13277566818924, details={'was_impossible': True, 'reason': 'User and/or item is unknown.'}),\n",
              " Prediction(uid='A2HUUJTONNM7GD', iid='B00005NIMJ', r_ui=4.0, est=4.13277566818924, details={'was_impossible': True, 'reason': 'User and/or item is unknown.'}),\n",
              " Prediction(uid='ADDQFTWG2JS76', iid='B00005853Z', r_ui=4.0, est=4.13277566818924, details={'was_impossible': True, 'reason': 'User and/or item is unknown.'}),\n",
              " Prediction(uid='A1AMRAJP3AC0OE', iid='9985511476', r_ui=5.0, est=4.13277566818924, details={'was_impossible': True, 'reason': 'User and/or item is unknown.'}),\n",
              " Prediction(uid='A1RR2QACKRCLQ2', iid='B000051WW9', r_ui=5.0, est=4.13277566818924, details={'was_impossible': True, 'reason': 'User and/or item is unknown.'}),\n",
              " Prediction(uid='A1Y5EI8B2COILM', iid='B00001WRSJ', r_ui=4.0, est=4.13277566818924, details={'was_impossible': True, 'reason': 'User and/or item is unknown.'}),\n",
              " Prediction(uid='A105TOJ6LTVMBG', iid='B00005N6KG', r_ui=1.0, est=3.9925373134328357, details={'actual_k': 0, 'was_impossible': False}),\n",
              " Prediction(uid='A13DSVC09WOKUS', iid='B00005Q5U5', r_ui=5.0, est=4.13277566818924, details={'was_impossible': True, 'reason': 'User and/or item is unknown.'}),\n",
              " Prediction(uid='ANTBL8PZ8S28P', iid='B000058AKE', r_ui=5.0, est=4.13277566818924, details={'was_impossible': True, 'reason': 'User and/or item is unknown.'}),\n",
              " Prediction(uid='A3VD3PW7UXTY4B', iid='B00001P4ZH', r_ui=4.0, est=4.13277566818924, details={'was_impossible': True, 'reason': 'User and/or item is unknown.'}),\n",
              " Prediction(uid='A1YJJNA7GWRJ14', iid='B00005854B', r_ui=5.0, est=4.13277566818924, details={'was_impossible': True, 'reason': 'User and/or item is unknown.'}),\n",
              " Prediction(uid='A2O7C6ZHEYRJD1', iid='B00005T6GZ', r_ui=5.0, est=4.13277566818924, details={'was_impossible': True, 'reason': 'User and/or item is unknown.'}),\n",
              " Prediction(uid='A3UUMAE1MYTM2Z', iid='B00004XOM3', r_ui=5.0, est=4.13277566818924, details={'was_impossible': True, 'reason': 'User and/or item is unknown.'}),\n",
              " Prediction(uid='A2IP5Q1Q0KHNK0', iid='B00005BC0K', r_ui=1.0, est=4.13277566818924, details={'was_impossible': True, 'reason': 'User and/or item is unknown.'}),\n",
              " Prediction(uid='A30OCGX9SUDKUE', iid='B00000J4EY', r_ui=4.0, est=4.13277566818924, details={'was_impossible': True, 'reason': 'User and/or item is unknown.'}),\n",
              " Prediction(uid='A1JFC7G1V37QCV', iid='B00005TQ08', r_ui=5.0, est=4.509090909090909, details={'actual_k': 0, 'was_impossible': False}),\n",
              " Prediction(uid='AX435WOA49OWW', iid='B00004TWLY', r_ui=5.0, est=4.13277566818924, details={'was_impossible': True, 'reason': 'User and/or item is unknown.'}),\n",
              " Prediction(uid='A1DJNBKUKCLI40', iid='B00005NIMJ', r_ui=5.0, est=4.13277566818924, details={'was_impossible': True, 'reason': 'User and/or item is unknown.'}),\n",
              " Prediction(uid='A1SN3XZ4A0K8J5', iid='B00005NWQN', r_ui=4.0, est=4.13277566818924, details={'was_impossible': True, 'reason': 'User and/or item is unknown.'}),\n",
              " Prediction(uid='A2VS9IF9ZZ7ELZ', iid='B00005B8HO', r_ui=5.0, est=4.121951219512195, details={'actual_k': 0, 'was_impossible': False}),\n",
              " Prediction(uid='ARHWBWCJPRPNR', iid='B00004TL5Q', r_ui=4.0, est=4.13277566818924, details={'was_impossible': True, 'reason': 'User and/or item is unknown.'}),\n",
              " Prediction(uid='A1RASFGLNWHMMO', iid='B000051SEN', r_ui=5.0, est=4.13277566818924, details={'was_impossible': True, 'reason': 'User and/or item is unknown.'}),\n",
              " Prediction(uid='A77R3QB6D7390', iid='B00005U21H', r_ui=5.0, est=4.13277566818924, details={'was_impossible': True, 'reason': 'User and/or item is unknown.'}),\n",
              " Prediction(uid='A2WIVNIP9AENCN', iid='B000058BCR', r_ui=5.0, est=3.6923076923076925, details={'actual_k': 0, 'was_impossible': False}),\n",
              " Prediction(uid='A2XL3EE3QE8TDA', iid='B00004Z5PY', r_ui=5.0, est=4.13277566818924, details={'was_impossible': True, 'reason': 'User and/or item is unknown.'}),\n",
              " Prediction(uid='AB00B7MYI3NPS', iid='B00005LWLW', r_ui=5.0, est=4.13277566818924, details={'was_impossible': True, 'reason': 'User and/or item is unknown.'}),\n",
              " Prediction(uid='A3N94UF8YGZBOB', iid='B00005T6GZ', r_ui=5.0, est=4.13277566818924, details={'was_impossible': True, 'reason': 'User and/or item is unknown.'}),\n",
              " Prediction(uid='A1TSQF40H4MIWM', iid='0972683275', r_ui=5.0, est=4.13277566818924, details={'was_impossible': True, 'reason': 'User and/or item is unknown.'}),\n",
              " Prediction(uid='A2CWDYT0P6ASU9', iid='B00004RIUJ', r_ui=4.0, est=4.13277566818924, details={'was_impossible': True, 'reason': 'User and/or item is unknown.'}),\n",
              " Prediction(uid='A1O741QJJ7BL68', iid='B00005219O', r_ui=5.0, est=4.13277566818924, details={'was_impossible': True, 'reason': 'User and/or item is unknown.'}),\n",
              " Prediction(uid='A316YHCZZUJ6IN', iid='B000058BCR', r_ui=4.0, est=4.13277566818924, details={'was_impossible': True, 'reason': 'User and/or item is unknown.'}),\n",
              " Prediction(uid='A32X2QSK6J0P2O', iid='B000058BCQ', r_ui=4.0, est=4.13277566818924, details={'was_impossible': True, 'reason': 'User and/or item is unknown.'}),\n",
              " Prediction(uid='A3J6IMTOJISEP8', iid='B00004Z7G9', r_ui=4.0, est=4.13277566818924, details={'was_impossible': True, 'reason': 'User and/or item is unknown.'}),\n",
              " Prediction(uid='AORS7T7AWWPQ8', iid='B00005AW1H', r_ui=1.0, est=4.13277566818924, details={'was_impossible': True, 'reason': 'User and/or item is unknown.'}),\n",
              " Prediction(uid='A1WEVS6O5UGO1G', iid='B00004TH2X', r_ui=5.0, est=4.13277566818924, details={'was_impossible': True, 'reason': 'User and/or item is unknown.'}),\n",
              " Prediction(uid='A1XP41JDYBNXHP', iid='B00005853Z', r_ui=4.0, est=4.13277566818924, details={'was_impossible': True, 'reason': 'User and/or item is unknown.'}),\n",
              " Prediction(uid='AOY9SZTMNQWAW', iid='1400532655', r_ui=2.0, est=4.881258346935747, details={'actual_k': 1, 'was_impossible': False}),\n",
              " Prediction(uid='A3PJZY9UW1UZ6I', iid='8862935293', r_ui=4.0, est=4.13277566818924, details={'was_impossible': True, 'reason': 'User and/or item is unknown.'}),\n",
              " Prediction(uid='A3JKOCXGGGNJP5', iid='B000051ZOA', r_ui=5.0, est=4.13277566818924, details={'was_impossible': True, 'reason': 'User and/or item is unknown.'}),\n",
              " Prediction(uid='AAKL0SO0LJSSE', iid='B00004TWM6', r_ui=4.0, est=4.13277566818924, details={'was_impossible': True, 'reason': 'User and/or item is unknown.'}),\n",
              " Prediction(uid='A1NN2HKF0M16YS', iid='9573212919', r_ui=5.0, est=4.13277566818924, details={'was_impossible': True, 'reason': 'User and/or item is unknown.'}),\n",
              " Prediction(uid='A1DQXGOK1BL3IZ', iid='B00005ARK3', r_ui=4.0, est=4.13277566818924, details={'was_impossible': True, 'reason': 'User and/or item is unknown.'}),\n",
              " Prediction(uid='A15F4MYRD9YQNL', iid='B00005T39Y', r_ui=3.0, est=4.13277566818924, details={'was_impossible': True, 'reason': 'User and/or item is unknown.'}),\n",
              " Prediction(uid='A385NKKE1YFOZW', iid='B00004ZCJE', r_ui=5.0, est=4.104879416713405, details={'actual_k': 0, 'was_impossible': False}),\n",
              " Prediction(uid='A1PVG70CWSKT7E', iid='B00005Y3OM', r_ui=5.0, est=4.13277566818924, details={'was_impossible': True, 'reason': 'User and/or item is unknown.'}),\n",
              " Prediction(uid='A4ZTZ7WRZUIMH', iid='B00004TWM6', r_ui=5.0, est=4.13277566818924, details={'was_impossible': True, 'reason': 'User and/or item is unknown.'}),\n",
              " Prediction(uid='A2HHIRO32ZWEKU', iid='B00005KK2Q', r_ui=1.0, est=4.13277566818924, details={'was_impossible': True, 'reason': 'User and/or item is unknown.'}),\n",
              " Prediction(uid='A2FPQZ219OT50W', iid='B000026D8E', r_ui=2.0, est=4.13277566818924, details={'was_impossible': True, 'reason': 'User and/or item is unknown.'}),\n",
              " Prediction(uid='A11CJKKLJ5FLHX', iid='B00005AR4L', r_ui=1.0, est=4.13277566818924, details={'was_impossible': True, 'reason': 'User and/or item is unknown.'}),\n",
              " Prediction(uid='A21HDGRRFYYLLR', iid='B00005T3BD', r_ui=5.0, est=4.13277566818924, details={'was_impossible': True, 'reason': 'User and/or item is unknown.'}),\n",
              " Prediction(uid='A2F3NW7908J9Z4', iid='B00005ATMI', r_ui=5.0, est=4.13277566818924, details={'was_impossible': True, 'reason': 'User and/or item is unknown.'}),\n",
              " Prediction(uid='AF5XGE00P9O70', iid='B00003006R', r_ui=5.0, est=3.635135135135135, details={'actual_k': 0, 'was_impossible': False}),\n",
              " Prediction(uid='A311WQFL4NVSRG', iid='B00005TQ08', r_ui=5.0, est=4.13277566818924, details={'was_impossible': True, 'reason': 'User and/or item is unknown.'}),\n",
              " Prediction(uid='A3QADJ9PY1MTME', iid='B000038ABH', r_ui=3.0, est=4.13277566818924, details={'was_impossible': True, 'reason': 'User and/or item is unknown.'}),\n",
              " Prediction(uid='A2V84I2M1DT1TZ', iid='B00001WRSJ', r_ui=5.0, est=4.13277566818924, details={'was_impossible': True, 'reason': 'User and/or item is unknown.'}),\n",
              " Prediction(uid='A2SP801HCY2QE4', iid='140053271X', r_ui=5.0, est=4.13277566818924, details={'was_impossible': True, 'reason': 'User and/or item is unknown.'}),\n",
              " Prediction(uid='A2MF1MU1RY6GM1', iid='B00004Z0C7', r_ui=5.0, est=4.13277566818924, details={'was_impossible': True, 'reason': 'User and/or item is unknown.'}),\n",
              " Prediction(uid='A2T6RYM3X1RPN7', iid='B00004T0RC', r_ui=5.0, est=4.13277566818924, details={'was_impossible': True, 'reason': 'User and/or item is unknown.'}),\n",
              " ...]"
            ]
          },
          "metadata": {},
          "execution_count": 48
        }
      ]
    },
    {
      "cell_type": "code",
      "source": [
        "# get RMSE\n",
        "print(\"Item-based Model : Test Set\")\n",
        "accuracy.rmse(test_pred, verbose=True)"
      ],
      "metadata": {
        "colab": {
          "base_uri": "https://localhost:8080/"
        },
        "id": "RTH8tsx_qUXq",
        "outputId": "c6c54a3e-5597-4581-b764-211552151ce5"
      },
      "execution_count": 49,
      "outputs": [
        {
          "output_type": "stream",
          "name": "stdout",
          "text": [
            "Item-based Model : Test Set\n",
            "RMSE: 1.2771\n"
          ]
        },
        {
          "output_type": "execute_result",
          "data": {
            "text/plain": [
              "1.277149275573827"
            ]
          },
          "metadata": {},
          "execution_count": 49
        }
      ]
    },
    {
      "cell_type": "markdown",
      "source": [
        "## Model-based collaborative filtering system"
      ],
      "metadata": {
        "id": "r8BlXHD_qWKG"
      }
    },
    {
      "cell_type": "code",
      "source": [
        "new_df1=new_df.head(10000)\n",
        "ratings_matrix = new_df1.pivot_table(values='Rating', index='userId', columns='productId', fill_value=0)\n",
        "ratings_matrix.head()"
      ],
      "metadata": {
        "colab": {
          "base_uri": "https://localhost:8080/",
          "height": 287
        },
        "id": "5A3npD9XqZlr",
        "outputId": "b30adbd7-f33b-48cc-d98e-62cc1ce69ee7"
      },
      "execution_count": 50,
      "outputs": [
        {
          "output_type": "execute_result",
          "data": {
            "text/plain": [
              "productId              0972683275  1400501466  1400501520  1400501776  \\\n",
              "userId                                                                  \n",
              "A01852072Z7B68UHLI5UG           0           0           0           0   \n",
              "A0266076X6KPZ6CCHGVS            0           0           0           0   \n",
              "A0293130VTX2ZXA70JQS            5           0           0           0   \n",
              "A030530627MK66BD8V4LN           4           0           0           0   \n",
              "A0571176384K8RBNKGF8O           0           0           0           0   \n",
              "\n",
              "productId              1400532620  1400532655  140053271X  1400532736  \\\n",
              "userId                                                                  \n",
              "A01852072Z7B68UHLI5UG           0           0           0           0   \n",
              "A0266076X6KPZ6CCHGVS            0           0           0           0   \n",
              "A0293130VTX2ZXA70JQS            0           0           0           0   \n",
              "A030530627MK66BD8V4LN           0           0           0           0   \n",
              "A0571176384K8RBNKGF8O           0           0           0           0   \n",
              "\n",
              "productId              1400599997  1400698987  ...  B00000JFMK  B00000JHWX  \\\n",
              "userId                                         ...                           \n",
              "A01852072Z7B68UHLI5UG           0           0  ...           0           0   \n",
              "A0266076X6KPZ6CCHGVS            0           0  ...           0           0   \n",
              "A0293130VTX2ZXA70JQS            0           0  ...           0           0   \n",
              "A030530627MK66BD8V4LN           0           0  ...           0           0   \n",
              "A0571176384K8RBNKGF8O           0           0  ...           0           0   \n",
              "\n",
              "productId              B00000JI4F  B00000JII6  B00000JMUG  B00000JPPI  \\\n",
              "userId                                                                  \n",
              "A01852072Z7B68UHLI5UG           0           0           0           0   \n",
              "A0266076X6KPZ6CCHGVS            0           0           0           0   \n",
              "A0293130VTX2ZXA70JQS            0           0           0           0   \n",
              "A030530627MK66BD8V4LN           0           0           0           0   \n",
              "A0571176384K8RBNKGF8O           0           0           0           0   \n",
              "\n",
              "productId              B00000JSGF  B00000JYLO  B00000JYWQ  B00000K135  \n",
              "userId                                                                 \n",
              "A01852072Z7B68UHLI5UG           0           0           0           0  \n",
              "A0266076X6KPZ6CCHGVS            0           0           0           0  \n",
              "A0293130VTX2ZXA70JQS            0           0           0           0  \n",
              "A030530627MK66BD8V4LN           0           0           0           0  \n",
              "A0571176384K8RBNKGF8O           0           0           0           0  \n",
              "\n",
              "[5 rows x 76 columns]"
            ],
            "text/html": [
              "\n",
              "  <div id=\"df-4f6cded9-2dd0-4530-bd8b-745d4d2162e7\" class=\"colab-df-container\">\n",
              "    <div>\n",
              "<style scoped>\n",
              "    .dataframe tbody tr th:only-of-type {\n",
              "        vertical-align: middle;\n",
              "    }\n",
              "\n",
              "    .dataframe tbody tr th {\n",
              "        vertical-align: top;\n",
              "    }\n",
              "\n",
              "    .dataframe thead th {\n",
              "        text-align: right;\n",
              "    }\n",
              "</style>\n",
              "<table border=\"1\" class=\"dataframe\">\n",
              "  <thead>\n",
              "    <tr style=\"text-align: right;\">\n",
              "      <th>productId</th>\n",
              "      <th>0972683275</th>\n",
              "      <th>1400501466</th>\n",
              "      <th>1400501520</th>\n",
              "      <th>1400501776</th>\n",
              "      <th>1400532620</th>\n",
              "      <th>1400532655</th>\n",
              "      <th>140053271X</th>\n",
              "      <th>1400532736</th>\n",
              "      <th>1400599997</th>\n",
              "      <th>1400698987</th>\n",
              "      <th>...</th>\n",
              "      <th>B00000JFMK</th>\n",
              "      <th>B00000JHWX</th>\n",
              "      <th>B00000JI4F</th>\n",
              "      <th>B00000JII6</th>\n",
              "      <th>B00000JMUG</th>\n",
              "      <th>B00000JPPI</th>\n",
              "      <th>B00000JSGF</th>\n",
              "      <th>B00000JYLO</th>\n",
              "      <th>B00000JYWQ</th>\n",
              "      <th>B00000K135</th>\n",
              "    </tr>\n",
              "    <tr>\n",
              "      <th>userId</th>\n",
              "      <th></th>\n",
              "      <th></th>\n",
              "      <th></th>\n",
              "      <th></th>\n",
              "      <th></th>\n",
              "      <th></th>\n",
              "      <th></th>\n",
              "      <th></th>\n",
              "      <th></th>\n",
              "      <th></th>\n",
              "      <th></th>\n",
              "      <th></th>\n",
              "      <th></th>\n",
              "      <th></th>\n",
              "      <th></th>\n",
              "      <th></th>\n",
              "      <th></th>\n",
              "      <th></th>\n",
              "      <th></th>\n",
              "      <th></th>\n",
              "      <th></th>\n",
              "    </tr>\n",
              "  </thead>\n",
              "  <tbody>\n",
              "    <tr>\n",
              "      <th>A01852072Z7B68UHLI5UG</th>\n",
              "      <td>0</td>\n",
              "      <td>0</td>\n",
              "      <td>0</td>\n",
              "      <td>0</td>\n",
              "      <td>0</td>\n",
              "      <td>0</td>\n",
              "      <td>0</td>\n",
              "      <td>0</td>\n",
              "      <td>0</td>\n",
              "      <td>0</td>\n",
              "      <td>...</td>\n",
              "      <td>0</td>\n",
              "      <td>0</td>\n",
              "      <td>0</td>\n",
              "      <td>0</td>\n",
              "      <td>0</td>\n",
              "      <td>0</td>\n",
              "      <td>0</td>\n",
              "      <td>0</td>\n",
              "      <td>0</td>\n",
              "      <td>0</td>\n",
              "    </tr>\n",
              "    <tr>\n",
              "      <th>A0266076X6KPZ6CCHGVS</th>\n",
              "      <td>0</td>\n",
              "      <td>0</td>\n",
              "      <td>0</td>\n",
              "      <td>0</td>\n",
              "      <td>0</td>\n",
              "      <td>0</td>\n",
              "      <td>0</td>\n",
              "      <td>0</td>\n",
              "      <td>0</td>\n",
              "      <td>0</td>\n",
              "      <td>...</td>\n",
              "      <td>0</td>\n",
              "      <td>0</td>\n",
              "      <td>0</td>\n",
              "      <td>0</td>\n",
              "      <td>0</td>\n",
              "      <td>0</td>\n",
              "      <td>0</td>\n",
              "      <td>0</td>\n",
              "      <td>0</td>\n",
              "      <td>0</td>\n",
              "    </tr>\n",
              "    <tr>\n",
              "      <th>A0293130VTX2ZXA70JQS</th>\n",
              "      <td>5</td>\n",
              "      <td>0</td>\n",
              "      <td>0</td>\n",
              "      <td>0</td>\n",
              "      <td>0</td>\n",
              "      <td>0</td>\n",
              "      <td>0</td>\n",
              "      <td>0</td>\n",
              "      <td>0</td>\n",
              "      <td>0</td>\n",
              "      <td>...</td>\n",
              "      <td>0</td>\n",
              "      <td>0</td>\n",
              "      <td>0</td>\n",
              "      <td>0</td>\n",
              "      <td>0</td>\n",
              "      <td>0</td>\n",
              "      <td>0</td>\n",
              "      <td>0</td>\n",
              "      <td>0</td>\n",
              "      <td>0</td>\n",
              "    </tr>\n",
              "    <tr>\n",
              "      <th>A030530627MK66BD8V4LN</th>\n",
              "      <td>4</td>\n",
              "      <td>0</td>\n",
              "      <td>0</td>\n",
              "      <td>0</td>\n",
              "      <td>0</td>\n",
              "      <td>0</td>\n",
              "      <td>0</td>\n",
              "      <td>0</td>\n",
              "      <td>0</td>\n",
              "      <td>0</td>\n",
              "      <td>...</td>\n",
              "      <td>0</td>\n",
              "      <td>0</td>\n",
              "      <td>0</td>\n",
              "      <td>0</td>\n",
              "      <td>0</td>\n",
              "      <td>0</td>\n",
              "      <td>0</td>\n",
              "      <td>0</td>\n",
              "      <td>0</td>\n",
              "      <td>0</td>\n",
              "    </tr>\n",
              "    <tr>\n",
              "      <th>A0571176384K8RBNKGF8O</th>\n",
              "      <td>0</td>\n",
              "      <td>0</td>\n",
              "      <td>0</td>\n",
              "      <td>0</td>\n",
              "      <td>0</td>\n",
              "      <td>0</td>\n",
              "      <td>0</td>\n",
              "      <td>0</td>\n",
              "      <td>0</td>\n",
              "      <td>0</td>\n",
              "      <td>...</td>\n",
              "      <td>0</td>\n",
              "      <td>0</td>\n",
              "      <td>0</td>\n",
              "      <td>0</td>\n",
              "      <td>0</td>\n",
              "      <td>0</td>\n",
              "      <td>0</td>\n",
              "      <td>0</td>\n",
              "      <td>0</td>\n",
              "      <td>0</td>\n",
              "    </tr>\n",
              "  </tbody>\n",
              "</table>\n",
              "<p>5 rows × 76 columns</p>\n",
              "</div>\n",
              "    <div class=\"colab-df-buttons\">\n",
              "\n",
              "  <div class=\"colab-df-container\">\n",
              "    <button class=\"colab-df-convert\" onclick=\"convertToInteractive('df-4f6cded9-2dd0-4530-bd8b-745d4d2162e7')\"\n",
              "            title=\"Convert this dataframe to an interactive table.\"\n",
              "            style=\"display:none;\">\n",
              "\n",
              "  <svg xmlns=\"http://www.w3.org/2000/svg\" height=\"24px\" viewBox=\"0 -960 960 960\">\n",
              "    <path d=\"M120-120v-720h720v720H120Zm60-500h600v-160H180v160Zm220 220h160v-160H400v160Zm0 220h160v-160H400v160ZM180-400h160v-160H180v160Zm440 0h160v-160H620v160ZM180-180h160v-160H180v160Zm440 0h160v-160H620v160Z\"/>\n",
              "  </svg>\n",
              "    </button>\n",
              "\n",
              "  <style>\n",
              "    .colab-df-container {\n",
              "      display:flex;\n",
              "      gap: 12px;\n",
              "    }\n",
              "\n",
              "    .colab-df-convert {\n",
              "      background-color: #E8F0FE;\n",
              "      border: none;\n",
              "      border-radius: 50%;\n",
              "      cursor: pointer;\n",
              "      display: none;\n",
              "      fill: #1967D2;\n",
              "      height: 32px;\n",
              "      padding: 0 0 0 0;\n",
              "      width: 32px;\n",
              "    }\n",
              "\n",
              "    .colab-df-convert:hover {\n",
              "      background-color: #E2EBFA;\n",
              "      box-shadow: 0px 1px 2px rgba(60, 64, 67, 0.3), 0px 1px 3px 1px rgba(60, 64, 67, 0.15);\n",
              "      fill: #174EA6;\n",
              "    }\n",
              "\n",
              "    .colab-df-buttons div {\n",
              "      margin-bottom: 4px;\n",
              "    }\n",
              "\n",
              "    [theme=dark] .colab-df-convert {\n",
              "      background-color: #3B4455;\n",
              "      fill: #D2E3FC;\n",
              "    }\n",
              "\n",
              "    [theme=dark] .colab-df-convert:hover {\n",
              "      background-color: #434B5C;\n",
              "      box-shadow: 0px 1px 3px 1px rgba(0, 0, 0, 0.15);\n",
              "      filter: drop-shadow(0px 1px 2px rgba(0, 0, 0, 0.3));\n",
              "      fill: #FFFFFF;\n",
              "    }\n",
              "  </style>\n",
              "\n",
              "    <script>\n",
              "      const buttonEl =\n",
              "        document.querySelector('#df-4f6cded9-2dd0-4530-bd8b-745d4d2162e7 button.colab-df-convert');\n",
              "      buttonEl.style.display =\n",
              "        google.colab.kernel.accessAllowed ? 'block' : 'none';\n",
              "\n",
              "      async function convertToInteractive(key) {\n",
              "        const element = document.querySelector('#df-4f6cded9-2dd0-4530-bd8b-745d4d2162e7');\n",
              "        const dataTable =\n",
              "          await google.colab.kernel.invokeFunction('convertToInteractive',\n",
              "                                                    [key], {});\n",
              "        if (!dataTable) return;\n",
              "\n",
              "        const docLinkHtml = 'Like what you see? Visit the ' +\n",
              "          '<a target=\"_blank\" href=https://colab.research.google.com/notebooks/data_table.ipynb>data table notebook</a>'\n",
              "          + ' to learn more about interactive tables.';\n",
              "        element.innerHTML = '';\n",
              "        dataTable['output_type'] = 'display_data';\n",
              "        await google.colab.output.renderOutput(dataTable, element);\n",
              "        const docLink = document.createElement('div');\n",
              "        docLink.innerHTML = docLinkHtml;\n",
              "        element.appendChild(docLink);\n",
              "      }\n",
              "    </script>\n",
              "  </div>\n",
              "\n",
              "\n",
              "<div id=\"df-0f92ceba-4a4f-40e2-845e-f76f57c8690a\">\n",
              "  <button class=\"colab-df-quickchart\" onclick=\"quickchart('df-0f92ceba-4a4f-40e2-845e-f76f57c8690a')\"\n",
              "            title=\"Suggest charts\"\n",
              "            style=\"display:none;\">\n",
              "\n",
              "<svg xmlns=\"http://www.w3.org/2000/svg\" height=\"24px\"viewBox=\"0 0 24 24\"\n",
              "     width=\"24px\">\n",
              "    <g>\n",
              "        <path d=\"M19 3H5c-1.1 0-2 .9-2 2v14c0 1.1.9 2 2 2h14c1.1 0 2-.9 2-2V5c0-1.1-.9-2-2-2zM9 17H7v-7h2v7zm4 0h-2V7h2v10zm4 0h-2v-4h2v4z\"/>\n",
              "    </g>\n",
              "</svg>\n",
              "  </button>\n",
              "\n",
              "<style>\n",
              "  .colab-df-quickchart {\n",
              "      --bg-color: #E8F0FE;\n",
              "      --fill-color: #1967D2;\n",
              "      --hover-bg-color: #E2EBFA;\n",
              "      --hover-fill-color: #174EA6;\n",
              "      --disabled-fill-color: #AAA;\n",
              "      --disabled-bg-color: #DDD;\n",
              "  }\n",
              "\n",
              "  [theme=dark] .colab-df-quickchart {\n",
              "      --bg-color: #3B4455;\n",
              "      --fill-color: #D2E3FC;\n",
              "      --hover-bg-color: #434B5C;\n",
              "      --hover-fill-color: #FFFFFF;\n",
              "      --disabled-bg-color: #3B4455;\n",
              "      --disabled-fill-color: #666;\n",
              "  }\n",
              "\n",
              "  .colab-df-quickchart {\n",
              "    background-color: var(--bg-color);\n",
              "    border: none;\n",
              "    border-radius: 50%;\n",
              "    cursor: pointer;\n",
              "    display: none;\n",
              "    fill: var(--fill-color);\n",
              "    height: 32px;\n",
              "    padding: 0;\n",
              "    width: 32px;\n",
              "  }\n",
              "\n",
              "  .colab-df-quickchart:hover {\n",
              "    background-color: var(--hover-bg-color);\n",
              "    box-shadow: 0 1px 2px rgba(60, 64, 67, 0.3), 0 1px 3px 1px rgba(60, 64, 67, 0.15);\n",
              "    fill: var(--button-hover-fill-color);\n",
              "  }\n",
              "\n",
              "  .colab-df-quickchart-complete:disabled,\n",
              "  .colab-df-quickchart-complete:disabled:hover {\n",
              "    background-color: var(--disabled-bg-color);\n",
              "    fill: var(--disabled-fill-color);\n",
              "    box-shadow: none;\n",
              "  }\n",
              "\n",
              "  .colab-df-spinner {\n",
              "    border: 2px solid var(--fill-color);\n",
              "    border-color: transparent;\n",
              "    border-bottom-color: var(--fill-color);\n",
              "    animation:\n",
              "      spin 1s steps(1) infinite;\n",
              "  }\n",
              "\n",
              "  @keyframes spin {\n",
              "    0% {\n",
              "      border-color: transparent;\n",
              "      border-bottom-color: var(--fill-color);\n",
              "      border-left-color: var(--fill-color);\n",
              "    }\n",
              "    20% {\n",
              "      border-color: transparent;\n",
              "      border-left-color: var(--fill-color);\n",
              "      border-top-color: var(--fill-color);\n",
              "    }\n",
              "    30% {\n",
              "      border-color: transparent;\n",
              "      border-left-color: var(--fill-color);\n",
              "      border-top-color: var(--fill-color);\n",
              "      border-right-color: var(--fill-color);\n",
              "    }\n",
              "    40% {\n",
              "      border-color: transparent;\n",
              "      border-right-color: var(--fill-color);\n",
              "      border-top-color: var(--fill-color);\n",
              "    }\n",
              "    60% {\n",
              "      border-color: transparent;\n",
              "      border-right-color: var(--fill-color);\n",
              "    }\n",
              "    80% {\n",
              "      border-color: transparent;\n",
              "      border-right-color: var(--fill-color);\n",
              "      border-bottom-color: var(--fill-color);\n",
              "    }\n",
              "    90% {\n",
              "      border-color: transparent;\n",
              "      border-bottom-color: var(--fill-color);\n",
              "    }\n",
              "  }\n",
              "</style>\n",
              "\n",
              "  <script>\n",
              "    async function quickchart(key) {\n",
              "      const quickchartButtonEl =\n",
              "        document.querySelector('#' + key + ' button');\n",
              "      quickchartButtonEl.disabled = true;  // To prevent multiple clicks.\n",
              "      quickchartButtonEl.classList.add('colab-df-spinner');\n",
              "      try {\n",
              "        const charts = await google.colab.kernel.invokeFunction(\n",
              "            'suggestCharts', [key], {});\n",
              "      } catch (error) {\n",
              "        console.error('Error during call to suggestCharts:', error);\n",
              "      }\n",
              "      quickchartButtonEl.classList.remove('colab-df-spinner');\n",
              "      quickchartButtonEl.classList.add('colab-df-quickchart-complete');\n",
              "    }\n",
              "    (() => {\n",
              "      let quickchartButtonEl =\n",
              "        document.querySelector('#df-0f92ceba-4a4f-40e2-845e-f76f57c8690a button');\n",
              "      quickchartButtonEl.style.display =\n",
              "        google.colab.kernel.accessAllowed ? 'block' : 'none';\n",
              "    })();\n",
              "  </script>\n",
              "</div>\n",
              "    </div>\n",
              "  </div>\n"
            ]
          },
          "metadata": {},
          "execution_count": 50
        }
      ]
    },
    {
      "cell_type": "code",
      "source": [
        "ratings_matrix.shape"
      ],
      "metadata": {
        "colab": {
          "base_uri": "https://localhost:8080/"
        },
        "id": "V7N1ViotqeSu",
        "outputId": "68dc63fe-89ce-4464-a992-5e5ff3760a9d"
      },
      "execution_count": 51,
      "outputs": [
        {
          "output_type": "execute_result",
          "data": {
            "text/plain": [
              "(9832, 76)"
            ]
          },
          "metadata": {},
          "execution_count": 51
        }
      ]
    },
    {
      "cell_type": "code",
      "source": [
        "X = ratings_matrix.T\n",
        "X.head()"
      ],
      "metadata": {
        "colab": {
          "base_uri": "https://localhost:8080/",
          "height": 287
        },
        "id": "bepU7eamqf4C",
        "outputId": "3ac2372c-7f1f-4d7f-cb00-300203ceb39f"
      },
      "execution_count": 52,
      "outputs": [
        {
          "output_type": "execute_result",
          "data": {
            "text/plain": [
              "userId      A01852072Z7B68UHLI5UG  A0266076X6KPZ6CCHGVS  A0293130VTX2ZXA70JQS  \\\n",
              "productId                                                                       \n",
              "0972683275                      0                     0                     5   \n",
              "1400501466                      0                     0                     0   \n",
              "1400501520                      0                     0                     0   \n",
              "1400501776                      0                     0                     0   \n",
              "1400532620                      0                     0                     0   \n",
              "\n",
              "userId      A030530627MK66BD8V4LN  A0571176384K8RBNKGF8O  \\\n",
              "productId                                                  \n",
              "0972683275                      4                      0   \n",
              "1400501466                      0                      0   \n",
              "1400501520                      0                      0   \n",
              "1400501776                      0                      0   \n",
              "1400532620                      0                      0   \n",
              "\n",
              "userId      A0590501PZ7HOWJKBGQ4  A0641581307AKT5MAOU0Q  \\\n",
              "productId                                                 \n",
              "0972683275                     0                      0   \n",
              "1400501466                     0                      0   \n",
              "1400501520                     0                      0   \n",
              "1400501776                     0                      0   \n",
              "1400532620                     0                      0   \n",
              "\n",
              "userId      A076219533YHEV2LJO988  A0821988FXKFYX53V4QG  \\\n",
              "productId                                                 \n",
              "0972683275                      0                     0   \n",
              "1400501466                      0                     0   \n",
              "1400501520                      0                     0   \n",
              "1400501776                      0                     0   \n",
              "1400532620                      0                     0   \n",
              "\n",
              "userId      A099626739FNCRNHIKBCG  ...  AZWOPBY75SGAM  AZX0ZDVAFMN78  \\\n",
              "productId                          ...                                 \n",
              "0972683275                      0  ...              0              0   \n",
              "1400501466                      0  ...              0              0   \n",
              "1400501520                      3  ...              0              0   \n",
              "1400501776                      0  ...              0              0   \n",
              "1400532620                      0  ...              0              0   \n",
              "\n",
              "userId      AZX5LAN9JEAFF  AZX7I110AF0W2  AZXKUK895VGSM  AZXP46IB63PU8  \\\n",
              "productId                                                                \n",
              "0972683275              0              0              0              0   \n",
              "1400501466              0              0              0              0   \n",
              "1400501520              0              0              0              0   \n",
              "1400501776              0              0              0              0   \n",
              "1400532620              0              0              0              0   \n",
              "\n",
              "userId      AZYTSU42BZ7TP  AZZGJ2KMWB7R  AZZMV5VT9W7Y8  AZZST8OYL5P4Q  \n",
              "productId                                                              \n",
              "0972683275              0             0              0              0  \n",
              "1400501466              0             0              0              0  \n",
              "1400501520              0             0              0              0  \n",
              "1400501776              0             0              1              0  \n",
              "1400532620              0             0              0              0  \n",
              "\n",
              "[5 rows x 9832 columns]"
            ],
            "text/html": [
              "\n",
              "  <div id=\"df-46bd12c5-151c-4e2f-a679-01964e05dcbc\" class=\"colab-df-container\">\n",
              "    <div>\n",
              "<style scoped>\n",
              "    .dataframe tbody tr th:only-of-type {\n",
              "        vertical-align: middle;\n",
              "    }\n",
              "\n",
              "    .dataframe tbody tr th {\n",
              "        vertical-align: top;\n",
              "    }\n",
              "\n",
              "    .dataframe thead th {\n",
              "        text-align: right;\n",
              "    }\n",
              "</style>\n",
              "<table border=\"1\" class=\"dataframe\">\n",
              "  <thead>\n",
              "    <tr style=\"text-align: right;\">\n",
              "      <th>userId</th>\n",
              "      <th>A01852072Z7B68UHLI5UG</th>\n",
              "      <th>A0266076X6KPZ6CCHGVS</th>\n",
              "      <th>A0293130VTX2ZXA70JQS</th>\n",
              "      <th>A030530627MK66BD8V4LN</th>\n",
              "      <th>A0571176384K8RBNKGF8O</th>\n",
              "      <th>A0590501PZ7HOWJKBGQ4</th>\n",
              "      <th>A0641581307AKT5MAOU0Q</th>\n",
              "      <th>A076219533YHEV2LJO988</th>\n",
              "      <th>A0821988FXKFYX53V4QG</th>\n",
              "      <th>A099626739FNCRNHIKBCG</th>\n",
              "      <th>...</th>\n",
              "      <th>AZWOPBY75SGAM</th>\n",
              "      <th>AZX0ZDVAFMN78</th>\n",
              "      <th>AZX5LAN9JEAFF</th>\n",
              "      <th>AZX7I110AF0W2</th>\n",
              "      <th>AZXKUK895VGSM</th>\n",
              "      <th>AZXP46IB63PU8</th>\n",
              "      <th>AZYTSU42BZ7TP</th>\n",
              "      <th>AZZGJ2KMWB7R</th>\n",
              "      <th>AZZMV5VT9W7Y8</th>\n",
              "      <th>AZZST8OYL5P4Q</th>\n",
              "    </tr>\n",
              "    <tr>\n",
              "      <th>productId</th>\n",
              "      <th></th>\n",
              "      <th></th>\n",
              "      <th></th>\n",
              "      <th></th>\n",
              "      <th></th>\n",
              "      <th></th>\n",
              "      <th></th>\n",
              "      <th></th>\n",
              "      <th></th>\n",
              "      <th></th>\n",
              "      <th></th>\n",
              "      <th></th>\n",
              "      <th></th>\n",
              "      <th></th>\n",
              "      <th></th>\n",
              "      <th></th>\n",
              "      <th></th>\n",
              "      <th></th>\n",
              "      <th></th>\n",
              "      <th></th>\n",
              "      <th></th>\n",
              "    </tr>\n",
              "  </thead>\n",
              "  <tbody>\n",
              "    <tr>\n",
              "      <th>0972683275</th>\n",
              "      <td>0</td>\n",
              "      <td>0</td>\n",
              "      <td>5</td>\n",
              "      <td>4</td>\n",
              "      <td>0</td>\n",
              "      <td>0</td>\n",
              "      <td>0</td>\n",
              "      <td>0</td>\n",
              "      <td>0</td>\n",
              "      <td>0</td>\n",
              "      <td>...</td>\n",
              "      <td>0</td>\n",
              "      <td>0</td>\n",
              "      <td>0</td>\n",
              "      <td>0</td>\n",
              "      <td>0</td>\n",
              "      <td>0</td>\n",
              "      <td>0</td>\n",
              "      <td>0</td>\n",
              "      <td>0</td>\n",
              "      <td>0</td>\n",
              "    </tr>\n",
              "    <tr>\n",
              "      <th>1400501466</th>\n",
              "      <td>0</td>\n",
              "      <td>0</td>\n",
              "      <td>0</td>\n",
              "      <td>0</td>\n",
              "      <td>0</td>\n",
              "      <td>0</td>\n",
              "      <td>0</td>\n",
              "      <td>0</td>\n",
              "      <td>0</td>\n",
              "      <td>0</td>\n",
              "      <td>...</td>\n",
              "      <td>0</td>\n",
              "      <td>0</td>\n",
              "      <td>0</td>\n",
              "      <td>0</td>\n",
              "      <td>0</td>\n",
              "      <td>0</td>\n",
              "      <td>0</td>\n",
              "      <td>0</td>\n",
              "      <td>0</td>\n",
              "      <td>0</td>\n",
              "    </tr>\n",
              "    <tr>\n",
              "      <th>1400501520</th>\n",
              "      <td>0</td>\n",
              "      <td>0</td>\n",
              "      <td>0</td>\n",
              "      <td>0</td>\n",
              "      <td>0</td>\n",
              "      <td>0</td>\n",
              "      <td>0</td>\n",
              "      <td>0</td>\n",
              "      <td>0</td>\n",
              "      <td>3</td>\n",
              "      <td>...</td>\n",
              "      <td>0</td>\n",
              "      <td>0</td>\n",
              "      <td>0</td>\n",
              "      <td>0</td>\n",
              "      <td>0</td>\n",
              "      <td>0</td>\n",
              "      <td>0</td>\n",
              "      <td>0</td>\n",
              "      <td>0</td>\n",
              "      <td>0</td>\n",
              "    </tr>\n",
              "    <tr>\n",
              "      <th>1400501776</th>\n",
              "      <td>0</td>\n",
              "      <td>0</td>\n",
              "      <td>0</td>\n",
              "      <td>0</td>\n",
              "      <td>0</td>\n",
              "      <td>0</td>\n",
              "      <td>0</td>\n",
              "      <td>0</td>\n",
              "      <td>0</td>\n",
              "      <td>0</td>\n",
              "      <td>...</td>\n",
              "      <td>0</td>\n",
              "      <td>0</td>\n",
              "      <td>0</td>\n",
              "      <td>0</td>\n",
              "      <td>0</td>\n",
              "      <td>0</td>\n",
              "      <td>0</td>\n",
              "      <td>0</td>\n",
              "      <td>1</td>\n",
              "      <td>0</td>\n",
              "    </tr>\n",
              "    <tr>\n",
              "      <th>1400532620</th>\n",
              "      <td>0</td>\n",
              "      <td>0</td>\n",
              "      <td>0</td>\n",
              "      <td>0</td>\n",
              "      <td>0</td>\n",
              "      <td>0</td>\n",
              "      <td>0</td>\n",
              "      <td>0</td>\n",
              "      <td>0</td>\n",
              "      <td>0</td>\n",
              "      <td>...</td>\n",
              "      <td>0</td>\n",
              "      <td>0</td>\n",
              "      <td>0</td>\n",
              "      <td>0</td>\n",
              "      <td>0</td>\n",
              "      <td>0</td>\n",
              "      <td>0</td>\n",
              "      <td>0</td>\n",
              "      <td>0</td>\n",
              "      <td>0</td>\n",
              "    </tr>\n",
              "  </tbody>\n",
              "</table>\n",
              "<p>5 rows × 9832 columns</p>\n",
              "</div>\n",
              "    <div class=\"colab-df-buttons\">\n",
              "\n",
              "  <div class=\"colab-df-container\">\n",
              "    <button class=\"colab-df-convert\" onclick=\"convertToInteractive('df-46bd12c5-151c-4e2f-a679-01964e05dcbc')\"\n",
              "            title=\"Convert this dataframe to an interactive table.\"\n",
              "            style=\"display:none;\">\n",
              "\n",
              "  <svg xmlns=\"http://www.w3.org/2000/svg\" height=\"24px\" viewBox=\"0 -960 960 960\">\n",
              "    <path d=\"M120-120v-720h720v720H120Zm60-500h600v-160H180v160Zm220 220h160v-160H400v160Zm0 220h160v-160H400v160ZM180-400h160v-160H180v160Zm440 0h160v-160H620v160ZM180-180h160v-160H180v160Zm440 0h160v-160H620v160Z\"/>\n",
              "  </svg>\n",
              "    </button>\n",
              "\n",
              "  <style>\n",
              "    .colab-df-container {\n",
              "      display:flex;\n",
              "      gap: 12px;\n",
              "    }\n",
              "\n",
              "    .colab-df-convert {\n",
              "      background-color: #E8F0FE;\n",
              "      border: none;\n",
              "      border-radius: 50%;\n",
              "      cursor: pointer;\n",
              "      display: none;\n",
              "      fill: #1967D2;\n",
              "      height: 32px;\n",
              "      padding: 0 0 0 0;\n",
              "      width: 32px;\n",
              "    }\n",
              "\n",
              "    .colab-df-convert:hover {\n",
              "      background-color: #E2EBFA;\n",
              "      box-shadow: 0px 1px 2px rgba(60, 64, 67, 0.3), 0px 1px 3px 1px rgba(60, 64, 67, 0.15);\n",
              "      fill: #174EA6;\n",
              "    }\n",
              "\n",
              "    .colab-df-buttons div {\n",
              "      margin-bottom: 4px;\n",
              "    }\n",
              "\n",
              "    [theme=dark] .colab-df-convert {\n",
              "      background-color: #3B4455;\n",
              "      fill: #D2E3FC;\n",
              "    }\n",
              "\n",
              "    [theme=dark] .colab-df-convert:hover {\n",
              "      background-color: #434B5C;\n",
              "      box-shadow: 0px 1px 3px 1px rgba(0, 0, 0, 0.15);\n",
              "      filter: drop-shadow(0px 1px 2px rgba(0, 0, 0, 0.3));\n",
              "      fill: #FFFFFF;\n",
              "    }\n",
              "  </style>\n",
              "\n",
              "    <script>\n",
              "      const buttonEl =\n",
              "        document.querySelector('#df-46bd12c5-151c-4e2f-a679-01964e05dcbc button.colab-df-convert');\n",
              "      buttonEl.style.display =\n",
              "        google.colab.kernel.accessAllowed ? 'block' : 'none';\n",
              "\n",
              "      async function convertToInteractive(key) {\n",
              "        const element = document.querySelector('#df-46bd12c5-151c-4e2f-a679-01964e05dcbc');\n",
              "        const dataTable =\n",
              "          await google.colab.kernel.invokeFunction('convertToInteractive',\n",
              "                                                    [key], {});\n",
              "        if (!dataTable) return;\n",
              "\n",
              "        const docLinkHtml = 'Like what you see? Visit the ' +\n",
              "          '<a target=\"_blank\" href=https://colab.research.google.com/notebooks/data_table.ipynb>data table notebook</a>'\n",
              "          + ' to learn more about interactive tables.';\n",
              "        element.innerHTML = '';\n",
              "        dataTable['output_type'] = 'display_data';\n",
              "        await google.colab.output.renderOutput(dataTable, element);\n",
              "        const docLink = document.createElement('div');\n",
              "        docLink.innerHTML = docLinkHtml;\n",
              "        element.appendChild(docLink);\n",
              "      }\n",
              "    </script>\n",
              "  </div>\n",
              "\n",
              "\n",
              "<div id=\"df-76cbb59f-0812-4081-90f8-178ae9d9f4cd\">\n",
              "  <button class=\"colab-df-quickchart\" onclick=\"quickchart('df-76cbb59f-0812-4081-90f8-178ae9d9f4cd')\"\n",
              "            title=\"Suggest charts\"\n",
              "            style=\"display:none;\">\n",
              "\n",
              "<svg xmlns=\"http://www.w3.org/2000/svg\" height=\"24px\"viewBox=\"0 0 24 24\"\n",
              "     width=\"24px\">\n",
              "    <g>\n",
              "        <path d=\"M19 3H5c-1.1 0-2 .9-2 2v14c0 1.1.9 2 2 2h14c1.1 0 2-.9 2-2V5c0-1.1-.9-2-2-2zM9 17H7v-7h2v7zm4 0h-2V7h2v10zm4 0h-2v-4h2v4z\"/>\n",
              "    </g>\n",
              "</svg>\n",
              "  </button>\n",
              "\n",
              "<style>\n",
              "  .colab-df-quickchart {\n",
              "      --bg-color: #E8F0FE;\n",
              "      --fill-color: #1967D2;\n",
              "      --hover-bg-color: #E2EBFA;\n",
              "      --hover-fill-color: #174EA6;\n",
              "      --disabled-fill-color: #AAA;\n",
              "      --disabled-bg-color: #DDD;\n",
              "  }\n",
              "\n",
              "  [theme=dark] .colab-df-quickchart {\n",
              "      --bg-color: #3B4455;\n",
              "      --fill-color: #D2E3FC;\n",
              "      --hover-bg-color: #434B5C;\n",
              "      --hover-fill-color: #FFFFFF;\n",
              "      --disabled-bg-color: #3B4455;\n",
              "      --disabled-fill-color: #666;\n",
              "  }\n",
              "\n",
              "  .colab-df-quickchart {\n",
              "    background-color: var(--bg-color);\n",
              "    border: none;\n",
              "    border-radius: 50%;\n",
              "    cursor: pointer;\n",
              "    display: none;\n",
              "    fill: var(--fill-color);\n",
              "    height: 32px;\n",
              "    padding: 0;\n",
              "    width: 32px;\n",
              "  }\n",
              "\n",
              "  .colab-df-quickchart:hover {\n",
              "    background-color: var(--hover-bg-color);\n",
              "    box-shadow: 0 1px 2px rgba(60, 64, 67, 0.3), 0 1px 3px 1px rgba(60, 64, 67, 0.15);\n",
              "    fill: var(--button-hover-fill-color);\n",
              "  }\n",
              "\n",
              "  .colab-df-quickchart-complete:disabled,\n",
              "  .colab-df-quickchart-complete:disabled:hover {\n",
              "    background-color: var(--disabled-bg-color);\n",
              "    fill: var(--disabled-fill-color);\n",
              "    box-shadow: none;\n",
              "  }\n",
              "\n",
              "  .colab-df-spinner {\n",
              "    border: 2px solid var(--fill-color);\n",
              "    border-color: transparent;\n",
              "    border-bottom-color: var(--fill-color);\n",
              "    animation:\n",
              "      spin 1s steps(1) infinite;\n",
              "  }\n",
              "\n",
              "  @keyframes spin {\n",
              "    0% {\n",
              "      border-color: transparent;\n",
              "      border-bottom-color: var(--fill-color);\n",
              "      border-left-color: var(--fill-color);\n",
              "    }\n",
              "    20% {\n",
              "      border-color: transparent;\n",
              "      border-left-color: var(--fill-color);\n",
              "      border-top-color: var(--fill-color);\n",
              "    }\n",
              "    30% {\n",
              "      border-color: transparent;\n",
              "      border-left-color: var(--fill-color);\n",
              "      border-top-color: var(--fill-color);\n",
              "      border-right-color: var(--fill-color);\n",
              "    }\n",
              "    40% {\n",
              "      border-color: transparent;\n",
              "      border-right-color: var(--fill-color);\n",
              "      border-top-color: var(--fill-color);\n",
              "    }\n",
              "    60% {\n",
              "      border-color: transparent;\n",
              "      border-right-color: var(--fill-color);\n",
              "    }\n",
              "    80% {\n",
              "      border-color: transparent;\n",
              "      border-right-color: var(--fill-color);\n",
              "      border-bottom-color: var(--fill-color);\n",
              "    }\n",
              "    90% {\n",
              "      border-color: transparent;\n",
              "      border-bottom-color: var(--fill-color);\n",
              "    }\n",
              "  }\n",
              "</style>\n",
              "\n",
              "  <script>\n",
              "    async function quickchart(key) {\n",
              "      const quickchartButtonEl =\n",
              "        document.querySelector('#' + key + ' button');\n",
              "      quickchartButtonEl.disabled = true;  // To prevent multiple clicks.\n",
              "      quickchartButtonEl.classList.add('colab-df-spinner');\n",
              "      try {\n",
              "        const charts = await google.colab.kernel.invokeFunction(\n",
              "            'suggestCharts', [key], {});\n",
              "      } catch (error) {\n",
              "        console.error('Error during call to suggestCharts:', error);\n",
              "      }\n",
              "      quickchartButtonEl.classList.remove('colab-df-spinner');\n",
              "      quickchartButtonEl.classList.add('colab-df-quickchart-complete');\n",
              "    }\n",
              "    (() => {\n",
              "      let quickchartButtonEl =\n",
              "        document.querySelector('#df-76cbb59f-0812-4081-90f8-178ae9d9f4cd button');\n",
              "      quickchartButtonEl.style.display =\n",
              "        google.colab.kernel.accessAllowed ? 'block' : 'none';\n",
              "    })();\n",
              "  </script>\n",
              "</div>\n",
              "    </div>\n",
              "  </div>\n"
            ]
          },
          "metadata": {},
          "execution_count": 52
        }
      ]
    },
    {
      "cell_type": "code",
      "source": [
        "X.shape"
      ],
      "metadata": {
        "colab": {
          "base_uri": "https://localhost:8080/"
        },
        "id": "cXaCI33RqhxY",
        "outputId": "b40cb1ab-0fde-428e-9aca-1dfef10afbd9"
      },
      "execution_count": 53,
      "outputs": [
        {
          "output_type": "execute_result",
          "data": {
            "text/plain": [
              "(76, 9832)"
            ]
          },
          "metadata": {},
          "execution_count": 53
        }
      ]
    },
    {
      "cell_type": "code",
      "source": [
        "X1 = X"
      ],
      "metadata": {
        "id": "nN0g8vHeqi4J"
      },
      "execution_count": 54,
      "outputs": []
    },
    {
      "cell_type": "code",
      "source": [
        "#Decomposing the Matrix\n",
        "from sklearn.decomposition import TruncatedSVD\n",
        "SVD = TruncatedSVD(n_components=10)\n",
        "decomposed_matrix = SVD.fit_transform(X)\n",
        "decomposed_matrix.shape"
      ],
      "metadata": {
        "colab": {
          "base_uri": "https://localhost:8080/"
        },
        "id": "_vc4hmlgqkMb",
        "outputId": "06d6d221-f2a4-4942-f32b-06f7d20e582a"
      },
      "execution_count": 55,
      "outputs": [
        {
          "output_type": "execute_result",
          "data": {
            "text/plain": [
              "(76, 10)"
            ]
          },
          "metadata": {},
          "execution_count": 55
        }
      ]
    },
    {
      "cell_type": "code",
      "source": [
        "#Correlation Matrix\n",
        "\n",
        "correlation_matrix = np.corrcoef(decomposed_matrix)\n",
        "correlation_matrix.shape"
      ],
      "metadata": {
        "colab": {
          "base_uri": "https://localhost:8080/"
        },
        "id": "pw_tZMpGqlYx",
        "outputId": "78ecf0cc-2173-4610-ec44-65fb793df858"
      },
      "execution_count": 56,
      "outputs": [
        {
          "output_type": "execute_result",
          "data": {
            "text/plain": [
              "(76, 76)"
            ]
          },
          "metadata": {},
          "execution_count": 56
        }
      ]
    },
    {
      "cell_type": "code",
      "source": [
        "X.index[75]"
      ],
      "metadata": {
        "colab": {
          "base_uri": "https://localhost:8080/",
          "height": 36
        },
        "id": "wO4dKpIvqmcz",
        "outputId": "84d7fa1c-354f-47c1-f1d2-9c85f4a576f6"
      },
      "execution_count": 58,
      "outputs": [
        {
          "output_type": "execute_result",
          "data": {
            "text/plain": [
              "'B00000K135'"
            ],
            "application/vnd.google.colaboratory.intrinsic+json": {
              "type": "string"
            }
          },
          "metadata": {},
          "execution_count": 58
        }
      ]
    },
    {
      "cell_type": "code",
      "source": [
        "i = \"B00000K135\"\n",
        "\n",
        "product_names = list(X.index)\n",
        "product_ID = product_names.index(i)\n",
        "product_ID"
      ],
      "metadata": {
        "colab": {
          "base_uri": "https://localhost:8080/"
        },
        "id": "ZPJzGYe0qoIR",
        "outputId": "ba5ba7c2-1bb0-4b9b-bc4c-64963da16b3a"
      },
      "execution_count": 59,
      "outputs": [
        {
          "output_type": "execute_result",
          "data": {
            "text/plain": [
              "75"
            ]
          },
          "metadata": {},
          "execution_count": 59
        }
      ]
    },
    {
      "cell_type": "markdown",
      "source": [
        "Correlation for all items with the item purchased by this customer based on items rated by other customers people who bought the same product"
      ],
      "metadata": {
        "id": "2imjvVk2qryG"
      }
    },
    {
      "cell_type": "code",
      "source": [
        "correlation_product_ID = correlation_matrix[product_ID]\n",
        "correlation_product_ID.shape"
      ],
      "metadata": {
        "colab": {
          "base_uri": "https://localhost:8080/"
        },
        "id": "Ym7hxZa8qsQ-",
        "outputId": "3bdab119-e9f6-4671-abc8-3236be2a95b5"
      },
      "execution_count": 60,
      "outputs": [
        {
          "output_type": "execute_result",
          "data": {
            "text/plain": [
              "(76,)"
            ]
          },
          "metadata": {},
          "execution_count": 60
        }
      ]
    },
    {
      "cell_type": "markdown",
      "source": [
        "Recommending top 25 highly correlated products in sequence"
      ],
      "metadata": {
        "id": "ekp7Yi-vqvGf"
      }
    },
    {
      "cell_type": "code",
      "source": [
        "Recommend = list(X.index[correlation_product_ID > 0.65])\n",
        "\n",
        "# Removes the item already bought by the customer\n",
        "Recommend.remove(i)\n",
        "\n",
        "Recommend[0:24]"
      ],
      "metadata": {
        "colab": {
          "base_uri": "https://localhost:8080/"
        },
        "id": "B21LXjnHqwdb",
        "outputId": "5fecdd48-c132-4acc-ce33-b41b5442dd26"
      },
      "execution_count": 61,
      "outputs": [
        {
          "output_type": "execute_result",
          "data": {
            "text/plain": [
              "['7214047977',\n",
              " '9983891212',\n",
              " 'B000001OM5',\n",
              " 'B00000J0D8',\n",
              " 'B00000J1EJ',\n",
              " 'B00000J1EP',\n",
              " 'B00000J1U8',\n",
              " 'B00000J1V3',\n",
              " 'B00000J3NF',\n",
              " 'B00000J3UJ',\n",
              " 'B00000J4EY',\n",
              " 'B00000JBHP',\n",
              " 'B00000JII6']"
            ]
          },
          "metadata": {},
          "execution_count": 61
        }
      ]
    },
    {
      "cell_type": "markdown",
      "source": [
        "Here are the top 10 products to be displayed by the recommendation system to the above customer based on the purchase history of other customers in the website."
      ],
      "metadata": {
        "id": "m49rJj18qysL"
      }
    }
  ]
}