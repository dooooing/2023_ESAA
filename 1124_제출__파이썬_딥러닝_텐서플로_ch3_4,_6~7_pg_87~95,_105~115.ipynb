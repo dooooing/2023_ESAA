{
  "nbformat": 4,
  "nbformat_minor": 0,
  "metadata": {
    "colab": {
      "provenance": [],
      "include_colab_link": true
    },
    "kernelspec": {
      "name": "python3",
      "display_name": "Python 3"
    },
    "language_info": {
      "name": "python"
    }
  },
  "cells": [
    {
      "cell_type": "markdown",
      "metadata": {
        "id": "view-in-github",
        "colab_type": "text"
      },
      "source": [
        "<a href=\"https://colab.research.google.com/github/dooooing/2023_ESAA/blob/main/1124_%EC%A0%9C%EC%B6%9C__%ED%8C%8C%EC%9D%B4%EC%8D%AC_%EB%94%A5%EB%9F%AC%EB%8B%9D_%ED%85%90%EC%84%9C%ED%94%8C%EB%A1%9C_ch3_4%2C_6~7_pg_87~95%2C_105~115.ipynb\" target=\"_parent\"><img src=\"https://colab.research.google.com/assets/colab-badge.svg\" alt=\"Open In Colab\"/></a>"
      ]
    },
    {
      "cell_type": "markdown",
      "source": [
        "## 04. 모델 세부 설정\n",
        "\n",
        "\n",
        "\n",
        "---\n"
      ],
      "metadata": {
        "id": "T4BikdL0yMHs"
      }
    },
    {
      "cell_type": "code",
      "execution_count": null,
      "metadata": {
        "id": "kn2XzY5ox9mh",
        "colab": {
          "base_uri": "https://localhost:8080/"
        },
        "outputId": "1b85b750-7aad-417b-de67-4a3f20eff160"
      },
      "outputs": [
        {
          "output_type": "stream",
          "name": "stdout",
          "text": [
            "Downloading data from https://storage.googleapis.com/tensorflow/tf-keras-datasets/mnist.npz\n",
            "11490434/11490434 [==============================] - 0s 0us/step\n",
            "train set: (60000, 28, 28) (60000,)\n",
            "test set: (10000, 28, 28) (10000,)\n"
          ]
        }
      ],
      "source": [
        "import tensorflow as tf\n",
        "\n",
        "#케라스의 내장 데이터셋에서 mnist 데이터 로드\n",
        "mnist=tf.keras.datasets.mnist\n",
        "\n",
        "#load_data()로 데이터 로드\n",
        "(x_train, y_train), (x_test, y_test)=mnist.load_data()\n",
        "\n",
        "#로드된 데이터셋 확인\n",
        "print('train set:', x_train.shape, y_train.shape)\n",
        "print('test set:', x_test.shape, y_test.shape)\n",
        "\n",
        "#데이터 정규화\n",
        "x_train=x_train/x_train.max()\n",
        "x_test=x_test/x_test.max()"
      ]
    },
    {
      "cell_type": "markdown",
      "source": [
        "### 4-1 초기값 설정\n",
        "\n",
        "Dense 레이어는 기본 초기화 방법으로 **Glorot Uniform** 초기화 방법 설정"
      ],
      "metadata": {
        "id": "3bro0zOcv3sG"
      }
    },
    {
      "cell_type": "code",
      "source": [
        "dense=tf.keras.layers.Dense(256, activation='relu')\n",
        "dense.get_config()['kernel_initializer']"
      ],
      "metadata": {
        "colab": {
          "base_uri": "https://localhost:8080/"
        },
        "id": "5kT4pWUzwHBw",
        "outputId": "5842e90b-f917-42f7-e7bb-b66084d3aa8f"
      },
      "execution_count": null,
      "outputs": [
        {
          "output_type": "execute_result",
          "data": {
            "text/plain": [
              "{'class_name': 'GlorotUniform', 'config': {'seed': None}}"
            ]
          },
          "metadata": {},
          "execution_count": 2
        }
      ]
    },
    {
      "cell_type": "markdown",
      "source": [
        "* 초기화 방법을 HeNormal로 변경하기 위해서는 **kernel_initializer** 매개변수에 설정\n",
        "  + 문자열로 지정하는 방법, 클래스 인스턴스로 지정하는 방법\n"
      ],
      "metadata": {
        "id": "_aAre4WTwJXO"
      }
    },
    {
      "cell_type": "code",
      "source": [
        "#문자열 초기화\n",
        "dense=tf.keras.layers.Dense(256, kernel_initializer='he_normal', activation='relu')\n",
        "print(dense.get_config()['kernel_initializer'])\n",
        "\n",
        "#클래스 인스턴스 초기화\n",
        "he_normal=tf.keras.initializers.HeNormal()\n",
        "dense=tf.keras.layers.Dense(256, kernel_initializer=he_normal, activation='relu')\n",
        "print(dense.get_config()['kernel_initializer'])"
      ],
      "metadata": {
        "colab": {
          "base_uri": "https://localhost:8080/"
        },
        "id": "kQeLO3dtwYJM",
        "outputId": "f668bcfc-562c-42b8-a5e7-45e6740aff98"
      },
      "execution_count": null,
      "outputs": [
        {
          "output_type": "stream",
          "name": "stdout",
          "text": [
            "{'class_name': 'HeNormal', 'config': {'seed': None}}\n",
            "{'class_name': 'HeNormal', 'config': {'seed': None}}\n"
          ]
        }
      ]
    },
    {
      "cell_type": "markdown",
      "source": [
        "* 케라스에서 지원하는 초기화 목록\n",
        "  + glorot_normal, glorot_uniform : 글로럿 초기화(Xavier 초기화)\n",
        "  + lecun_normal, lecun_uniform : Yann Lecun 초기화\n",
        "  + he_normal, he_uniform : He 초기화\n",
        "  + random_normal, random_uniform : 정규 분포, 연속균등 분포 초기화"
      ],
      "metadata": {
        "id": "DUgpyCkSwaWf"
      }
    },
    {
      "cell_type": "markdown",
      "source": [
        "### 4-2 규제(Regularization)\n",
        "\n",
        "모델의 과대적합을 해소하기 위해 L1, L2 규제 적용\n",
        "\n",
        "* 기본적으로 규제를 적용하고 있지는 않다"
      ],
      "metadata": {
        "id": "k1AY0cy9wwXo"
      }
    },
    {
      "cell_type": "code",
      "source": [
        "#기본값\n",
        "dense=tf.keras.layers.Dense(256, activation='relu')\n",
        "dense.get_config()"
      ],
      "metadata": {
        "colab": {
          "base_uri": "https://localhost:8080/"
        },
        "id": "4KQ3tFKfJB89",
        "outputId": "7ac840eb-f068-4f93-f8e4-2e2385f07dcc"
      },
      "execution_count": null,
      "outputs": [
        {
          "output_type": "execute_result",
          "data": {
            "text/plain": [
              "{'name': 'dense_3',\n",
              " 'trainable': True,\n",
              " 'dtype': 'float32',\n",
              " 'units': 256,\n",
              " 'activation': 'relu',\n",
              " 'use_bias': True,\n",
              " 'kernel_initializer': {'class_name': 'GlorotUniform',\n",
              "  'config': {'seed': None}},\n",
              " 'bias_initializer': {'class_name': 'Zeros', 'config': {}},\n",
              " 'kernel_regularizer': None,\n",
              " 'bias_regularizer': None,\n",
              " 'activity_regularizer': None,\n",
              " 'kernel_constraint': None,\n",
              " 'bias_constraint': None}"
            ]
          },
          "metadata": {},
          "execution_count": 4
        }
      ]
    },
    {
      "cell_type": "markdown",
      "source": [
        "* 규제를 적용하기 위해서는 **kernel_regularizer**에 규제 지정"
      ],
      "metadata": {
        "id": "N6CpwDnIJEJD"
      }
    },
    {
      "cell_type": "code",
      "source": [
        "#L1 규제 적용\n",
        "dense=tf.keras.layers.Dense(256, kernel_regularizer='l1', activation='relu')\n",
        "print(dense.get_config()['kernel_regularizer'])\n",
        "\n",
        "#클래스 인스턴스 적용, alpha=0.1 변경\n",
        "regularizer=tf.keras.regularizers.l1(l1=0.1)\n",
        "dense=tf.keras.layers.Dense(256, kernel_regularizer=regularizer, activation='relu')\n",
        "print(dense.get_config()['kernel_regularizer'])"
      ],
      "metadata": {
        "colab": {
          "base_uri": "https://localhost:8080/"
        },
        "id": "ovGDZp-XJKQN",
        "outputId": "3c9e7ae1-283a-4967-eecd-f33ca3d073fd"
      },
      "execution_count": null,
      "outputs": [
        {
          "output_type": "stream",
          "name": "stdout",
          "text": [
            "{'class_name': 'L1', 'config': {'l1': 0.009999999776482582}}\n",
            "{'class_name': 'L1', 'config': {'l1': 0.10000000149011612}}\n"
          ]
        }
      ]
    },
    {
      "cell_type": "markdown",
      "source": [
        "### 4-3 드롭아웃(Dropout)\n",
        "\n",
        "딥러닝 모델의 층이 넓고 깊어질 때 모델은 훈련에 주어진 샘플에 과하게 적합하도록 학습하는 경향 -> 과대적합 문제\n",
        "\n",
        "드롭아웃 => 모델의 과대적합 문제를 해결하기 위해 제안된 아이디어. 노드의 일부 신호를 임의로 삭제\n",
        "\n",
        "* 모델이 훈련할 때는 드롭아웃이 적용되어 노드 중 일부만 훈련하게 되지만, **예측 시점에는 모든 노드들 활용**된다\n",
        "\n",
        "* **Dropout** 레이어 함수에 입력하는 숫자 : 노드에서 제거되는 비율"
      ],
      "metadata": {
        "id": "NONVH5G0JK00"
      }
    },
    {
      "cell_type": "code",
      "source": [
        "#Dropout 25% 비율 적용 (25% 노드가 삭제)\n",
        "tf.keras.layers.Dropout(0.25)"
      ],
      "metadata": {
        "colab": {
          "base_uri": "https://localhost:8080/"
        },
        "id": "x0VY6lR3Jsdd",
        "outputId": "7e883105-faac-4993-c2d1-498f7121fe58"
      },
      "execution_count": null,
      "outputs": [
        {
          "output_type": "execute_result",
          "data": {
            "text/plain": [
              "<keras.layers.regularization.dropout.Dropout at 0x7f5901781ae0>"
            ]
          },
          "metadata": {},
          "execution_count": 6
        }
      ]
    },
    {
      "cell_type": "markdown",
      "source": [
        "### 4-4 배치 정규화(Batch Normalization)\n",
        "\n",
        "배치 정규화 : 각 층에서 활성화 함수를 통과하기 전 미니 배치의 스케일 정규화 -> 안정적인 훈련 가능. 성능 크게 향상\n",
        "\n",
        "* 별도로 코드 구현할 필요x. 클래스 인스턴스 생성하여 추가"
      ],
      "metadata": {
        "id": "0xehP_bdJvGT"
      }
    },
    {
      "cell_type": "code",
      "source": [
        "#model A: Dense+ReLu\n",
        "model_a=tf.keras.Sequential([\n",
        "    tf.keras.layers.Flatten(input_shape=(28, 28)),\n",
        "    tf.keras.layers.Dense(64, activation='relu'),\n",
        "    tf.keras.layers.Dense(32, activation='relu'),\n",
        "    tf.keras.layers.Dense(10, activation='softmax')\n",
        "])\n",
        "\n",
        "model_a.summary()"
      ],
      "metadata": {
        "colab": {
          "base_uri": "https://localhost:8080/"
        },
        "id": "OLfWqqE-J_6-",
        "outputId": "8c6cef66-1211-46ac-ee6c-3bc2722dac22"
      },
      "execution_count": null,
      "outputs": [
        {
          "output_type": "stream",
          "name": "stdout",
          "text": [
            "Model: \"sequential\"\n",
            "_________________________________________________________________\n",
            " Layer (type)                Output Shape              Param #   \n",
            "=================================================================\n",
            " flatten (Flatten)           (None, 784)               0         \n",
            "                                                                 \n",
            " dense_6 (Dense)             (None, 64)                50240     \n",
            "                                                                 \n",
            " dense_7 (Dense)             (None, 32)                2080      \n",
            "                                                                 \n",
            " dense_8 (Dense)             (None, 10)                330       \n",
            "                                                                 \n",
            "=================================================================\n",
            "Total params: 52,650\n",
            "Trainable params: 52,650\n",
            "Non-trainable params: 0\n",
            "_________________________________________________________________\n"
          ]
        }
      ]
    },
    {
      "cell_type": "code",
      "source": [
        "#model B: Dense+BatchNorm+ReLU\n",
        "model_b=tf.keras.Sequential([\n",
        "    tf.keras.layers.Flatten(input_shape=(28, 28)),\n",
        "    tf.keras.layers.Dense(64),\n",
        "    #여기서 배치 정규화 적용\n",
        "    tf.keras.layers.BatchNormalization(),\n",
        "    #배치 정규화 후 활성화 함수 적용\n",
        "    tf.keras.layers.Activation('relu'),\n",
        "\n",
        "    tf.keras.layers.Dense(32),\n",
        "    #배치 정규화 적용\n",
        "    tf.keras.layers.BatchNormalization(),\n",
        "    #배치 정규화 후 활성화 함수 적용\n",
        "    tf.keras.layers.Activation('relu'),\n",
        "\n",
        "    tf.keras.layers.Dense(10, activation='softmax')\n",
        "])\n",
        "\n",
        "model_b.summary()"
      ],
      "metadata": {
        "colab": {
          "base_uri": "https://localhost:8080/"
        },
        "id": "bqJIU7IMKBSB",
        "outputId": "a599ac90-3d97-4da1-e739-2a1338a8e8e7"
      },
      "execution_count": null,
      "outputs": [
        {
          "output_type": "stream",
          "name": "stdout",
          "text": [
            "Model: \"sequential_1\"\n",
            "_________________________________________________________________\n",
            " Layer (type)                Output Shape              Param #   \n",
            "=================================================================\n",
            " flatten_1 (Flatten)         (None, 784)               0         \n",
            "                                                                 \n",
            " dense_9 (Dense)             (None, 64)                50240     \n",
            "                                                                 \n",
            " batch_normalization (BatchN  (None, 64)               256       \n",
            " ormalization)                                                   \n",
            "                                                                 \n",
            " activation (Activation)     (None, 64)                0         \n",
            "                                                                 \n",
            " dense_10 (Dense)            (None, 32)                2080      \n",
            "                                                                 \n",
            " batch_normalization_1 (Batc  (None, 32)               128       \n",
            " hNormalization)                                                 \n",
            "                                                                 \n",
            " activation_1 (Activation)   (None, 32)                0         \n",
            "                                                                 \n",
            " dense_11 (Dense)            (None, 10)                330       \n",
            "                                                                 \n",
            "=================================================================\n",
            "Total params: 53,034\n",
            "Trainable params: 52,842\n",
            "Non-trainable params: 192\n",
            "_________________________________________________________________\n"
          ]
        }
      ]
    },
    {
      "cell_type": "markdown",
      "source": [
        "=> 손실은 이전 대비 더 안정적이고 빠르게 수렴하는 것 확인\n",
        "\n",
        "더 크고 복잡한 데이터셋에 대해서는 배치 정규화 유무가 모델 성능에 크게 영향을 미치는 경우 o"
      ],
      "metadata": {
        "id": "BFRqNX8QKDuT"
      }
    },
    {
      "cell_type": "markdown",
      "source": [
        "### 4-5 활성화(activation) 함수\n",
        "\n",
        "주로 Dense 레이어에 ReLU 활성화 함수 지정.\n",
        "\n",
        "활성화 함수 적용 시, 클래스 인스턴스로 선언하여 하이퍼파라미터 값 변경하여 적용 가능"
      ],
      "metadata": {
        "id": "Y1XzHlYEKJ-2"
      }
    },
    {
      "cell_type": "code",
      "source": [
        "#LeakyReLU 기본 설정\n",
        "tf.keras.layers.LeakyReLU()\n",
        "\n",
        "#LeakyReLU, alpha=0.2로 변경\n",
        "tf.keras.layers.LeakyReLU(alpha=0.2)"
      ],
      "metadata": {
        "colab": {
          "base_uri": "https://localhost:8080/"
        },
        "id": "vpk4YJ13KX2H",
        "outputId": "22f455f6-4e90-49d4-ce09-6df88231403c"
      },
      "execution_count": null,
      "outputs": [
        {
          "output_type": "execute_result",
          "data": {
            "text/plain": [
              "<keras.layers.activation.leaky_relu.LeakyReLU at 0x7f5900e5df30>"
            ]
          },
          "metadata": {},
          "execution_count": 9
        }
      ]
    },
    {
      "cell_type": "code",
      "source": [
        "#model C: Dense+BatchNorm+LeakyReLU(0,2)\n",
        "model_c=tf.keras.Sequential([\n",
        "    tf.keras.layers.Flatten(input_shape=(28, 28)),\n",
        "    tf.keras.layers.Dense(64),\n",
        "    #여기서 배치 정규화 적용\n",
        "    tf.keras.layers.BatchNormalization(),\n",
        "    #배치 정규화 후 활성화 함수 (LeakyReLU, alpha=0.2) 적용\n",
        "    tf.keras.layers.LeakyReLU(alpha=0.2),\n",
        "\n",
        "    tf.keras.layers.Dense(32),\n",
        "    #배치 정규화 적용\n",
        "    tf.keras.layers.BatchNormalization(),\n",
        "    #배치 정규화 후 활성화 함수 적용\n",
        "    tf.keras.layers.LeakyReLU(alpha=0.2),\n",
        "\n",
        "    tf.keras.layers.Dense(10, activation='softmax')\n",
        "])\n",
        "\n",
        "model_c.summary()"
      ],
      "metadata": {
        "colab": {
          "base_uri": "https://localhost:8080/"
        },
        "id": "uMv6yjnLKZ_A",
        "outputId": "f4a8d5ed-bcf5-4c5c-c00c-1af66bbea314"
      },
      "execution_count": null,
      "outputs": [
        {
          "output_type": "stream",
          "name": "stdout",
          "text": [
            "Model: \"sequential_2\"\n",
            "_________________________________________________________________\n",
            " Layer (type)                Output Shape              Param #   \n",
            "=================================================================\n",
            " flatten_2 (Flatten)         (None, 784)               0         \n",
            "                                                                 \n",
            " dense_12 (Dense)            (None, 64)                50240     \n",
            "                                                                 \n",
            " batch_normalization_2 (Batc  (None, 64)               256       \n",
            " hNormalization)                                                 \n",
            "                                                                 \n",
            " leaky_re_lu_2 (LeakyReLU)   (None, 64)                0         \n",
            "                                                                 \n",
            " dense_13 (Dense)            (None, 32)                2080      \n",
            "                                                                 \n",
            " batch_normalization_3 (Batc  (None, 32)               128       \n",
            " hNormalization)                                                 \n",
            "                                                                 \n",
            " leaky_re_lu_3 (LeakyReLU)   (None, 32)                0         \n",
            "                                                                 \n",
            " dense_14 (Dense)            (None, 10)                330       \n",
            "                                                                 \n",
            "=================================================================\n",
            "Total params: 53,034\n",
            "Trainable params: 52,842\n",
            "Non-trainable params: 192\n",
            "_________________________________________________________________\n"
          ]
        }
      ]
    },
    {
      "cell_type": "markdown",
      "source": [
        "* 3개 모델 훈련 후 수렴 속도 확인\n",
        "  + model_a : Dense 레이어 + ReLU 활성화 함수\n",
        "  + model_b : Dense 레이어 + 배치 정규화\n",
        "  + model_c : Dense 레이어 + 배치 정규화 + LeakyReLU(0.2) 활성화 함수"
      ],
      "metadata": {
        "id": "c5PhlrYLKct_"
      }
    },
    {
      "cell_type": "code",
      "source": [
        "model_a.compile(optimizer='adam', loss='sparse_categorical_crossentropy', metrics=['accuracy'])\n",
        "model_b.compile(optimizer='adam', loss='sparse_categorical_crossentropy', metrics=['accuracy'])\n",
        "model_c.compile(optimizer='adam', loss='sparse_categorical_crossentropy', metrics=['accuracy'])\n",
        "\n",
        "#Model A : Dense + ReLU\n",
        "history_a=model_a.fit(x_train, y_train,\n",
        "                      validation_data=(x_test, y_test), epochs=10)\n",
        "#Model B : Dense + BatchNorm + ReLU\n",
        "history_b=model_b.fit(x_train, y_train,\n",
        "                      validation_data=(x_test, y_test), epochs=10)\n",
        "#Model C : Dense + BatchNorm + LeakyReLU(0,2)\n",
        "history_c=model_c.fit(x_train, y_train,\n",
        "                      validation_data=(x_test, y_test), epochs=10)"
      ],
      "metadata": {
        "colab": {
          "base_uri": "https://localhost:8080/"
        },
        "id": "LPh4ii3vKpFq",
        "outputId": "7fe0a99f-f0d8-49d9-f8db-a6482b4d5ec3"
      },
      "execution_count": null,
      "outputs": [
        {
          "output_type": "stream",
          "name": "stdout",
          "text": [
            "Epoch 1/10\n",
            "1875/1875 [==============================] - 16s 7ms/step - loss: 0.2896 - accuracy: 0.9160 - val_loss: 0.1478 - val_accuracy: 0.9559\n",
            "Epoch 2/10\n",
            "1875/1875 [==============================] - 10s 6ms/step - loss: 0.1304 - accuracy: 0.9607 - val_loss: 0.1232 - val_accuracy: 0.9632\n",
            "Epoch 3/10\n",
            "1875/1875 [==============================] - 6s 3ms/step - loss: 0.0967 - accuracy: 0.9703 - val_loss: 0.1062 - val_accuracy: 0.9675\n",
            "Epoch 4/10\n",
            "1875/1875 [==============================] - 7s 4ms/step - loss: 0.0780 - accuracy: 0.9761 - val_loss: 0.1127 - val_accuracy: 0.9662\n",
            "Epoch 5/10\n",
            "1875/1875 [==============================] - 6s 3ms/step - loss: 0.0638 - accuracy: 0.9797 - val_loss: 0.0981 - val_accuracy: 0.9713\n",
            "Epoch 6/10\n",
            "1875/1875 [==============================] - 7s 4ms/step - loss: 0.0555 - accuracy: 0.9825 - val_loss: 0.0979 - val_accuracy: 0.9711\n",
            "Epoch 7/10\n",
            "1875/1875 [==============================] - 5s 3ms/step - loss: 0.0461 - accuracy: 0.9856 - val_loss: 0.0912 - val_accuracy: 0.9739\n",
            "Epoch 8/10\n",
            "1875/1875 [==============================] - 7s 4ms/step - loss: 0.0394 - accuracy: 0.9874 - val_loss: 0.0898 - val_accuracy: 0.9729\n",
            "Epoch 9/10\n",
            "1875/1875 [==============================] - 6s 3ms/step - loss: 0.0362 - accuracy: 0.9881 - val_loss: 0.0930 - val_accuracy: 0.9731\n",
            "Epoch 10/10\n",
            "1875/1875 [==============================] - 7s 4ms/step - loss: 0.0306 - accuracy: 0.9899 - val_loss: 0.1033 - val_accuracy: 0.9713\n",
            "Epoch 1/10\n",
            "1875/1875 [==============================] - 8s 4ms/step - loss: 0.3091 - accuracy: 0.9157 - val_loss: 0.1213 - val_accuracy: 0.9623\n",
            "Epoch 2/10\n",
            "1875/1875 [==============================] - 8s 4ms/step - loss: 0.1396 - accuracy: 0.9581 - val_loss: 0.0926 - val_accuracy: 0.9706\n",
            "Epoch 3/10\n",
            "1875/1875 [==============================] - 8s 4ms/step - loss: 0.1071 - accuracy: 0.9667 - val_loss: 0.0830 - val_accuracy: 0.9750\n",
            "Epoch 4/10\n",
            "1875/1875 [==============================] - 7s 4ms/step - loss: 0.0933 - accuracy: 0.9708 - val_loss: 0.0806 - val_accuracy: 0.9754\n",
            "Epoch 5/10\n",
            "1875/1875 [==============================] - 8s 4ms/step - loss: 0.0805 - accuracy: 0.9750 - val_loss: 0.0782 - val_accuracy: 0.9749\n",
            "Epoch 6/10\n",
            "1875/1875 [==============================] - 7s 4ms/step - loss: 0.0732 - accuracy: 0.9769 - val_loss: 0.0804 - val_accuracy: 0.9758\n",
            "Epoch 7/10\n",
            "1875/1875 [==============================] - 8s 4ms/step - loss: 0.0667 - accuracy: 0.9779 - val_loss: 0.0699 - val_accuracy: 0.9780\n",
            "Epoch 8/10\n",
            "1875/1875 [==============================] - 8s 4ms/step - loss: 0.0609 - accuracy: 0.9801 - val_loss: 0.0722 - val_accuracy: 0.9774\n",
            "Epoch 9/10\n",
            "1875/1875 [==============================] - 8s 4ms/step - loss: 0.0576 - accuracy: 0.9814 - val_loss: 0.0790 - val_accuracy: 0.9771\n",
            "Epoch 10/10\n",
            "1875/1875 [==============================] - 8s 4ms/step - loss: 0.0538 - accuracy: 0.9826 - val_loss: 0.0754 - val_accuracy: 0.9772\n",
            "Epoch 1/10\n",
            "1875/1875 [==============================] - 9s 4ms/step - loss: 0.3228 - accuracy: 0.9101 - val_loss: 0.1431 - val_accuracy: 0.9554\n",
            "Epoch 2/10\n",
            "1875/1875 [==============================] - 10s 5ms/step - loss: 0.1582 - accuracy: 0.9519 - val_loss: 0.1215 - val_accuracy: 0.9629\n",
            "Epoch 3/10\n",
            "1875/1875 [==============================] - 7s 4ms/step - loss: 0.1220 - accuracy: 0.9626 - val_loss: 0.1012 - val_accuracy: 0.9684\n",
            "Epoch 4/10\n",
            "1875/1875 [==============================] - 8s 4ms/step - loss: 0.1042 - accuracy: 0.9668 - val_loss: 0.0976 - val_accuracy: 0.9687\n",
            "Epoch 5/10\n",
            "1875/1875 [==============================] - 7s 4ms/step - loss: 0.0944 - accuracy: 0.9702 - val_loss: 0.0856 - val_accuracy: 0.9742\n",
            "Epoch 6/10\n",
            "1875/1875 [==============================] - 8s 4ms/step - loss: 0.0864 - accuracy: 0.9725 - val_loss: 0.0957 - val_accuracy: 0.9692\n",
            "Epoch 7/10\n",
            "1875/1875 [==============================] - 8s 4ms/step - loss: 0.0792 - accuracy: 0.9742 - val_loss: 0.0830 - val_accuracy: 0.9738\n",
            "Epoch 8/10\n",
            "1875/1875 [==============================] - 8s 4ms/step - loss: 0.0728 - accuracy: 0.9762 - val_loss: 0.0810 - val_accuracy: 0.9743\n",
            "Epoch 9/10\n",
            "1875/1875 [==============================] - 9s 5ms/step - loss: 0.0674 - accuracy: 0.9772 - val_loss: 0.0895 - val_accuracy: 0.9723\n",
            "Epoch 10/10\n",
            "1875/1875 [==============================] - 8s 4ms/step - loss: 0.0677 - accuracy: 0.9773 - val_loss: 0.0801 - val_accuracy: 0.9748\n"
          ]
        }
      ]
    },
    {
      "cell_type": "code",
      "source": [
        "import matplotlib.pyplot as plt\n",
        "import numpy as np\n",
        "\n",
        "plt.figure(figsize=(12, 9))\n",
        "plt.plot(np.arange(1, 11), history_a.history['val_loss'], color='navy', linestyle=':')\n",
        "plt.plot(np.arange(1, 11), history_b.history['val_loss'], color='tomato', linestyle='-.')\n",
        "plt.plot(np.arange(1, 11), history_c.history['val_loss'], color='green', linestyle='-')\n",
        "\n",
        "plt.title('Losses', fontsize=20)\n",
        "plt.xlabel('epochs')\n",
        "plt.ylabel('Losses')\n",
        "plt.legend(['ReLU', 'BatchNorm+ReLU', 'BatchNorm+LeakyReLU'], fontsize=12)\n",
        "plt.show()"
      ],
      "metadata": {
        "colab": {
          "base_uri": "https://localhost:8080/",
          "height": 803
        },
        "id": "OpTj8_1AKw-C",
        "outputId": "d775b3dd-d82b-41df-9c07-71230627ab89"
      },
      "execution_count": null,
      "outputs": [
        {
          "output_type": "display_data",
          "data": {
            "text/plain": [
              "<Figure size 1200x900 with 1 Axes>"
            ],
            "image/png": "[encoded data removed]"
          },
          "metadata": {}
        }
      ]
    },
    {
      "cell_type": "markdown",
      "source": [
        "## 06. 모델 저장 및 불러오기\n",
        "\n",
        "\n",
        "\n",
        "---\n",
        "\n"
      ],
      "metadata": {
        "id": "ipFxR-hoK1ZB"
      }
    },
    {
      "cell_type": "markdown",
      "source": [
        "### 6-1 모델을 파일로 저장\n",
        "\n",
        "**save()** 메소드 : 훈련을 종료하여 가중치가 업데이트된 모델 인스턴스 저장\n",
        "\n",
        "* 호출할 때 저장할 파일의 디렉토리를 포함하는 파일명을 매개변수로 지정\n",
        "* 저장 형식 : HDF5 포맷, SavedModel 포맷\n",
        "* .h5 확장자 포함하는 경우 HDF5 포맷으로 저장. 대용량 저장"
      ],
      "metadata": {
        "id": "Bk9R94vWK5tH"
      }
    },
    {
      "cell_type": "code",
      "source": [
        "#모델명을 h5 포맷으로 저장\n",
        "model_b.save('h5-model.h5')"
      ],
      "metadata": {
        "id": "lCLK6dlNLYWv"
      },
      "execution_count": null,
      "outputs": []
    },
    {
      "cell_type": "markdown",
      "source": [
        "### 6-2 저장된 모델 복원\n",
        "\n",
        "**tensorflow.keras.models.load_model()** 메소드 : 저장된 모델 복원"
      ],
      "metadata": {
        "id": "smZpra7vLVYX"
      }
    },
    {
      "cell_type": "code",
      "source": [
        "#모델 복원\n",
        "h5_model=tf.keras.models.load_model('h5-model.h5')\n",
        "h5_model.summary()"
      ],
      "metadata": {
        "colab": {
          "base_uri": "https://localhost:8080/"
        },
        "id": "GpWhunhFLhCD",
        "outputId": "8e755733-e765-4fe9-a42b-1cbaac506cde"
      },
      "execution_count": null,
      "outputs": [
        {
          "output_type": "stream",
          "name": "stdout",
          "text": [
            "Model: \"sequential_1\"\n",
            "_________________________________________________________________\n",
            " Layer (type)                Output Shape              Param #   \n",
            "=================================================================\n",
            " flatten_1 (Flatten)         (None, 784)               0         \n",
            "                                                                 \n",
            " dense_9 (Dense)             (None, 64)                50240     \n",
            "                                                                 \n",
            " batch_normalization (BatchN  (None, 64)               256       \n",
            " ormalization)                                                   \n",
            "                                                                 \n",
            " activation (Activation)     (None, 64)                0         \n",
            "                                                                 \n",
            " dense_10 (Dense)            (None, 32)                2080      \n",
            "                                                                 \n",
            " batch_normalization_1 (Batc  (None, 32)               128       \n",
            " hNormalization)                                                 \n",
            "                                                                 \n",
            " activation_1 (Activation)   (None, 32)                0         \n",
            "                                                                 \n",
            " dense_11 (Dense)            (None, 10)                330       \n",
            "                                                                 \n",
            "=================================================================\n",
            "Total params: 53,034\n",
            "Trainable params: 52,842\n",
            "Non-trainable params: 192\n",
            "_________________________________________________________________\n"
          ]
        }
      ]
    },
    {
      "cell_type": "markdown",
      "source": [
        "* 모델 검증해 복원 잘 되었는지 확인. evaluate 함수에 대입"
      ],
      "metadata": {
        "id": "sJFyYpETLi7G"
      }
    },
    {
      "cell_type": "code",
      "source": [
        "#모델 검증\n",
        "loss, acc=h5_model.evaluate(x_test, y_test, verbose=0)\n",
        "print(f'h5_model] loss: {loss:.5f}, acc: {acc:.5f}')"
      ],
      "metadata": {
        "colab": {
          "base_uri": "https://localhost:8080/"
        },
        "id": "Al2DgtyNLnP-",
        "outputId": "9766345d-7bbd-465b-d629-36a18db7857c"
      },
      "execution_count": null,
      "outputs": [
        {
          "output_type": "stream",
          "name": "stdout",
          "text": [
            "h5_model] loss: 0.07537, acc: 0.97720\n"
          ]
        }
      ]
    },
    {
      "cell_type": "markdown",
      "source": [
        "* .h5 확장자 생략하면 SavedModel 포맷으로 저장"
      ],
      "metadata": {
        "id": "QcQY1NGOLorv"
      }
    },
    {
      "cell_type": "code",
      "source": [
        "#모델을 SavedModel 포맷으로 저장\n",
        "model_b.save('saved-model')"
      ],
      "metadata": {
        "colab": {
          "base_uri": "https://localhost:8080/"
        },
        "id": "rj9teE_jLsZk",
        "outputId": "44652373-af14-4db8-d26a-9b4eabc031bc"
      },
      "execution_count": null,
      "outputs": [
        {
          "output_type": "stream",
          "name": "stderr",
          "text": [
            "WARNING:absl:Found untraced functions such as _update_step_xla while saving (showing 1 of 1). These functions will not be directly callable after loading.\n"
          ]
        }
      ]
    },
    {
      "cell_type": "code",
      "source": [
        "#모델 복원\n",
        "saved_model=tf.keras.models.load_model('saved-model')\n",
        "saved_model.summary()"
      ],
      "metadata": {
        "colab": {
          "base_uri": "https://localhost:8080/"
        },
        "id": "tNSEdFKULt-m",
        "outputId": "a3558382-240b-472e-d078-e23a2512b42e"
      },
      "execution_count": null,
      "outputs": [
        {
          "output_type": "stream",
          "name": "stdout",
          "text": [
            "Model: \"sequential_1\"\n",
            "_________________________________________________________________\n",
            " Layer (type)                Output Shape              Param #   \n",
            "=================================================================\n",
            " flatten_1 (Flatten)         (None, 784)               0         \n",
            "                                                                 \n",
            " dense_9 (Dense)             (None, 64)                50240     \n",
            "                                                                 \n",
            " batch_normalization (BatchN  (None, 64)               256       \n",
            " ormalization)                                                   \n",
            "                                                                 \n",
            " activation (Activation)     (None, 64)                0         \n",
            "                                                                 \n",
            " dense_10 (Dense)            (None, 32)                2080      \n",
            "                                                                 \n",
            " batch_normalization_1 (Batc  (None, 32)               128       \n",
            " hNormalization)                                                 \n",
            "                                                                 \n",
            " activation_1 (Activation)   (None, 32)                0         \n",
            "                                                                 \n",
            " dense_11 (Dense)            (None, 10)                330       \n",
            "                                                                 \n",
            "=================================================================\n",
            "Total params: 53,034\n",
            "Trainable params: 52,842\n",
            "Non-trainable params: 192\n",
            "_________________________________________________________________\n"
          ]
        }
      ]
    },
    {
      "cell_type": "markdown",
      "source": [
        "* SavedModel형식과 HDF5 형식으로 저장 및 복원된 모델 동일한 성능"
      ],
      "metadata": {
        "id": "T2phSv2yLvkn"
      }
    },
    {
      "cell_type": "code",
      "source": [
        "#모델 검증 (HDF5 포맷)\n",
        "loss, acc=h5_model.evaluate(x_test, y_test, verbose=0)\n",
        "print(f'h5_model] loss: {loss:.5f}, acc: {acc:.5f}')\n",
        "\n",
        "#모델 검증 (SavedModel 포맷)\n",
        "loss, acc=saved_model.evaluate(x_test, y_test, verbose= 0)\n",
        "print(f'saved_model] loss: {loss:.5f}, acc: {acc:.5f}')"
      ],
      "metadata": {
        "colab": {
          "base_uri": "https://localhost:8080/"
        },
        "id": "qQkbLDJfL1VM",
        "outputId": "cffaacce-bfde-433b-efd3-1de7a782155b"
      },
      "execution_count": null,
      "outputs": [
        {
          "output_type": "stream",
          "name": "stdout",
          "text": [
            "h5_model] loss: 0.07537, acc: 0.97720\n",
            "saved_model] loss: 0.07537, acc: 0.97720\n"
          ]
        }
      ]
    },
    {
      "cell_type": "markdown",
      "source": [
        "## 07. 복잡한 모델 생성\n",
        "\n",
        "\n",
        "\n",
        "---\n",
        "\n"
      ],
      "metadata": {
        "id": "2T5FJ3ghL4X6"
      }
    },
    {
      "cell_type": "markdown",
      "source": [
        "### 7-1 함수형 API(Functional API)\n",
        "\n",
        "**Functional API** : 복잡한 구조의 모델 정의 가능\n",
        "\n",
        "<-> Sequential API : 단방향의 Sequential 모델만 구현가능. 데이터 흐름이 특정 레이어를 건너뛰거나, 병합 및 분리하는 등의 구조의 모델 구현할 수는 없다\n",
        "\n",
        "* 함수형 API 사용하기 위해서는 Input 레이어 정의 -> 데이터의 입력 shape 정의 -> 레이어마다 반환하는 출력 값을 변수에 저장한 뒤 다음 레이어의 입력으로 연결"
      ],
      "metadata": {
        "id": "CPCgsL7RL7IB"
      }
    },
    {
      "cell_type": "code",
      "source": [
        "import tensorflow as tf\n",
        "\n",
        "#모델의 레이어를 체인 구조로 연결 input 레이어 정의\n",
        "input_layer=tf.keras.Input(shape=(28, 28), name='InputLayer')\n",
        "\n",
        "#모델의 레이어를 체인 구조로 연결\n",
        "x1=tf.keras.layers.Flatten(name='Flatten')(input_layer)\n",
        "x2=tf.keras.layers.Dense(256, activation='relu', name='Dense1')(x1)\n",
        "x3=tf.keras.layers.Dense(64, activation='relu', name='Dense2')(x2)\n",
        "x4=tf.keras.layers.Dense(10, activation='softmax', name='OutputLayer')(x3)"
      ],
      "metadata": {
        "id": "3uZoglW_McbQ"
      },
      "execution_count": null,
      "outputs": []
    },
    {
      "cell_type": "markdown",
      "source": [
        "* 레이어마다 **name** 매개변수로 이름 부여 가능"
      ],
      "metadata": {
        "id": "OlFiY5ldMddM"
      }
    },
    {
      "cell_type": "code",
      "source": [
        "#모델 생성\n",
        "func_model=tf.keras.Model(inputs=input_layer, outputs=x4, name='FunctionalModel')\n",
        "\n",
        "#모델 요약\n",
        "func_model.summary()"
      ],
      "metadata": {
        "colab": {
          "base_uri": "https://localhost:8080/"
        },
        "id": "H5JUVlRbMjgT",
        "outputId": "9e6043e7-18e7-4f0a-d762-7dee1d919ec6"
      },
      "execution_count": null,
      "outputs": [
        {
          "output_type": "stream",
          "name": "stdout",
          "text": [
            "Model: \"FunctionalModel\"\n",
            "_________________________________________________________________\n",
            " Layer (type)                Output Shape              Param #   \n",
            "=================================================================\n",
            " InputLayer (InputLayer)     [(None, 28, 28)]          0         \n",
            "                                                                 \n",
            " Flatten (Flatten)           (None, 784)               0         \n",
            "                                                                 \n",
            " Dense1 (Dense)              (None, 256)               200960    \n",
            "                                                                 \n",
            " Dense2 (Dense)              (None, 64)                16448     \n",
            "                                                                 \n",
            " OutputLayer (Dense)         (None, 10)                650       \n",
            "                                                                 \n",
            "=================================================================\n",
            "Total params: 218,058\n",
            "Trainable params: 218,058\n",
            "Non-trainable params: 0\n",
            "_________________________________________________________________\n"
          ]
        }
      ]
    },
    {
      "cell_type": "markdown",
      "source": [
        "=> inputs 매개변수로 입력층인 input_layer 지정, outputs 매개변수에 출력층 지정, name 매개변수에 이름 지정"
      ],
      "metadata": {
        "id": "qSZc032xMlQ2"
      }
    },
    {
      "cell_type": "markdown",
      "source": [
        "* 복잡한 구조를 갖는 모델은 **plot_model** 모듈 활용하여 모델 구조도 시각화"
      ],
      "metadata": {
        "id": "wZsJck9uMsVr"
      }
    },
    {
      "cell_type": "code",
      "source": [
        "from tensorflow.keras.utils import plot_model\n",
        "\n",
        "#구조도 시각화\n",
        "plot_model(func_model, show_shapes=True, show_layer_names=True, to_file='model.png')"
      ],
      "metadata": {
        "colab": {
          "base_uri": "https://localhost:8080/",
          "height": 533
        },
        "id": "4B4qm7r-My2d",
        "outputId": "47e36f68-f575-4ef4-d7c2-b74b19810459"
      },
      "execution_count": null,
      "outputs": [
        {
          "output_type": "execute_result",
          "data": {
            "image/png": "[encoded data removed]",
            "text/plain": [
              "<IPython.core.display.Image object>"
            ]
          },
          "metadata": {},
          "execution_count": 21
        }
      ]
    },
    {
      "cell_type": "markdown",
      "source": [
        "=> show_shapes = True : 데이터의 입출력 shape 출력\n",
        "\n",
        "show_layer_names = True : 레이어의 이름 출력\n",
        "\n",
        "to_file : 파일명 입력하면 이미지 파일로 저장"
      ],
      "metadata": {
        "id": "eDlL1fGZM1Xy"
      }
    },
    {
      "cell_type": "markdown",
      "source": [
        "* 함수형 API도 Sequential API와 동일한 방식으로 훈련"
      ],
      "metadata": {
        "id": "FuBN--ryNHNn"
      }
    },
    {
      "cell_type": "code",
      "source": [
        "#컴파일\n",
        "func_model.compile(optimizer='adam', loss='sparse_categorical_crossentropy', metrics=['accuracy'])\n",
        "\n",
        "#훈련\n",
        "func_model.fit(x_train, y_train, epochs=3)\n",
        "\n",
        "#검증\n",
        "loss, acc=func_model.evaluate(x_test, y_test, verbose=0)\n",
        "print(f'Functional Model] loss: {loss:.5f}, acc: {acc:.5f}')"
      ],
      "metadata": {
        "colab": {
          "base_uri": "https://localhost:8080/"
        },
        "id": "fBWH1ipBNGzb",
        "outputId": "ab42d3e7-c525-4f6f-f1d6-b82bcd1549e0"
      },
      "execution_count": null,
      "outputs": [
        {
          "output_type": "stream",
          "name": "stdout",
          "text": [
            "Epoch 1/3\n",
            "1875/1875 [==============================] - 12s 6ms/step - loss: 0.2110 - accuracy: 0.9384\n",
            "Epoch 2/3\n",
            "1875/1875 [==============================] - 11s 6ms/step - loss: 0.0875 - accuracy: 0.9732\n",
            "Epoch 3/3\n",
            "1875/1875 [==============================] - 11s 6ms/step - loss: 0.0607 - accuracy: 0.9808\n",
            "Functional Model] loss: 0.06780, acc: 0.97870\n"
          ]
        }
      ]
    },
    {
      "cell_type": "markdown",
      "source": [
        "## 7-2 모델 서브클래싱(Model Subclassing)\n",
        "\n",
        "**Model** 클래스를 직접 상속받아 사용자가 직접 서브클래스로 딥러닝 모델 만들 수 있다\n",
        "\n",
        "* Model Subclassing으로 모델 인스턴스 생성하기 위해서는 tf.keras.Model 상속받아 생성하고자 하는 모델 클래스 구현\n",
        "  + 모델의 __init__()함수에 레이어 정의하고, 레이어의 하이퍼파라미터 정의"
      ],
      "metadata": {
        "id": "HDrVrYTyNO-W"
      }
    },
    {
      "cell_type": "code",
      "source": [
        "class MyModel(tf.keras.Model):\n",
        "  def __init__(self):\n",
        "    super(MyModel, self).__init__()\n",
        "    #초기값 설정\n",
        "    self.flatten=tf.keras.layers.Flatten()\n",
        "    self.dense1=tf.keras.layers.Dense(256, activation='relu')\n",
        "    self.dense2=tf.keras.layers.Dense(64, activation='relu')\n",
        "    self.dense3=tf.keras.layers.Dense(10, activation='softmax')\n",
        "\n",
        "  #method overiding\n",
        "  #훈련용 함수 정의\n",
        "  #x는 input\n",
        "  def call(self, x):\n",
        "    x=self.flatten(x)\n",
        "    x=self.dense1(x)\n",
        "    x=self.dense2(x)\n",
        "    x=self.dense3(x)\n",
        "    return x"
      ],
      "metadata": {
        "id": "YJLCvXnMNokP"
      },
      "execution_count": null,
      "outputs": []
    },
    {
      "cell_type": "markdown",
      "source": [
        "\n",
        "* **call()** 함수 : fit() 메소드가 호출되어 훈련하는 경우 호출될 함수\n",
        "  + 순전파 정의하고 함수형 API와 같은 방식으로 모든 레이어를 체인처럼 연결. 최종 출력 값 return"
      ],
      "metadata": {
        "id": "TT6VtdgrNO9D"
      }
    },
    {
      "cell_type": "code",
      "source": [
        "#모델 생성\n",
        "mymodel=MyModel()\n",
        "\n",
        "#모델의 이름 설정\n",
        "mymodel._name='subclass_model'\n",
        "\n",
        "#모델 input 정의\n",
        "mymodel(tf.keras.layers.Input(shape=(28, 28)))\n",
        "\n",
        "#모델 요약\n",
        "mymodel.summary()"
      ],
      "metadata": {
        "colab": {
          "base_uri": "https://localhost:8080/"
        },
        "id": "zjfpZ_wvN4jX",
        "outputId": "0e4bf5b8-8723-4676-9c87-af2f6812dc6a"
      },
      "execution_count": null,
      "outputs": [
        {
          "output_type": "stream",
          "name": "stdout",
          "text": [
            "Model: \"subclass_model\"\n",
            "_________________________________________________________________\n",
            " Layer (type)                Output Shape              Param #   \n",
            "=================================================================\n",
            " flatten_3 (Flatten)         multiple                  0         \n",
            "                                                                 \n",
            " dense_15 (Dense)            multiple                  200960    \n",
            "                                                                 \n",
            " dense_16 (Dense)            multiple                  16448     \n",
            "                                                                 \n",
            " dense_17 (Dense)            multiple                  650       \n",
            "                                                                 \n",
            "=================================================================\n",
            "Total params: 218,058\n",
            "Trainable params: 218,058\n",
            "Non-trainable params: 0\n",
            "_________________________________________________________________\n"
          ]
        }
      ]
    },
    {
      "cell_type": "markdown",
      "source": [
        "* mymodel 변수에 바로 summary()로 요약 출력 불가 -> Input 레이어와 함께 shape 정의해줘야 모델 요약 확인 가능"
      ],
      "metadata": {
        "id": "VsviejkZN6FI"
      }
    },
    {
      "cell_type": "code",
      "source": [
        "#컴파일\n",
        "mymodel.compile(optimizer='adam', loss='sparse_categorical_crossentropy', metrics=['accuracy'])\n",
        "\n",
        "#훈련\n",
        "mymodel.fit(x_train, y_train, epochs=3)\n",
        "\n",
        "#검증\n",
        "loss, acc=mymodel.evaluate(x_test, y_test, verbose=0)\n",
        "print(f'Subclassing Model] loss: {loss:.5f}, acc: {acc:.5f}')"
      ],
      "metadata": {
        "colab": {
          "base_uri": "https://localhost:8080/"
        },
        "id": "UuPLMLhhOEct",
        "outputId": "1e0028ba-8040-4c56-86de-54dfea09700d"
      },
      "execution_count": null,
      "outputs": [
        {
          "output_type": "stream",
          "name": "stdout",
          "text": [
            "Epoch 1/3\n",
            "1875/1875 [==============================] - 12s 6ms/step - loss: 0.2172 - accuracy: 0.9357\n",
            "Epoch 2/3\n",
            "1875/1875 [==============================] - 11s 6ms/step - loss: 0.0869 - accuracy: 0.9727\n",
            "Epoch 3/3\n",
            "1875/1875 [==============================] - 11s 6ms/step - loss: 0.0589 - accuracy: 0.9813\n",
            "Subclassing Model] loss: 0.07276, acc: 0.97700\n"
          ]
        }
      ]
    },
    {
      "cell_type": "markdown",
      "source": [
        "=> Model Subclassing으로 생성된 모델도 동일하게 훈련, 검증 등 가능. 단지 모델을 생성하는 방식의 차이"
      ],
      "metadata": {
        "id": "2axnmSPHOHJO"
      }
    },
    {
      "cell_type": "markdown",
      "source": [
        "### 7-3 서브클래싱 모델 파라미터를 활용한 생성\n",
        "\n",
        "Model Subclassing 생성의 장점 : 생성자 파라미터로 모델 내부 레이어의 하이퍼파라미터 지정할 수 있다"
      ],
      "metadata": {
        "id": "n4yJOzAuOOVu"
      }
    },
    {
      "cell_type": "markdown",
      "source": [
        "* 모델 생성자 파라미터 추가해 동적으로 레이어의 유닛 개수 초기화"
      ],
      "metadata": {
        "id": "XSDfV0uTOgCr"
      }
    },
    {
      "cell_type": "code",
      "source": [
        "class MyModel(tf.keras.Model):\n",
        "\n",
        "  #생성자 파라미터 추가\n",
        "  def __init__(self, units, num_classes):\n",
        "    super(MyModel, self).__init__()\n",
        "    #초기값 설정\n",
        "    self.flatten=tf.keras.layers.Flatten()\n",
        "    self.dense1=tf.keras.layers.Dense(units, activation='relu')\n",
        "    self.dense2=tf.keras.layers.Dense(units/4, activation='relu')\n",
        "    self.dense3=tf.keras.layers.Dense(num_classes, activation='softmax')\n",
        "\n",
        "  #class overiding\n",
        "  #훈련용 함수 정의\n",
        "  #x는 input\n",
        "  def call(self, x):\n",
        "    x=self.flatten(x)\n",
        "    x=self.dense1(x)\n",
        "    x=self.dense2(x)\n",
        "    x=self.dense3(x)\n",
        "    return x"
      ],
      "metadata": {
        "id": "ZsSJpu46OZMK"
      },
      "execution_count": null,
      "outputs": []
    },
    {
      "cell_type": "markdown",
      "source": [
        "* 기준이 되는 unit의 개수 입력받아 Dense 레이어의 유닛 개수 계산하여 설정"
      ],
      "metadata": {
        "id": "ECx7-6SaOhk1"
      }
    },
    {
      "cell_type": "code",
      "source": [
        "#모델 생성\n",
        "mymodel=MyModel(256, 10)\n",
        "\n",
        "#모델 input 정의\n",
        "mymodel(tf.keras.layers.Input(shape=(28, 28)))\n",
        "\n",
        "#모델 요약\n",
        "mymodel.summary()"
      ],
      "metadata": {
        "colab": {
          "base_uri": "https://localhost:8080/"
        },
        "id": "SZm4utZtOnAb",
        "outputId": "b7c51f53-a212-498c-b775-7de711755130"
      },
      "execution_count": null,
      "outputs": [
        {
          "output_type": "stream",
          "name": "stdout",
          "text": [
            "Model: \"my_model_1\"\n",
            "_________________________________________________________________\n",
            " Layer (type)                Output Shape              Param #   \n",
            "=================================================================\n",
            " flatten_4 (Flatten)         multiple                  0         \n",
            "                                                                 \n",
            " dense_18 (Dense)            multiple                  200960    \n",
            "                                                                 \n",
            " dense_19 (Dense)            multiple                  16448     \n",
            "                                                                 \n",
            " dense_20 (Dense)            multiple                  650       \n",
            "                                                                 \n",
            "=================================================================\n",
            "Total params: 218,058\n",
            "Trainable params: 218,058\n",
            "Non-trainable params: 0\n",
            "_________________________________________________________________\n"
          ]
        }
      ]
    },
    {
      "cell_type": "markdown",
      "source": [
        "=> summary 결과 확인시 동적으로 설정한 레이어의 파라미터 초기화되었음"
      ],
      "metadata": {
        "id": "K4npvTdgOqyz"
      }
    },
    {
      "cell_type": "code",
      "source": [
        "#컴파일\n",
        "mymodel.compile(optimizer='adam', loss='sparse_categorical_crossentropy', metrics=['accuracy'])\n",
        "\n",
        "#훈련\n",
        "mymodel.fit(x_train, y_train, epochs=3)\n",
        "\n",
        "#검증\n",
        "loss, acc=mymodel.evaluate(x_test, y_test, verbose=0)\n",
        "print(f'Subclassing Model w.parameters] loss: {loss:.5f}, acc: {acc:.5f}')"
      ],
      "metadata": {
        "colab": {
          "base_uri": "https://localhost:8080/"
        },
        "id": "6ImXEzzzOrQA",
        "outputId": "0e5b0c76-9876-4684-c06c-91c3c823dc26"
      },
      "execution_count": null,
      "outputs": [
        {
          "output_type": "stream",
          "name": "stdout",
          "text": [
            "Epoch 1/3\n",
            "1875/1875 [==============================] - 13s 6ms/step - loss: 0.2081 - accuracy: 0.9382\n",
            "Epoch 2/3\n",
            "1875/1875 [==============================] - 12s 6ms/step - loss: 0.0865 - accuracy: 0.9732\n",
            "Epoch 3/3\n",
            "1875/1875 [==============================] - 11s 6ms/step - loss: 0.0592 - accuracy: 0.9808\n",
            "Subclassing Model w.parameters] loss: 0.08593, acc: 0.97480\n"
          ]
        }
      ]
    }
  ]
}