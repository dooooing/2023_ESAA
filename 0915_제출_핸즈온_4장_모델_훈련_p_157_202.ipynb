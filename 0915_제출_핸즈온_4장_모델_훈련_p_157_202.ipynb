{
  "nbformat": 4,
  "nbformat_minor": 0,
  "metadata": {
    "colab": {
      "provenance": [],
      "include_colab_link": true
    },
    "kernelspec": {
      "name": "python3",
      "display_name": "Python 3"
    },
    "language_info": {
      "name": "python"
    }
  },
  "cells": [
    {
      "cell_type": "markdown",
      "metadata": {
        "id": "view-in-github",
        "colab_type": "text"
      },
      "source": [
        "<a href=\"https://colab.research.google.com/github/dooooing/2023-ESAA-/blob/main/0915_%EC%A0%9C%EC%B6%9C_%ED%95%B8%EC%A6%88%EC%98%A8_4%EC%9E%A5_%EB%AA%A8%EB%8D%B8_%ED%9B%88%EB%A0%A8_p_157_202.ipynb\" target=\"_parent\"><img src=\"https://colab.research.google.com/assets/colab-badge.svg\" alt=\"Open In Colab\"/></a>"
      ]
    },
    {
      "cell_type": "markdown",
      "source": [
        "핸즈온 머신러닝 텐서플로 4장 모델 훈련 p.157-202"
      ],
      "metadata": {
        "id": "fPZJed_RWII6"
      }
    },
    {
      "cell_type": "markdown",
      "source": [
        "# Chapter 4. 모델 훈련"
      ],
      "metadata": {
        "id": "W5bPOAjwwotY"
      }
    },
    {
      "cell_type": "markdown",
      "source": [
        "## 4.1 선형 회귀\n",
        "\n",
        "**선형 회귀 모델**"
      ],
      "metadata": {
        "id": "tfBwS0oJ9JVz"
      }
    },
    {
      "cell_type": "markdown",
      "source": [
        "데이터와 가장 유사한 직선 찾기\n",
        "\n",
        "y = ax + b"
      ],
      "metadata": {
        "id": "jP6yltPZGwLS"
      }
    },
    {
      "cell_type": "markdown",
      "source": [
        "### 4.1.1 정규방정식\n",
        "\n",
        "**정규방정식** : 비용 함수를 최소화하는 세타 값 찾기 위한 공식\n",
        "\n",
        "theta : 비용 함수 최소화\n",
        "\n",
        "y : y(1) ~ y(n)까지 포함하는 타깃 벡터"
      ],
      "metadata": {
        "id": "3bnliJGq-Ibf"
      }
    },
    {
      "cell_type": "code",
      "execution_count": null,
      "metadata": {
        "id": "zeOw9NrwFWez"
      },
      "outputs": [],
      "source": [
        "# 선형처럼 보이는 데이터 생성\n",
        "import numpy as np\n",
        "\n",
        "X = 2 * np.random.rand(100,1)\n",
        "y = 4 + 3 * X + np.random.randn(100,1)"
      ]
    },
    {
      "cell_type": "code",
      "source": [
        "# 정규방정식 사용해 theta hat 계산\n",
        "X_b = np.c_[np.ones((100,1)), X]  # 모든 샘플에 x0 = 1을 추가합니다.\n",
        "theta_best = np.linalg.inv(X_b.T.dot(X_b)).dot(X_b.T).dot(y)"
      ],
      "metadata": {
        "id": "an9JIuDl_C9a"
      },
      "execution_count": null,
      "outputs": []
    },
    {
      "cell_type": "code",
      "source": [
        "theta_best"
      ],
      "metadata": {
        "colab": {
          "base_uri": "https://localhost:8080/"
        },
        "id": "1H3LglzEId0K",
        "outputId": "167111e4-5c8c-4b38-da77-2f41bc6e78d8"
      },
      "execution_count": null,
      "outputs": [
        {
          "output_type": "execute_result",
          "data": {
            "text/plain": [
              "array([[4.12715896],\n",
              "       [3.03714804]])"
            ]
          },
          "metadata": {},
          "execution_count": 39
        }
      ]
    },
    {
      "cell_type": "code",
      "source": [
        "# theta hat 사용해 예측\n",
        "X_new = np.array([[0], [2]])\n",
        "X_new_b = np.c_[np.ones((2,1)), X_new]  # 모든 샘플에 x0 = 1을 추가합니다.\n",
        "y_predict = X_new_b.dot(theta_best)\n",
        "y_predict"
      ],
      "metadata": {
        "colab": {
          "base_uri": "https://localhost:8080/"
        },
        "id": "QWWZShtwIxVH",
        "outputId": "c52f6bca-45e0-4a49-d142-ca450467aba0"
      },
      "execution_count": null,
      "outputs": [
        {
          "output_type": "execute_result",
          "data": {
            "text/plain": [
              "array([[ 4.12715896],\n",
              "       [10.20145504]])"
            ]
          },
          "metadata": {},
          "execution_count": 40
        }
      ]
    },
    {
      "cell_type": "code",
      "source": [
        "# 모델의 예측을 그래프에 나타내기\n",
        "import matplotlib.pyplot as plt\n",
        "\n",
        "plt.plot(X_new, y_predict, \"r-\")\n",
        "plt.plot(X, y, \"b.\")\n",
        "plt.axis([0, 2, 0, 15])\n",
        "plt.show()"
      ],
      "metadata": {
        "colab": {
          "base_uri": "https://localhost:8080/",
          "height": 265
        },
        "id": "twm01pGIJJlu",
        "outputId": "28d982ad-e3c7-45fd-cb42-b55b2acdaf60"
      },
      "execution_count": null,
      "outputs": [
        {
          "output_type": "display_data",
          "data": {
            "text/plain": [
              "<Figure size 432x288 with 1 Axes>"
            ],
            "image/png": "[encoded data removed]"
          },
          "metadata": {
            "needs_background": "light"
          }
        }
      ]
    },
    {
      "cell_type": "code",
      "source": [
        "# 사이킷런에서 선형 회귀 수행\n",
        "from sklearn.linear_model import LinearRegression\n",
        "lin_reg = LinearRegression()\n",
        "lin_reg.fit(X, y)\n",
        "lin_reg.intercept_, lin_reg.coef_\n",
        "lin_reg.predict(X_new)"
      ],
      "metadata": {
        "colab": {
          "base_uri": "https://localhost:8080/"
        },
        "id": "xEr7KD1bJjq-",
        "outputId": "90e9d537-3aca-4549-e08a-95c479cfd60e"
      },
      "execution_count": null,
      "outputs": [
        {
          "output_type": "execute_result",
          "data": {
            "text/plain": [
              "array([[ 4.12715896],\n",
              "       [10.20145504]])"
            ]
          },
          "metadata": {},
          "execution_count": 42
        }
      ]
    },
    {
      "cell_type": "markdown",
      "source": [
        "LinearRegression 클래스는 **scipy.linalg.lstsq()** 함수 기반으로"
      ],
      "metadata": {
        "id": "viWq02tILxBi"
      }
    },
    {
      "cell_type": "code",
      "source": [
        "theta_best_svd, residuals, rank, s = np.linalg.lstsq(X_b, y, rcond=1e-6)\n",
        "theta_best_svd"
      ],
      "metadata": {
        "colab": {
          "base_uri": "https://localhost:8080/"
        },
        "id": "4SsEnw4aL2Xt",
        "outputId": "7ab68476-2910-4f5c-9976-f7d0d7338f47"
      },
      "execution_count": null,
      "outputs": [
        {
          "output_type": "execute_result",
          "data": {
            "text/plain": [
              "array([[4.12715896],\n",
              "       [3.03714804]])"
            ]
          },
          "metadata": {},
          "execution_count": 43
        }
      ]
    },
    {
      "cell_type": "markdown",
      "source": [
        "**np.linalg.pinv()**\n",
        "\n",
        "theta hat = (X)+ y\n",
        "\n",
        "* 특잇값 분해(SVD) 사용\n",
        "\n",
        "X = U * sigma * V.T\n",
        "\n",
        "X+ = V * sigma+ * U.T"
      ],
      "metadata": {
        "id": "Othh64HEMFw3"
      }
    },
    {
      "cell_type": "code",
      "source": [
        "np.linalg.pinv(X_b).dot(y)"
      ],
      "metadata": {
        "colab": {
          "base_uri": "https://localhost:8080/"
        },
        "id": "kOp2_rOBMsej",
        "outputId": "4b6ee72f-1f02-4ad5-e708-58213be069b0"
      },
      "execution_count": null,
      "outputs": [
        {
          "output_type": "execute_result",
          "data": {
            "text/plain": [
              "array([[4.12715896],\n",
              "       [3.03714804]])"
            ]
          },
          "metadata": {},
          "execution_count": 44
        }
      ]
    },
    {
      "cell_type": "markdown",
      "source": [
        "### 4.1.2 계산 복잡도\n",
        "\n",
        "* 정규방정식은 (n+1) x (n+1) 크기가 되는 X.T*X의 역행렬 계산 -> 일반적으로 O(n^2.4)에서 O(n^3) 사이\n",
        "\n",
        "* LinearRegression 클래스가 사용하는 SVD 방법은 약 O(n^2)"
      ],
      "metadata": {
        "id": "_xDaJtBltKA5"
      }
    },
    {
      "cell_type": "markdown",
      "source": [
        "## 4.2 경사 하강법\n",
        "\n",
        "**경사 하강법**(GD) : 여러 종류의 문제에서 최적의 해법을 찾을 수 있는 일반적인 최적화 알고리즘\n",
        "\n",
        "=> 비용 함수를 최소화하기 위해 반복해서 파라미터를 조정해가는 것"
      ],
      "metadata": {
        "id": "k5A6PVSHuWCx"
      }
    },
    {
      "cell_type": "markdown",
      "source": [
        "* 중요한 파라미터 = 스텝의 크기 -> 학습률 파라미터로 결정\n",
        "  + 학습률이 너무 작으면 반복 많이 진행해야해 -> 시간 오래 걸려\n",
        "  + 학습률이 너무 크면 반대편으로 건너뛰게 되어 -> 알고리즘을 더 큰 값으로 발산하게 만들어"
      ],
      "metadata": {
        "id": "LvUfNAsLvflZ"
      }
    },
    {
      "cell_type": "markdown",
      "source": [
        "* 경사 하강법의 두 가지 문제점\n",
        "  + 알고리즘이 왼쪽에서 시작 -> 전역 최솟값보다 덜 좋은 지역 최솟값에 수렴\n",
        "  + 알고리즘이 오른쪽에서 시작 -> 평탄한 지역 지나기 위해 시간 오래 걸리고 일찍 멈추게 돼 -> 전역 최솟값에 도달x"
      ],
      "metadata": {
        "id": "plnHHEd_v9L2"
      }
    },
    {
      "cell_type": "markdown",
      "source": [
        "* 선형 회귀를 위한 MSE 비용 함수\n",
        "  + 볼록 함수 -> 지역 최솟값이 없고 하나의 전역 최솟값만 있다\n",
        "  + 연속된 함수이고 기울기가 갑자기 변하지x\n",
        "  + => 경사 하강법이 전역 최솟값에 가깝게 접근할 수 있다는 것 보장"
      ],
      "metadata": {
        "id": "yfIeVs7Dz543"
      }
    },
    {
      "cell_type": "markdown",
      "source": [
        "### 4.2.1 배치 경사 하강법\n",
        "\n",
        "**배치 경사 하강법** : 각 모델 파라미터 theta(j)에 대해 비용 함수의 그레이디언트를 계산해 구현\n",
        "\n",
        "theta(j)가 조금 변경될 때 비용 함수가 얼마나 바뀌는지 계산 = 편도함수"
      ],
      "metadata": {
        "id": "IXqw5k340byy"
      }
    },
    {
      "cell_type": "markdown",
      "source": [
        "편도함수를 각각 계산하는 대신 한꺼번에 계산"
      ],
      "metadata": {
        "id": "ZgCQYo3L7RXq"
      }
    },
    {
      "cell_type": "code",
      "source": [
        "eta = 0.1   # 학습률\n",
        "n_iterations = 1000\n",
        "m = 100\n",
        "\n",
        "theta = np.random.randn(2,1)   # 무작위 초기화\n",
        "\n",
        "for iteration in range(n_iterations):\n",
        "  gradients = 2/m * X_b.T.dot(X_b.dot(theta) - y)\n",
        "  theta = theta - eta * gradients"
      ],
      "metadata": {
        "id": "b1G_PclAvelQ"
      },
      "execution_count": null,
      "outputs": []
    },
    {
      "cell_type": "code",
      "source": [
        "theta"
      ],
      "metadata": {
        "colab": {
          "base_uri": "https://localhost:8080/"
        },
        "id": "FYRLtgn38P7v",
        "outputId": "318e83c9-610f-4002-b750-3e7bfc71edc7"
      },
      "execution_count": null,
      "outputs": [
        {
          "output_type": "execute_result",
          "data": {
            "text/plain": [
              "array([[4.12715896],\n",
              "       [3.03714804]])"
            ]
          },
          "metadata": {},
          "execution_count": 46
        }
      ]
    },
    {
      "cell_type": "markdown",
      "source": [
        "* 세 가지 다른 학습률 사용하여 진행한 경사 하강법의 스텝 처음 10개"
      ],
      "metadata": {
        "id": "mfMiLXFm8eW6"
      }
    },
    {
      "cell_type": "markdown",
      "source": [
        ">* 왼쪽은 학습률이 너무 낮아 -> 최적점에 도달하겠지만 시간이 오래 걸려.\n",
        ">* 가운데는 학습률 아주 적당. 반복 몇 번 만에 이미 최적점에 수렴\n",
        ">*오른쪽은 학습률이 너무 높아 -> 스텝마다 최적점에서 점점 더 멀어져 발산\n",
        "\n",
        "=> 적절한 학습률 찾으려면 그리드 탐색 사용"
      ],
      "metadata": {
        "id": "GvoMgsI88rwx"
      }
    },
    {
      "cell_type": "markdown",
      "source": [
        "* 그리드 탐색에서 수렴하는 데 너무 오래 걸리는 모델 막기 위해 반복 횟수 제한 -> 반복 횟수는 어떻게 지정?\n",
        "\n",
        "반복 횟수를 아주 크게 지정하고 그레이디언트 벡터가 아주 작아지면, 즉 벡터의 노름이 어떤 값(허용오차)보다 작아지면 경사 하강법이 최솟값에 도달한 것. 알고리즘 중지"
      ],
      "metadata": {
        "id": "gY7bzgCY9Ce2"
      }
    },
    {
      "cell_type": "markdown",
      "source": [
        "### 4.2.2 확률적 경사 하강법\n",
        "\n",
        "배치 경사 하강법 의 가장 큰 문제 = 매 스텝에서 전체 훈련 세트 사용해 그레이디언트 계산. 훈련 세트 커지면 매우 느려져.\n",
        "\n",
        "<->\n",
        "\n",
        "**확률적 경사 하강법** : 매 스텝에서 한 개의 샘플을 무작위로 선택하고 그 하나의 샘플에 대한 그레이디언트 계산\n",
        "\n",
        ">* 알고리즘 확실히 빨라. 매우 큰 훈련 세트도 훈련o.\n",
        ">* 확률적 -> 훨씬 불안정. 시간 지나면 최솟값에 매우 근접하겠지만 요동 지속되면서 최솟값에 안착하지x.확률적 경사 하강법이 배치 경사 하강법보다 전역 최솟값을 찾을 가능성 높아\n",
        "\n",
        "무작위성은 지역 최솟값에서 탈출시켜줘 but 알고리즘을 전역 최솟값에 다다르지 못하게 해\n",
        "\n",
        "-> 딜레마 해결 방법\n",
        "* 학습률을 점진적으로 감소시킨다\n",
        "  + 시작할 때 학습률 크게 하고, 점차 작게 줄여서 알고리즘이 전역 최솟값에 도달\n",
        "  + 매 반복에서 학습률 결정하는 함수 = 학습 스케줄"
      ],
      "metadata": {
        "id": "8kpxgBHT9Ze9"
      }
    },
    {
      "cell_type": "code",
      "source": [
        "# 학습 스케줄 사용한 확률적 경사 하강법의 구현\n",
        "n_epochs = 50   # 각 반복 = 에포크\n",
        "t0, t1 = 5,50   # 학습 스케줄 하이퍼파라미터\n",
        "\n",
        "def learning_schedule(t):\n",
        "  return t0 / (t + t1)\n",
        "\n",
        "theta = np.random.randn(2,1)   # 무작위 초기화\n",
        "\n",
        "for epoch in range(n_epochs):\n",
        "  for i in range(m):\n",
        "    random_index = np.random.randint(m)\n",
        "    xi = X_b[random_index:random_index+1]\n",
        "    yi = y[random_index:random_index+1]\n",
        "    gradients = 2 * xi.T.dot(xi.dot(theta) - yi)\n",
        "    eta = learning_schedule(epoch * m + i)\n",
        "    theta = theta - eta * gradients"
      ],
      "metadata": {
        "id": "6FgSxTp38RrP"
      },
      "execution_count": null,
      "outputs": []
    },
    {
      "cell_type": "code",
      "source": [
        "theta"
      ],
      "metadata": {
        "colab": {
          "base_uri": "https://localhost:8080/"
        },
        "id": "B63WBg-lAChj",
        "outputId": "eef86fe3-6f5d-4c92-ec10-6492c0518e31"
      },
      "execution_count": null,
      "outputs": [
        {
          "output_type": "execute_result",
          "data": {
            "text/plain": [
              "array([[4.07215341],\n",
              "       [3.05144711]])"
            ]
          },
          "metadata": {},
          "execution_count": 48
        }
      ]
    },
    {
      "cell_type": "markdown",
      "source": [
        "사이킷런에서 SGD 방식으로 선형 회귀 사용하려면 **SGDRegressor** 클래스 사용"
      ],
      "metadata": {
        "id": "28zbqS1BAY0s"
      }
    },
    {
      "cell_type": "code",
      "source": [
        "from sklearn.linear_model import SGDRegressor\n",
        "sgd_reg = SGDRegressor(max_iter = 1000, tol = 1e-3, penalty = None, eta0 = 0.1)  # max_iter : 최대 에포크 횟수. tol : 손실이 줄어들 때까지 실행되는 기준. eta0 : 학습률. penalty : 규제\n",
        "sgd_reg.fit(X, y.ravel())"
      ],
      "metadata": {
        "colab": {
          "base_uri": "https://localhost:8080/",
          "height": 74
        },
        "id": "VSob3IgMArBg",
        "outputId": "d1080e3a-7017-4bc8-c6e3-340f37191e5b"
      },
      "execution_count": null,
      "outputs": [
        {
          "output_type": "execute_result",
          "data": {
            "text/plain": [
              "SGDRegressor(eta0=0.1, penalty=None)"
            ],
            "text/html": [
              "<style>#sk-container-id-4 {color: black;background-color: white;}#sk-container-id-4 pre{padding: 0;}#sk-container-id-4 div.sk-toggleable {background-color: white;}#sk-container-id-4 label.sk-toggleable__label {cursor: pointer;display: block;width: 100%;margin-bottom: 0;padding: 0.3em;box-sizing: border-box;text-align: center;}#sk-container-id-4 label.sk-toggleable__label-arrow:before {content: \"▸\";float: left;margin-right: 0.25em;color: #696969;}#sk-container-id-4 label.sk-toggleable__label-arrow:hover:before {color: black;}#sk-container-id-4 div.sk-estimator:hover label.sk-toggleable__label-arrow:before {color: black;}#sk-container-id-4 div.sk-toggleable__content {max-height: 0;max-width: 0;overflow: hidden;text-align: left;background-color: #f0f8ff;}#sk-container-id-4 div.sk-toggleable__content pre {margin: 0.2em;color: black;border-radius: 0.25em;background-color: #f0f8ff;}#sk-container-id-4 input.sk-toggleable__control:checked~div.sk-toggleable__content {max-height: 200px;max-width: 100%;overflow: auto;}#sk-container-id-4 input.sk-toggleable__control:checked~label.sk-toggleable__label-arrow:before {content: \"▾\";}#sk-container-id-4 div.sk-estimator input.sk-toggleable__control:checked~label.sk-toggleable__label {background-color: #d4ebff;}#sk-container-id-4 div.sk-label input.sk-toggleable__control:checked~label.sk-toggleable__label {background-color: #d4ebff;}#sk-container-id-4 input.sk-hidden--visually {border: 0;clip: rect(1px 1px 1px 1px);clip: rect(1px, 1px, 1px, 1px);height: 1px;margin: -1px;overflow: hidden;padding: 0;position: absolute;width: 1px;}#sk-container-id-4 div.sk-estimator {font-family: monospace;background-color: #f0f8ff;border: 1px dotted black;border-radius: 0.25em;box-sizing: border-box;margin-bottom: 0.5em;}#sk-container-id-4 div.sk-estimator:hover {background-color: #d4ebff;}#sk-container-id-4 div.sk-parallel-item::after {content: \"\";width: 100%;border-bottom: 1px solid gray;flex-grow: 1;}#sk-container-id-4 div.sk-label:hover label.sk-toggleable__label {background-color: #d4ebff;}#sk-container-id-4 div.sk-serial::before {content: \"\";position: absolute;border-left: 1px solid gray;box-sizing: border-box;top: 0;bottom: 0;left: 50%;z-index: 0;}#sk-container-id-4 div.sk-serial {display: flex;flex-direction: column;align-items: center;background-color: white;padding-right: 0.2em;padding-left: 0.2em;position: relative;}#sk-container-id-4 div.sk-item {position: relative;z-index: 1;}#sk-container-id-4 div.sk-parallel {display: flex;align-items: stretch;justify-content: center;background-color: white;position: relative;}#sk-container-id-4 div.sk-item::before, #sk-container-id-4 div.sk-parallel-item::before {content: \"\";position: absolute;border-left: 1px solid gray;box-sizing: border-box;top: 0;bottom: 0;left: 50%;z-index: -1;}#sk-container-id-4 div.sk-parallel-item {display: flex;flex-direction: column;z-index: 1;position: relative;background-color: white;}#sk-container-id-4 div.sk-parallel-item:first-child::after {align-self: flex-end;width: 50%;}#sk-container-id-4 div.sk-parallel-item:last-child::after {align-self: flex-start;width: 50%;}#sk-container-id-4 div.sk-parallel-item:only-child::after {width: 0;}#sk-container-id-4 div.sk-dashed-wrapped {border: 1px dashed gray;margin: 0 0.4em 0.5em 0.4em;box-sizing: border-box;padding-bottom: 0.4em;background-color: white;}#sk-container-id-4 div.sk-label label {font-family: monospace;font-weight: bold;display: inline-block;line-height: 1.2em;}#sk-container-id-4 div.sk-label-container {text-align: center;}#sk-container-id-4 div.sk-container {/* jupyter's `normalize.less` sets `[hidden] { display: none; }` but bootstrap.min.css set `[hidden] { display: none !important; }` so we also need the `!important` here to be able to override the default hidden behavior on the sphinx rendered scikit-learn.org. See: https://github.com/scikit-learn/scikit-learn/issues/21755 */display: inline-block !important;position: relative;}#sk-container-id-4 div.sk-text-repr-fallback {display: none;}</style><div id=\"sk-container-id-4\" class=\"sk-top-container\"><div class=\"sk-text-repr-fallback\"><pre>SGDRegressor(eta0=0.1, penalty=None)</pre><b>In a Jupyter environment, please rerun this cell to show the HTML representation or trust the notebook. <br />On GitHub, the HTML representation is unable to render, please try loading this page with nbviewer.org.</b></div><div class=\"sk-container\" hidden><div class=\"sk-item\"><div class=\"sk-estimator sk-toggleable\"><input class=\"sk-toggleable__control sk-hidden--visually\" id=\"sk-estimator-id-4\" type=\"checkbox\" checked><label for=\"sk-estimator-id-4\" class=\"sk-toggleable__label sk-toggleable__label-arrow\">SGDRegressor</label><div class=\"sk-toggleable__content\"><pre>SGDRegressor(eta0=0.1, penalty=None)</pre></div></div></div></div></div>"
            ]
          },
          "metadata": {},
          "execution_count": 49
        }
      ]
    },
    {
      "cell_type": "code",
      "source": [
        "sgd_reg.intercept_, sgd_reg.coef_"
      ],
      "metadata": {
        "colab": {
          "base_uri": "https://localhost:8080/"
        },
        "id": "6N3WkjhFBDNl",
        "outputId": "0236e5ca-314b-461b-8cf5-240a8bf5b736"
      },
      "execution_count": null,
      "outputs": [
        {
          "output_type": "execute_result",
          "data": {
            "text/plain": [
              "(array([4.13960016]), array([3.06028975]))"
            ]
          },
          "metadata": {},
          "execution_count": 50
        }
      ]
    },
    {
      "cell_type": "markdown",
      "source": [
        "### 4.2.3 미니배치 경사 하강법\n",
        "\n",
        "**미니배치 경사 하강법** : 미니배치라 부르는 임의의 작은 샘플 세트에 대해 그레이디언트 계산\n",
        "\n",
        "* 행렬 연산에 최적화된 하드웨어, 특히 GPU 사용해서 얻는 성능 향상\n",
        "* 미니배치 어느 정도 크게 하면 SGD보다 덜 불규칙 but 지역 최솟값에서 빠져나오기는 더 힘들지도"
      ],
      "metadata": {
        "id": "mSg6cTjgBqxf"
      }
    },
    {
      "cell_type": "markdown",
      "source": [
        "## 4.3 다항 회귀\n",
        "\n",
        "가지고 있는 데이터가 단순한 직선보다 복잡한 형태라면?\n",
        "\n",
        "각 특성의 거듭제곱을 새로운 특성으로 추가하고, 이 확장된 특성을 포함한 데이터셋에 선형 모델 훈련시키는 것 = **다항 회귀**"
      ],
      "metadata": {
        "id": "t2Lse5HDDUIB"
      }
    },
    {
      "cell_type": "code",
      "source": [
        "m = 100\n",
        "X = 6 * np.random.rand(m, 1) - 3\n",
        "y = 0.5 * X**2 + X + 2 + np.random.randn(m,1)"
      ],
      "metadata": {
        "id": "LlBDh90xDR-u"
      },
      "execution_count": null,
      "outputs": []
    },
    {
      "cell_type": "markdown",
      "source": [
        "=> 직선은 이 데이터에 잘 맞지 않을 것\n",
        "\n",
        "* 사이킷런의 **PolynomialFeatures** 사용해 훈련 데이터 변환"
      ],
      "metadata": {
        "id": "YuLn49oGEUCd"
      }
    },
    {
      "cell_type": "code",
      "source": [
        "from sklearn.preprocessing import PolynomialFeatures\n",
        "poly_features = PolynomialFeatures(degree=2, include_bias=False)\n",
        "X_poly = poly_features.fit_transform(X)\n",
        "X[0]"
      ],
      "metadata": {
        "colab": {
          "base_uri": "https://localhost:8080/"
        },
        "id": "0D-JxEvfEapL",
        "outputId": "f908c158-32e3-4f78-85bd-804cc552275f"
      },
      "execution_count": null,
      "outputs": [
        {
          "output_type": "execute_result",
          "data": {
            "text/plain": [
              "array([-0.59859556])"
            ]
          },
          "metadata": {},
          "execution_count": 52
        }
      ]
    },
    {
      "cell_type": "code",
      "source": [
        "X_poly[0]"
      ],
      "metadata": {
        "colab": {
          "base_uri": "https://localhost:8080/"
        },
        "id": "xsWcUBamVi5V",
        "outputId": "0b47327c-0969-4fa8-e95b-86f1a13864f2"
      },
      "execution_count": null,
      "outputs": [
        {
          "output_type": "execute_result",
          "data": {
            "text/plain": [
              "array([-0.59859556,  0.35831664])"
            ]
          },
          "metadata": {},
          "execution_count": 53
        }
      ]
    },
    {
      "cell_type": "code",
      "source": [
        "# 확장된 훈련 데이터에 LinearRegression 적용\n",
        "lin_reg = LinearRegression()\n",
        "lin_reg.fit(X_poly, y)\n",
        "lin_reg.intercept_, lin_reg.coef_"
      ],
      "metadata": {
        "colab": {
          "base_uri": "https://localhost:8080/"
        },
        "id": "24OcN4mnExXc",
        "outputId": "3aa51e4a-3b49-4f5f-91f4-58899172989f"
      },
      "execution_count": null,
      "outputs": [
        {
          "output_type": "execute_result",
          "data": {
            "text/plain": [
              "(array([2.17457294]), array([[0.87897597, 0.46064487]]))"
            ]
          },
          "metadata": {},
          "execution_count": 54
        }
      ]
    },
    {
      "cell_type": "markdown",
      "source": [
        "* 특성이 여러 개일때 다항 회귀는 이 특성 사이의 관계 찾을 수 있다 (<- 특성 간의 모든 교차항 추가하기 때문)"
      ],
      "metadata": {
        "id": "ZN3zsr1IFOH0"
      }
    },
    {
      "cell_type": "markdown",
      "source": [
        "## 4.4 학습 곡선\n",
        "\n",
        "고차 다항 회귀를 적용하면 보통의 선형 회귀에서보다 훨씬 더 훈련 데이터에 잘 맞추려 할 것\n",
        "\n",
        "얼마나 복잡한 모델을 사용할지 어떻게 결정?\n",
        "\n",
        "* 모델의 일반화 성능 추정 위해 교차 검증 사용\n",
        "  + 훈련 데이터에서 성능이 좋지만 교차 검증 점수가 나쁘다면 모델이 과대적합된 것 -> 모델이 너무 복잡하다\n",
        "* 또 다른 방법은 학습 곡선 살펴보기\n",
        "  + 훈련 세트와 검증 세트의 모델 성능을 훈련 세트 크기의 함수로 나타내\n",
        "  + 훈련 세트에서 크기가 다른 서브 세트를 만들어 모델을 여러 번 훈련시키면 돼"
      ],
      "metadata": {
        "id": "kXYocpkzFUe3"
      }
    },
    {
      "cell_type": "code",
      "source": [
        "from sklearn.metrics import mean_squared_error\n",
        "from sklearn.model_selection import train_test_split\n",
        "\n",
        "def plot_learning_curves(model, X, y):\n",
        "  X_train, X_val, y_train, y_val = train_test_split(X, y, test_size=0.2)\n",
        "  train_errors, val_errors = [], []\n",
        "  for m in range(1, len(X_train)):\n",
        "    model.fit(X_train[:m], y_train[:m])\n",
        "    y_train_predict = model.predict(X_train[:m])\n",
        "    y_val_predict = model.predict(X_val)\n",
        "    train_errors.append(mean_squared_error(y_train[:m], y_train_predict))\n",
        "    val_errors.append(mean_squared_error(y_val, y_val_predict))\n",
        "  plt.plot(np.sqrt(train_errors), \"r-+\", linewidth=2, label=\"훈련 세트\")\n",
        "  plt.plot(np.sqrt(val_errors), \"b-\", linewidth=3, label=\"검증 세트\")"
      ],
      "metadata": {
        "id": "vzotjKiXO4GY"
      },
      "execution_count": null,
      "outputs": []
    },
    {
      "cell_type": "code",
      "source": [
        "lin_reg = LinearRegression()\n",
        "plot_learning_curves(lin_reg, X, y)"
      ],
      "metadata": {
        "colab": {
          "base_uri": "https://localhost:8080/",
          "height": 265
        },
        "id": "BXujT29WPzBJ",
        "outputId": "b4a4ca3e-5343-403e-e6d5-d7bea7ceef01"
      },
      "execution_count": null,
      "outputs": [
        {
          "output_type": "display_data",
          "data": {
            "text/plain": [
              "<Figure size 432x288 with 1 Axes>"
            ],
            "image/png": "[encoded data removed]"
          },
          "metadata": {
            "needs_background": "light"
          }
        }
      ]
    },
    {
      "cell_type": "markdown",
      "source": [
        "=> **과소적합**된 모델\n",
        "\n",
        ">* 훈련 데이터 : 샘플이 추가됨에 따라 잡음o. 비선형. 곡선이 어느 정도 평편해질 때까지 오차 계속 상승\n",
        ">* 검증 데이터 : 검증 오차 초기에 매우 커. 샘플 추가됨에 따라 학습되고 검증 오차 천천히 감소. 훈련 세트의 그래프와 가까워져\n",
        ">* 과소적합 모델 = 두 곡선이 수평한 구간을 만들고 꽤 높은 오차에서 매우 가까이 근접해있어"
      ],
      "metadata": {
        "id": "AHao1LidtELQ"
      }
    },
    {
      "cell_type": "code",
      "source": [
        "# 10차 다항 회귀 모델의 학습 곡선\n",
        "from sklearn.pipeline import Pipeline\n",
        "\n",
        "polynomial_regression = Pipeline([\n",
        "    (\"poly_features\", PolynomialFeatures(degree=10, include_bias=False)),\n",
        "    (\"lin_reg\", LinearRegression()),\n",
        "])\n",
        "plot_learning_curves(polynomial_regression, X, y)"
      ],
      "metadata": {
        "colab": {
          "base_uri": "https://localhost:8080/",
          "height": 265
        },
        "id": "Gv24q7j3thqY",
        "outputId": "29543062-5f5f-4c10-e0d0-d301e4b9697c"
      },
      "execution_count": null,
      "outputs": [
        {
          "output_type": "display_data",
          "data": {
            "text/plain": [
              "<Figure size 432x288 with 1 Axes>"
            ],
            "image/png": "[encoded data removed]"
          },
          "metadata": {
            "needs_background": "light"
          }
        }
      ]
    },
    {
      "cell_type": "markdown",
      "source": [
        "=> 두 그래프의 차이점\n",
        "\n",
        ">* 훈련 데이터의 오차가 선형 회귀 모델보다 훨씬 낮아\n",
        ">* 두 곡선 사이에 공간 있어 -> 훈련 데이터에서의 모델 선응이 검증 데이터에서보다 훨씬 낫다 = 과대적합 모델의 특징/ 더 큰 훈련 세트 사용하면 두 곡선 점점 가까워져"
      ],
      "metadata": {
        "id": "8BJHLdyZt8kW"
      }
    },
    {
      "cell_type": "markdown",
      "source": [
        "## 4.5 규제가 있는 선형 모델\n",
        "\n",
        "과대적합 감소시키는 좋은 방법은 모델 규제하는 것. 선형 회귀 모델에서는 보통 **모델의 가중치 제한**함으로써 규제 가해\n",
        "\n",
        "-> 각기 다른 방법으로 가중치 제한하는 '릿지'회귀, '라쏘'회귀, 엘라스틱넷"
      ],
      "metadata": {
        "id": "INGvWm-Oui_4"
      }
    },
    {
      "cell_type": "markdown",
      "source": [
        "### 4.5.1 릿지 회귀\n",
        "\n",
        "**릿지 회귀** : 훈련하는 동안에만 비용함수에 규제항 추가\n",
        "\n",
        "학습 알고리즘을 데이터에 맞추는 것뿐만 아니라 모델의 가중치가 가능한 한 작게 유지되도록 노력\n",
        "\n",
        "* 하이퍼파라미터 알파 : 모델을 얼마나 많이 규제할지 조절\n",
        "  + 알파=0 이면 릿지 회귀 = 선형 회귀\n",
        "  + 알파가 아주 크면 모든 가중치가 거의 0에 가까워지고 결국 데이터의 평균을 지나는 수평선\n",
        "\n",
        "* 릿지 회귀는 입력 특성의 스케일에 민감하기 때문에 수행하기 전에 데이터의 스케일을 맞추는 것이 중요\n",
        "\n",
        "* 릿지 회귀 계산하기 위해 정규방정식 사용할 수도 있고 경사 하강법을 사용할 수도 있다"
      ],
      "metadata": {
        "id": "VKLb55FXu3BQ"
      }
    },
    {
      "cell_type": "code",
      "source": [
        "# 정규방정식을 사용한 릿지 회귀 적용하는 예\n",
        "from sklearn.linear_model import Ridge\n",
        "ridge_reg = Ridge(alpha=1, solver=\"cholesky\")\n",
        "ridge_reg.fit(X,y)\n",
        "ridge_reg.predict([[1.5]])"
      ],
      "metadata": {
        "colab": {
          "base_uri": "https://localhost:8080/"
        },
        "id": "RtM6fQm1wxLs",
        "outputId": "3dd85e0b-6484-4210-9619-202d3c65b97d"
      },
      "execution_count": null,
      "outputs": [
        {
          "output_type": "execute_result",
          "data": {
            "text/plain": [
              "array([[4.86274542]])"
            ]
          },
          "metadata": {},
          "execution_count": 58
        }
      ]
    },
    {
      "cell_type": "code",
      "source": [
        "# 확률적 경사 하강법을 사용했을 때\n",
        "sgd_reg = SGDRegressor(penalty=\"l2\")\n",
        "sgd_reg.fit(X, y.ravel())\n",
        "sgd_reg.predict([[1.5]])"
      ],
      "metadata": {
        "colab": {
          "base_uri": "https://localhost:8080/"
        },
        "id": "Li2YHMsrw-wc",
        "outputId": "ea9b8980-f578-467a-8828-5140f65d30ad"
      },
      "execution_count": null,
      "outputs": [
        {
          "output_type": "execute_result",
          "data": {
            "text/plain": [
              "array([4.85303482])"
            ]
          },
          "metadata": {},
          "execution_count": 59
        }
      ]
    },
    {
      "cell_type": "markdown",
      "source": [
        "* penalty 매개변수 : 사용할 규제 지정. \"l2\" = 릿지 회귀"
      ],
      "metadata": {
        "id": "XWKsEp6qxTJq"
      }
    },
    {
      "cell_type": "markdown",
      "source": [
        "### 4.5.2 라쏘 회귀\n",
        "\n",
        "**라쏘 회귀** : 릿지 회귀처럼 비용 함수에 규제항을 더하지만 다른 규제 사용.\n",
        "\n",
        "* 중요한 특징은 덜 중요한 특성의 가중치를 제거하려고 한다는 점. 자동으로 특성 선택을 하고 희소 모델을 만든다.\n",
        "\n",
        "* 라쏘와 다른 점\n",
        "  + 파라미터가 전역 최적점에 가까워질수록 그레이디언트 작아진다\n",
        "  + 알파를 증가시킬수록 최적의 파라미터가 원점에 더 가까워진다\n",
        "\n",
        "* 라쏘를 사용할 때 경사 하강법이 최적점 근처에서 진동하는 것을 막으려면 훈련하는 동안 점진적으로 학습률을 감소시켜야한다"
      ],
      "metadata": {
        "id": "XVahK9V4xYr-"
      }
    },
    {
      "cell_type": "code",
      "source": [
        "from sklearn.linear_model import Lasso\n",
        "lasso_reg = Lasso(alpha=0.1)\n",
        "lasso_reg.fit(X, y)\n",
        "lasso_reg.predict([[1.5]])"
      ],
      "metadata": {
        "colab": {
          "base_uri": "https://localhost:8080/"
        },
        "id": "Xxsj8bTSz8XX",
        "outputId": "2d079d28-a7bf-4247-d7ba-b6defc983e44"
      },
      "execution_count": null,
      "outputs": [
        {
          "output_type": "execute_result",
          "data": {
            "text/plain": [
              "array([4.81888406])"
            ]
          },
          "metadata": {},
          "execution_count": 60
        }
      ]
    },
    {
      "cell_type": "markdown",
      "source": [
        "=> Lasso 대신 SGDRegressor(penalty=\"l1\") 사용 가능"
      ],
      "metadata": {
        "id": "K8FrgfcQ0HBr"
      }
    },
    {
      "cell_type": "markdown",
      "source": [
        "### 4.5.3 엘라스틱넷\n",
        "\n",
        "**엘라스틱넷** : 릿지 회귀와 라쏘 회귀를 절충한 모델\n",
        "\n",
        "* 규제항은 릿지와 라쏘의 규제항을 단순히 더해서 사용. 혼합 정도는 혼합 비율 r 사용해 조절\n",
        "  + r=0이면 엘라스틱넷 = 릿지 회귀\n",
        "  + r=1이면 엘라스틱넷 = 라쏘 회귀\n",
        "\n",
        "* 보통의 선형 회귀(규제가 없는 모델), 릿지, 라쏘, 엘라스틱넷을 언제 사용해야 할까요?\n",
        "  + 규제가 약간 있는 것이 대부분의 경우에 좋아 일반적으로 평범한 선형 회귀는 피해야\n",
        "  + 릿지가 기본이 되지만 쓰이는 특성이 몇 개뿐이라고 의심되면 라쏘나 엘라스틱넷\n",
        "  + 특성 수가 훈련 샘플 수보다 많거나 특성 몇 개가 강하게 연관되어 있을 때는 보통 엘라스틱넷 선호\n"
      ],
      "metadata": {
        "id": "9Fk1wWy60LTJ"
      }
    },
    {
      "cell_type": "code",
      "source": [
        "from sklearn.linear_model import ElasticNet\n",
        "elastic_net = ElasticNet(alpha=0.1, l1_ratio=0.5)\n",
        "elastic_net.fit(X,y)\n",
        "elastic_net.predict([[1.5]])"
      ],
      "metadata": {
        "colab": {
          "base_uri": "https://localhost:8080/"
        },
        "id": "hY5wyhd61NNC",
        "outputId": "cc9acfe5-2496-4b48-9b10-37778c01c824"
      },
      "execution_count": null,
      "outputs": [
        {
          "output_type": "execute_result",
          "data": {
            "text/plain": [
              "array([4.82181624])"
            ]
          },
          "metadata": {},
          "execution_count": 61
        }
      ]
    },
    {
      "cell_type": "markdown",
      "source": [
        "### 4.5.4 조기 종료\n",
        "\n",
        "**조기 종료** : 검증 에러가 최솟값에 도달하면 바로 훈련을 중지시키는 것\n",
        "\n",
        "에포크가 진행됨에 따라 알고리즘이 점차 학습되어 훈련 세트에 대한 예측 에러(RMSE)와 검증 세트에 대한 예측 에러 줄어들어. 그러다 다시 상승 -> 모델이 훈련 데이터에 과대적합되기 시작하는 것 의미"
      ],
      "metadata": {
        "id": "jeTv2pHr1s_r"
      }
    },
    {
      "cell_type": "code",
      "source": [
        "from sklearn.base import clone\n",
        "from sklearn.preprocessing import StandardScaler\n",
        "X_train, X_val, y_train, y_val=train_test_split(X, y, test_size=0.2)\n",
        "\n",
        "# 데이터 준비\n",
        "poly_scaler = Pipeline([\n",
        "    (\"poly_features\", PolynomialFeatures(degree=90, include_bias = False)),\n",
        "    (\"std_scaler\", StandardScaler())\n",
        "])\n",
        "X_train_poly_scaled = poly_scaler.fit_transform(X_train)\n",
        "X_val_poly_scaled = poly_scaler.transform(X_val)\n",
        "\n",
        "sgd_reg = SGDRegressor(max_iter=1, tol=None, warm_start=True,      # warm_start = True로 지정하면 fit() 메서드 호출될 때 처음부터 다시 시작하지 않고 이전 모델 파라미터에서 훈련 이어가  # tol 오류나 None으로 수정\n",
        "                       penalty=None, learning_rate=\"constant\", eta0=0.0005)\n",
        "minimum_val_error = float(\"inf\")\n",
        "best_epoch = None\n",
        "best_model = None\n",
        "for epoch in range(1000):\n",
        "  sgd_reg.fit(X_train_poly_scaled, y_train)   # 훈련을 이어서 진행합니다.\n",
        "  y_val_predict = sgd_reg.predict(X_val_poly_scaled)\n",
        "  val_error = mean_squared_error(y_val, y_val_predict)\n",
        "  if val_error < minimum_val_error:\n",
        "    minimum_val_error = val_error\n",
        "    best_epoch = epoch\n",
        "    best_model = clone(sgd_reg)"
      ],
      "metadata": {
        "id": "aNegS37aYQBl"
      },
      "execution_count": null,
      "outputs": []
    },
    {
      "cell_type": "markdown",
      "source": [
        "## 4.6 로지스틱 회귀\n",
        "\n",
        "**로지스틱 회귀** : 샘플이 특정 클래스에 속할 확률을 추정하는 데 널리 사용\n",
        "\n",
        "* 이진 분류기\n",
        "  + 추정 확률이 50% 넘으면 모델은 그 샘플이 해당 클래스에 속한다 예측 = 레이블이 '1'인 양성 클래스\n",
        "  + 클래스에 속하지 않는다 예측 = 레이블이 '0'인 음성 클래스"
      ],
      "metadata": {
        "id": "niBlhIhE4WRV"
      }
    },
    {
      "cell_type": "markdown",
      "source": [
        "### 4.6.1 확률 추정\n",
        "\n",
        "어떻게 작동?\n",
        "\n",
        "* 입력 특성의 가중치 합 계산. 결괏값의 로지스틱을 출력.\n",
        "\n",
        "* 로지스틱은 0과 1 사이의 값을 출력하는 시그모이드 함수"
      ],
      "metadata": {
        "id": "RlqqidU54v3Z"
      }
    },
    {
      "cell_type": "markdown",
      "source": [
        "### 4.6.2 훈련과 비용 함수\n",
        "\n",
        "어떻게 훈련?\n",
        "\n",
        "* 양성 샘플(y=1)에 대해서는 높은 확률을 추정하고 음성 샘플(y=0)에 대해서는 낮은 확률을 추정하는 모델의 파라미터 벡터 세타를 찾는 것\n",
        "\n",
        "* 음성 샘플의 확률을 0에 가깝게 추정하거나 양성 샘플의 확률을 1에 가깝게 추정하면 비용은 0에 가까워질 것\n",
        "\n",
        "**로그 손실** : 전체 훈련 세트에 대한 비용 함수는 모든 훈련 샘플의 비용을 평균한 것"
      ],
      "metadata": {
        "id": "-huK40ie5LCb"
      }
    },
    {
      "cell_type": "markdown",
      "source": [
        "-> 이 비용함수의 최솟값 계산하는 알려진 해는 없지만 볼록 함수이므로 경사 하강법이 전역 최솟값을 찾는 것 보장"
      ],
      "metadata": {
        "id": "_HB64b847WUM"
      }
    },
    {
      "cell_type": "markdown",
      "source": [
        "### 4.6.3 결정 경계"
      ],
      "metadata": {
        "id": "mR73GU0e7n8n"
      }
    },
    {
      "cell_type": "code",
      "source": [
        "# 데이터 로드\n",
        "from sklearn import datasets\n",
        "iris = datasets.load_iris()\n",
        "list(iris.keys())\n",
        "X = iris[\"data\"][:,3:]   # 꽃잎의 너비\n",
        "y = (iris[\"target\"]==2).astype(np.int)   # 1 Iris-Virginica면 1, 그렇지 않으면 0"
      ],
      "metadata": {
        "id": "2QloKHV3630i",
        "colab": {
          "base_uri": "https://localhost:8080/"
        },
        "outputId": "0570c4d6-bdb4-4ea7-fa96-43a1e6f5c060"
      },
      "execution_count": null,
      "outputs": [
        {
          "output_type": "stream",
          "name": "stderr",
          "text": [
            "<ipython-input-63-3e6c79f84039>:6: DeprecationWarning: `np.int` is a deprecated alias for the builtin `int`. To silence this warning, use `int` by itself. Doing this will not modify any behavior and is safe. When replacing `np.int`, you may wish to use e.g. `np.int64` or `np.int32` to specify the precision. If you wish to review your current use, check the release note link for additional information.\n",
            "Deprecated in NumPy 1.20; for more details and guidance: https://numpy.org/devdocs/release/1.20.0-notes.html#deprecations\n",
            "  y = (iris[\"target\"]==2).astype(np.int)   # 1 Iris-Virginica면 1, 그렇지 않으면 0\n"
          ]
        }
      ]
    },
    {
      "cell_type": "code",
      "source": [
        "# 로지스틱 회귀 모델 훈련\n",
        "from sklearn.linear_model import LogisticRegression\n",
        "\n",
        "log_reg = LogisticRegression()\n",
        "log_reg.fit(X,y)"
      ],
      "metadata": {
        "colab": {
          "base_uri": "https://localhost:8080/",
          "height": 74
        },
        "id": "AGVA_JAqMEGX",
        "outputId": "2273b361-0822-49e7-b0c3-04201f9c81a3"
      },
      "execution_count": null,
      "outputs": [
        {
          "output_type": "execute_result",
          "data": {
            "text/plain": [
              "LogisticRegression()"
            ],
            "text/html": [
              "<style>#sk-container-id-5 {color: black;background-color: white;}#sk-container-id-5 pre{padding: 0;}#sk-container-id-5 div.sk-toggleable {background-color: white;}#sk-container-id-5 label.sk-toggleable__label {cursor: pointer;display: block;width: 100%;margin-bottom: 0;padding: 0.3em;box-sizing: border-box;text-align: center;}#sk-container-id-5 label.sk-toggleable__label-arrow:before {content: \"▸\";float: left;margin-right: 0.25em;color: #696969;}#sk-container-id-5 label.sk-toggleable__label-arrow:hover:before {color: black;}#sk-container-id-5 div.sk-estimator:hover label.sk-toggleable__label-arrow:before {color: black;}#sk-container-id-5 div.sk-toggleable__content {max-height: 0;max-width: 0;overflow: hidden;text-align: left;background-color: #f0f8ff;}#sk-container-id-5 div.sk-toggleable__content pre {margin: 0.2em;color: black;border-radius: 0.25em;background-color: #f0f8ff;}#sk-container-id-5 input.sk-toggleable__control:checked~div.sk-toggleable__content {max-height: 200px;max-width: 100%;overflow: auto;}#sk-container-id-5 input.sk-toggleable__control:checked~label.sk-toggleable__label-arrow:before {content: \"▾\";}#sk-container-id-5 div.sk-estimator input.sk-toggleable__control:checked~label.sk-toggleable__label {background-color: #d4ebff;}#sk-container-id-5 div.sk-label input.sk-toggleable__control:checked~label.sk-toggleable__label {background-color: #d4ebff;}#sk-container-id-5 input.sk-hidden--visually {border: 0;clip: rect(1px 1px 1px 1px);clip: rect(1px, 1px, 1px, 1px);height: 1px;margin: -1px;overflow: hidden;padding: 0;position: absolute;width: 1px;}#sk-container-id-5 div.sk-estimator {font-family: monospace;background-color: #f0f8ff;border: 1px dotted black;border-radius: 0.25em;box-sizing: border-box;margin-bottom: 0.5em;}#sk-container-id-5 div.sk-estimator:hover {background-color: #d4ebff;}#sk-container-id-5 div.sk-parallel-item::after {content: \"\";width: 100%;border-bottom: 1px solid gray;flex-grow: 1;}#sk-container-id-5 div.sk-label:hover label.sk-toggleable__label {background-color: #d4ebff;}#sk-container-id-5 div.sk-serial::before {content: \"\";position: absolute;border-left: 1px solid gray;box-sizing: border-box;top: 0;bottom: 0;left: 50%;z-index: 0;}#sk-container-id-5 div.sk-serial {display: flex;flex-direction: column;align-items: center;background-color: white;padding-right: 0.2em;padding-left: 0.2em;position: relative;}#sk-container-id-5 div.sk-item {position: relative;z-index: 1;}#sk-container-id-5 div.sk-parallel {display: flex;align-items: stretch;justify-content: center;background-color: white;position: relative;}#sk-container-id-5 div.sk-item::before, #sk-container-id-5 div.sk-parallel-item::before {content: \"\";position: absolute;border-left: 1px solid gray;box-sizing: border-box;top: 0;bottom: 0;left: 50%;z-index: -1;}#sk-container-id-5 div.sk-parallel-item {display: flex;flex-direction: column;z-index: 1;position: relative;background-color: white;}#sk-container-id-5 div.sk-parallel-item:first-child::after {align-self: flex-end;width: 50%;}#sk-container-id-5 div.sk-parallel-item:last-child::after {align-self: flex-start;width: 50%;}#sk-container-id-5 div.sk-parallel-item:only-child::after {width: 0;}#sk-container-id-5 div.sk-dashed-wrapped {border: 1px dashed gray;margin: 0 0.4em 0.5em 0.4em;box-sizing: border-box;padding-bottom: 0.4em;background-color: white;}#sk-container-id-5 div.sk-label label {font-family: monospace;font-weight: bold;display: inline-block;line-height: 1.2em;}#sk-container-id-5 div.sk-label-container {text-align: center;}#sk-container-id-5 div.sk-container {/* jupyter's `normalize.less` sets `[hidden] { display: none; }` but bootstrap.min.css set `[hidden] { display: none !important; }` so we also need the `!important` here to be able to override the default hidden behavior on the sphinx rendered scikit-learn.org. See: https://github.com/scikit-learn/scikit-learn/issues/21755 */display: inline-block !important;position: relative;}#sk-container-id-5 div.sk-text-repr-fallback {display: none;}</style><div id=\"sk-container-id-5\" class=\"sk-top-container\"><div class=\"sk-text-repr-fallback\"><pre>LogisticRegression()</pre><b>In a Jupyter environment, please rerun this cell to show the HTML representation or trust the notebook. <br />On GitHub, the HTML representation is unable to render, please try loading this page with nbviewer.org.</b></div><div class=\"sk-container\" hidden><div class=\"sk-item\"><div class=\"sk-estimator sk-toggleable\"><input class=\"sk-toggleable__control sk-hidden--visually\" id=\"sk-estimator-id-5\" type=\"checkbox\" checked><label for=\"sk-estimator-id-5\" class=\"sk-toggleable__label sk-toggleable__label-arrow\">LogisticRegression</label><div class=\"sk-toggleable__content\"><pre>LogisticRegression()</pre></div></div></div></div></div>"
            ]
          },
          "metadata": {},
          "execution_count": 64
        }
      ]
    },
    {
      "cell_type": "code",
      "source": [
        "# 꽃잎의 너비가 0~3cm인 꽃에 대해 모델의 추정 확률 계산\n",
        "X_new = np.linspace(0,3,1000).reshape(-1,1)\n",
        "y_proba = log_reg.predict_proba(X_new)\n",
        "plt.plot(X_new, y_proba[:,1], \"g--\", label=\"Iris virginica\")\n",
        "plt.plot(X_new, y_proba[:,0], \"b--\", label=\"Not virginica\")"
      ],
      "metadata": {
        "colab": {
          "base_uri": "https://localhost:8080/",
          "height": 284
        },
        "id": "jbSN-AflPW9F",
        "outputId": "345f6cb7-1bd2-4b8d-d18e-3ac879e2d8fc"
      },
      "execution_count": null,
      "outputs": [
        {
          "output_type": "execute_result",
          "data": {
            "text/plain": [
              "[<matplotlib.lines.Line2D at 0x7ff959df0b20>]"
            ]
          },
          "metadata": {},
          "execution_count": 65
        },
        {
          "output_type": "display_data",
          "data": {
            "text/plain": [
              "<Figure size 432x288 with 1 Axes>"
            ],
            "image/png": "[encoded data removed]"
          },
          "metadata": {
            "needs_background": "light"
          }
        }
      ]
    },
    {
      "cell_type": "markdown",
      "source": [
        "=> 두 극단 사이에서 분류 확실하지 않지만 가장 가능성 높은 클래스 반환할 것. 1.6cm 근방에서 **결정 경계**"
      ],
      "metadata": {
        "id": "sETrGWmEQCvH"
      }
    },
    {
      "cell_type": "code",
      "source": [
        "log_reg.predict([[1.7],[1.5]])"
      ],
      "metadata": {
        "colab": {
          "base_uri": "https://localhost:8080/"
        },
        "id": "RgRbIuL5QK_K",
        "outputId": "3a66dd62-41a4-4f85-e41e-fccf8c6ad27f"
      },
      "execution_count": null,
      "outputs": [
        {
          "output_type": "execute_result",
          "data": {
            "text/plain": [
              "array([1, 0])"
            ]
          },
          "metadata": {},
          "execution_count": 66
        }
      ]
    },
    {
      "cell_type": "markdown",
      "source": [
        "* 로지스틱 회귀 모델도 l1, l2 페널티 사용하여 규제 가능. 사이킷런 l2 페널티를 기본으로 해\n",
        "  + 모델 규제 강도 조절하는 하이퍼파라미터는 alpha의 역수인 C. C가 높을수록 모델의 규제 줄어들어"
      ],
      "metadata": {
        "id": "2eps-0-dQ43u"
      }
    },
    {
      "cell_type": "markdown",
      "source": [
        "### 4.6.4 소프트맥스 회귀\n",
        "\n",
        "**소프트맥스 회귀** : 직접 다중 클래스 지원하도록 일반화\n",
        "\n",
        "소프트맥스 회귀 모델이 각 클래스 k에 대한 점수 계산 -> 소프트맥스 함수 적용 -> 각 클래스의 확률 추정\n",
        "\n",
        "샘플에 대해 각 클래스의 점수가 계산되면 소프트맥스 함수 통과시켜 클래스 k에 속할 확률 추정. 이 함수는 각 점수에 지수 함수를 적용한 후 정규화 -> 이 점수를 로짓 또는 로그-오즈\n",
        "\n",
        "* 추정 확률이 가장 높은 클래스 선택\n",
        "\n",
        "* 한 번에 하나의 클래스만 예측. 종류가 다른 붓꽃 같이 상호 배타적인 클래스에서만 사용해야해. (하나의 사진에서 여러 사람의 얼굴 인식하는데 사용x)\n",
        "\n",
        "* 훈련 방법\n",
        "  + 모델이 타깃 클래스에 대해서는 높은 확률을 추정하도록 만드는 것이 목표\n",
        "  + 크로스 엔트로피 비용 함수 최소화하는 것\n",
        "\n",
        "사이킷런의 LogisticRegression은 클래스가 둘 이상일 때 기본적으로 일대다(OvA) 전략 사용 -> 소프트맥스 회귀 사용하려면?\n",
        ">* multi_class 매개변수를 \"multinomial\"로 바꾸면 소프트맥스 회귀 사용 가능\n",
        ">* solver 매개변수에 \"lbfgs\"와 같이 소프트맥스 회귀 지원하는 알고리즘 지정해야해\n",
        ">* 기본적으로 하이퍼파라미터 C 사용하여 조절할 수 있는 l2 규제 적용"
      ],
      "metadata": {
        "id": "cFE3_CLsRSLS"
      }
    },
    {
      "cell_type": "code",
      "source": [
        "X = iris[\"data\"][:, (2,3)]\n",
        "y = iris[\"target\"]\n",
        "\n",
        "softmax_reg = LogisticRegression(multi_class=\"multinomial\", solver=\"lbfgs\", C=10)\n",
        "softmax_reg.fit(X,y)"
      ],
      "metadata": {
        "colab": {
          "base_uri": "https://localhost:8080/",
          "height": 74
        },
        "id": "XWZajobqUyJB",
        "outputId": "71d98ea5-3331-4090-dc39-0dc43f0a2f32"
      },
      "execution_count": null,
      "outputs": [
        {
          "output_type": "execute_result",
          "data": {
            "text/plain": [
              "LogisticRegression(C=10, multi_class='multinomial')"
            ],
            "text/html": [
              "<style>#sk-container-id-6 {color: black;background-color: white;}#sk-container-id-6 pre{padding: 0;}#sk-container-id-6 div.sk-toggleable {background-color: white;}#sk-container-id-6 label.sk-toggleable__label {cursor: pointer;display: block;width: 100%;margin-bottom: 0;padding: 0.3em;box-sizing: border-box;text-align: center;}#sk-container-id-6 label.sk-toggleable__label-arrow:before {content: \"▸\";float: left;margin-right: 0.25em;color: #696969;}#sk-container-id-6 label.sk-toggleable__label-arrow:hover:before {color: black;}#sk-container-id-6 div.sk-estimator:hover label.sk-toggleable__label-arrow:before {color: black;}#sk-container-id-6 div.sk-toggleable__content {max-height: 0;max-width: 0;overflow: hidden;text-align: left;background-color: #f0f8ff;}#sk-container-id-6 div.sk-toggleable__content pre {margin: 0.2em;color: black;border-radius: 0.25em;background-color: #f0f8ff;}#sk-container-id-6 input.sk-toggleable__control:checked~div.sk-toggleable__content {max-height: 200px;max-width: 100%;overflow: auto;}#sk-container-id-6 input.sk-toggleable__control:checked~label.sk-toggleable__label-arrow:before {content: \"▾\";}#sk-container-id-6 div.sk-estimator input.sk-toggleable__control:checked~label.sk-toggleable__label {background-color: #d4ebff;}#sk-container-id-6 div.sk-label input.sk-toggleable__control:checked~label.sk-toggleable__label {background-color: #d4ebff;}#sk-container-id-6 input.sk-hidden--visually {border: 0;clip: rect(1px 1px 1px 1px);clip: rect(1px, 1px, 1px, 1px);height: 1px;margin: -1px;overflow: hidden;padding: 0;position: absolute;width: 1px;}#sk-container-id-6 div.sk-estimator {font-family: monospace;background-color: #f0f8ff;border: 1px dotted black;border-radius: 0.25em;box-sizing: border-box;margin-bottom: 0.5em;}#sk-container-id-6 div.sk-estimator:hover {background-color: #d4ebff;}#sk-container-id-6 div.sk-parallel-item::after {content: \"\";width: 100%;border-bottom: 1px solid gray;flex-grow: 1;}#sk-container-id-6 div.sk-label:hover label.sk-toggleable__label {background-color: #d4ebff;}#sk-container-id-6 div.sk-serial::before {content: \"\";position: absolute;border-left: 1px solid gray;box-sizing: border-box;top: 0;bottom: 0;left: 50%;z-index: 0;}#sk-container-id-6 div.sk-serial {display: flex;flex-direction: column;align-items: center;background-color: white;padding-right: 0.2em;padding-left: 0.2em;position: relative;}#sk-container-id-6 div.sk-item {position: relative;z-index: 1;}#sk-container-id-6 div.sk-parallel {display: flex;align-items: stretch;justify-content: center;background-color: white;position: relative;}#sk-container-id-6 div.sk-item::before, #sk-container-id-6 div.sk-parallel-item::before {content: \"\";position: absolute;border-left: 1px solid gray;box-sizing: border-box;top: 0;bottom: 0;left: 50%;z-index: -1;}#sk-container-id-6 div.sk-parallel-item {display: flex;flex-direction: column;z-index: 1;position: relative;background-color: white;}#sk-container-id-6 div.sk-parallel-item:first-child::after {align-self: flex-end;width: 50%;}#sk-container-id-6 div.sk-parallel-item:last-child::after {align-self: flex-start;width: 50%;}#sk-container-id-6 div.sk-parallel-item:only-child::after {width: 0;}#sk-container-id-6 div.sk-dashed-wrapped {border: 1px dashed gray;margin: 0 0.4em 0.5em 0.4em;box-sizing: border-box;padding-bottom: 0.4em;background-color: white;}#sk-container-id-6 div.sk-label label {font-family: monospace;font-weight: bold;display: inline-block;line-height: 1.2em;}#sk-container-id-6 div.sk-label-container {text-align: center;}#sk-container-id-6 div.sk-container {/* jupyter's `normalize.less` sets `[hidden] { display: none; }` but bootstrap.min.css set `[hidden] { display: none !important; }` so we also need the `!important` here to be able to override the default hidden behavior on the sphinx rendered scikit-learn.org. See: https://github.com/scikit-learn/scikit-learn/issues/21755 */display: inline-block !important;position: relative;}#sk-container-id-6 div.sk-text-repr-fallback {display: none;}</style><div id=\"sk-container-id-6\" class=\"sk-top-container\"><div class=\"sk-text-repr-fallback\"><pre>LogisticRegression(C=10, multi_class=&#x27;multinomial&#x27;)</pre><b>In a Jupyter environment, please rerun this cell to show the HTML representation or trust the notebook. <br />On GitHub, the HTML representation is unable to render, please try loading this page with nbviewer.org.</b></div><div class=\"sk-container\" hidden><div class=\"sk-item\"><div class=\"sk-estimator sk-toggleable\"><input class=\"sk-toggleable__control sk-hidden--visually\" id=\"sk-estimator-id-6\" type=\"checkbox\" checked><label for=\"sk-estimator-id-6\" class=\"sk-toggleable__label sk-toggleable__label-arrow\">LogisticRegression</label><div class=\"sk-toggleable__content\"><pre>LogisticRegression(C=10, multi_class=&#x27;multinomial&#x27;)</pre></div></div></div></div></div>"
            ]
          },
          "metadata": {},
          "execution_count": 67
        }
      ]
    },
    {
      "cell_type": "code",
      "source": [
        "softmax_reg.predict([[5,2]])"
      ],
      "metadata": {
        "colab": {
          "base_uri": "https://localhost:8080/"
        },
        "id": "zMxAjr5TVDdL",
        "outputId": "1db01795-e2ef-4ea6-99a9-5be2661437b4"
      },
      "execution_count": null,
      "outputs": [
        {
          "output_type": "execute_result",
          "data": {
            "text/plain": [
              "array([2])"
            ]
          },
          "metadata": {},
          "execution_count": 68
        }
      ]
    },
    {
      "cell_type": "code",
      "source": [
        "softmax_reg.predict_proba([[5,2]])"
      ],
      "metadata": {
        "colab": {
          "base_uri": "https://localhost:8080/"
        },
        "id": "o-zMyxLhVZfb",
        "outputId": "5b530b09-bfe8-4965-8b66-dbd08122ead6"
      },
      "execution_count": null,
      "outputs": [
        {
          "output_type": "execute_result",
          "data": {
            "text/plain": [
              "array([[6.38014896e-07, 5.74929995e-02, 9.42506362e-01]])"
            ]
          },
          "metadata": {},
          "execution_count": 69
        }
      ]
    }
  ]
}